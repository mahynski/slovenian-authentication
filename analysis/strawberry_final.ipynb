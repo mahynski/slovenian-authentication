{
 "cells": [
  {
   "cell_type": "code",
   "execution_count": null,
   "id": "561bd8da",
   "metadata": {
    "ExecuteTime": {
     "end_time": "2024-10-24T18:34:50.128078Z",
     "start_time": "2024-10-24T18:34:48.202841Z"
    }
   },
   "outputs": [],
   "source": [
    "import imblearn\n",
    "import sklearn\n",
    "\n",
    "import utils\n",
    "\n",
    "import pychemauth\n",
    "from pychemauth.eda.explore import InspectData\n",
    "from pychemauth.eda.screen import JSBinary\n",
    "from pychemauth.preprocessing.scaling import CorrectedScaler\n",
    "from pychemauth.preprocessing.missing import LOD\n",
    "from pychemauth.classifier.simca import SIMCA_Authenticator\n",
    "from pychemauth.preprocessing.feature_selection import CollinearFeatureSelector\n",
    "from pychemauth.manifold.elliptic import EllipticManifold_Authenticator\n",
    "from pychemauth.analysis.compare import Compare\n",
    "from pychemauth.classifier import osr\n",
    "\n",
    "from sklearn.model_selection import GridSearchCV\n",
    "from sklearn.feature_selection import SelectFromModel\n",
    "from sklearn.ensemble import RandomForestClassifier, IsolationForest\n",
    "from sklearn.tree import DecisionTreeClassifier\n",
    "from sklearn.inspection import permutation_importance\n",
    "\n",
    "import seaborn as sns\n",
    "import numpy as np\n",
    "import pandas as pd\n",
    "import missingno as msno\n",
    "\n",
    "import matplotlib.pyplot as plt\n",
    "%matplotlib inline\n",
    "\n",
    "import watermark\n",
    "%load_ext watermark\n",
    "\n",
    "%load_ext autoreload\n",
    "%autoreload 2"
   ]
  },
  {
   "cell_type": "code",
   "execution_count": null,
   "id": "57cc4c51",
   "metadata": {
    "ExecuteTime": {
     "end_time": "2024-10-24T18:34:50.148652Z",
     "start_time": "2024-10-24T18:34:50.130258Z"
    }
   },
   "outputs": [],
   "source": [
    "import pickle\n",
    "def save_results(results, filename):\n",
    "    pickle.dump(results, open(filename, 'wb'), protocol=4)"
   ]
  },
  {
   "cell_type": "code",
   "execution_count": null,
   "id": "562741e0",
   "metadata": {
    "ExecuteTime": {
     "end_time": "2024-10-24T18:34:50.177780Z",
     "start_time": "2024-10-24T18:34:50.150395Z"
    }
   },
   "outputs": [],
   "source": [
    "%watermark -t -m -v --iversions"
   ]
  },
  {
   "cell_type": "markdown",
   "id": "d27c823c",
   "metadata": {},
   "source": [
    "# Load Data"
   ]
  },
  {
   "cell_type": "code",
   "execution_count": null,
   "id": "95516336",
   "metadata": {
    "ExecuteTime": {
     "end_time": "2024-10-24T18:35:04.232238Z",
     "start_time": "2024-10-24T18:35:01.345669Z"
    }
   },
   "outputs": [],
   "source": [
    "use_huggingface = True\n",
    "\n",
    "if use_huggingface: # Load data from HF\n",
    "    from datasets import load_dataset\n",
    "\n",
    "    ds_hf = load_dataset(\"mahynski/slovenian-site-strawberry\", token=\"hf_*\",\n",
    "                        data_files=\"train.csv\")['train'].to_pandas()\n",
    "\n",
    "    lod_hf = load_dataset(\"mahynski/slovenian-site-strawberry\", token=\"hf_*\",\n",
    "                        data_files=\"lod.csv\")['train'].to_pandas()\n",
    "\n",
    "    lod_hf['max lod'] = lod_hf[[c for c in lod_hf.columns if 'LOD' in c]].max(axis=1)\n",
    "    lod = lod_hf['max lod'].set_axis(lod_hf['SITE'])\n",
    "\n",
    "    X = ds_hf.drop(['Sample type', 'Year', 'Lab code', 'Short LAB code', 'Year of harvesting', 'Country'], axis=1)\n",
    "    analytes_to_keep = ((X[lod.index] < lod).sum() / X.shape[0] ) <= 0.3\n",
    "    analytes_to_keep = [a[0] for a in list(analytes_to_keep.items()) if a[1]] \n",
    "\n",
    "    X['label'] = X['Origin']\n",
    "    X.drop('Origin', axis=1, inplace=True)\n",
    "\n",
    "    X = X[X['label'] != 'Test SLO']\n",
    "    X = X.loc[:, analytes_to_keep+['label']]\n",
    "    lod = lod[analytes_to_keep]\n",
    "else: # Load data from local source\n",
    "    M_, lod_ = utils.get_data(sheet_name='Jagode_osnova', col_start=8, row_start=14, loc='../raw/DB_UVHVVR.xlsx')\n",
    "\n",
    "    # We have pre-determined that we wish to drop all analytes with > 30% below LOD.\n",
    "    analytes_to_keep = ((M_[lod_.index] < lod_).sum() / M_.shape[0] ) <= 0.3\n",
    "    analytes_to_keep = [a[0] for a in list(analytes_to_keep.items()) if a[1]]\n",
    "\n",
    "    X = M_.loc[:,analytes_to_keep]\n",
    "    X['label'] = M_['Poreklo']\n",
    "    lod = lod_[analytes_to_keep]\n",
    "\n",
    "    # Let's also drop all the 'Test SLO'\n",
    "    X = X[X['label'] != 'Test SLO']\n",
    "\n",
    "_ = msno.matrix(X, labels=True)"
   ]
  },
  {
   "cell_type": "markdown",
   "id": "3af48443",
   "metadata": {
    "heading_collapsed": true
   },
   "source": [
    "# EDA"
   ]
  },
  {
   "cell_type": "code",
   "execution_count": null,
   "id": "20d27b8e",
   "metadata": {
    "ExecuteTime": {
     "end_time": "2024-10-24T18:35:33.972789Z",
     "start_time": "2024-10-24T18:35:33.083217Z"
    },
    "hidden": true
   },
   "outputs": [],
   "source": [
    "selected_features, abroad_cluster_id_to_feature_ids, fig = InspectData.cluster_collinear(\n",
    "    np.asarray(X[X['label'] != 'Authentic SLO'].drop('label', axis=1).values, dtype=np.float64), \n",
    "    feature_names=X[X['label'] != 'Authentic SLO'].drop('label', axis=1).columns, \n",
    "    figsize=(12,8),\n",
    "    t=0.6\n",
    ")"
   ]
  },
  {
   "cell_type": "code",
   "execution_count": null,
   "id": "3b996f1e",
   "metadata": {
    "ExecuteTime": {
     "end_time": "2024-10-24T18:35:47.319658Z",
     "start_time": "2024-10-24T18:35:45.797955Z"
    },
    "hidden": true
   },
   "outputs": [],
   "source": [
    "selected_features, slo_cluster_id_to_feature_ids, fig = InspectData.cluster_collinear(\n",
    "    np.asarray(X[X['label'] == 'Authentic SLO'].drop('label', axis=1).values, dtype=np.float64), \n",
    "    feature_names=X[X['label'] == 'Authentic SLO'].drop('label', axis=1).columns, \n",
    "    figsize=(10,4),\n",
    "    t=0.6,\n",
    "    highlight=False,\n",
    "    figname='strawberry_correlations.png'\n",
    ")"
   ]
  },
  {
   "cell_type": "markdown",
   "id": "fac882fb",
   "metadata": {
    "heading_collapsed": true
   },
   "source": [
    "# Clean"
   ]
  },
  {
   "cell_type": "code",
   "execution_count": null,
   "id": "949fa93f",
   "metadata": {
    "ExecuteTime": {
     "end_time": "2024-10-24T18:35:54.321815Z",
     "start_time": "2024-10-24T18:35:54.260418Z"
    },
    "hidden": true
   },
   "outputs": [],
   "source": [
    "X"
   ]
  },
  {
   "cell_type": "code",
   "execution_count": null,
   "id": "43ea5207",
   "metadata": {
    "ExecuteTime": {
     "end_time": "2024-10-24T18:35:54.625527Z",
     "start_time": "2024-10-24T18:35:54.454611Z"
    },
    "hidden": true
   },
   "outputs": [],
   "source": [
    "# Also consider dataset composed of ln(X/lod)\n",
    "X_ln = X.copy()\n",
    "for te_ in lod.index[4:]:\n",
    "    X_ln[te_] = X_ln[te_].apply(lambda x: np.log(float(x / lod[te_])))\n",
    "    \n",
    "X_auth = X_ln[X_ln['label'] == 'Authentic SLO'].copy()\n",
    "Outlier = utils.flag_outliers(X_auth, lod)\n",
    "\n",
    "X_auth_orig = X[X['label'] == 'Authentic SLO'].copy()\n",
    "X_auth_orig = X_auth_orig[Outlier.drop('label', axis=1).sum(axis=1) < 3]"
   ]
  },
  {
   "cell_type": "code",
   "execution_count": null,
   "id": "9d9a976e",
   "metadata": {
    "ExecuteTime": {
     "end_time": "2024-10-24T18:35:55.241938Z",
     "start_time": "2024-10-24T18:35:55.155448Z"
    },
    "hidden": true
   },
   "outputs": [],
   "source": [
    "X_abroad_orig = X[X['label'] != 'Authentic SLO'].copy()\n",
    "\n",
    "X_tot = pd.concat((X_auth_orig, X_abroad_orig), axis=0)\n",
    "X_tot"
   ]
  },
  {
   "cell_type": "markdown",
   "id": "68a4d0d5",
   "metadata": {
    "heading_collapsed": true
   },
   "source": [
    "# JSD"
   ]
  },
  {
   "cell_type": "code",
   "execution_count": null,
   "id": "d2ad81ce",
   "metadata": {
    "ExecuteTime": {
     "end_time": "2024-10-24T18:36:07.457781Z",
     "start_time": "2024-10-24T18:36:02.534965Z"
    },
    "hidden": true
   },
   "outputs": [],
   "source": [
    "from pychemauth.eda.explore import InspectData\n",
    "\n",
    "pair_ = InspectData.pairplot(X_tot, vars=['P', 'Na', 'As', 'K'], hue=\"label\", diag_kind=\"hist\")"
   ]
  },
  {
   "cell_type": "code",
   "execution_count": null,
   "id": "494c9701",
   "metadata": {
    "ExecuteTime": {
     "end_time": "2024-10-24T18:36:07.493680Z",
     "start_time": "2024-10-24T18:36:07.460617Z"
    },
    "hidden": true
   },
   "outputs": [],
   "source": [
    "def plot_distribution(X, xlabels):\n",
    "    fig, axes = plt.subplots(\n",
    "        nrows=((len(X.columns)-1) // 3) + int(len(X.columns)-1 - ((len(X.columns)-1) // 3) * 3 > 0), \n",
    "        ncols=3, \n",
    "        figsize=(12,5)\n",
    "    )\n",
    "\n",
    "    for i, (site_, ax, label_) in enumerate(zip(X.drop('label', axis=1).columns, axes.ravel(), xlabels)):\n",
    "        sns.histplot(\n",
    "            X,\n",
    "            x=site_,\n",
    "            hue='label',\n",
    "            kde=True,\n",
    "            ax=ax\n",
    "        )\n",
    "        ticks_ = ax.get_xticks()[1:-1]\n",
    "        if i < 2:\n",
    "            ax.set_xticks(ticks_, labels=[str('%.0f'%a) for a in ticks_], fontsize=20, rotation=45)\n",
    "        else:\n",
    "            ax.set_xticks(ticks_, labels=[str('%.1f'%a) for a in ticks_], fontsize=20, rotation=45)\n",
    "        ax.set_xlabel(label_, fontsize=20)\n",
    "        \n",
    "        ticks_ = ax.get_yticks()\n",
    "        ax.set_yticks(ticks_, labels=[str('%.0f'%a) for a in ticks_], fontsize=20, rotation=0)\n",
    "        \n",
    "        if i > 0:\n",
    "            ax.set_ylabel('')\n",
    "        else:\n",
    "            ax.set_ylabel('Count', fontsize=20)\n",
    "            \n",
    "    return axes"
   ]
  },
  {
   "cell_type": "code",
   "execution_count": null,
   "id": "55f55502",
   "metadata": {
    "ExecuteTime": {
     "end_time": "2024-10-24T18:36:48.043116Z",
     "start_time": "2024-10-24T18:36:45.309629Z"
    },
    "hidden": true,
    "scrolled": false
   },
   "outputs": [],
   "source": [
    "axes = plot_distribution(\n",
    "    X_tot[['Na', 'As', 'P', 'label']], \n",
    "    xlabels=[r'${\\rm Na}~(\\mu g/g)$', r'${\\rm As}~(ng/g)$', r'${\\rm P}~(mg/g)$']\n",
    ")\n",
    "\n",
    "axes[0].axvline(21.024, color='r')\n",
    "axes[1].axvline(21.85, color='r')\n",
    "\n",
    "for ax in axes:\n",
    "    ax.legend(labels=['Abroad', 'Authentic'], fontsize=18)\n",
    "    \n",
    "plt.savefig(\"fig7b.png\", transparent=None, dpi=600, format=\"png\",\n",
    "        metadata=None, bbox_inches='tight', pad_inches=0.1,\n",
    "        facecolor='auto', edgecolor='auto', backend=None)"
   ]
  },
  {
   "cell_type": "code",
   "execution_count": null,
   "id": "8034ac9a",
   "metadata": {
    "ExecuteTime": {
     "end_time": "2024-10-24T18:37:55.151542Z",
     "start_time": "2024-10-24T18:37:55.103703Z"
    },
    "hidden": true
   },
   "outputs": [],
   "source": [
    "def plot_jsd(X_tot, vline=11):\n",
    "    \n",
    "    for X, label, offset in [(X_tot, \"Original\", +0.02), (X_tot.drop(['P'], axis=1), \"No P\", -0.07)]:\n",
    "        bins = np.arange(1, 101, 10)\n",
    "\n",
    "        max_value = []\n",
    "        max_site = []\n",
    "\n",
    "        for nbins in bins:\n",
    "            jsb = JSBinary(js_bins=nbins, robust=True)\n",
    "            jsb.fit(X=X.drop('label', axis=1).values, y=X['label'].values)\n",
    "            i, j = jsb._JSBinary__enc_.transform(['Authentic SLO'])[0], jsb._JSBinary__enc_.transform(['Abroad'])[0]\n",
    "            max_value.append(jsb.matrix[i,j])\n",
    "            max_site.append(jsb.top_features(X.drop('label', axis=1).columns)[i,j])\n",
    "\n",
    "        for i in range(1, len(max_site)):\n",
    "            plt.text(bins[i]+0.2, max_value[i]+offset, max_site[i], fontsize=18)\n",
    "\n",
    "        plt.plot(bins, max_value, '-o', label=label)\n",
    "    \n",
    "    plt.title('Authentic vs. Abroad', fontsize=22)\n",
    "    plt.ylabel('Max JSD', fontsize=20)\n",
    "    plt.xlabel('Number of Bins', fontsize=20)\n",
    "    plt.axvline(vline, color='k')\n",
    "    plt.xticks(fontsize=18)\n",
    "    plt.yticks(fontsize=18)\n",
    "    plt.legend(loc='best', fontsize=20)\n",
    "    \n",
    "    return max_site"
   ]
  },
  {
   "cell_type": "code",
   "execution_count": null,
   "id": "035125cc",
   "metadata": {
    "ExecuteTime": {
     "end_time": "2024-10-24T18:37:57.585696Z",
     "start_time": "2024-10-24T18:37:55.686468Z"
    },
    "hidden": true
   },
   "outputs": [],
   "source": [
    "_ = plot_jsd(X_tot, vline=11)\n",
    "\n",
    "plt.savefig(\"fig7a.png\", transparent=None, dpi=600, format=\"png\",\n",
    "        metadata=None, bbox_inches='tight', pad_inches=0.1,\n",
    "        facecolor='auto', edgecolor='auto', backend=None)"
   ]
  },
  {
   "cell_type": "markdown",
   "id": "b19d79f6",
   "metadata": {
    "heading_collapsed": true
   },
   "source": [
    "# Model"
   ]
  },
  {
   "cell_type": "code",
   "execution_count": null,
   "id": "cccdc886",
   "metadata": {
    "ExecuteTime": {
     "end_time": "2024-10-24T18:38:03.986083Z",
     "start_time": "2024-10-24T18:38:03.946126Z"
    },
    "hidden": true
   },
   "outputs": [],
   "source": [
    "# Just to guarantee ordering is consistent\n",
    "SITE = lod.index"
   ]
  },
  {
   "cell_type": "code",
   "execution_count": null,
   "id": "82f5c564",
   "metadata": {
    "ExecuteTime": {
     "end_time": "2024-10-24T19:01:33.050345Z",
     "start_time": "2024-10-24T19:01:32.997520Z"
    },
    "hidden": true
   },
   "outputs": [],
   "source": [
    "def make_gs(pipeline, param_grid):\n",
    "    return GridSearchCV(\n",
    "        estimator=pipeline,\n",
    "        param_grid=param_grid,\n",
    "        n_jobs=-1,\n",
    "        cv=sklearn.model_selection.StratifiedKFold(\n",
    "            n_splits=10, # 10-fold CV for hyperparameter optimization\n",
    "            shuffle=True, \n",
    "            random_state=0\n",
    "        ),\n",
    "        error_score=0,\n",
    "        refit=True\n",
    "    )"
   ]
  },
  {
   "cell_type": "code",
   "execution_count": null,
   "id": "9367f1c6",
   "metadata": {
    "ExecuteTime": {
     "end_time": "2024-10-24T19:01:33.716702Z",
     "start_time": "2024-10-24T19:01:33.665875Z"
    },
    "hidden": true
   },
   "outputs": [],
   "source": [
    "def make_pipe(model, use_feature_selector=True, drop=None):\n",
    "    \n",
    "    if drop is not None:\n",
    "        lod_ = lod[SITE].drop(drop)\n",
    "    else:\n",
    "        lod_ = lod[SITE]\n",
    "        \n",
    "    steps = [\n",
    "        (\"imputer\", LOD( # Impute < LOD\n",
    "            lod=lod_.values, \n",
    "            missing_values=np.nan, \n",
    "            seed=42,\n",
    "            skip_columns=[0, 1, 2, 3] # Stable isotopes are the first 4 features\n",
    "        ))\n",
    "    ]\n",
    "    \n",
    "    if use_feature_selector:\n",
    "        steps += [\n",
    "            (\"feature_selector\", SelectFromModel( # Must come after LOD_LN imputer\n",
    "                estimator=CollinearFeatureSelector( # We will replace this estimator in the param_grid below\n",
    "                    t=0.9,\n",
    "                    seed=42,\n",
    "                    minimize_label_entropy=False,\n",
    "                ),\n",
    "                threshold=0.5, # 0's are given to features ignored, 1 if they are kept so set the threshold in between\n",
    "                prefit=False,\n",
    "            ))\n",
    "        ]\n",
    "        \n",
    "    steps += [\n",
    "        (\"autoscaler\", CorrectedScaler( # Data is considered \"clean\" so we will not use robust estimates\n",
    "            with_mean=True,\n",
    "            with_std=True\n",
    "        )),\n",
    "        (\"model\", model),\n",
    "    ]    \n",
    "    \n",
    "    pipeline = imblearn.pipeline.Pipeline(steps=steps)\n",
    "    \n",
    "    return pipeline"
   ]
  },
  {
   "cell_type": "markdown",
   "id": "be5166a5",
   "metadata": {
    "heading_collapsed": true,
    "hidden": true
   },
   "source": [
    "## DD-SIMCA Model"
   ]
  },
  {
   "cell_type": "markdown",
   "id": "ecdc3325",
   "metadata": {
    "heading_collapsed": true,
    "hidden": true
   },
   "source": [
    "### With P"
   ]
  },
  {
   "cell_type": "code",
   "execution_count": null,
   "id": "f15135c8",
   "metadata": {
    "ExecuteTime": {
     "end_time": "2024-10-24T19:04:28.989828Z",
     "start_time": "2024-10-24T19:04:28.933730Z"
    },
    "hidden": true
   },
   "outputs": [],
   "source": [
    "# Fit model on entire dataset, but do not use feature selector so that we can see how it chooses to use all of them\n",
    "dds_param_grid = [{\n",
    "    'model__n_components':np.arange(1, 20),\n",
    "    'model__alpha':np.logspace(-5, np.log10(0.5), 20),\n",
    "}]\n",
    "\n",
    "dds_pipeline = make_pipe(\n",
    "    SIMCA_Authenticator(\n",
    "        n_components=1,\n",
    "        alpha=0.05,\n",
    "        gamma=0.00001,\n",
    "        scale_x=True,\n",
    "        style='dd-simca',\n",
    "        target_class='Authentic SLO',\n",
    "        use='compliant'\n",
    "    ),\n",
    "    use_feature_selector=False, # Let it see all the features\n",
    ")\n",
    "\n",
    "dds_gs = make_gs(dds_pipeline, dds_param_grid)"
   ]
  },
  {
   "cell_type": "code",
   "execution_count": null,
   "id": "d8993a7f",
   "metadata": {
    "ExecuteTime": {
     "end_time": "2024-10-24T19:04:50.127214Z",
     "start_time": "2024-10-24T19:04:29.512271Z"
    },
    "hidden": true
   },
   "outputs": [],
   "source": [
    "_ = dds_gs.fit(\n",
    "    X_tot[SITE].values,\n",
    "    X_tot['label'].values\n",
    ")"
   ]
  },
  {
   "cell_type": "code",
   "execution_count": null,
   "id": "3748e9b8",
   "metadata": {
    "ExecuteTime": {
     "end_time": "2024-10-24T19:04:50.176997Z",
     "start_time": "2024-10-24T19:04:50.130297Z"
    },
    "hidden": true
   },
   "outputs": [],
   "source": [
    "dds_gs.score(\n",
    "    X_tot[SITE].values,\n",
    "    X_tot['label'].values\n",
    ")"
   ]
  },
  {
   "cell_type": "code",
   "execution_count": null,
   "id": "d09eeef5",
   "metadata": {
    "ExecuteTime": {
     "end_time": "2024-10-24T19:04:50.199641Z",
     "start_time": "2024-10-24T19:04:50.178491Z"
    },
    "hidden": true
   },
   "outputs": [],
   "source": [
    "dds_gs.best_params_"
   ]
  },
  {
   "cell_type": "code",
   "execution_count": null,
   "id": "9bf04361",
   "metadata": {
    "ExecuteTime": {
     "end_time": "2024-10-24T19:04:50.484246Z",
     "start_time": "2024-10-24T19:04:50.201532Z"
    },
    "hidden": true
   },
   "outputs": [],
   "source": [
    "ax = dds_gs.best_estimator_.named_steps['model'].model.plot_loadings(\n",
    "    list(SITE),\n",
    "    fontsize=11,\n",
    "    feature_offset=(-0.015, 0.015)\n",
    ")\n",
    "\n",
    "expl_ = dds_gs.best_estimator_.named_steps['model'].model._DDSIMCA_Model__pca_.explained_variance_ratio_\n",
    "ax.set_xlabel(f'PC 1 ({\"%.4f\"%(expl_[0]*100)}%)', fontsize=20)\n",
    "ax.set_ylabel(f'PC 2 ({\"%.4f\"%(expl_[1]*100)}%)', fontsize=20)\n",
    "ticks_ = [-0.1, 0.0, 0.1, 0.2, 0.3]\n",
    "ax.set_xticks(ticks_, [str(a) for a in ticks_], fontsize=12)\n",
    "ticks_ = [-0.3, -0.2, -0.1, 0.0, 0.1, 0.2, 0.3, 0.4]\n",
    "_ = ax.set_yticks(ticks_, [str(a) for a in ticks_], fontsize=12)"
   ]
  },
  {
   "cell_type": "code",
   "execution_count": null,
   "id": "c55e1cca",
   "metadata": {
    "ExecuteTime": {
     "end_time": "2024-10-24T19:04:50.707476Z",
     "start_time": "2024-10-24T19:04:50.486082Z"
    },
    "hidden": true
   },
   "outputs": [],
   "source": [
    "preprocessing = imblearn.pipeline.Pipeline(\n",
    "    steps = dds_gs.best_estimator_.steps[:-1]\n",
    ")\n",
    "\n",
    "ax = dds_gs.best_estimator_.named_steps['model'].model.visualize(\n",
    "    X=preprocessing.transform(X_tot[SITE].values), \n",
    "    y=X_tot['label'].values,\n",
    "    outlier_curve=False\n",
    ")\n",
    "ax.set_xlabel('${\\\\rm ln(1 + h/h_0)}$', fontsize=14)\n",
    "ax.set_ylabel('${\\\\rm ln(1 + q/q_0)}$', fontsize=14)\n",
    "ticks_ = [0, 1.0, 2.0, 3.0, 4.0, 5.0]\n",
    "ax.set_xticks(ticks_, [str(a) for a in ticks_], fontsize=12)\n",
    "ticks_ = [0.0, 1.0, 2.0, 3.0, 4.0, 5.0, 6.0]\n",
    "ax.set_yticks(ticks_, [str(a) for a in ticks_], fontsize=12)\n",
    "\n",
    "_ = ax.legend(labels=['Threshold', 'Abroad = Inlier (10)', 'Abroad = Outlier (22)', 'Authentic = Inlier (90)'], fontsize=12)"
   ]
  },
  {
   "cell_type": "markdown",
   "id": "a445a113",
   "metadata": {
    "heading_collapsed": true,
    "hidden": true
   },
   "source": [
    "### Without P"
   ]
  },
  {
   "cell_type": "markdown",
   "id": "48218af0",
   "metadata": {
    "heading_collapsed": true,
    "hidden": true
   },
   "source": [
    "#### TEFF"
   ]
  },
  {
   "cell_type": "code",
   "execution_count": null,
   "id": "834c0e30",
   "metadata": {
    "ExecuteTime": {
     "end_time": "2024-10-24T19:05:08.443825Z",
     "start_time": "2024-10-24T19:05:08.412846Z"
    },
    "hidden": true
   },
   "outputs": [],
   "source": [
    "# Fit model on entire dataset, but do not use feature selector so that we can see how it chooses to use all of them\n",
    "dds_pipeline = make_pipe(\n",
    "    SIMCA_Authenticator(\n",
    "        n_components=1,\n",
    "        alpha=0.05,\n",
    "        gamma=0.00001,\n",
    "        scale_x=True,\n",
    "        style='dd-simca',\n",
    "        target_class='Authentic SLO',\n",
    "        use='compliant'\n",
    "    ),\n",
    "    use_feature_selector=False, # Let it see all the features\n",
    "    drop=['P']\n",
    ")\n",
    "\n",
    "dds_gs = make_gs(dds_pipeline, dds_param_grid)"
   ]
  },
  {
   "cell_type": "code",
   "execution_count": null,
   "id": "10563930",
   "metadata": {
    "ExecuteTime": {
     "end_time": "2024-10-24T19:05:24.654878Z",
     "start_time": "2024-10-24T19:05:08.592626Z"
    },
    "hidden": true
   },
   "outputs": [],
   "source": [
    "_ = dds_gs.fit(\n",
    "    X_tot[SITE].drop('P', axis=1).values,\n",
    "    X_tot['label'].values\n",
    ")"
   ]
  },
  {
   "cell_type": "code",
   "execution_count": null,
   "id": "14683d36",
   "metadata": {
    "ExecuteTime": {
     "end_time": "2024-10-24T19:05:24.702790Z",
     "start_time": "2024-10-24T19:05:24.657605Z"
    },
    "hidden": true
   },
   "outputs": [],
   "source": [
    "dds_gs.score(\n",
    "    X_tot[SITE].drop('P', axis=1).values,\n",
    "    X_tot['label'].values\n",
    ")"
   ]
  },
  {
   "cell_type": "code",
   "execution_count": null,
   "id": "29f3993f",
   "metadata": {
    "ExecuteTime": {
     "end_time": "2024-10-24T19:05:24.725014Z",
     "start_time": "2024-10-24T19:05:24.704230Z"
    },
    "hidden": true
   },
   "outputs": [],
   "source": [
    "dds_gs.best_params_"
   ]
  },
  {
   "cell_type": "code",
   "execution_count": null,
   "id": "ba57ee0c",
   "metadata": {
    "ExecuteTime": {
     "end_time": "2024-10-24T19:05:25.597942Z",
     "start_time": "2024-10-24T19:05:24.727244Z"
    },
    "hidden": true
   },
   "outputs": [],
   "source": [
    "ax = dds_gs.best_estimator_.named_steps['model'].model.plot_loadings(\n",
    "    [s for s in list(SITE) if s != 'P'],\n",
    "    fontsize=18,\n",
    "    feature_offset=(0.01, 0)\n",
    ")\n",
    "\n",
    "expl_ = dds_gs.best_estimator_.named_steps['model'].model._DDSIMCA_Model__pca_.explained_variance_ratio_\n",
    "ax.set_xlabel(f'PC 1 ({\"%.4f\"%(expl_[0]*100)}%)', fontsize=20)\n",
    "ax.set_ylabel(f'PC 2 ({\"%.4f\"%(expl_[1]*100)}%)', fontsize=20)\n",
    "ticks_ = [-0.1, 0.0, 0.1, 0.2, 0.3]\n",
    "ax.set_xticks(ticks_, [str(a) for a in ticks_], fontsize=18)\n",
    "ticks_ = [-0.3, -0.2, -0.1, 0.0, 0.1, 0.2, 0.3, 0.4]\n",
    "_ = ax.set_yticks(ticks_, [str(a) for a in ticks_], fontsize=18)\n",
    "\n",
    "plt.savefig(\"fig7f_2.png\", transparent=None, dpi=600, format=\"png\",\n",
    "        metadata=None, bbox_inches='tight', pad_inches=0.1,\n",
    "        facecolor='auto', edgecolor='auto', backend=None)"
   ]
  },
  {
   "cell_type": "code",
   "execution_count": null,
   "id": "ae19a20c",
   "metadata": {
    "ExecuteTime": {
     "end_time": "2024-10-24T19:05:26.581655Z",
     "start_time": "2024-10-24T19:05:25.599511Z"
    },
    "hidden": true
   },
   "outputs": [],
   "source": [
    "preprocessing = imblearn.pipeline.Pipeline(\n",
    "    steps = dds_gs.best_estimator_.steps[:-1]\n",
    ")\n",
    "\n",
    "ax = dds_gs.best_estimator_.named_steps['model'].model.visualize(\n",
    "    X=preprocessing.transform(X_tot[SITE].drop('P', axis=1).values), \n",
    "    y=X_tot['label'].values,\n",
    "    outlier_curve=False\n",
    ")\n",
    "ax.set_xlabel('${\\\\rm ln(1 + h/h_0)}$', fontsize=20)\n",
    "ax.set_ylabel('${\\\\rm ln(1 + q/q_0)}$', fontsize=20)\n",
    "ticks_ = [0, 1.0, 2.0, 3.0, 4.0, 5.0]\n",
    "ax.set_xticks(ticks_, [str(a) for a in ticks_], fontsize=18)\n",
    "ticks_ = [0.0, 1.0, 2.0, 3.0, 4.0, 5.0, 6.0]\n",
    "ax.set_yticks(ticks_, [str(a) for a in ticks_], fontsize=18)\n",
    "\n",
    "_ = ax.legend(labels=['Threshold', 'Abroad = Inlier (8)', 'Abroad = Outlier (24)', 'Authentic = Inlier (89)', 'Authentic = Outlier (1)'], fontsize=17)\n",
    "\n",
    "plt.savefig(\"fig7f_1.png\", transparent=None, dpi=600, format=\"png\",\n",
    "        metadata=None, bbox_inches='tight', pad_inches=0.1,\n",
    "        facecolor='auto', edgecolor='auto', backend=None)"
   ]
  },
  {
   "cell_type": "markdown",
   "id": "b2c76869",
   "metadata": {
    "heading_collapsed": true,
    "hidden": true
   },
   "source": [
    "#### ACC"
   ]
  },
  {
   "cell_type": "code",
   "execution_count": null,
   "id": "33e2d050",
   "metadata": {
    "ExecuteTime": {
     "end_time": "2024-10-24T19:05:56.156435Z",
     "start_time": "2024-10-24T19:05:56.116027Z"
    },
    "hidden": true
   },
   "outputs": [],
   "source": [
    "# Fit model on entire dataset, but do not use feature selector so that we can see how it chooses to use all of them\n",
    "ddsacc_param_grid = [{\n",
    "    'model__n_components':np.arange(1, 20),\n",
    "    'model__alpha':np.logspace(-5, np.log10(0.5), 20),\n",
    "}]\n",
    "\n",
    "ddsacc_pipeline = make_pipe(\n",
    "    SIMCA_Authenticator(\n",
    "        n_components=1,\n",
    "        alpha=0.05,\n",
    "        gamma=0.00001,\n",
    "        scale_x=True,\n",
    "        style='dd-simca',\n",
    "        target_class='Authentic SLO',\n",
    "        use='acc'\n",
    "    ),\n",
    "    use_feature_selector=False, # Let it see all the features\n",
    "    drop=['P']\n",
    ")\n",
    "\n",
    "ddsacc_gs = make_gs(ddsacc_pipeline, ddsacc_param_grid)"
   ]
  },
  {
   "cell_type": "code",
   "execution_count": null,
   "id": "b0ad0acd",
   "metadata": {
    "ExecuteTime": {
     "end_time": "2024-10-24T19:06:12.143801Z",
     "start_time": "2024-10-24T19:05:56.266330Z"
    },
    "hidden": true
   },
   "outputs": [],
   "source": [
    "_ = ddsacc_gs.fit(\n",
    "    X_tot[SITE].drop('P', axis=1).values,\n",
    "    X_tot['label'].values\n",
    ")"
   ]
  },
  {
   "cell_type": "code",
   "execution_count": null,
   "id": "4d9b5aa6",
   "metadata": {
    "ExecuteTime": {
     "end_time": "2024-10-24T19:06:12.195808Z",
     "start_time": "2024-10-24T19:06:12.146696Z"
    },
    "hidden": true
   },
   "outputs": [],
   "source": [
    "ddsacc_gs.score(\n",
    "    X_tot[SITE].drop('P', axis=1).values,\n",
    "    X_tot['label'].values\n",
    ")"
   ]
  },
  {
   "cell_type": "code",
   "execution_count": null,
   "id": "3950e6c0",
   "metadata": {
    "ExecuteTime": {
     "end_time": "2024-10-24T19:06:12.218382Z",
     "start_time": "2024-10-24T19:06:12.197381Z"
    },
    "hidden": true
   },
   "outputs": [],
   "source": [
    "ddsacc_gs.best_params_"
   ]
  },
  {
   "cell_type": "code",
   "execution_count": null,
   "id": "df8b57b7",
   "metadata": {
    "ExecuteTime": {
     "end_time": "2024-10-24T19:06:12.496021Z",
     "start_time": "2024-10-24T19:06:12.220624Z"
    },
    "hidden": true
   },
   "outputs": [],
   "source": [
    "# Very similar results as TEFF\n",
    "preprocessing = imblearn.pipeline.Pipeline(\n",
    "    steps = ddsacc_gs.best_estimator_.steps[:-1]\n",
    ")\n",
    "\n",
    "ax = ddsacc_gs.best_estimator_.named_steps['model'].model.visualize(\n",
    "    X=preprocessing.transform(X_tot[SITE].drop('P', axis=1).values), \n",
    "    y=X_tot['label'].values,\n",
    "    outlier_curve=False\n",
    ")\n",
    "ax.set_xlabel('${\\\\rm ln(1 + h/h_0)}$', fontsize=20)\n",
    "ax.set_ylabel('${\\\\rm ln(1 + q/q_0)}$', fontsize=20)\n",
    "ticks_ = [0, 1.0, 2.0, 3.0, 4.0, 5.0]\n",
    "ax.set_xticks(ticks_, [str(a) for a in ticks_], fontsize=18)\n",
    "ticks_ = [0.0, 1.0, 2.0, 3.0, 4.0, 5.0, 6.0]\n",
    "ax.set_yticks(ticks_, [str(a) for a in ticks_], fontsize=18)"
   ]
  },
  {
   "cell_type": "markdown",
   "id": "db76f790",
   "metadata": {
    "heading_collapsed": true,
    "hidden": true
   },
   "source": [
    "## RF OSR"
   ]
  },
  {
   "cell_type": "markdown",
   "id": "d9982fe5",
   "metadata": {
    "heading_collapsed": true,
    "hidden": true
   },
   "source": [
    "### With P"
   ]
  },
  {
   "cell_type": "code",
   "execution_count": null,
   "id": "887e004e",
   "metadata": {
    "ExecuteTime": {
     "end_time": "2024-10-24T19:06:41.767777Z",
     "start_time": "2024-10-24T19:06:41.726456Z"
    },
    "hidden": true
   },
   "outputs": [],
   "source": [
    "# Fit model on entire dataset, but do not use feature selector so that we can see how it chooses to use all of them\n",
    "osr_param_grid = [{\n",
    "    'model__clf_kwargs':[{'n_estimators':n, 'random_state':42, 'class_weight':'balanced', 'oob_score':True, 'max_features':None} for n in [20, 50, 100, 150, 200, 250, 300]],\n",
    "    'model__outlier_kwargs':[\n",
    "        {'n_estimators': n, \n",
    "         'max_samples': 'auto', \n",
    "         'contamination': c,\n",
    "         'max_features': 1.0, \n",
    "         'bootstrap':True,\n",
    "         'n_jobs':-1, \n",
    "         'random_state':42} for n in [10, 20, 50, 100] for c in [0.001, 0.01, 0.1, 0.5]\n",
    "    ],\n",
    "}]\n",
    "\n",
    "osr_pipeline = make_pipe(\n",
    "    osr.OpenSetClassifier(\n",
    "        clf_model=RandomForestClassifier,\n",
    "        outlier_model=IsolationForest,\n",
    "        clf_kwargs={},\n",
    "        outlier_kwargs={},\n",
    "        known_classes=['Authentic SLO', 'Abroad'],\n",
    "        inlier_value=1,\n",
    "        unknown_class='Unknown',\n",
    "        score_metric='TEFF',\n",
    "        clf_style='hard',\n",
    "        score_using=\"Authentic SLO\"\n",
    "    ),\n",
    "    use_feature_selector=False\n",
    ")\n",
    "\n",
    "osr_gs = make_gs(osr_pipeline, osr_param_grid)"
   ]
  },
  {
   "cell_type": "code",
   "execution_count": null,
   "id": "6871f47a",
   "metadata": {
    "ExecuteTime": {
     "end_time": "2024-10-24T19:07:06.284337Z",
     "start_time": "2024-10-24T19:06:42.262149Z"
    },
    "hidden": true
   },
   "outputs": [],
   "source": [
    "_ = osr_gs.fit(\n",
    "    X_tot[SITE].values,\n",
    "    X_tot['label'].values\n",
    ")"
   ]
  },
  {
   "cell_type": "code",
   "execution_count": null,
   "id": "3fff6a54",
   "metadata": {
    "ExecuteTime": {
     "end_time": "2024-10-24T19:07:06.314364Z",
     "start_time": "2024-10-24T19:07:06.286812Z"
    },
    "hidden": true
   },
   "outputs": [],
   "source": [
    "osr_gs.best_score_"
   ]
  },
  {
   "cell_type": "code",
   "execution_count": null,
   "id": "f327c288",
   "metadata": {
    "ExecuteTime": {
     "end_time": "2024-10-24T19:07:06.336390Z",
     "start_time": "2024-10-24T19:07:06.315870Z"
    },
    "hidden": true
   },
   "outputs": [],
   "source": [
    "osr_gs.best_params_"
   ]
  },
  {
   "cell_type": "code",
   "execution_count": null,
   "id": "a252a82a",
   "metadata": {
    "ExecuteTime": {
     "end_time": "2024-10-24T19:07:06.450650Z",
     "start_time": "2024-10-24T19:07:06.338880Z"
    },
    "hidden": true
   },
   "outputs": [],
   "source": [
    "fom = osr_gs.best_estimator_.named_steps['model'].figures_of_merit(\n",
    "    osr_gs.best_estimator_.predict(X_tot[SITE].values),\n",
    "    X_tot['label'].values\n",
    ")"
   ]
  },
  {
   "cell_type": "code",
   "execution_count": null,
   "id": "22e282c0",
   "metadata": {
    "ExecuteTime": {
     "end_time": "2024-10-24T19:07:06.483505Z",
     "start_time": "2024-10-24T19:07:06.452157Z"
    },
    "hidden": true
   },
   "outputs": [],
   "source": [
    "df_ = fom['CM'].copy()"
   ]
  },
  {
   "cell_type": "code",
   "execution_count": null,
   "id": "b8c8900e",
   "metadata": {
    "ExecuteTime": {
     "end_time": "2024-10-24T19:07:06.543088Z",
     "start_time": "2024-10-24T19:07:06.485259Z"
    },
    "hidden": true
   },
   "outputs": [],
   "source": [
    "df2_ = df_.rename({'Unknown':'OOD = Abroad', 'Authentic SLO':'Authentic'}, axis=1).rename({'Authentic SLO':'Authentic'}, axis=0)"
   ]
  },
  {
   "cell_type": "code",
   "execution_count": null,
   "id": "4cff6644",
   "metadata": {
    "ExecuteTime": {
     "end_time": "2024-10-24T19:07:06.622384Z",
     "start_time": "2024-10-24T19:07:06.544966Z"
    },
    "hidden": true
   },
   "outputs": [],
   "source": [
    "df2_"
   ]
  },
  {
   "cell_type": "code",
   "execution_count": null,
   "id": "f6645d23",
   "metadata": {
    "ExecuteTime": {
     "end_time": "2024-10-24T19:07:06.690446Z",
     "start_time": "2024-10-24T19:07:06.625202Z"
    },
    "hidden": true
   },
   "outputs": [],
   "source": [
    "pd.DataFrame(data=[[31+1, 0], [1, 89]], columns=['Abroad','Authentic']).rename({0:'Abroad', 1:'Authentic'}, axis=0)"
   ]
  },
  {
   "cell_type": "code",
   "execution_count": null,
   "id": "0a838a98",
   "metadata": {
    "ExecuteTime": {
     "end_time": "2024-10-24T19:07:06.753967Z",
     "start_time": "2024-10-24T19:07:06.692949Z"
    },
    "hidden": true
   },
   "outputs": [],
   "source": [
    "fom['I']"
   ]
  },
  {
   "cell_type": "code",
   "execution_count": null,
   "id": "6a806f53",
   "metadata": {
    "ExecuteTime": {
     "end_time": "2024-10-24T19:07:06.828495Z",
     "start_time": "2024-10-24T19:07:06.759202Z"
    },
    "hidden": true
   },
   "outputs": [],
   "source": [
    "fom['TSNS'], fom['TSPS'], fom['TEFF'], fom['ACC']"
   ]
  },
  {
   "cell_type": "code",
   "execution_count": null,
   "id": "b4fddc18",
   "metadata": {
    "ExecuteTime": {
     "end_time": "2024-10-24T19:07:06.895055Z",
     "start_time": "2024-10-24T19:07:06.831624Z"
    },
    "hidden": true
   },
   "outputs": [],
   "source": [
    "osr_gs.best_estimator_.named_steps['model'].clf_.oob_score_"
   ]
  },
  {
   "cell_type": "code",
   "execution_count": null,
   "id": "7750e67c",
   "metadata": {
    "ExecuteTime": {
     "end_time": "2024-10-24T19:07:06.964671Z",
     "start_time": "2024-10-24T19:07:06.898555Z"
    },
    "hidden": true
   },
   "outputs": [],
   "source": [
    "osr_gs.best_estimator_.named_steps['model'].clf_"
   ]
  },
  {
   "cell_type": "code",
   "execution_count": null,
   "id": "ef7fc866",
   "metadata": {
    "ExecuteTime": {
     "end_time": "2024-10-24T19:07:07.047605Z",
     "start_time": "2024-10-24T19:07:06.967120Z"
    },
    "hidden": true,
    "scrolled": true
   },
   "outputs": [],
   "source": [
    "sorted(zip(SITE, osr_gs.best_estimator_.named_steps['model'].clf_.feature_importances_), key=lambda x: np.abs(x[1]), reverse=True)"
   ]
  },
  {
   "cell_type": "code",
   "execution_count": null,
   "id": "320b3892",
   "metadata": {
    "ExecuteTime": {
     "end_time": "2024-10-24T19:07:26.068840Z",
     "start_time": "2024-10-24T19:07:07.050340Z"
    },
    "hidden": true
   },
   "outputs": [],
   "source": [
    "res = permutation_importance(\n",
    "    osr_gs, \n",
    "    X_tot[SITE].values,\n",
    "    X_tot['label'].values,\n",
    "    n_repeats=20,\n",
    "    random_state=42\n",
    ")"
   ]
  },
  {
   "cell_type": "code",
   "execution_count": null,
   "id": "e4b5811c",
   "metadata": {
    "ExecuteTime": {
     "end_time": "2024-10-24T19:07:26.101698Z",
     "start_time": "2024-10-24T19:07:26.071102Z"
    },
    "hidden": true
   },
   "outputs": [],
   "source": [
    "sort_ = sorted(zip(SITE, res['importances_mean'], res['importances_std']), key=lambda x:np.abs(x[1]), reverse=True)\n",
    "sort_"
   ]
  },
  {
   "cell_type": "code",
   "execution_count": null,
   "id": "f85f5be5",
   "metadata": {
    "ExecuteTime": {
     "end_time": "2024-10-24T19:07:26.287671Z",
     "start_time": "2024-10-24T19:07:26.103166Z"
    },
    "hidden": true,
    "scrolled": false
   },
   "outputs": [],
   "source": [
    "fig, ax = plt.subplots(nrows=1, ncols=1, figsize=(3,5))\n",
    "ax.plot(\n",
    "    np.arange(6),\n",
    "    [np.abs(a[1]) for a in sort_[:6]]\n",
    ")\n",
    "_ = plt.xticks(np.arange(6), [a[0] for a in sort_[:5]] + ['...'], fontsize=12)\n",
    "plt.yticks(fontsize=12)\n",
    "plt.axhline(0, color='k')\n",
    "plt.xlabel('SITE Feature', fontsize=14)\n",
    "plt.ylabel('PFI', fontsize=14)\n",
    "plt.title('Random Forest OSR', fontsize=16)"
   ]
  },
  {
   "cell_type": "markdown",
   "id": "05618e59",
   "metadata": {
    "heading_collapsed": true,
    "hidden": true
   },
   "source": [
    "### Without P"
   ]
  },
  {
   "cell_type": "markdown",
   "id": "2fb620de",
   "metadata": {
    "heading_collapsed": true,
    "hidden": true
   },
   "source": [
    "#### TEFF"
   ]
  },
  {
   "cell_type": "code",
   "execution_count": null,
   "id": "24f606ed",
   "metadata": {
    "ExecuteTime": {
     "end_time": "2024-10-24T19:10:35.231936Z",
     "start_time": "2024-10-24T19:10:35.189876Z"
    },
    "hidden": true
   },
   "outputs": [],
   "source": [
    "# Fit model on entire dataset, but do not use feature selector so that we can see how it chooses to use all of them\n",
    "osr_param_grid = [{\n",
    "    'model__clf_kwargs':[{'n_estimators':n, 'random_state':42, 'class_weight':'balanced', 'oob_score':True, 'max_features':None} for n in [20, 50, 100, 150, 200, 250, 300]],\n",
    "    'model__outlier_kwargs':[\n",
    "        {'n_estimators': n, \n",
    "         'max_samples': 'auto', \n",
    "         'contamination': c,\n",
    "         'max_features': 1.0, \n",
    "         'bootstrap':True,\n",
    "         'n_jobs':-1, \n",
    "         'random_state':42} for n in [10, 20, 50, 100] for c in [0.001, 0.01, 0.1, 0.5]\n",
    "    ],\n",
    "}]\n",
    "\n",
    "osr_pipeline = make_pipe(\n",
    "    osr.OpenSetClassifier(\n",
    "        clf_model=RandomForestClassifier,\n",
    "        outlier_model=IsolationForest,\n",
    "        clf_kwargs={},\n",
    "        outlier_kwargs={},\n",
    "        known_classes=['Authentic SLO', 'Abroad'],\n",
    "        inlier_value=1,\n",
    "        unknown_class='Unknown',\n",
    "        score_metric='TEFF',\n",
    "        clf_style='hard',\n",
    "        score_using=\"Authentic SLO\"\n",
    "    ),\n",
    "    use_feature_selector=False,\n",
    "    drop=['P']\n",
    ")\n",
    "\n",
    "osr_gs = make_gs(osr_pipeline, osr_param_grid)"
   ]
  },
  {
   "cell_type": "code",
   "execution_count": null,
   "id": "22291818",
   "metadata": {
    "ExecuteTime": {
     "end_time": "2024-10-24T19:10:36.072503Z",
     "start_time": "2024-10-24T19:10:36.020707Z"
    },
    "hidden": true
   },
   "outputs": [],
   "source": [
    "# RF OSR tends to overfit data so to get a CM we can examine make a split\n",
    "X_train_, X_test_, y_train_, y_test_ = sklearn.model_selection.train_test_split(\n",
    "    X_tot[SITE].drop('P', axis=1).values,\n",
    "    X_tot['label'].values,\n",
    "    test_size=0.33,\n",
    "    random_state=42,\n",
    "    stratify=X_tot['label'].values\n",
    ")"
   ]
  },
  {
   "cell_type": "code",
   "execution_count": null,
   "id": "ec2554a2",
   "metadata": {
    "ExecuteTime": {
     "end_time": "2024-10-24T19:10:58.018261Z",
     "start_time": "2024-10-24T19:10:36.170750Z"
    },
    "hidden": true
   },
   "outputs": [],
   "source": [
    "_ = osr_gs.fit(\n",
    "    X_train_,\n",
    "    y_train_\n",
    ")"
   ]
  },
  {
   "cell_type": "code",
   "execution_count": null,
   "id": "70b8b919",
   "metadata": {
    "ExecuteTime": {
     "end_time": "2024-10-24T19:10:58.049508Z",
     "start_time": "2024-10-24T19:10:58.020909Z"
    },
    "hidden": true
   },
   "outputs": [],
   "source": [
    "osr_gs.best_score_"
   ]
  },
  {
   "cell_type": "code",
   "execution_count": null,
   "id": "b14fb9d4",
   "metadata": {
    "ExecuteTime": {
     "end_time": "2024-10-24T19:10:58.072912Z",
     "start_time": "2024-10-24T19:10:58.051271Z"
    },
    "hidden": true
   },
   "outputs": [],
   "source": [
    "osr_gs.best_params_"
   ]
  },
  {
   "cell_type": "code",
   "execution_count": null,
   "id": "67489f09",
   "metadata": {
    "ExecuteTime": {
     "end_time": "2024-10-24T19:10:58.160591Z",
     "start_time": "2024-10-24T19:10:58.074995Z"
    },
    "hidden": true
   },
   "outputs": [],
   "source": [
    "fom = osr_gs.best_estimator_.named_steps['model'].figures_of_merit(\n",
    "    osr_gs.best_estimator_.predict(X_test_),\n",
    "    y_test_\n",
    ")"
   ]
  },
  {
   "cell_type": "code",
   "execution_count": null,
   "id": "1382f4a7",
   "metadata": {
    "ExecuteTime": {
     "end_time": "2024-10-24T19:10:58.220024Z",
     "start_time": "2024-10-24T19:10:58.162344Z"
    },
    "hidden": true
   },
   "outputs": [],
   "source": [
    "df_ = fom['CM'].copy()"
   ]
  },
  {
   "cell_type": "code",
   "execution_count": null,
   "id": "e9678c11",
   "metadata": {
    "ExecuteTime": {
     "end_time": "2024-10-24T19:10:58.296451Z",
     "start_time": "2024-10-24T19:10:58.222474Z"
    },
    "hidden": true
   },
   "outputs": [],
   "source": [
    "df2_ = df_.rename({'Unknown':'OOD = Abroad', 'Authentic SLO':'Authentic'}, axis=1).rename({'Authentic SLO':'Authentic'}, axis=0)"
   ]
  },
  {
   "cell_type": "code",
   "execution_count": null,
   "id": "35612528",
   "metadata": {
    "ExecuteTime": {
     "end_time": "2024-10-24T19:10:58.376214Z",
     "start_time": "2024-10-24T19:10:58.299264Z"
    },
    "hidden": true
   },
   "outputs": [],
   "source": [
    "df2_"
   ]
  },
  {
   "cell_type": "code",
   "execution_count": null,
   "id": "63334cf8",
   "metadata": {
    "ExecuteTime": {
     "end_time": "2024-10-24T19:10:58.448572Z",
     "start_time": "2024-10-24T19:10:58.379355Z"
    },
    "hidden": true
   },
   "outputs": [],
   "source": [
    "fom['I']"
   ]
  },
  {
   "cell_type": "code",
   "execution_count": null,
   "id": "186967a1",
   "metadata": {
    "ExecuteTime": {
     "end_time": "2024-10-24T19:10:58.523072Z",
     "start_time": "2024-10-24T19:10:58.451806Z"
    },
    "hidden": true
   },
   "outputs": [],
   "source": [
    "# Very specific, not very sensitive\n",
    "fom['TSNS'], fom['TSPS'], fom['TEFF'], fom['ACC']"
   ]
  },
  {
   "cell_type": "code",
   "execution_count": null,
   "id": "a9b1f687",
   "metadata": {
    "ExecuteTime": {
     "end_time": "2024-10-24T19:10:58.585621Z",
     "start_time": "2024-10-24T19:10:58.529001Z"
    },
    "hidden": true
   },
   "outputs": [],
   "source": [
    "osr_gs.best_estimator_.named_steps['model'].clf_.oob_score_"
   ]
  },
  {
   "cell_type": "code",
   "execution_count": null,
   "id": "c6cdc151",
   "metadata": {
    "ExecuteTime": {
     "end_time": "2024-10-24T19:10:58.650402Z",
     "start_time": "2024-10-24T19:10:58.588492Z"
    },
    "hidden": true
   },
   "outputs": [],
   "source": [
    "osr_gs.best_estimator_.named_steps['model'].clf_"
   ]
  },
  {
   "cell_type": "code",
   "execution_count": null,
   "id": "930110cb",
   "metadata": {
    "ExecuteTime": {
     "end_time": "2024-10-24T19:10:58.741221Z",
     "start_time": "2024-10-24T19:10:58.653443Z"
    },
    "hidden": true
   },
   "outputs": [],
   "source": [
    "sorted(zip(SITE, osr_gs.best_estimator_.named_steps['model'].clf_.feature_importances_), key=lambda x: np.abs(x[1]), reverse=True)"
   ]
  },
  {
   "cell_type": "code",
   "execution_count": null,
   "id": "33d855e0",
   "metadata": {
    "ExecuteTime": {
     "end_time": "2024-10-24T19:11:14.232907Z",
     "start_time": "2024-10-24T19:10:58.744359Z"
    },
    "hidden": true
   },
   "outputs": [],
   "source": [
    "res = permutation_importance(\n",
    "    osr_gs, \n",
    "    X_tot[SITE].drop('P', axis=1).values,\n",
    "    X_tot['label'].values,\n",
    "    n_repeats=20,\n",
    "    random_state=42\n",
    ")"
   ]
  },
  {
   "cell_type": "code",
   "execution_count": null,
   "id": "40111554",
   "metadata": {
    "ExecuteTime": {
     "end_time": "2024-10-24T19:11:14.263905Z",
     "start_time": "2024-10-24T19:11:14.234864Z"
    },
    "hidden": true
   },
   "outputs": [],
   "source": [
    "sort_ = sorted(zip([s for s in SITE if s != 'P'], res['importances_mean'], res['importances_std']), key=lambda x:np.abs(x[1]), reverse=True)\n",
    "sort_"
   ]
  },
  {
   "cell_type": "code",
   "execution_count": null,
   "id": "f0d733c3",
   "metadata": {
    "ExecuteTime": {
     "end_time": "2024-10-24T19:11:14.449796Z",
     "start_time": "2024-10-24T19:11:14.265522Z"
    },
    "hidden": true
   },
   "outputs": [],
   "source": [
    "fig, ax = plt.subplots(nrows=1, ncols=1, figsize=(3,5))\n",
    "n_ = 8\n",
    "ax.plot(\n",
    "    np.arange(n_),\n",
    "    [np.abs(a[1]) for a in sort_[:n_]]\n",
    ")\n",
    "_ = plt.xticks(np.arange(n_), [a[0] for a in sort_[:n_-1]] + ['...'], fontsize=12)\n",
    "plt.yticks(fontsize=12)\n",
    "plt.axhline(0, color='k')\n",
    "plt.xlabel('SITE Feature', fontsize=14)\n",
    "plt.ylabel('PFI', fontsize=14)\n",
    "plt.title('Random Forest OSR', fontsize=16)"
   ]
  },
  {
   "cell_type": "markdown",
   "id": "4e039edc",
   "metadata": {
    "heading_collapsed": true,
    "hidden": true
   },
   "source": [
    "#### ACC"
   ]
  },
  {
   "cell_type": "code",
   "execution_count": null,
   "id": "b216726c",
   "metadata": {
    "ExecuteTime": {
     "end_time": "2024-10-24T19:11:19.863710Z",
     "start_time": "2024-10-24T19:11:19.833288Z"
    },
    "hidden": true
   },
   "outputs": [],
   "source": [
    "# Fit model on entire dataset, but do not use feature selector so that we can see how it chooses to use all of them\n",
    "osracc_param_grid = [{\n",
    "    'model__clf_kwargs':[{'n_estimators':n, 'random_state':42, 'class_weight':'balanced', 'oob_score':True, 'max_features':None} for n in [20, 50, 100, 150, 200, 250, 300]],\n",
    "    'model__outlier_kwargs':[\n",
    "        {'n_estimators': n, \n",
    "         'max_samples': 'auto', \n",
    "         'contamination': c,\n",
    "         'max_features': 1.0, \n",
    "         'bootstrap':True,\n",
    "         'n_jobs':-1, \n",
    "         'random_state':42} for n in [10, 20, 50, 100] for c in [0.001, 0.01, 0.1, 0.5]\n",
    "    ],\n",
    "}]\n",
    "\n",
    "\n",
    "osracc_pipeline = make_pipe(\n",
    "    osr.OpenSetClassifier(\n",
    "        clf_model=RandomForestClassifier,\n",
    "        outlier_model=IsolationForest,\n",
    "        clf_kwargs={},\n",
    "        outlier_kwargs={},\n",
    "        known_classes=['Authentic SLO', 'Abroad'],\n",
    "        inlier_value=1,\n",
    "        unknown_class='Unknown',\n",
    "        score_metric='ACC',\n",
    "        clf_style='hard',\n",
    "        score_using=\"Authentic SLO\"\n",
    "    ),\n",
    "    use_feature_selector=False,\n",
    "    drop=['P']\n",
    ")\n",
    "\n",
    "osracc_gs = make_gs(osracc_pipeline, osracc_param_grid)"
   ]
  },
  {
   "cell_type": "code",
   "execution_count": null,
   "id": "dc68073c",
   "metadata": {
    "ExecuteTime": {
     "end_time": "2024-10-24T19:11:20.316578Z",
     "start_time": "2024-10-24T19:11:20.273606Z"
    },
    "hidden": true
   },
   "outputs": [],
   "source": [
    "# RF OSR tends to overfit data so to get a CM we can examine make a split\n",
    "X_train_, X_test_, y_train_, y_test_ = sklearn.model_selection.train_test_split(\n",
    "    X_tot[SITE].drop('P', axis=1).values,\n",
    "    X_tot['label'].values,\n",
    "    test_size=0.33,\n",
    "    random_state=42,\n",
    "    stratify=X_tot['label'].values\n",
    ")"
   ]
  },
  {
   "cell_type": "code",
   "execution_count": null,
   "id": "43a254ea",
   "metadata": {
    "ExecuteTime": {
     "end_time": "2024-10-24T19:11:42.472994Z",
     "start_time": "2024-10-24T19:11:20.525249Z"
    },
    "hidden": true
   },
   "outputs": [],
   "source": [
    "_ = osracc_gs.fit(\n",
    "    X_train_,\n",
    "    y_train_,\n",
    ")"
   ]
  },
  {
   "cell_type": "code",
   "execution_count": null,
   "id": "9909a4db",
   "metadata": {
    "ExecuteTime": {
     "end_time": "2024-10-24T19:11:42.499713Z",
     "start_time": "2024-10-24T19:11:42.475399Z"
    },
    "hidden": true
   },
   "outputs": [],
   "source": [
    "osracc_gs.best_score_"
   ]
  },
  {
   "cell_type": "code",
   "execution_count": null,
   "id": "1226923d",
   "metadata": {
    "ExecuteTime": {
     "end_time": "2024-10-24T19:11:42.521458Z",
     "start_time": "2024-10-24T19:11:42.501113Z"
    },
    "hidden": true
   },
   "outputs": [],
   "source": [
    "osracc_gs.best_params_"
   ]
  },
  {
   "cell_type": "code",
   "execution_count": null,
   "id": "3ea3ed82",
   "metadata": {
    "ExecuteTime": {
     "end_time": "2024-10-24T19:11:42.625726Z",
     "start_time": "2024-10-24T19:11:42.523517Z"
    },
    "hidden": true
   },
   "outputs": [],
   "source": [
    "fom = osracc_gs.best_estimator_.named_steps['model'].figures_of_merit(\n",
    "    osracc_gs.best_estimator_.predict(X_test_),\n",
    "    y_test_\n",
    ")"
   ]
  },
  {
   "cell_type": "code",
   "execution_count": null,
   "id": "ddd334a7",
   "metadata": {
    "ExecuteTime": {
     "end_time": "2024-10-24T19:11:42.672883Z",
     "start_time": "2024-10-24T19:11:42.627260Z"
    },
    "hidden": true
   },
   "outputs": [],
   "source": [
    "fom['CM']"
   ]
  },
  {
   "cell_type": "code",
   "execution_count": null,
   "id": "f726b64a",
   "metadata": {
    "ExecuteTime": {
     "end_time": "2024-10-24T19:11:42.731617Z",
     "start_time": "2024-10-24T19:11:42.674792Z"
    },
    "hidden": true
   },
   "outputs": [],
   "source": [
    "# Very sensitive, not very specific - opposite of TEFF case\n",
    "fom['TSNS'], fom['TSPS'], fom['TEFF'], fom['ACC']"
   ]
  },
  {
   "cell_type": "markdown",
   "id": "5576ac8e",
   "metadata": {
    "ExecuteTime": {
     "end_time": "2023-12-11T20:18:12.439916Z",
     "start_time": "2023-12-11T20:18:12.393444Z"
    },
    "heading_collapsed": true,
    "hidden": true
   },
   "source": [
    "## RF"
   ]
  },
  {
   "cell_type": "markdown",
   "id": "0965e973",
   "metadata": {
    "heading_collapsed": true,
    "hidden": true
   },
   "source": [
    "### With P"
   ]
  },
  {
   "cell_type": "code",
   "execution_count": null,
   "id": "9a8ac472",
   "metadata": {
    "ExecuteTime": {
     "end_time": "2024-10-24T19:11:48.907533Z",
     "start_time": "2024-10-24T19:11:48.854738Z"
    },
    "hidden": true
   },
   "outputs": [],
   "source": [
    "# Fit model on entire dataset, but do not use feature selector so that we can see how it chooses to use all of them\n",
    "rf_param_grid = [{\n",
    "    'model__n_estimators':[50, 100, 150, 200],\n",
    "    'model__max_features':[None], \n",
    "}]\n",
    "\n",
    "rf_pipeline = make_pipe(\n",
    "    RandomForestClassifier(\n",
    "        n_estimators=100, \n",
    "        random_state=42, \n",
    "        oob_score=True, \n",
    "        class_weight='balanced',\n",
    "        max_features=None\n",
    "    ),\n",
    "    use_feature_selector=False\n",
    ")\n",
    "\n",
    "rf_gs = make_gs(rf_pipeline, rf_param_grid)"
   ]
  },
  {
   "cell_type": "code",
   "execution_count": null,
   "id": "e421c14a",
   "metadata": {
    "ExecuteTime": {
     "end_time": "2024-10-24T19:11:50.251795Z",
     "start_time": "2024-10-24T19:11:48.987874Z"
    },
    "hidden": true
   },
   "outputs": [],
   "source": [
    "_ = rf_gs.fit(\n",
    "    X_tot[SITE].values,\n",
    "    X_tot['label'].values\n",
    ")"
   ]
  },
  {
   "cell_type": "code",
   "execution_count": null,
   "id": "1d5bf5dd",
   "metadata": {
    "ExecuteTime": {
     "end_time": "2024-10-24T19:11:50.300874Z",
     "start_time": "2024-10-24T19:11:50.254325Z"
    },
    "hidden": true
   },
   "outputs": [],
   "source": [
    "rf_gs.score(\n",
    "    X_tot[SITE].values,\n",
    "    X_tot['label'].values\n",
    ")"
   ]
  },
  {
   "cell_type": "code",
   "execution_count": null,
   "id": "09279f87",
   "metadata": {
    "ExecuteTime": {
     "end_time": "2024-10-24T19:11:50.323280Z",
     "start_time": "2024-10-24T19:11:50.302353Z"
    },
    "hidden": true
   },
   "outputs": [],
   "source": [
    "rf_gs.best_params_"
   ]
  },
  {
   "cell_type": "code",
   "execution_count": null,
   "id": "776b8200",
   "metadata": {
    "ExecuteTime": {
     "end_time": "2024-10-24T19:11:52.103672Z",
     "start_time": "2024-10-24T19:11:52.065927Z"
    },
    "hidden": true
   },
   "outputs": [],
   "source": [
    "rf_gs.best_estimator_.named_steps['model'].oob_score_"
   ]
  },
  {
   "cell_type": "code",
   "execution_count": null,
   "id": "9993ccb0",
   "metadata": {
    "ExecuteTime": {
     "end_time": "2024-10-24T19:11:52.407253Z",
     "start_time": "2024-10-24T19:11:52.341662Z"
    },
    "hidden": true
   },
   "outputs": [],
   "source": [
    "sorted(zip(SITE, rf_gs.best_estimator_.named_steps['model'].feature_importances_), key=lambda x: np.abs(x[1]), reverse=True)"
   ]
  },
  {
   "cell_type": "code",
   "execution_count": null,
   "id": "f30d56f6",
   "metadata": {
    "ExecuteTime": {
     "end_time": "2024-10-24T19:12:03.389121Z",
     "start_time": "2024-10-24T19:11:52.508183Z"
    },
    "hidden": true
   },
   "outputs": [],
   "source": [
    "res = permutation_importance(\n",
    "    rf_gs, \n",
    "    X_tot[SITE].values,\n",
    "    X_tot['label'].values,\n",
    "    n_repeats=20,\n",
    "    random_state=42\n",
    ")"
   ]
  },
  {
   "cell_type": "code",
   "execution_count": null,
   "id": "480601bd",
   "metadata": {
    "ExecuteTime": {
     "end_time": "2024-10-24T19:12:03.420387Z",
     "start_time": "2024-10-24T19:12:03.391799Z"
    },
    "hidden": true
   },
   "outputs": [],
   "source": [
    "sort_ = sorted(zip(SITE, res['importances_mean'], res['importances_std']), key=lambda x:np.abs(x[1]), reverse=True)\n",
    "sort_"
   ]
  },
  {
   "cell_type": "code",
   "execution_count": null,
   "id": "2fa68a11",
   "metadata": {
    "ExecuteTime": {
     "end_time": "2024-10-24T19:12:04.060621Z",
     "start_time": "2024-10-24T19:12:03.421780Z"
    },
    "hidden": true
   },
   "outputs": [],
   "source": [
    "fig, ax = plt.subplots(nrows=1, ncols=1, figsize=(3,5))\n",
    "ax.plot(\n",
    "    np.arange(6),\n",
    "    [np.abs(a[1]) for a in sort_[:6]]\n",
    ")\n",
    "_ = plt.xticks(np.arange(6), [a[0] for a in sort_[:5]] + ['...'], fontsize=18)\n",
    "plt.yticks(fontsize=18)\n",
    "plt.axhline(0, color='k')\n",
    "plt.xlabel('SITE Feature', fontsize=20)\n",
    "plt.ylabel('PFI', fontsize=20)\n",
    "plt.title('RF with P', fontsize=22)\n",
    "\n",
    "plt.savefig(\"fig7d_1.png\", transparent=None, dpi=600, format=\"png\",\n",
    "        metadata=None, bbox_inches='tight', pad_inches=0.1,\n",
    "        facecolor='auto', edgecolor='auto', backend=None)"
   ]
  },
  {
   "cell_type": "markdown",
   "id": "6c310dad",
   "metadata": {
    "heading_collapsed": true,
    "hidden": true
   },
   "source": [
    "### Without P"
   ]
  },
  {
   "cell_type": "code",
   "execution_count": null,
   "id": "b932fab9",
   "metadata": {
    "ExecuteTime": {
     "end_time": "2024-10-24T19:13:12.275222Z",
     "start_time": "2024-10-24T19:13:12.239098Z"
    },
    "hidden": true
   },
   "outputs": [],
   "source": [
    "# Fit model on entire dataset, but do not use feature selector so that we can see how it chooses to use all of them\n",
    "rf_pipeline = make_pipe(\n",
    "    RandomForestClassifier(\n",
    "        n_estimators=100, \n",
    "        random_state=42, \n",
    "        oob_score=True, \n",
    "        class_weight='balanced',\n",
    "        max_features=None\n",
    "    ),\n",
    "    use_feature_selector=False,\n",
    "    drop=['P']\n",
    ")\n",
    "\n",
    "rf_gs = make_gs(rf_pipeline, rf_param_grid)"
   ]
  },
  {
   "cell_type": "code",
   "execution_count": null,
   "id": "caef66d1",
   "metadata": {
    "ExecuteTime": {
     "end_time": "2024-10-24T19:13:13.482731Z",
     "start_time": "2024-10-24T19:13:12.389192Z"
    },
    "hidden": true
   },
   "outputs": [],
   "source": [
    "_ = rf_gs.fit(\n",
    "    X_tot[SITE].drop('P', axis=1).values,\n",
    "    X_tot['label'].values\n",
    ")"
   ]
  },
  {
   "cell_type": "code",
   "execution_count": null,
   "id": "5fb02537",
   "metadata": {
    "ExecuteTime": {
     "end_time": "2024-10-24T19:13:13.530496Z",
     "start_time": "2024-10-24T19:13:13.485534Z"
    },
    "hidden": true
   },
   "outputs": [],
   "source": [
    "rf_gs.score(\n",
    "    X_tot[SITE].drop('P', axis=1).values,\n",
    "    X_tot['label'].values\n",
    ")"
   ]
  },
  {
   "cell_type": "code",
   "execution_count": null,
   "id": "6634f6bc",
   "metadata": {
    "ExecuteTime": {
     "end_time": "2024-10-24T19:13:13.554706Z",
     "start_time": "2024-10-24T19:13:13.532467Z"
    },
    "hidden": true
   },
   "outputs": [],
   "source": [
    "rf_gs.best_params_"
   ]
  },
  {
   "cell_type": "code",
   "execution_count": null,
   "id": "67bfd70b",
   "metadata": {
    "ExecuteTime": {
     "end_time": "2024-10-24T19:13:13.634441Z",
     "start_time": "2024-10-24T19:13:13.557399Z"
    },
    "hidden": true
   },
   "outputs": [],
   "source": [
    "rf_gs.best_estimator_.named_steps['model'].oob_score_"
   ]
  },
  {
   "cell_type": "code",
   "execution_count": null,
   "id": "446083f6",
   "metadata": {
    "ExecuteTime": {
     "end_time": "2024-10-24T19:13:13.727196Z",
     "start_time": "2024-10-24T19:13:13.636813Z"
    },
    "hidden": true
   },
   "outputs": [],
   "source": [
    "sorted(zip(SITE, rf_gs.best_estimator_.named_steps['model'].feature_importances_), key=lambda x: np.abs(x[1]), reverse=True)"
   ]
  },
  {
   "cell_type": "code",
   "execution_count": null,
   "id": "bc4c44ae",
   "metadata": {
    "ExecuteTime": {
     "end_time": "2024-10-24T19:13:22.483651Z",
     "start_time": "2024-10-24T19:13:13.731156Z"
    },
    "hidden": true
   },
   "outputs": [],
   "source": [
    "res = permutation_importance(\n",
    "    rf_gs, \n",
    "    X_tot[SITE].drop('P', axis=1).values,\n",
    "    X_tot['label'].values,\n",
    "    n_repeats=20,\n",
    "    random_state=42\n",
    ")"
   ]
  },
  {
   "cell_type": "code",
   "execution_count": null,
   "id": "9873bc3b",
   "metadata": {
    "ExecuteTime": {
     "end_time": "2024-10-24T19:13:22.510637Z",
     "start_time": "2024-10-24T19:13:22.486378Z"
    },
    "hidden": true
   },
   "outputs": [],
   "source": [
    "sort_ = sorted(zip([s for s in SITE if s != 'P'], res['importances_mean'], res['importances_std']), key=lambda x:np.abs(x[1]), reverse=True)\n",
    "sort_"
   ]
  },
  {
   "cell_type": "code",
   "execution_count": null,
   "id": "e181a314",
   "metadata": {
    "ExecuteTime": {
     "end_time": "2024-10-24T19:13:23.155410Z",
     "start_time": "2024-10-24T19:13:22.512120Z"
    },
    "hidden": true
   },
   "outputs": [],
   "source": [
    "fig, ax = plt.subplots(nrows=1, ncols=1, figsize=(3,5))\n",
    "n_ = 8\n",
    "ax.plot(\n",
    "    np.arange(n_),\n",
    "    [np.abs(a[1]) for a in sort_[:n_]]\n",
    ")\n",
    "_ = plt.xticks(np.arange(n_), [a[0] for a in sort_[:n_-1]] + ['...'], fontsize=16)\n",
    "plt.yticks(fontsize=18)\n",
    "plt.axhline(0, color='k')\n",
    "plt.xlabel('SITE Feature', fontsize=20)\n",
    "plt.ylabel('PFI', fontsize=20)\n",
    "plt.title('RF without P', fontsize=22)\n",
    "\n",
    "plt.savefig(\"fig7d_2.png\", transparent=None, dpi=600, format=\"png\",\n",
    "        metadata=None, bbox_inches='tight', pad_inches=0.1,\n",
    "        facecolor='auto', edgecolor='auto', backend=None)"
   ]
  },
  {
   "cell_type": "markdown",
   "id": "00624ca6",
   "metadata": {
    "heading_collapsed": true,
    "hidden": true
   },
   "source": [
    "## Decision Tree Stump"
   ]
  },
  {
   "cell_type": "markdown",
   "id": "9dfbfeac",
   "metadata": {
    "heading_collapsed": true,
    "hidden": true
   },
   "source": [
    "### With P"
   ]
  },
  {
   "cell_type": "code",
   "execution_count": null,
   "id": "e66774ca",
   "metadata": {
    "ExecuteTime": {
     "end_time": "2024-10-24T19:13:28.244708Z",
     "start_time": "2024-10-24T19:13:28.215502Z"
    },
    "hidden": true
   },
   "outputs": [],
   "source": [
    "# Fit model on entire dataset, but do not use feature selector so that we can see how it chooses to use all of them\n",
    "dt_param_grid = [{\n",
    "    'model__max_depth':[1], # Force a stump\n",
    "}]\n",
    "\n",
    "dt_pipeline = make_pipe(\n",
    "    DecisionTreeClassifier(\n",
    "        max_depth=1,\n",
    "        random_state=42,\n",
    "        class_weight='balanced'\n",
    "    ),\n",
    "    use_feature_selector=False, # Let it see all the features\n",
    ")\n",
    "\n",
    "dt_gs = make_gs(dt_pipeline, dt_param_grid)"
   ]
  },
  {
   "cell_type": "code",
   "execution_count": null,
   "id": "95ba8dd4",
   "metadata": {
    "ExecuteTime": {
     "end_time": "2024-10-24T19:13:28.822988Z",
     "start_time": "2024-10-24T19:13:28.660627Z"
    },
    "hidden": true
   },
   "outputs": [],
   "source": [
    "_ = dt_gs.fit(\n",
    "    X_tot[SITE].values,\n",
    "    X_tot['label'].values\n",
    ")"
   ]
  },
  {
   "cell_type": "code",
   "execution_count": null,
   "id": "fa4c0145",
   "metadata": {
    "ExecuteTime": {
     "end_time": "2024-10-24T19:13:29.243440Z",
     "start_time": "2024-10-24T19:13:29.160186Z"
    },
    "hidden": true
   },
   "outputs": [],
   "source": [
    "dt_gs.score(\n",
    "    X_tot[SITE].values,\n",
    "    X_tot['label'].values\n",
    ")"
   ]
  },
  {
   "cell_type": "code",
   "execution_count": null,
   "id": "a2801641",
   "metadata": {
    "ExecuteTime": {
     "end_time": "2024-10-24T19:13:30.013827Z",
     "start_time": "2024-10-24T19:13:29.880638Z"
    },
    "hidden": true
   },
   "outputs": [],
   "source": [
    "dt_gs"
   ]
  },
  {
   "cell_type": "code",
   "execution_count": null,
   "id": "61a0f9f9",
   "metadata": {
    "ExecuteTime": {
     "end_time": "2024-10-24T19:13:32.664105Z",
     "start_time": "2024-10-24T19:13:32.437176Z"
    },
    "hidden": true
   },
   "outputs": [],
   "source": [
    "from sklearn.tree import plot_tree\n",
    "\n",
    "fig = plt.figure(figsize=(8,4))\n",
    "artists = plot_tree(\n",
    "    dt_gs.best_estimator_.named_steps['model'],\n",
    "    feature_names=list(SITE),\n",
    "    class_names=dt_gs.best_estimator_.classes_.tolist(),\n",
    "    label='root',\n",
    "    filled=True,\n",
    "    proportion=False,\n",
    "    impurity=False,\n",
    "    ax=fig.gca(),\n",
    "    fontsize=22,\n",
    "    rounded=True,\n",
    "    precision=3,\n",
    ")\n",
    "plt.tight_layout()\n",
    "\n",
    "# De-scale units\n",
    "d = {a[0]: (a[1], a[2]) for a in list(zip(SITE, dt_gs.best_estimator_.named_steps['autoscaler']._CorrectedScaler__mean_, dt_gs.best_estimator_.named_steps['autoscaler']._CorrectedScaler__std_))}"
   ]
  },
  {
   "cell_type": "code",
   "execution_count": null,
   "id": "17b7a7be",
   "metadata": {
    "ExecuteTime": {
     "end_time": "2024-10-24T19:13:33.199224Z",
     "start_time": "2024-10-24T19:13:33.162320Z"
    },
    "hidden": true
   },
   "outputs": [],
   "source": [
    "def train_stump(site='Na'):\n",
    "    idx = np.where(SITE == site)[0][0]\n",
    "    \n",
    "    steps = []\n",
    "    \n",
    "    if idx >= 4:\n",
    "        # Only impute for trace elements\n",
    "        steps += [(\"imputer\", LOD( # Impute < LOD\n",
    "            lod=[lod[site]], \n",
    "            missing_values=np.nan, \n",
    "            seed=42,\n",
    "        ))]\n",
    "        \n",
    "    steps += [(\"model\", DecisionTreeClassifier(\n",
    "        max_depth=1,\n",
    "        random_state=42,\n",
    "        class_weight='balanced'\n",
    "    ))]\n",
    "    \n",
    "    pipeline = imblearn.pipeline.Pipeline(steps=steps)\n",
    "    \n",
    "    _ = pipeline.fit(\n",
    "        X_tot[site].values.reshape(-1,1), \n",
    "        X_tot['label'].values\n",
    "    )\n",
    "    \n",
    "    fig = plt.figure(figsize=(6,4))\n",
    "    artists = plot_tree(\n",
    "        pipeline.named_steps['model'],\n",
    "        feature_names=[site],\n",
    "        class_names=pipeline.named_steps['model'].classes_.tolist(),\n",
    "        label='root',\n",
    "        filled=True,\n",
    "        proportion=False,\n",
    "        impurity=False,\n",
    "        ax=fig.gca(),\n",
    "        fontsize=22,\n",
    "        rounded=True,\n",
    "        precision=3,\n",
    "    )\n",
    "    plt.tight_layout()\n",
    "    \n",
    "    def fix_naming(string):\n",
    "        s = string.split('\\n')\n",
    "        if len(s) == 4:\n",
    "            s = [s[0], s[1]]\n",
    "        else:\n",
    "            s = [s[0], s[2]]\n",
    "\n",
    "        if 'Authentic SLO' == s[-1]:\n",
    "            s[-1] = 'Authentic'\n",
    "        return s\n",
    "    \n",
    "    for a in artists:\n",
    "        a.set_text('\\n'.join(fix_naming(a.get_text())))\n",
    "    \n",
    "    return pipeline, pipeline.score(X_tot[site].values.reshape(-1,1),  X_tot['label'].values)"
   ]
  },
  {
   "cell_type": "code",
   "execution_count": null,
   "id": "66d1c83a",
   "metadata": {
    "ExecuteTime": {
     "end_time": "2024-10-24T19:13:34.590344Z",
     "start_time": "2024-10-24T19:13:34.351387Z"
    },
    "hidden": true
   },
   "outputs": [],
   "source": [
    "p_, score_ = train_stump('P')\n",
    "score_"
   ]
  },
  {
   "cell_type": "code",
   "execution_count": null,
   "id": "9e54f3d3",
   "metadata": {
    "ExecuteTime": {
     "end_time": "2024-10-24T19:13:35.420403Z",
     "start_time": "2024-10-24T19:13:34.711491Z"
    },
    "hidden": true
   },
   "outputs": [],
   "source": [
    "p_, score_ = train_stump('Na')\n",
    "plt.savefig(\"fig7e_1.png\", transparent=None, dpi=600, format=\"png\",\n",
    "        metadata=None, bbox_inches='tight', pad_inches=0.1,\n",
    "        facecolor='auto', edgecolor='auto', backend=None)\n",
    "score_"
   ]
  },
  {
   "cell_type": "code",
   "execution_count": null,
   "id": "d3c590a0",
   "metadata": {
    "ExecuteTime": {
     "end_time": "2024-10-24T19:13:36.059332Z",
     "start_time": "2024-10-24T19:13:35.422186Z"
    },
    "hidden": true
   },
   "outputs": [],
   "source": [
    "p_, score_ = train_stump('As')\n",
    "plt.savefig(\"fig7e_2.png\", transparent=None, dpi=600, format=\"png\",\n",
    "        metadata=None, bbox_inches='tight', pad_inches=0.1,\n",
    "        facecolor='auto', edgecolor='auto', backend=None)\n",
    "score_"
   ]
  },
  {
   "cell_type": "markdown",
   "id": "614b22fe",
   "metadata": {
    "heading_collapsed": true,
    "hidden": true
   },
   "source": [
    "### Without P"
   ]
  },
  {
   "cell_type": "code",
   "execution_count": null,
   "id": "de8248af",
   "metadata": {
    "ExecuteTime": {
     "end_time": "2024-10-24T19:13:59.270252Z",
     "start_time": "2024-10-24T19:13:59.238878Z"
    },
    "hidden": true
   },
   "outputs": [],
   "source": [
    "# Fit model on entire dataset, but do not use feature selector so that we can see how it chooses to use all of them\n",
    "dt_pipeline = make_pipe(\n",
    "    DecisionTreeClassifier(\n",
    "        max_depth=1,\n",
    "        random_state=42,\n",
    "        class_weight='balanced'\n",
    "    ),\n",
    "    use_feature_selector=False, # Let it see all the features\n",
    "    drop=['P']\n",
    ")\n",
    "\n",
    "dt_gs = make_gs(dt_pipeline, dt_param_grid)"
   ]
  },
  {
   "cell_type": "code",
   "execution_count": null,
   "id": "842635d6",
   "metadata": {
    "ExecuteTime": {
     "end_time": "2024-10-24T19:14:05.606886Z",
     "start_time": "2024-10-24T19:14:05.447066Z"
    },
    "hidden": true
   },
   "outputs": [],
   "source": [
    "_ = dt_gs.fit(\n",
    "    X_tot[SITE].drop('P', axis=1).values,\n",
    "    X_tot['label'].values\n",
    ")"
   ]
  },
  {
   "cell_type": "code",
   "execution_count": null,
   "id": "a4a2ae5c",
   "metadata": {
    "ExecuteTime": {
     "end_time": "2024-10-24T19:14:06.067697Z",
     "start_time": "2024-10-24T19:14:05.986433Z"
    },
    "hidden": true
   },
   "outputs": [],
   "source": [
    "dt_gs.score(\n",
    "    X_tot[SITE].drop('P', axis=1).values,\n",
    "    X_tot['label'].values\n",
    ")"
   ]
  },
  {
   "cell_type": "code",
   "execution_count": null,
   "id": "6b6eedf4",
   "metadata": {
    "ExecuteTime": {
     "end_time": "2024-10-24T19:14:06.763287Z",
     "start_time": "2024-10-24T19:14:06.529325Z"
    },
    "hidden": true
   },
   "outputs": [],
   "source": [
    "p_, score_ = train_stump('Na')\n",
    "score_"
   ]
  },
  {
   "cell_type": "code",
   "execution_count": null,
   "id": "8ea49c04",
   "metadata": {
    "ExecuteTime": {
     "end_time": "2024-10-24T19:14:09.437814Z",
     "start_time": "2024-10-24T19:14:09.231645Z"
    },
    "hidden": true
   },
   "outputs": [],
   "source": [
    "p_, score_ = train_stump('As')\n",
    "score_"
   ]
  },
  {
   "cell_type": "code",
   "execution_count": null,
   "id": "8d24c8ea",
   "metadata": {
    "ExecuteTime": {
     "end_time": "2024-10-24T19:14:09.815724Z",
     "start_time": "2024-10-24T19:14:09.581772Z"
    },
    "hidden": true
   },
   "outputs": [],
   "source": [
    "p_, score_ = train_stump('K')\n",
    "score_"
   ]
  },
  {
   "cell_type": "markdown",
   "id": "4ffdfa11",
   "metadata": {
    "heading_collapsed": true,
    "hidden": true
   },
   "source": [
    "## Comparison"
   ]
  },
  {
   "cell_type": "markdown",
   "id": "f0c138c4",
   "metadata": {
    "heading_collapsed": true,
    "hidden": true
   },
   "source": [
    "### With P"
   ]
  },
  {
   "cell_type": "code",
   "execution_count": null,
   "id": "5a8fdbce",
   "metadata": {
    "ExecuteTime": {
     "end_time": "2024-10-24T19:14:36.502172Z",
     "start_time": "2024-10-24T19:14:36.455927Z"
    },
    "hidden": true
   },
   "outputs": [],
   "source": [
    "# RF\n",
    "\n",
    "rf_param_grid = [{\n",
    "    'model__n_estimators':[50, 100, 150, 200, 250, 300], # Added a few more\n",
    "    'model__max_features':['sqrt', None],\n",
    "    'feature_selector__estimator': [\n",
    "        CollinearFeatureSelector(t=0.0, seed=42, minimize_label_entropy=False),\n",
    "        CollinearFeatureSelector(t=0.2, seed=42, minimize_label_entropy=False),\n",
    "        CollinearFeatureSelector(t=0.4, seed=42, minimize_label_entropy=False),\n",
    "        CollinearFeatureSelector(t=0.6, seed=42, minimize_label_entropy=False),\n",
    "        CollinearFeatureSelector(t=0.8, seed=42, minimize_label_entropy=False),\n",
    "        CollinearFeatureSelector(t=1.0, seed=42, minimize_label_entropy=False),\n",
    "    ]\n",
    "}]\n",
    "\n",
    "rf_pipeline = make_pipe(\n",
    "    RandomForestClassifier(\n",
    "        n_estimators=100, \n",
    "        random_state=42, \n",
    "        oob_score=True, \n",
    "        class_weight='balanced',\n",
    "        max_features=None\n",
    "    ),\n",
    ")\n",
    "\n",
    "rf_gs = make_gs(rf_pipeline, rf_param_grid)"
   ]
  },
  {
   "cell_type": "code",
   "execution_count": null,
   "id": "c9f67f57",
   "metadata": {
    "ExecuteTime": {
     "end_time": "2024-10-24T19:14:36.820812Z",
     "start_time": "2024-10-24T19:14:36.769064Z"
    },
    "hidden": true
   },
   "outputs": [],
   "source": [
    "# DD-SIMCA\n",
    "\n",
    "dds_param_grid = [{\n",
    "    'model__n_components':np.arange(1, 20), # Increased for cherry - other matrices required less\n",
    "    'model__alpha':np.logspace(-5, np.log10(0.5), 10),\n",
    "    'feature_selector__estimator': [\n",
    "        CollinearFeatureSelector(t=0.0, seed=42, minimize_label_entropy=False),\n",
    "        CollinearFeatureSelector(t=0.2, seed=42, minimize_label_entropy=False),\n",
    "        CollinearFeatureSelector(t=0.4, seed=42, minimize_label_entropy=False),\n",
    "        CollinearFeatureSelector(t=0.6, seed=42, minimize_label_entropy=False),\n",
    "        CollinearFeatureSelector(t=0.8, seed=42, minimize_label_entropy=False),\n",
    "        CollinearFeatureSelector(t=1.0, seed=42, minimize_label_entropy=False),\n",
    "    ]\n",
    "}]\n",
    "\n",
    "dds_pipeline = make_pipe(\n",
    "    SIMCA_Authenticator(\n",
    "        n_components=1,\n",
    "        alpha=0.05,\n",
    "        scale_x=True,\n",
    "        style='dd-simca',\n",
    "        target_class='Authentic SLO',\n",
    "        use='compliant'\n",
    "    ),\n",
    ")\n",
    "\n",
    "dds_gs = make_gs(dds_pipeline, dds_param_grid)"
   ]
  },
  {
   "cell_type": "code",
   "execution_count": null,
   "id": "ea2d5e83",
   "metadata": {
    "ExecuteTime": {
     "end_time": "2024-10-24T19:14:37.441796Z",
     "start_time": "2024-10-24T19:14:37.388075Z"
    },
    "hidden": true
   },
   "outputs": [],
   "source": [
    "# DD-SIMCA - accuracy\n",
    "\n",
    "ddsacc_param_grid = [{\n",
    "    'model__n_components':np.arange(1, 20), # Increased for cherry - other matrices required less\n",
    "    'model__alpha':np.logspace(-5, np.log10(0.5), 10),\n",
    "    'feature_selector__estimator': [\n",
    "        CollinearFeatureSelector(t=0.0, seed=42, minimize_label_entropy=False),\n",
    "        CollinearFeatureSelector(t=0.2, seed=42, minimize_label_entropy=False),\n",
    "        CollinearFeatureSelector(t=0.4, seed=42, minimize_label_entropy=False),\n",
    "        CollinearFeatureSelector(t=0.6, seed=42, minimize_label_entropy=False),\n",
    "        CollinearFeatureSelector(t=0.8, seed=42, minimize_label_entropy=False),\n",
    "        CollinearFeatureSelector(t=1.0, seed=42, minimize_label_entropy=False),\n",
    "    ]\n",
    "}]\n",
    "\n",
    "ddsacc_pipeline = make_pipe(\n",
    "    SIMCA_Authenticator(\n",
    "        n_components=1,\n",
    "        alpha=0.05,\n",
    "        scale_x=True,\n",
    "        style='dd-simca',\n",
    "        target_class='Authentic SLO',\n",
    "        use='acc'\n",
    "    ),\n",
    ")\n",
    "\n",
    "ddsacc_gs = make_gs(ddsacc_pipeline, ddsacc_param_grid)"
   ]
  },
  {
   "cell_type": "code",
   "execution_count": null,
   "id": "0383c7e6",
   "metadata": {
    "ExecuteTime": {
     "end_time": "2024-10-24T19:14:38.601389Z",
     "start_time": "2024-10-24T19:14:38.548235Z"
    },
    "hidden": true
   },
   "outputs": [],
   "source": [
    "# UNEQ\n",
    "\n",
    "uneq_param_grid = [{\n",
    "    'model__alpha':np.logspace(-5, np.log10(0.5), 10),\n",
    "    'feature_selector__estimator': [\n",
    "        CollinearFeatureSelector(t=0.0, seed=42, minimize_label_entropy=False),\n",
    "        CollinearFeatureSelector(t=0.2, seed=42, minimize_label_entropy=False),\n",
    "        CollinearFeatureSelector(t=0.4, seed=42, minimize_label_entropy=False),\n",
    "        CollinearFeatureSelector(t=0.6, seed=42, minimize_label_entropy=False),\n",
    "        CollinearFeatureSelector(t=0.8, seed=42, minimize_label_entropy=False),\n",
    "        CollinearFeatureSelector(t=1.0, seed=42, minimize_label_entropy=False),\n",
    "    ]\n",
    "}]\n",
    "\n",
    "uneq_pipeline = make_pipe(\n",
    "    EllipticManifold_Authenticator(\n",
    "        alpha=0.05,\n",
    "        robust=True, \n",
    "        center='score',\n",
    "        target_class='Authentic SLO',\n",
    "        use='compliant'\n",
    "    ),\n",
    ")\n",
    "\n",
    "uneq_gs = make_gs(uneq_pipeline, uneq_param_grid)"
   ]
  },
  {
   "cell_type": "code",
   "execution_count": null,
   "id": "1730ea69",
   "metadata": {
    "ExecuteTime": {
     "end_time": "2024-10-24T19:14:38.984888Z",
     "start_time": "2024-10-24T19:14:38.931433Z"
    },
    "hidden": true
   },
   "outputs": [],
   "source": [
    "# UNEQ - accuracy\n",
    "\n",
    "uneqacc_param_grid = [{\n",
    "    'model__alpha':np.logspace(-5, np.log10(0.5), 10),\n",
    "    'feature_selector__estimator': [\n",
    "        CollinearFeatureSelector(t=0.0, seed=42, minimize_label_entropy=False),\n",
    "        CollinearFeatureSelector(t=0.2, seed=42, minimize_label_entropy=False),\n",
    "        CollinearFeatureSelector(t=0.4, seed=42, minimize_label_entropy=False),\n",
    "        CollinearFeatureSelector(t=0.6, seed=42, minimize_label_entropy=False),\n",
    "        CollinearFeatureSelector(t=0.8, seed=42, minimize_label_entropy=False),\n",
    "        CollinearFeatureSelector(t=1.0, seed=42, minimize_label_entropy=False),\n",
    "    ]\n",
    "}]\n",
    "\n",
    "uneqacc_pipeline = make_pipe(\n",
    "    EllipticManifold_Authenticator(\n",
    "        alpha=0.05,\n",
    "        robust=True, \n",
    "        center='score',\n",
    "        target_class='Authentic SLO',\n",
    "        use='acc'\n",
    "    ),\n",
    ")\n",
    "\n",
    "uneqacc_gs = make_gs(uneqacc_pipeline, uneqacc_param_grid)"
   ]
  },
  {
   "cell_type": "code",
   "execution_count": null,
   "id": "0745e011",
   "metadata": {
    "ExecuteTime": {
     "end_time": "2024-10-24T19:14:39.772024Z",
     "start_time": "2024-10-24T19:14:39.720250Z"
    },
    "hidden": true
   },
   "outputs": [],
   "source": [
    "# DT Stump\n",
    "\n",
    "dt_param_grid = [{\n",
    "    'model__max_depth':[1], # Force a stump\n",
    "    'feature_selector__estimator': [\n",
    "        CollinearFeatureSelector(t=0.0, seed=42, minimize_label_entropy=False),\n",
    "        CollinearFeatureSelector(t=0.2, seed=42, minimize_label_entropy=False),\n",
    "        CollinearFeatureSelector(t=0.4, seed=42, minimize_label_entropy=False),\n",
    "        CollinearFeatureSelector(t=0.6, seed=42, minimize_label_entropy=False),\n",
    "        CollinearFeatureSelector(t=0.8, seed=42, minimize_label_entropy=False),\n",
    "        CollinearFeatureSelector(t=1.0, seed=42, minimize_label_entropy=False),\n",
    "    ]\n",
    "}]\n",
    "\n",
    "dt_pipeline = make_pipe(\n",
    "    DecisionTreeClassifier(\n",
    "        max_depth=1,\n",
    "        random_state=42,\n",
    "        class_weight='balanced'\n",
    "    ),\n",
    ")\n",
    "\n",
    "dt_gs = make_gs(dt_pipeline, dt_param_grid)"
   ]
  },
  {
   "cell_type": "code",
   "execution_count": null,
   "id": "49461948",
   "metadata": {
    "ExecuteTime": {
     "end_time": "2024-10-24T19:14:40.848154Z",
     "start_time": "2024-10-24T19:14:40.797993Z"
    },
    "hidden": true
   },
   "outputs": [],
   "source": [
    "# DT depth 2\n",
    "\n",
    "dt2_param_grid = [{\n",
    "    'model__max_depth':[2], \n",
    "    'feature_selector__estimator': [\n",
    "        CollinearFeatureSelector(t=0.0, seed=42, minimize_label_entropy=False),\n",
    "        CollinearFeatureSelector(t=0.2, seed=42, minimize_label_entropy=False),\n",
    "        CollinearFeatureSelector(t=0.4, seed=42, minimize_label_entropy=False),\n",
    "        CollinearFeatureSelector(t=0.6, seed=42, minimize_label_entropy=False),\n",
    "        CollinearFeatureSelector(t=0.8, seed=42, minimize_label_entropy=False),\n",
    "        CollinearFeatureSelector(t=1.0, seed=42, minimize_label_entropy=False),\n",
    "    ]\n",
    "}]\n",
    "\n",
    "dt2_pipeline = make_pipe(\n",
    "    DecisionTreeClassifier(\n",
    "        max_depth=2,\n",
    "        random_state=42,\n",
    "        class_weight='balanced'\n",
    "    ),\n",
    ")\n",
    "\n",
    "dt2_gs = make_gs(dt2_pipeline, dt2_param_grid)"
   ]
  },
  {
   "cell_type": "code",
   "execution_count": null,
   "id": "258ea6d4",
   "metadata": {
    "ExecuteTime": {
     "end_time": "2024-10-24T19:14:41.380228Z",
     "start_time": "2024-10-24T19:14:41.330591Z"
    },
    "hidden": true
   },
   "outputs": [],
   "source": [
    "# DT depth 3\n",
    "\n",
    "dt3_param_grid = [{\n",
    "    'model__max_depth':[3], \n",
    "    'feature_selector__estimator': [\n",
    "        CollinearFeatureSelector(t=0.0, seed=42, minimize_label_entropy=False),\n",
    "        CollinearFeatureSelector(t=0.2, seed=42, minimize_label_entropy=False),\n",
    "        CollinearFeatureSelector(t=0.4, seed=42, minimize_label_entropy=False),\n",
    "        CollinearFeatureSelector(t=0.6, seed=42, minimize_label_entropy=False),\n",
    "        CollinearFeatureSelector(t=0.8, seed=42, minimize_label_entropy=False),\n",
    "        CollinearFeatureSelector(t=1.0, seed=42, minimize_label_entropy=False),\n",
    "    ]\n",
    "}]\n",
    "\n",
    "dt3_pipeline = make_pipe(\n",
    "    DecisionTreeClassifier(\n",
    "        max_depth=3,\n",
    "        random_state=42,\n",
    "        class_weight='balanced'\n",
    "    ),\n",
    ")\n",
    "\n",
    "dt3_gs = make_gs(dt3_pipeline, dt3_param_grid)"
   ]
  },
  {
   "cell_type": "code",
   "execution_count": null,
   "id": "4286ce63",
   "metadata": {
    "ExecuteTime": {
     "end_time": "2024-10-24T19:14:42.610348Z",
     "start_time": "2024-10-24T19:14:42.555641Z"
    },
    "hidden": true
   },
   "outputs": [],
   "source": [
    "# RF OSR\n",
    "\n",
    "osr_param_grid = [{\n",
    "    'model__clf_kwargs':[{'n_estimators':n, 'random_state':42, 'class_weight':'balanced', 'max_features':None} for n in [20, 50, 100, 150, 200]],\n",
    "    'model__outlier_kwargs':[\n",
    "        {'n_estimators': n, \n",
    "         'max_samples': 'auto', \n",
    "         'contamination': c,\n",
    "         'max_features': 1.0, \n",
    "         'bootstrap':True,\n",
    "         'n_jobs':-1, \n",
    "         'random_state':42} for n in [10, 20, 50, 100] for c in [0.001, 0.01, 0.1, 0.5]\n",
    "    ],\n",
    "    'feature_selector__estimator': [\n",
    "        CollinearFeatureSelector(t=0.0, seed=42, minimize_label_entropy=False),\n",
    "        CollinearFeatureSelector(t=0.2, seed=42, minimize_label_entropy=False),\n",
    "        CollinearFeatureSelector(t=0.4, seed=42, minimize_label_entropy=False),\n",
    "        CollinearFeatureSelector(t=0.6, seed=42, minimize_label_entropy=False),\n",
    "        CollinearFeatureSelector(t=0.8, seed=42, minimize_label_entropy=False),\n",
    "        CollinearFeatureSelector(t=1.0, seed=42, minimize_label_entropy=False),\n",
    "    ]\n",
    "}]\n",
    "\n",
    "osr_pipeline = make_pipe(\n",
    "    osr.OpenSetClassifier(\n",
    "        clf_model=RandomForestClassifier,\n",
    "        outlier_model=IsolationForest,\n",
    "        clf_kwargs={},\n",
    "        outlier_kwargs={},\n",
    "        known_classes=['Authentic SLO', 'Abroad'],\n",
    "        inlier_value=1,\n",
    "        unknown_class='Unknown',\n",
    "        score_metric='TEFF',\n",
    "        clf_style='hard',\n",
    "        score_using=\"Authentic SLO\"\n",
    "    ),\n",
    ")\n",
    "\n",
    "osr_gs = make_gs(osr_pipeline, osr_param_grid)"
   ]
  },
  {
   "cell_type": "code",
   "execution_count": null,
   "id": "e4a9e32a",
   "metadata": {
    "ExecuteTime": {
     "end_time": "2024-10-24T19:14:46.111876Z",
     "start_time": "2024-10-24T19:14:46.057230Z"
    },
    "hidden": true
   },
   "outputs": [],
   "source": [
    "# RF OSR - accuracy\n",
    "\n",
    "osracc_param_grid = [{\n",
    "    'model__clf_kwargs':[{'n_estimators':n, 'random_state':42, 'class_weight':'balanced', 'max_features':None} for n in [20, 50, 100, 150, 200]],\n",
    "    'model__outlier_kwargs':[\n",
    "        {'n_estimators': n, \n",
    "         'max_samples': 'auto', \n",
    "         'contamination': c,\n",
    "         'max_features': 1.0, \n",
    "         'bootstrap':True,\n",
    "         'n_jobs':-1, \n",
    "         'random_state':42} for n in [10, 20, 50, 100] for c in [0.001, 0.01, 0.1, 0.5]\n",
    "    ],\n",
    "    'feature_selector__estimator': [\n",
    "        CollinearFeatureSelector(t=0.0, seed=42, minimize_label_entropy=False),\n",
    "        CollinearFeatureSelector(t=0.2, seed=42, minimize_label_entropy=False),\n",
    "        CollinearFeatureSelector(t=0.4, seed=42, minimize_label_entropy=False),\n",
    "        CollinearFeatureSelector(t=0.6, seed=42, minimize_label_entropy=False),\n",
    "        CollinearFeatureSelector(t=0.8, seed=42, minimize_label_entropy=False),\n",
    "        CollinearFeatureSelector(t=1.0, seed=42, minimize_label_entropy=False),\n",
    "    ]\n",
    "}]\n",
    "\n",
    "osracc_pipeline = make_pipe(\n",
    "    osr.OpenSetClassifier(\n",
    "        clf_model=RandomForestClassifier,\n",
    "        outlier_model=IsolationForest,\n",
    "        clf_kwargs={},\n",
    "        outlier_kwargs={},\n",
    "        known_classes=['Authentic SLO', 'Abroad'],\n",
    "        inlier_value=1,\n",
    "        unknown_class='Unknown',\n",
    "        score_metric='ACC',\n",
    "        clf_style='hard',\n",
    "        score_using=\"Authentic SLO\"\n",
    "    ),\n",
    ")\n",
    "\n",
    "osracc_gs = make_gs(osracc_pipeline, osracc_param_grid)"
   ]
  },
  {
   "cell_type": "code",
   "execution_count": null,
   "id": "3db8c5a1",
   "metadata": {
    "ExecuteTime": {
     "end_time": "2024-10-24T19:15:01.551723Z",
     "start_time": "2024-10-24T19:15:01.479188Z"
    },
    "hidden": true,
    "scrolled": true
   },
   "outputs": [],
   "source": [
    "rerun = False\n",
    "\n",
    "if rerun:\n",
    "    # 10x10 repeated (nested) CV\n",
    "    scores_rf, scores_dds, scores_uneq, scores_dt, scores_dt2, scores_dt3, scores_osr, scores_ddsacc, scores_uneqacc, scores_osracc = Compare.repeated_kfold(\n",
    "        [\n",
    "            rf_gs,\n",
    "            dds_gs,\n",
    "            uneq_gs,\n",
    "            dt_gs,\n",
    "            dt2_gs,\n",
    "            dt3_gs,\n",
    "            osr_gs,\n",
    "            ddsacc_gs,\n",
    "            uneqacc_gs,\n",
    "            osracc_gs\n",
    "        ],\n",
    "        X_tot[SITE].values,\n",
    "        X_tot['label'].values,\n",
    "        n_repeats=10,\n",
    "        k=10,\n",
    "        random_state=0\n",
    "    )\n",
    "\n",
    "    save_results({\n",
    "            'Compliant DD-SIMCA (TEFF)': scores_dds,\n",
    "            'UNEQ (TEFF)': scores_uneq,\n",
    "            'RF OSR (TEFF)': scores_osr,\n",
    "            'DT Stump (ACC)': scores_dt,\n",
    "            'DT Depth 2 (ACC)': scores_dt2,\n",
    "            'DT Depth 3 (ACC)': scores_dt3,\n",
    "            'Random Forest (ACC)': scores_rf,\n",
    "            'Compliant DD-SIMCA (ACC)': scores_ddsacc,\n",
    "            'UNEQ (ACC)': scores_uneqacc,\n",
    "            'RF OSR (ACC)': scores_osracc,\n",
    "        },\n",
    "        filename='strawberry_with_p.pkl',\n",
    "    )\n",
    "else:\n",
    "    # Load previously saved results\n",
    "    scores_ = pickle.load(open('strawberry_with_p.pkl', 'rb'))\n",
    "\n",
    "    scores_dds = scores_['Compliant DD-SIMCA (TEFF)']\n",
    "    scores_osr = scores_['RF OSR (TEFF)']\n",
    "    scores_uneq = scores_['UNEQ (TEFF)']\n",
    "    scores_dt = scores_['DT Stump (ACC)']\n",
    "    scores_dt2 = scores_['DT Depth 2 (ACC)']\n",
    "    scores_dt3 = scores_['DT Depth 3 (ACC)']\n",
    "    scores_rf = scores_['Random Forest (ACC)']\n",
    "    scores_ddsacc = scores_['Compliant DD-SIMCA (ACC)']\n",
    "    scores_uneqacc = scores_['UNEQ (ACC)']\n",
    "    scores_osracc = scores_['RF OSR (ACC)']"
   ]
  },
  {
   "cell_type": "code",
   "execution_count": null,
   "id": "dd12d53e",
   "metadata": {
    "ExecuteTime": {
     "end_time": "2024-10-24T19:15:14.529187Z",
     "start_time": "2024-10-24T19:15:12.223085Z"
    },
    "hidden": true
   },
   "outputs": [],
   "source": [
    "ax = Compare.visualize(\n",
    "    {\n",
    "        'Compliant DD-SIMCA (TEFF)': scores_dds,\n",
    "        'UNEQ (TEFF)': scores_uneq,\n",
    "        'RF OSR (TEFF)': scores_osr,\n",
    "        'DT Stump (ACC)': scores_dt,\n",
    "        'DT Depth 2 (ACC)': scores_dt2,\n",
    "        'DT Depth 3 (ACC)': scores_dt3,\n",
    "        'Random Forest (ACC)': scores_rf,\n",
    "        'Compliant DD-SIMCA (ACC)': scores_ddsacc,\n",
    "        'UNEQ (ACC)': scores_uneqacc,\n",
    "        'RF OSR (ACC)': scores_osracc,\n",
    "    },\n",
    "    n_repeats=10,\n",
    "    alpha=0.05,\n",
    "    ignore=0,\n",
    "    cmap='plasma'\n",
    ")\n",
    "\n",
    "_ = ax.set_xticklabels(\n",
    "    [\"%.1f\" % t for t in np.linspace(0.0, 0.9, 10)],\n",
    "    fontsize=18\n",
    ")\n",
    "_ = ax.set_title(\"Score +/- \" + r\"$\\sigma$\", fontsize=22)\n",
    "l = ax.legend(loc=\"best\", bbox_to_anchor=(0.75, 0.5, 0.5, 0.5), fontsize=18)\n",
    "\n",
    "for text in l.get_texts():\n",
    "    if 'RF OSR' in text.get_text():\n",
    "        text.set_color('blue')\n",
    "    else:\n",
    "        text.set_color(\"green\")\n",
    "        \n",
    "plt.savefig(\"si_strawberry_comparison.png\", transparent=None, dpi=600, format=\"png\",\n",
    "        metadata=None, bbox_inches='tight', pad_inches=0.1,\n",
    "        facecolor='auto', edgecolor='auto', backend=None)"
   ]
  },
  {
   "cell_type": "code",
   "execution_count": null,
   "id": "ed6d1cda",
   "metadata": {
    "ExecuteTime": {
     "end_time": "2024-10-24T19:15:21.492169Z",
     "start_time": "2024-10-24T19:15:21.452060Z"
    },
    "hidden": true
   },
   "outputs": [],
   "source": [
    "np.mean(scores_rf[scores_rf>0])"
   ]
  },
  {
   "cell_type": "code",
   "execution_count": null,
   "id": "439ab3d7",
   "metadata": {
    "hidden": true
   },
   "outputs": [],
   "source": []
  },
  {
   "cell_type": "code",
   "execution_count": null,
   "id": "ec21a149",
   "metadata": {
    "ExecuteTime": {
     "end_time": "2024-10-24T19:24:53.532505Z",
     "start_time": "2024-10-24T19:24:53.475037Z"
    },
    "hidden": true
   },
   "outputs": [],
   "source": [
    "# # Create models for HuggingFace\n",
    "# for name, pipe in [\n",
    "#     ('random-forest[acc]', rf_gs),\n",
    "#     ('compliant-dd-simca[teff]', dds_gs),\n",
    "#     ('uneq[teff]', uneq_gs),\n",
    "#     ('dt-stump[acc]', dt_gs),\n",
    "#     ('dt-depth-2[acc]', dt2_gs),\n",
    "#     ('dt-depth-3[acc]', dt3_gs),\n",
    "#     ('random-forest-osr[teff]', osr_gs),\n",
    "#     ('compliant-dd-simca[acc]', ddsacc_gs),\n",
    "#     ('uneq[acc]', uneqacc_gs),\n",
    "#     ('random-forest-osr[acc]', osracc_gs)\n",
    "# ]:\n",
    "#     _ = pipe.fit(\n",
    "#         X_tot[SITE].values,\n",
    "#         X_tot['label'].values\n",
    "#     )\n",
    "    \n",
    "#     pickle.dump(pipe, open('model-'+name+'.pkl', 'wb'), protocol=4)"
   ]
  },
  {
   "cell_type": "markdown",
   "id": "1f4b0e3d",
   "metadata": {
    "heading_collapsed": true,
    "hidden": true
   },
   "source": [
    "### Without P"
   ]
  },
  {
   "cell_type": "code",
   "execution_count": null,
   "id": "c2aeebe9",
   "metadata": {
    "ExecuteTime": {
     "end_time": "2024-10-24T19:25:00.479999Z",
     "start_time": "2024-10-24T19:25:00.429195Z"
    },
    "hidden": true
   },
   "outputs": [],
   "source": [
    "# RF\n",
    "\n",
    "rf_pipeline = make_pipe(\n",
    "    RandomForestClassifier(\n",
    "        n_estimators=100, \n",
    "        random_state=42, \n",
    "        oob_score=True, \n",
    "        class_weight='balanced',\n",
    "        max_features=None\n",
    "    ),\n",
    "    drop=['P']\n",
    ")\n",
    "\n",
    "rf_gs_nop = make_gs(rf_pipeline, rf_param_grid)"
   ]
  },
  {
   "cell_type": "code",
   "execution_count": null,
   "id": "f1853cef",
   "metadata": {
    "ExecuteTime": {
     "end_time": "2024-10-24T19:25:00.922922Z",
     "start_time": "2024-10-24T19:25:00.874298Z"
    },
    "hidden": true
   },
   "outputs": [],
   "source": [
    "# DD-SIMCA\n",
    "\n",
    "dds_pipeline = make_pipe(\n",
    "    SIMCA_Authenticator(\n",
    "        n_components=1,\n",
    "        alpha=0.05,\n",
    "        scale_x=True,\n",
    "        style='dd-simca',\n",
    "        target_class='Authentic SLO',\n",
    "        use='compliant'\n",
    "    ),\n",
    "    drop=['P']\n",
    ")\n",
    "\n",
    "dds_gs_nop = make_gs(dds_pipeline, dds_param_grid)"
   ]
  },
  {
   "cell_type": "code",
   "execution_count": null,
   "id": "35c6d3bd",
   "metadata": {
    "ExecuteTime": {
     "end_time": "2024-10-24T19:25:01.486665Z",
     "start_time": "2024-10-24T19:25:01.438443Z"
    },
    "hidden": true
   },
   "outputs": [],
   "source": [
    "# DD-SIMCA - accuracy\n",
    "\n",
    "ddsacc_pipeline = make_pipe(\n",
    "    SIMCA_Authenticator(\n",
    "        n_components=1,\n",
    "        alpha=0.05,\n",
    "        scale_x=True,\n",
    "        style='dd-simca',\n",
    "        target_class='Authentic SLO',\n",
    "        use='acc'\n",
    "    ),\n",
    "    drop=['P']\n",
    ")\n",
    "\n",
    "ddsacc_gs_nop = make_gs(ddsacc_pipeline, ddsacc_param_grid)"
   ]
  },
  {
   "cell_type": "code",
   "execution_count": null,
   "id": "44e86efb",
   "metadata": {
    "ExecuteTime": {
     "end_time": "2024-10-24T19:25:04.299107Z",
     "start_time": "2024-10-24T19:25:04.250185Z"
    },
    "hidden": true
   },
   "outputs": [],
   "source": [
    "# UNEQ\n",
    "\n",
    "uneq_pipeline = make_pipe(\n",
    "    EllipticManifold_Authenticator(\n",
    "        alpha=0.05,\n",
    "        robust=True, \n",
    "        center='score',\n",
    "        target_class='Authentic SLO',\n",
    "        use='compliant'\n",
    "    ),\n",
    "    drop=['P']\n",
    ")\n",
    "\n",
    "uneq_gs_nop = make_gs(uneq_pipeline, uneq_param_grid)"
   ]
  },
  {
   "cell_type": "code",
   "execution_count": null,
   "id": "9382e025",
   "metadata": {
    "ExecuteTime": {
     "end_time": "2024-10-24T19:25:04.437237Z",
     "start_time": "2024-10-24T19:25:04.389837Z"
    },
    "hidden": true
   },
   "outputs": [],
   "source": [
    "# UNEQ - accuracy\n",
    "\n",
    "uneqacc_pipeline = make_pipe(\n",
    "    EllipticManifold_Authenticator(\n",
    "        alpha=0.05,\n",
    "        robust=True, \n",
    "        center='score',\n",
    "        target_class='Authentic SLO',\n",
    "        use='acc'\n",
    "    ),\n",
    "    drop=['P']\n",
    ")\n",
    "\n",
    "uneqacc_gs_nop = make_gs(uneqacc_pipeline, uneqacc_param_grid)"
   ]
  },
  {
   "cell_type": "code",
   "execution_count": null,
   "id": "14eb3d85",
   "metadata": {
    "ExecuteTime": {
     "end_time": "2024-10-24T19:25:04.564037Z",
     "start_time": "2024-10-24T19:25:04.517060Z"
    },
    "hidden": true
   },
   "outputs": [],
   "source": [
    "# DT Stump\n",
    "\n",
    "dt_pipeline = make_pipe(\n",
    "    DecisionTreeClassifier(\n",
    "        max_depth=1,\n",
    "        random_state=42,\n",
    "        class_weight='balanced'\n",
    "    ),\n",
    "    drop=['P']\n",
    ")\n",
    "\n",
    "dt_gs_nop = make_gs(dt_pipeline, dt_param_grid)"
   ]
  },
  {
   "cell_type": "code",
   "execution_count": null,
   "id": "b907a661",
   "metadata": {
    "ExecuteTime": {
     "end_time": "2024-10-24T19:25:04.811494Z",
     "start_time": "2024-10-24T19:25:04.764109Z"
    },
    "hidden": true
   },
   "outputs": [],
   "source": [
    "# DT depth 2\n",
    "\n",
    "dt2_pipeline = make_pipe(\n",
    "    DecisionTreeClassifier(\n",
    "        max_depth=2,\n",
    "        random_state=42,\n",
    "        class_weight='balanced'\n",
    "    ),\n",
    "    drop=['P']\n",
    ")\n",
    "\n",
    "dt2_gs_nop = make_gs(dt2_pipeline, dt2_param_grid)"
   ]
  },
  {
   "cell_type": "code",
   "execution_count": null,
   "id": "ae62bfc4",
   "metadata": {
    "ExecuteTime": {
     "end_time": "2024-10-24T19:25:05.377118Z",
     "start_time": "2024-10-24T19:25:05.329565Z"
    },
    "hidden": true
   },
   "outputs": [],
   "source": [
    "# DT depth 3\n",
    "\n",
    "dt3_pipeline = make_pipe(\n",
    "    DecisionTreeClassifier(\n",
    "        max_depth=3,\n",
    "        random_state=42,\n",
    "        class_weight='balanced'\n",
    "    ),\n",
    "    drop=['P']\n",
    ")\n",
    "\n",
    "dt3_gs_nop = make_gs(dt3_pipeline, dt3_param_grid)"
   ]
  },
  {
   "cell_type": "code",
   "execution_count": null,
   "id": "683de3f6",
   "metadata": {
    "ExecuteTime": {
     "end_time": "2024-10-24T19:25:06.890481Z",
     "start_time": "2024-10-24T19:25:06.841598Z"
    },
    "hidden": true
   },
   "outputs": [],
   "source": [
    "# RF OSR\n",
    "\n",
    "osr_pipeline = make_pipe(\n",
    "    osr.OpenSetClassifier(\n",
    "        clf_model=RandomForestClassifier,\n",
    "        outlier_model=IsolationForest,\n",
    "        clf_kwargs={},\n",
    "        outlier_kwargs={},\n",
    "        known_classes=['Authentic SLO', 'Abroad'],\n",
    "        inlier_value=1,\n",
    "        unknown_class='Unknown',\n",
    "        score_metric='TEFF',\n",
    "        clf_style='hard',\n",
    "        score_using=\"Authentic SLO\"\n",
    "    ),\n",
    "    drop=['P']\n",
    ")\n",
    "\n",
    "osr_gs_nop = make_gs(osr_pipeline, osr_param_grid)"
   ]
  },
  {
   "cell_type": "code",
   "execution_count": null,
   "id": "667824f7",
   "metadata": {
    "ExecuteTime": {
     "end_time": "2024-10-24T19:25:07.315980Z",
     "start_time": "2024-10-24T19:25:07.267187Z"
    },
    "hidden": true
   },
   "outputs": [],
   "source": [
    "# RF OSR - accuracy\n",
    "\n",
    "osracc_pipeline = make_pipe(\n",
    "    osr.OpenSetClassifier(\n",
    "        clf_model=RandomForestClassifier,\n",
    "        outlier_model=IsolationForest,\n",
    "        clf_kwargs={},\n",
    "        outlier_kwargs={},\n",
    "        known_classes=['Authentic SLO', 'Abroad'],\n",
    "        inlier_value=1,\n",
    "        unknown_class='Unknown',\n",
    "        score_metric='ACC',\n",
    "        clf_style='hard',\n",
    "        score_using=\"Authentic SLO\"\n",
    "    ),\n",
    "    drop=['P']\n",
    ")\n",
    "\n",
    "osracc_gs_nop = make_gs(osracc_pipeline, osracc_param_grid)"
   ]
  },
  {
   "cell_type": "code",
   "execution_count": null,
   "id": "888fdeb3",
   "metadata": {
    "ExecuteTime": {
     "end_time": "2024-10-24T19:25:13.334110Z",
     "start_time": "2024-10-24T19:25:13.259589Z"
    },
    "hidden": true
   },
   "outputs": [],
   "source": [
    "rerun = False\n",
    "\n",
    "if rerun:\n",
    "    # 10x10 repeated (nested) CV\n",
    "    scores_rf_nop, scores_dds_nop, scores_uneq_nop, scores_dt_nop, scores_dt2_nop, scores_dt3_nop, scores_osr_nop, scores_ddsacc_nop, scores_uneqacc_nop, scores_osracc_nop = Compare.repeated_kfold(\n",
    "        [\n",
    "            rf_gs_nop,\n",
    "            dds_gs_nop,\n",
    "            uneq_gs_nop,\n",
    "            dt_gs_nop,\n",
    "            dt2_gs_nop,\n",
    "            dt3_gs_nop,\n",
    "            osr_gs_nop,\n",
    "            ddsacc_gs_nop,\n",
    "            uneqacc_gs_nop,\n",
    "            osracc_gs_nop\n",
    "        ],\n",
    "        X_tot[SITE].drop('P', axis=1).values,\n",
    "        X_tot['label'].values,\n",
    "        n_repeats=10,\n",
    "        k=10,\n",
    "        random_state=0\n",
    "    )\n",
    "\n",
    "    save_results({       \n",
    "            'Compliant DD-SIMCA (TEFF)': scores_dds_nop,\n",
    "            'UNEQ (TEFF)': scores_uneq_nop,\n",
    "            'RF OSR (TEFF)': scores_osr_nop,\n",
    "            'DT Stump (ACC)': scores_dt_nop,\n",
    "            'DT Depth 2 (ACC)': scores_dt2_nop,\n",
    "            'DT Depth 3 (ACC)': scores_dt3_nop,\n",
    "            'Random Forest (ACC)': scores_rf_nop,\n",
    "            'Compliant DD-SIMCA (ACC)': scores_ddsacc_nop,\n",
    "            'UNEQ (ACC)': scores_uneqacc_nop,\n",
    "            'RF OSR (ACC)': scores_osracc_nop,\n",
    "        },\n",
    "        filename='strawberry_without_p.pkl',\n",
    "    )\n",
    "else:\n",
    "    # Load previously saved results\n",
    "    scores_ = pickle.load(open('strawberry_without_p.pkl', 'rb'))\n",
    "\n",
    "    scores_dds_nop = scores_['Compliant DD-SIMCA (TEFF)']\n",
    "    scores_osr_nop = scores_['RF OSR (TEFF)']\n",
    "    scores_uneq_nop = scores_['UNEQ (TEFF)']\n",
    "    scores_dt_nop = scores_['DT Stump (ACC)']\n",
    "    scores_dt2_nop = scores_['DT Depth 2 (ACC)']\n",
    "    scores_dt3_nop = scores_['DT Depth 3 (ACC)']\n",
    "    scores_rf_nop = scores_['Random Forest (ACC)']\n",
    "    scores_ddsacc_nop = scores_['Compliant DD-SIMCA (ACC)']\n",
    "    scores_uneqacc_nop = scores_['UNEQ (ACC)']\n",
    "    scores_osracc_nop = scores_['RF OSR (ACC)']"
   ]
  },
  {
   "cell_type": "code",
   "execution_count": null,
   "id": "b4c290ac",
   "metadata": {
    "ExecuteTime": {
     "end_time": "2024-10-24T19:25:20.142200Z",
     "start_time": "2024-10-24T19:25:18.067471Z"
    },
    "hidden": true
   },
   "outputs": [],
   "source": [
    "ax = Compare.visualize(\n",
    "    {\n",
    "        'Compliant DD-SIMCA (TEFF)': scores_dds_nop,\n",
    "        'UNEQ (TEFF)': scores_uneq_nop,\n",
    "        'RF OSR (TEFF)': scores_osr_nop,\n",
    "        'DT Stump (ACC)': scores_dt_nop,\n",
    "        'DT Depth 2 (ACC)': scores_dt2_nop,\n",
    "        'DT Depth 3 (ACC)': scores_dt3_nop,\n",
    "        'Random Forest (ACC)': scores_rf_nop,\n",
    "        'Compliant DD-SIMCA (ACC)': scores_ddsacc_nop,\n",
    "        'UNEQ (ACC)': scores_uneqacc_nop,\n",
    "        'RF OSR (ACC)': scores_osracc_nop,\n",
    "    },\n",
    "    n_repeats=10,\n",
    "    alpha=0.05,\n",
    "    ignore=0,\n",
    "    cmap='plasma'\n",
    ")\n",
    "\n",
    "_ = ax.set_xticklabels(\n",
    "    [\"%.1f\" % t for t in np.linspace(0.0, 0.9, 10)],\n",
    "    fontsize=18\n",
    ")\n",
    "_ = ax.set_title(\"Score +/- \" + r\"$\\sigma$\", fontsize=22)\n",
    "l = ax.legend(loc=\"best\", bbox_to_anchor=(0.75, 0.45, 0.5, 0.5), fontsize=18)\n",
    "\n",
    "for text in l.get_texts():\n",
    "    if 'RF OSR' in text.get_text():\n",
    "        text.set_color('blue')\n",
    "    else:\n",
    "        text.set_color(\"green\")\n",
    "        \n",
    "plt.savefig(\"fig7c.png\", transparent=None, dpi=600, format=\"png\",\n",
    "        metadata=None, bbox_inches='tight', pad_inches=0.1,\n",
    "        facecolor='auto', edgecolor='auto', backend=None)"
   ]
  },
  {
   "cell_type": "code",
   "execution_count": null,
   "id": "806d8346",
   "metadata": {
    "ExecuteTime": {
     "end_time": "2024-10-24T19:25:23.709008Z",
     "start_time": "2024-10-24T19:25:23.674821Z"
    },
    "hidden": true
   },
   "outputs": [],
   "source": [
    "np.mean(scores_rf_nop[scores_rf_nop>0])"
   ]
  },
  {
   "cell_type": "code",
   "execution_count": null,
   "id": "cd68eb59",
   "metadata": {
    "ExecuteTime": {
     "end_time": "2024-10-24T19:25:23.873192Z",
     "start_time": "2024-10-24T19:25:23.825550Z"
    },
    "hidden": true
   },
   "outputs": [],
   "source": [
    "np.mean(scores_dds_nop[scores_dds_nop>0])"
   ]
  },
  {
   "cell_type": "code",
   "execution_count": null,
   "id": "0347f79b",
   "metadata": {
    "hidden": true
   },
   "outputs": [],
   "source": []
  },
  {
   "cell_type": "code",
   "execution_count": null,
   "id": "4aa1fc13",
   "metadata": {
    "ExecuteTime": {
     "end_time": "2024-10-24T19:31:21.338969Z",
     "start_time": "2024-10-24T19:27:01.505798Z"
    },
    "hidden": true
   },
   "outputs": [],
   "source": [
    "# # Create models for HuggingFace\n",
    "# for name, pipe in [\n",
    "#     ('random-forest-no-p[acc]', rf_gs_nop),\n",
    "#     ('compliant-dd-simca-no-p[teff]', dds_gs_nop),\n",
    "#     ('uneq-no-p[teff]', uneq_gs_nop),\n",
    "#     ('dt-stump-no-p[acc]', dt_gs_nop),\n",
    "#     ('dt-depth-2-no-p[acc]', dt2_gs_nop),\n",
    "#     ('dt-depth-3-no-p[acc]', dt3_gs_nop),\n",
    "#     ('random-forest-osr-no-p[teff]', osr_gs_nop),\n",
    "#     ('compliant-dd-simca-no-p[acc]', ddsacc_gs_nop),\n",
    "#     ('uneq-no-p[acc]', uneqacc_gs_nop),\n",
    "#     ('random-forest-osr-no-p[acc]', osracc_gs_nop)\n",
    "# ]:\n",
    "#     _ = pipe.fit(\n",
    "#         X_tot[SITE].drop('P', axis=1).values,\n",
    "#         X_tot['label'].values\n",
    "#     )\n",
    "    \n",
    "#     pickle.dump(pipe, open('model-'+name+'.pkl', 'wb'), protocol=4)"
   ]
  }
 ],
 "metadata": {
  "kernelspec": {
   "display_name": "test-slo",
   "language": "python",
   "name": "test-slo"
  },
  "language_info": {
   "codemirror_mode": {
    "name": "ipython",
    "version": 3
   },
   "file_extension": ".py",
   "mimetype": "text/x-python",
   "name": "python",
   "nbconvert_exporter": "python",
   "pygments_lexer": "ipython3",
   "version": "3.11.0"
  }
 },
 "nbformat": 4,
 "nbformat_minor": 5
}
