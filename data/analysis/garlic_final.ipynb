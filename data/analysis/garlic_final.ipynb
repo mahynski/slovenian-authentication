{
 "cells": [
  {
   "cell_type": "code",
   "execution_count": null,
   "id": "561bd8da",
   "metadata": {
    "ExecuteTime": {
     "end_time": "2024-08-28T18:59:18.650183Z",
     "start_time": "2024-08-28T18:59:14.504333Z"
    }
   },
   "outputs": [],
   "source": [
    "import imblearn\n",
    "import sklearn\n",
    "\n",
    "import utils\n",
    "\n",
    "import pychemauth\n",
    "from pychemauth.eda.explore import InspectData\n",
    "from pychemauth.eda.screen import JSBinary\n",
    "from pychemauth.preprocessing.scaling import CorrectedScaler\n",
    "from pychemauth.preprocessing.missing import LOD\n",
    "from pychemauth.classifier.simca import SIMCA_Authenticator\n",
    "from pychemauth.preprocessing.feature_selection import CollinearFeatureSelector\n",
    "from pychemauth.manifold.elliptic import EllipticManifold_Authenticator\n",
    "from pychemauth.analysis.compare import Compare\n",
    "from pychemauth.classifier import osr\n",
    "\n",
    "from sklearn.model_selection import GridSearchCV\n",
    "from sklearn.feature_selection import SelectFromModel\n",
    "from sklearn.ensemble import RandomForestClassifier, IsolationForest\n",
    "from sklearn.tree import DecisionTreeClassifier\n",
    "from sklearn.inspection import permutation_importance\n",
    "\n",
    "import seaborn as sns\n",
    "import numpy as np\n",
    "import pandas as pd\n",
    "import missingno as msno\n",
    "\n",
    "import matplotlib.pyplot as plt\n",
    "%matplotlib inline\n",
    "\n",
    "import watermark\n",
    "%load_ext watermark\n",
    "\n",
    "%load_ext autoreload\n",
    "%autoreload 2"
   ]
  },
  {
   "cell_type": "code",
   "execution_count": null,
   "id": "cfdcb448",
   "metadata": {
    "ExecuteTime": {
     "end_time": "2024-08-28T18:59:18.674766Z",
     "start_time": "2024-08-28T18:59:18.652573Z"
    }
   },
   "outputs": [],
   "source": [
    "import pickle\n",
    "def save_results(results, filename):\n",
    "    pickle.dump(results, open(filename, 'wb'), protocol=4)"
   ]
  },
  {
   "cell_type": "code",
   "execution_count": null,
   "id": "562741e0",
   "metadata": {
    "ExecuteTime": {
     "end_time": "2024-08-28T18:59:18.709501Z",
     "start_time": "2024-08-28T18:59:18.676727Z"
    }
   },
   "outputs": [],
   "source": [
    "%watermark -t -m -v --iversions"
   ]
  },
  {
   "cell_type": "markdown",
   "id": "d27c823c",
   "metadata": {
    "heading_collapsed": true
   },
   "source": [
    "# Load Data"
   ]
  },
  {
   "cell_type": "code",
   "execution_count": null,
   "id": "fb92794e",
   "metadata": {
    "ExecuteTime": {
     "end_time": "2024-08-28T18:59:20.313310Z",
     "start_time": "2024-08-28T18:59:18.711777Z"
    },
    "hidden": true
   },
   "outputs": [],
   "source": [
    "M_, lod_ = utils.get_data(sheet_name='Cesen_osnova', col_start=7, row_start=17, loc='../../data/raw/DB_UVHVVR.xlsx')\n",
    "\n",
    "# We have pre-determined that we wish to drop all analytes with > 30% below LOD.\n",
    "analytes_to_keep = ((M_[lod_.index] < lod_).sum() / M_.shape[0] ) <= 0.3\n",
    "analytes_to_keep = [a[0] for a in list(analytes_to_keep.items()) if a[1]]\n",
    "\n",
    "X = M_.loc[:,analytes_to_keep]\n",
    "X['label'] = M_['Poreklo']\n",
    "lod = lod_[analytes_to_keep]\n",
    "\n",
    "# Let's also drop all the 'Test SLO'\n",
    "X = X[X['label'] != 'Test SLO']\n",
    "\n",
    "_ = msno.matrix(X, labels=True)"
   ]
  },
  {
   "cell_type": "markdown",
   "id": "3af48443",
   "metadata": {
    "heading_collapsed": true
   },
   "source": [
    "# EDA"
   ]
  },
  {
   "cell_type": "code",
   "execution_count": null,
   "id": "20d27b8e",
   "metadata": {
    "ExecuteTime": {
     "end_time": "2024-08-28T18:59:21.371451Z",
     "start_time": "2024-08-28T18:59:20.316440Z"
    },
    "hidden": true
   },
   "outputs": [],
   "source": [
    "selected_features, abroad_cluster_id_to_feature_ids, fig = InspectData.cluster_collinear(\n",
    "    np.asarray(X[X['label'] != 'Authentic SLO'].drop('label', axis=1).values, dtype=np.float64), \n",
    "    feature_names=X[X['label'] != 'Authentic SLO'].drop('label', axis=1).columns, \n",
    "    figsize=(12,8),\n",
    "    t=0.6\n",
    ")"
   ]
  },
  {
   "cell_type": "code",
   "execution_count": null,
   "id": "3b996f1e",
   "metadata": {
    "ExecuteTime": {
     "end_time": "2024-08-28T18:59:23.096874Z",
     "start_time": "2024-08-28T18:59:21.373399Z"
    },
    "hidden": true
   },
   "outputs": [],
   "source": [
    "selected_features, slo_cluster_id_to_feature_ids, fig = InspectData.cluster_collinear(\n",
    "    np.asarray(X[X['label'] == 'Authentic SLO'].drop('label', axis=1).values, dtype=np.float64), \n",
    "    feature_names=X[X['label'] == 'Authentic SLO'].drop('label', axis=1).columns, \n",
    "    figsize=(10,4),\n",
    "    t=0.6,\n",
    "    highlight=False,\n",
    "    figname='garlic_correlations.png'\n",
    ")"
   ]
  },
  {
   "cell_type": "markdown",
   "id": "fac882fb",
   "metadata": {
    "heading_collapsed": true
   },
   "source": [
    "# Clean"
   ]
  },
  {
   "cell_type": "code",
   "execution_count": null,
   "id": "949fa93f",
   "metadata": {
    "ExecuteTime": {
     "end_time": "2024-08-28T18:59:23.162543Z",
     "start_time": "2024-08-28T18:59:23.104306Z"
    },
    "hidden": true
   },
   "outputs": [],
   "source": [
    "X"
   ]
  },
  {
   "cell_type": "code",
   "execution_count": null,
   "id": "43ea5207",
   "metadata": {
    "ExecuteTime": {
     "end_time": "2024-08-28T18:59:23.251909Z",
     "start_time": "2024-08-28T18:59:23.164099Z"
    },
    "hidden": true
   },
   "outputs": [],
   "source": [
    "# Also consider dataset composed of ln(X/lod)\n",
    "X_ln = X.copy()\n",
    "for te_ in lod.index[4:]:\n",
    "    X_ln[te_] = X_ln[te_].apply(lambda x: np.log(float(x / lod[te_])))\n",
    "    \n",
    "X_auth = X_ln[X_ln['label'] == 'Authentic SLO'].copy()\n",
    "Outlier = utils.flag_outliers(X_auth, lod)\n",
    "\n",
    "X_auth_orig = X[X['label'] == 'Authentic SLO'].copy()\n",
    "X_auth_orig = X_auth_orig[Outlier.drop('label', axis=1).sum(axis=1) < 3]"
   ]
  },
  {
   "cell_type": "code",
   "execution_count": null,
   "id": "9d9a976e",
   "metadata": {
    "ExecuteTime": {
     "end_time": "2024-08-28T18:59:23.311159Z",
     "start_time": "2024-08-28T18:59:23.253401Z"
    },
    "hidden": true
   },
   "outputs": [],
   "source": [
    "X_abroad_orig = X[X['label'] != 'Authentic SLO'].copy()\n",
    "\n",
    "X_tot = pd.concat((X_auth_orig, X_abroad_orig), axis=0)\n",
    "X_tot"
   ]
  },
  {
   "cell_type": "markdown",
   "id": "68a4d0d5",
   "metadata": {
    "heading_collapsed": true
   },
   "source": [
    "# JSD"
   ]
  },
  {
   "cell_type": "code",
   "execution_count": null,
   "id": "d2ad81ce",
   "metadata": {
    "ExecuteTime": {
     "end_time": "2024-08-28T18:59:34.259849Z",
     "start_time": "2024-08-28T18:59:23.312841Z"
    },
    "hidden": true
   },
   "outputs": [],
   "source": [
    "from pychemauth.eda.explore import InspectData\n",
    "\n",
    "InspectData.pairplot(X_tot, vars=['Sr', 'Cd', '34S', 'Na', '18O'], hue=\"label\", diag_kind=\"kde\")"
   ]
  },
  {
   "cell_type": "code",
   "execution_count": null,
   "id": "494c9701",
   "metadata": {
    "ExecuteTime": {
     "end_time": "2024-08-28T18:59:34.291180Z",
     "start_time": "2024-08-28T18:59:34.262086Z"
    },
    "hidden": true
   },
   "outputs": [],
   "source": [
    "def plot_distribution(X, xlabels):\n",
    "    fig, axes = plt.subplots(\n",
    "        nrows=((len(X.columns)-1) // 3) + int(len(X.columns)-1 - ((len(X.columns)-1) // 3) * 3 > 0), \n",
    "        ncols=3, \n",
    "        figsize=(12,5)\n",
    "    )\n",
    "\n",
    "    for i, (site_, ax, label_) in enumerate(zip(X.drop('label', axis=1).columns, axes.ravel(), xlabels)):\n",
    "        sns.histplot(\n",
    "            X,\n",
    "            x=site_,\n",
    "            hue='label',\n",
    "            kde=True,\n",
    "            ax=ax\n",
    "        )\n",
    "        ticks_ = ax.get_xticks()[1:-1]\n",
    "        ax.set_xticks(ticks_, labels=[str('%.0f'%a) for a in ticks_], fontsize=20, rotation=45)\n",
    "        ax.set_xlabel(label_, fontsize=20)\n",
    "        \n",
    "        ticks_ = ax.get_yticks()\n",
    "        ax.set_yticks(ticks_, labels=[str('%.0f'%a) for a in ticks_], fontsize=20, rotation=0)\n",
    "        \n",
    "        if i > 0:\n",
    "            ax.set_ylabel('')\n",
    "        else:\n",
    "            ax.set_ylabel('Count', fontsize=20)\n",
    "            \n",
    "    return axes"
   ]
  },
  {
   "cell_type": "code",
   "execution_count": null,
   "id": "55f55502",
   "metadata": {
    "ExecuteTime": {
     "end_time": "2024-08-28T18:59:37.779240Z",
     "start_time": "2024-08-28T18:59:34.292997Z"
    },
    "hidden": true,
    "scrolled": false
   },
   "outputs": [],
   "source": [
    "axes = plot_distribution(\n",
    "    X_tot[['Sr', 'Na', '18O', 'label']], \n",
    "    xlabels=[r'${\\rm Sr}~(mg/g)$', r'${\\rm Na}~(mg/g)$', r'$\\delta{}^{18}{\\rm O}~({}^{\\circ}/{}_{\\circ\\circ})$']\n",
    ")\n",
    "\n",
    "axes[0].axvline(1.173, color='r') # Tree delimiter determined below\n",
    "axes[1].axvline(50.318, color='r') # Tree delimiter determined below\n",
    "_ = axes[2].axvline(-2.679, color='r') # Tree delimiter determined below\n",
    "\n",
    "for ax in axes:\n",
    "    ax.legend(labels=['Abroad', 'Authentic'], fontsize=18)\n",
    "    \n",
    "plt.savefig(\"fig4b.png\", transparent=None, dpi=600, format=\"png\",\n",
    "        metadata=None, bbox_inches='tight', pad_inches=0.1,\n",
    "        facecolor='auto', edgecolor='auto', backend=None)"
   ]
  },
  {
   "cell_type": "code",
   "execution_count": null,
   "id": "8034ac9a",
   "metadata": {
    "ExecuteTime": {
     "end_time": "2024-08-28T18:59:37.806183Z",
     "start_time": "2024-08-28T18:59:37.781157Z"
    },
    "hidden": true
   },
   "outputs": [],
   "source": [
    "def plot_jsd(X, vline=11):\n",
    "    bins = np.arange(1, 101, 10)\n",
    "\n",
    "    max_value = []\n",
    "    max_site = []\n",
    "\n",
    "    for nbins in bins:\n",
    "        jsb = JSBinary(js_bins=nbins, robust=True)\n",
    "        jsb.fit(X=X.drop('label', axis=1).values, y=X['label'].values)\n",
    "        i, j = jsb._JSBinary__enc_.transform(['Authentic SLO'])[0], jsb._JSBinary__enc_.transform(['Abroad'])[0]\n",
    "        max_value.append(jsb.matrix[i,j])\n",
    "        max_site.append(jsb.top_features(X.drop('label', axis=1).columns)[i,j])\n",
    "        \n",
    "    plt.plot(bins, max_value, '-o')\n",
    "    plt.title('Authentic vs. Abroad', fontsize=22)\n",
    "    plt.ylabel('Max JSD', fontsize=20)\n",
    "    plt.xlabel('Number of Bins', fontsize=20)\n",
    "    plt.axvline(vline, color='k')\n",
    "    plt.xticks(fontsize=18)\n",
    "    plt.yticks(fontsize=18)\n",
    "    \n",
    "    for i in range(1, len(max_site)):\n",
    "        plt.text(bins[i]+0.2, max_value[i]-0.07, max_site[i], fontsize=18)\n",
    "    \n",
    "    return max_site"
   ]
  },
  {
   "cell_type": "code",
   "execution_count": null,
   "id": "035125cc",
   "metadata": {
    "ExecuteTime": {
     "end_time": "2024-08-28T18:59:39.510227Z",
     "start_time": "2024-08-28T18:59:37.808685Z"
    },
    "hidden": true
   },
   "outputs": [],
   "source": [
    "_ = plot_jsd(X_tot, vline=11)\n",
    "\n",
    "plt.savefig(\"fig4a.png\", transparent=None, dpi=600, format=\"png\",\n",
    "        metadata=None, bbox_inches='tight', pad_inches=0.1,\n",
    "        facecolor='auto', edgecolor='auto', backend=None)"
   ]
  },
  {
   "cell_type": "markdown",
   "id": "b19d79f6",
   "metadata": {
    "heading_collapsed": true
   },
   "source": [
    "# Model"
   ]
  },
  {
   "cell_type": "code",
   "execution_count": null,
   "id": "cccdc886",
   "metadata": {
    "ExecuteTime": {
     "end_time": "2024-08-28T18:59:43.465275Z",
     "start_time": "2024-08-28T18:59:43.437549Z"
    },
    "hidden": true
   },
   "outputs": [],
   "source": [
    "# Just to guarantee ordering is consistent\n",
    "SITE = lod.index"
   ]
  },
  {
   "cell_type": "code",
   "execution_count": null,
   "id": "82f5c564",
   "metadata": {
    "ExecuteTime": {
     "end_time": "2024-08-28T18:59:44.034808Z",
     "start_time": "2024-08-28T18:59:43.989057Z"
    },
    "hidden": true
   },
   "outputs": [],
   "source": [
    "def make_gs(pipeline, param_grid):\n",
    "    return GridSearchCV(\n",
    "        estimator=pipeline,\n",
    "        param_grid=param_grid,\n",
    "        n_jobs=-1,\n",
    "        cv=sklearn.model_selection.StratifiedKFold(\n",
    "            n_splits=10, # 10-fold CV for hyperparameter optimization\n",
    "            shuffle=True, \n",
    "            random_state=0\n",
    "        ),\n",
    "        error_score=0,\n",
    "        refit=True\n",
    "    )"
   ]
  },
  {
   "cell_type": "code",
   "execution_count": null,
   "id": "9367f1c6",
   "metadata": {
    "ExecuteTime": {
     "end_time": "2024-08-28T18:59:46.650947Z",
     "start_time": "2024-08-28T18:59:46.584357Z"
    },
    "hidden": true
   },
   "outputs": [],
   "source": [
    "def make_pipe(model, use_feature_selector=True):\n",
    "    steps = [\n",
    "        (\"imputer\", LOD( # Impute < LOD\n",
    "            lod=lod[SITE].values, \n",
    "            missing_values=np.nan, \n",
    "            seed=42,\n",
    "            skip_columns=[0, 1, 2, 3] # Stable isotopes are the first 3 features\n",
    "        ))\n",
    "    ]\n",
    "    \n",
    "    if use_feature_selector:\n",
    "        steps += [\n",
    "            (\"feature_selector\", SelectFromModel( # Must come after LOD_LN imputer\n",
    "                estimator=CollinearFeatureSelector( # We will replace this estimator in the param_grid below\n",
    "                    t=0.9,\n",
    "                    seed=42,\n",
    "                    minimize_label_entropy=False,\n",
    "                ),\n",
    "                threshold=0.5, # 0's are given to features ignored, 1 if they are kept so set the threshold in between\n",
    "                prefit=False,\n",
    "            ))\n",
    "        ]\n",
    "        \n",
    "    steps += [\n",
    "        (\"autoscaler\", CorrectedScaler( # Data is considered \"clean\" so we will not use robust estimates\n",
    "            with_mean=True,\n",
    "            with_std=True\n",
    "        )),\n",
    "        (\"model\", model),\n",
    "    ]    \n",
    "    \n",
    "    pipeline = imblearn.pipeline.Pipeline(steps=steps)\n",
    "    \n",
    "    return pipeline"
   ]
  },
  {
   "cell_type": "markdown",
   "id": "be5166a5",
   "metadata": {
    "heading_collapsed": true,
    "hidden": true
   },
   "source": [
    "## DD-SIMCA Model"
   ]
  },
  {
   "cell_type": "code",
   "execution_count": null,
   "id": "f15135c8",
   "metadata": {
    "ExecuteTime": {
     "end_time": "2024-08-28T18:59:58.734491Z",
     "start_time": "2024-08-28T18:59:58.710347Z"
    },
    "hidden": true
   },
   "outputs": [],
   "source": [
    "# Fit model on entire dataset, but do not use feature selector so that we can see how it chooses to use all of them\n",
    "dds_param_grid = [{\n",
    "    'model__n_components':np.arange(1, 10),\n",
    "    'model__alpha':np.logspace(-5, np.log10(0.5), 20),\n",
    "}]\n",
    "\n",
    "dds_pipeline = make_pipe(\n",
    "    SIMCA_Authenticator(\n",
    "        n_components=1,\n",
    "        alpha=0.05,\n",
    "        scale_x=True,\n",
    "        style='dd-simca',\n",
    "        target_class='Authentic SLO',\n",
    "        use='compliant'\n",
    "    ),\n",
    "    use_feature_selector=False, # Let it see all the features\n",
    ")\n",
    "\n",
    "dds_gs = make_gs(dds_pipeline, dds_param_grid)"
   ]
  },
  {
   "cell_type": "code",
   "execution_count": null,
   "id": "d8993a7f",
   "metadata": {
    "ExecuteTime": {
     "end_time": "2024-08-28T19:00:15.023678Z",
     "start_time": "2024-08-28T18:59:58.857360Z"
    },
    "hidden": true
   },
   "outputs": [],
   "source": [
    "_ = dds_gs.fit(\n",
    "    X_tot[SITE].values,\n",
    "    X_tot['label'].values\n",
    ")"
   ]
  },
  {
   "cell_type": "code",
   "execution_count": null,
   "id": "3748e9b8",
   "metadata": {
    "ExecuteTime": {
     "end_time": "2024-08-28T19:00:15.077273Z",
     "start_time": "2024-08-28T19:00:15.026767Z"
    },
    "hidden": true
   },
   "outputs": [],
   "source": [
    "dds_gs.score(\n",
    "    X_tot[SITE].values,\n",
    "    X_tot['label'].values\n",
    ")"
   ]
  },
  {
   "cell_type": "code",
   "execution_count": null,
   "id": "d09eeef5",
   "metadata": {
    "ExecuteTime": {
     "end_time": "2024-08-28T19:00:15.104384Z",
     "start_time": "2024-08-28T19:00:15.079057Z"
    },
    "hidden": true
   },
   "outputs": [],
   "source": [
    "dds_gs.best_params_"
   ]
  },
  {
   "cell_type": "code",
   "execution_count": null,
   "id": "9bf04361",
   "metadata": {
    "ExecuteTime": {
     "end_time": "2024-08-28T19:00:33.351826Z",
     "start_time": "2024-08-28T19:00:31.848736Z"
    },
    "hidden": true
   },
   "outputs": [],
   "source": [
    "ax = dds_gs.best_estimator_.named_steps['model'].model.plot_loadings(\n",
    "    list(SITE),\n",
    "    fontsize=18,\n",
    "    feature_offset=(0.0, 0.01)\n",
    ")\n",
    "\n",
    "expl_ = dds_gs.best_estimator_.named_steps['model'].model._DDSIMCA_Model__pca_.explained_variance_ratio_\n",
    "ax.set_xlabel(f'PC 1 ({\"%.4f\"%(expl_[0]*100)}%)', fontsize=20)\n",
    "ax.set_ylabel(f'PC 2 ({\"%.4f\"%(expl_[1]*100)}%)', fontsize=20)\n",
    "ticks_ = [-0.2, -0.1, 0.0, 0.1, 0.2, 0.3, 0.4]\n",
    "ax.set_xticks(ticks_, [str(a) for a in ticks_], fontsize=18)\n",
    "ticks_ = [-0.4, -0.3, -0.2, -0.1, 0.0, 0.1, 0.2, 0.3, 0.4]\n",
    "_ = ax.set_yticks(ticks_, [str(a) for a in ticks_], fontsize=18)\n",
    "\n",
    "plt.savefig(\"fig4f_2.png\", transparent=None, dpi=600, format=\"png\",\n",
    "        metadata=None, bbox_inches='tight', pad_inches=0.1,\n",
    "        facecolor='auto', edgecolor='auto', backend=None)"
   ]
  },
  {
   "cell_type": "code",
   "execution_count": null,
   "id": "c55e1cca",
   "metadata": {
    "ExecuteTime": {
     "end_time": "2024-08-28T19:00:56.227405Z",
     "start_time": "2024-08-28T19:00:54.612308Z"
    },
    "hidden": true
   },
   "outputs": [],
   "source": [
    "preprocessing = imblearn.pipeline.Pipeline(\n",
    "    steps = dds_gs.best_estimator_.steps[:-1]\n",
    ")\n",
    "\n",
    "ax = dds_gs.best_estimator_.named_steps['model'].model.visualize(\n",
    "    X=preprocessing.transform(X_tot[SITE].values), \n",
    "    y=X_tot['label'].values,\n",
    "    outlier_curve=False\n",
    ")\n",
    "ax.set_xlabel('${\\\\rm ln(1 + h/h_0)}$', fontsize=20)\n",
    "ax.set_ylabel('${\\\\rm ln(1 + q/q_0)}$', fontsize=20)\n",
    "ticks_ = [0, 0.5, 1.0, 1.5, 2.0, 2.5, 3.0, 3.5, 4.0]\n",
    "ax.set_xticks(ticks_, [str(a) for a in ticks_], fontsize=18)\n",
    "ticks_ = [0.0, 1.0, 2.0, 3.0, 4.0, 5.0]\n",
    "ax.set_yticks(ticks_, [str(a) for a in ticks_], fontsize=18)\n",
    "\n",
    "_ = ax.legend(labels=['Threshold', 'Abroad = Inlier (9)', 'Abroad = Outlier (44)', 'Authentic = Inlier (72)', 'Authentic = Outlier (1)'], fontsize=16)\n",
    "\n",
    "plt.savefig(\"fig4f_1.png\", transparent=None, dpi=600, format=\"png\",\n",
    "        metadata=None, bbox_inches='tight', pad_inches=0.1,\n",
    "        facecolor='auto', edgecolor='auto', backend=None)"
   ]
  },
  {
   "cell_type": "markdown",
   "id": "db76f790",
   "metadata": {
    "heading_collapsed": true,
    "hidden": true
   },
   "source": [
    "## RF OSR"
   ]
  },
  {
   "cell_type": "code",
   "execution_count": null,
   "id": "887e004e",
   "metadata": {
    "ExecuteTime": {
     "end_time": "2024-08-28T19:01:18.273474Z",
     "start_time": "2024-08-28T19:01:18.231825Z"
    },
    "hidden": true
   },
   "outputs": [],
   "source": [
    "# Fit model on entire dataset, but do not use feature selector so that we can see how it chooses to use all of them\n",
    "osr_param_grid = [{\n",
    "    'model__clf_kwargs':[{'n_estimators':n, 'random_state':42, 'class_weight':'balanced', 'oob_score':True, 'max_features':None} for n in [20, 50, 100, 150, 200]],\n",
    "    'model__outlier_kwargs':[\n",
    "        {'n_estimators': n, \n",
    "         'max_samples': 'auto', \n",
    "         'contamination': c,\n",
    "         'max_features': 1.0, \n",
    "         'bootstrap':True,\n",
    "         'n_jobs':-1, \n",
    "         'random_state':42} for n in [10, 20, 50, 100] for c in [0.001, 0.01, 0.1, 0.5]\n",
    "    ],\n",
    "}]\n",
    "\n",
    "osr_pipeline = make_pipe(\n",
    "    osr.OpenSetClassifier(\n",
    "        clf_model=RandomForestClassifier,\n",
    "        outlier_model=IsolationForest,\n",
    "        clf_kwargs={},\n",
    "        outlier_kwargs={},\n",
    "        known_classes=['Authentic SLO', 'Abroad'],\n",
    "        inlier_value=1,\n",
    "        unknown_class='Unknown',\n",
    "        score_metric='TEFF',\n",
    "        clf_style='hard',\n",
    "        score_using=\"Authentic SLO\"\n",
    "    ),\n",
    "    use_feature_selector=False\n",
    ")\n",
    "\n",
    "osr_gs = make_gs(osr_pipeline, osr_param_grid)"
   ]
  },
  {
   "cell_type": "code",
   "execution_count": null,
   "id": "6871f47a",
   "metadata": {
    "ExecuteTime": {
     "end_time": "2024-08-28T19:01:38.026341Z",
     "start_time": "2024-08-28T19:01:19.051175Z"
    },
    "hidden": true
   },
   "outputs": [],
   "source": [
    "_ = osr_gs.fit(\n",
    "    X_tot[SITE].values,\n",
    "    X_tot['label'].values\n",
    ")"
   ]
  },
  {
   "cell_type": "code",
   "execution_count": null,
   "id": "3fff6a54",
   "metadata": {
    "ExecuteTime": {
     "end_time": "2024-08-28T19:01:38.101130Z",
     "start_time": "2024-08-28T19:01:38.033265Z"
    },
    "hidden": true
   },
   "outputs": [],
   "source": [
    "osr_gs.best_score_"
   ]
  },
  {
   "cell_type": "code",
   "execution_count": null,
   "id": "f327c288",
   "metadata": {
    "ExecuteTime": {
     "end_time": "2024-08-28T19:03:15.269080Z",
     "start_time": "2024-08-28T19:03:15.210467Z"
    },
    "hidden": true
   },
   "outputs": [],
   "source": [
    "osr_gs.best_params_"
   ]
  },
  {
   "cell_type": "code",
   "execution_count": null,
   "id": "a252a82a",
   "metadata": {
    "ExecuteTime": {
     "end_time": "2024-08-28T19:03:19.663098Z",
     "start_time": "2024-08-28T19:03:19.543848Z"
    },
    "hidden": true
   },
   "outputs": [],
   "source": [
    "fom = osr_gs.best_estimator_.named_steps['model'].figures_of_merit(\n",
    "    osr_gs.best_estimator_.predict(X_tot[SITE].values),\n",
    "    X_tot['label'].values\n",
    ")"
   ]
  },
  {
   "cell_type": "code",
   "execution_count": null,
   "id": "22e282c0",
   "metadata": {
    "ExecuteTime": {
     "end_time": "2024-08-28T19:03:19.921941Z",
     "start_time": "2024-08-28T19:03:19.859871Z"
    },
    "hidden": true
   },
   "outputs": [],
   "source": [
    "df_ = fom['CM'].copy()"
   ]
  },
  {
   "cell_type": "code",
   "execution_count": null,
   "id": "b8c8900e",
   "metadata": {
    "ExecuteTime": {
     "end_time": "2024-08-28T19:03:20.710312Z",
     "start_time": "2024-08-28T19:03:20.649843Z"
    },
    "hidden": true
   },
   "outputs": [],
   "source": [
    "df2_ = df_.rename({'Unknown':'OOD = Abroad', 'Authentic SLO':'Authentic'}, axis=1).rename({'Authentic SLO':'Authentic'}, axis=0)"
   ]
  },
  {
   "cell_type": "code",
   "execution_count": null,
   "id": "4cff6644",
   "metadata": {
    "ExecuteTime": {
     "end_time": "2024-08-28T19:03:21.240068Z",
     "start_time": "2024-08-28T19:03:21.210820Z"
    },
    "hidden": true
   },
   "outputs": [],
   "source": [
    "df2_"
   ]
  },
  {
   "cell_type": "code",
   "execution_count": null,
   "id": "f6645d23",
   "metadata": {
    "ExecuteTime": {
     "end_time": "2024-08-28T19:03:24.687696Z",
     "start_time": "2024-08-28T19:03:24.653448Z"
    },
    "hidden": true
   },
   "outputs": [],
   "source": [
    "pd.DataFrame(data=[[52+1, 0], [1, 72]], columns=['Abroad','Authentic']).rename({0:'Abroad', 1:'Authentic'}, axis=0)"
   ]
  },
  {
   "cell_type": "code",
   "execution_count": null,
   "id": "0a838a98",
   "metadata": {
    "ExecuteTime": {
     "end_time": "2024-08-28T19:03:24.848110Z",
     "start_time": "2024-08-28T19:03:24.790972Z"
    },
    "hidden": true
   },
   "outputs": [],
   "source": [
    "fom['I']"
   ]
  },
  {
   "cell_type": "code",
   "execution_count": null,
   "id": "6a806f53",
   "metadata": {
    "ExecuteTime": {
     "end_time": "2024-08-28T19:03:25.274473Z",
     "start_time": "2024-08-28T19:03:25.221654Z"
    },
    "hidden": true
   },
   "outputs": [],
   "source": [
    "fom['TSNS'], fom['TSPS'], fom['TEFF']"
   ]
  },
  {
   "cell_type": "code",
   "execution_count": null,
   "id": "b4fddc18",
   "metadata": {
    "ExecuteTime": {
     "end_time": "2024-08-28T19:03:33.628420Z",
     "start_time": "2024-08-28T19:03:33.565215Z"
    },
    "hidden": true
   },
   "outputs": [],
   "source": [
    "osr_gs.best_estimator_.named_steps['model'].clf_.oob_score_"
   ]
  },
  {
   "cell_type": "code",
   "execution_count": null,
   "id": "7750e67c",
   "metadata": {
    "ExecuteTime": {
     "end_time": "2024-08-28T19:03:35.851979Z",
     "start_time": "2024-08-28T19:03:35.790635Z"
    },
    "hidden": true
   },
   "outputs": [],
   "source": [
    "osr_gs.best_estimator_.named_steps['model'].clf_"
   ]
  },
  {
   "cell_type": "code",
   "execution_count": null,
   "id": "ef7fc866",
   "metadata": {
    "ExecuteTime": {
     "end_time": "2024-08-28T19:03:40.946419Z",
     "start_time": "2024-08-28T19:03:40.882987Z"
    },
    "hidden": true,
    "scrolled": true
   },
   "outputs": [],
   "source": [
    "# Sr is at the top by a large margin\n",
    "sorted(zip(SITE, osr_gs.best_estimator_.named_steps['model'].clf_.feature_importances_), key=lambda x: np.abs(x[1]), reverse=True)"
   ]
  },
  {
   "cell_type": "code",
   "execution_count": null,
   "id": "320b3892",
   "metadata": {
    "ExecuteTime": {
     "end_time": "2024-08-28T19:04:11.321308Z",
     "start_time": "2024-08-28T19:03:49.560664Z"
    },
    "hidden": true
   },
   "outputs": [],
   "source": [
    "res = permutation_importance(\n",
    "    osr_gs, \n",
    "    X_tot[SITE].values,\n",
    "    X_tot['label'].values,\n",
    "    n_repeats=20,\n",
    "    random_state=42\n",
    ")"
   ]
  },
  {
   "cell_type": "code",
   "execution_count": null,
   "id": "e4b5811c",
   "metadata": {
    "ExecuteTime": {
     "end_time": "2024-08-28T19:04:11.352515Z",
     "start_time": "2024-08-28T19:04:11.324200Z"
    },
    "hidden": true
   },
   "outputs": [],
   "source": [
    "sort_ = sorted(zip(SITE, res['importances_mean'], res['importances_std']), key=lambda x:np.abs(x[1]), reverse=True)\n",
    "sort_"
   ]
  },
  {
   "cell_type": "code",
   "execution_count": null,
   "id": "f85f5be5",
   "metadata": {
    "ExecuteTime": {
     "end_time": "2024-08-28T19:04:12.209689Z",
     "start_time": "2024-08-28T19:04:11.354165Z"
    },
    "hidden": true,
    "scrolled": false
   },
   "outputs": [],
   "source": [
    "fig, ax = plt.subplots(nrows=1, ncols=1, figsize=(3,5))\n",
    "ax.plot(\n",
    "    np.arange(6),\n",
    "    [np.abs(a[1]) for a in sort_[:6]]\n",
    ")\n",
    "_ = plt.xticks(np.arange(6), [a[0] for a in sort_[:5]] + ['...'], fontsize=18)\n",
    "plt.yticks(fontsize=18)\n",
    "plt.axhline(0, color='k')\n",
    "plt.xlabel('SITE Feature', fontsize=20)\n",
    "plt.ylabel('PFI', fontsize=20)\n",
    "plt.title('RF OSR (TEFF)', fontsize=22)\n",
    "\n",
    "plt.savefig(\"fig4d_1.png\", transparent=None, dpi=600, format=\"png\",\n",
    "        metadata=None, bbox_inches='tight', pad_inches=0.1,\n",
    "        facecolor='auto', edgecolor='auto', backend=None)"
   ]
  },
  {
   "cell_type": "markdown",
   "id": "2674f61e",
   "metadata": {
    "ExecuteTime": {
     "end_time": "2023-12-11T20:18:12.439916Z",
     "start_time": "2023-12-11T20:18:12.393444Z"
    },
    "heading_collapsed": true,
    "hidden": true
   },
   "source": [
    "## RF"
   ]
  },
  {
   "cell_type": "code",
   "execution_count": null,
   "id": "3f1650e4",
   "metadata": {
    "ExecuteTime": {
     "end_time": "2024-08-28T19:13:09.229311Z",
     "start_time": "2024-08-28T19:13:09.159963Z"
    },
    "hidden": true
   },
   "outputs": [],
   "source": [
    "# Fit model on entire dataset, include feature selector to mimic dial below\n",
    "rf_param_grid = [{\n",
    "    'model__n_estimators':[50, 100, 150, 200],\n",
    "    'model__max_features':['sqrt', None],\n",
    "    'feature_selector__estimator': [\n",
    "        CollinearFeatureSelector(t=0.0, seed=42, minimize_label_entropy=False),\n",
    "        CollinearFeatureSelector(t=0.2, seed=42, minimize_label_entropy=False),\n",
    "        CollinearFeatureSelector(t=0.4, seed=42, minimize_label_entropy=False),\n",
    "        CollinearFeatureSelector(t=0.6, seed=42, minimize_label_entropy=False),\n",
    "        CollinearFeatureSelector(t=0.8, seed=42, minimize_label_entropy=False),\n",
    "        CollinearFeatureSelector(t=1.0, seed=42, minimize_label_entropy=False),\n",
    "    ]\n",
    "}]\n",
    "\n",
    "rf_pipeline = make_pipe(\n",
    "    RandomForestClassifier(\n",
    "        n_estimators=100, \n",
    "        random_state=42, \n",
    "        oob_score=True, \n",
    "        class_weight='balanced',\n",
    "        max_features=None\n",
    "    ),\n",
    ")\n",
    "\n",
    "rf_gs = make_gs(rf_pipeline, rf_param_grid)"
   ]
  },
  {
   "cell_type": "code",
   "execution_count": null,
   "id": "b41d8b21",
   "metadata": {
    "ExecuteTime": {
     "end_time": "2024-08-28T19:13:18.440860Z",
     "start_time": "2024-08-28T19:13:09.312253Z"
    },
    "hidden": true
   },
   "outputs": [],
   "source": [
    "_ = rf_gs.fit(\n",
    "    X_tot[SITE].values,\n",
    "    X_tot['label'].values\n",
    ")"
   ]
  },
  {
   "cell_type": "code",
   "execution_count": null,
   "id": "b5a801ab",
   "metadata": {
    "ExecuteTime": {
     "end_time": "2024-08-28T19:13:18.499978Z",
     "start_time": "2024-08-28T19:13:18.444603Z"
    },
    "hidden": true
   },
   "outputs": [],
   "source": [
    "rf_gs.score(\n",
    "    X_tot[SITE].values,\n",
    "    X_tot['label'].values\n",
    ")"
   ]
  },
  {
   "cell_type": "code",
   "execution_count": null,
   "id": "1c6197ce",
   "metadata": {
    "ExecuteTime": {
     "end_time": "2024-08-28T19:13:18.526572Z",
     "start_time": "2024-08-28T19:13:18.502153Z"
    },
    "hidden": true
   },
   "outputs": [],
   "source": [
    "rf_gs.best_params_"
   ]
  },
  {
   "cell_type": "code",
   "execution_count": null,
   "id": "33ad50b2",
   "metadata": {
    "ExecuteTime": {
     "end_time": "2024-08-28T19:13:18.633602Z",
     "start_time": "2024-08-28T19:13:18.528899Z"
    },
    "hidden": true
   },
   "outputs": [],
   "source": [
    "# Choose to include everything - equivalent to not using feature selector at all\n",
    "rf_gs.best_estimator_.named_steps['feature_selector'].get_support()"
   ]
  },
  {
   "cell_type": "code",
   "execution_count": null,
   "id": "c8bdd143",
   "metadata": {
    "ExecuteTime": {
     "end_time": "2024-08-28T19:13:18.780215Z",
     "start_time": "2024-08-28T19:13:18.640168Z"
    },
    "hidden": true
   },
   "outputs": [],
   "source": [
    "sorted(zip(SITE, rf_gs.best_estimator_.named_steps['model'].feature_importances_), key=lambda x: np.abs(x[1]), reverse=True)"
   ]
  },
  {
   "cell_type": "code",
   "execution_count": null,
   "id": "91183b03",
   "metadata": {
    "ExecuteTime": {
     "end_time": "2024-08-28T19:13:58.249065Z",
     "start_time": "2024-08-28T19:13:18.783718Z"
    },
    "hidden": true
   },
   "outputs": [],
   "source": [
    "res = permutation_importance(\n",
    "    rf_gs, \n",
    "    X_tot[SITE].values,\n",
    "    X_tot['label'].values,\n",
    "    n_repeats=50,\n",
    "    random_state=42\n",
    ")"
   ]
  },
  {
   "cell_type": "code",
   "execution_count": null,
   "id": "0f2c37d4",
   "metadata": {
    "ExecuteTime": {
     "end_time": "2024-08-28T19:13:58.325649Z",
     "start_time": "2024-08-28T19:13:58.254178Z"
    },
    "hidden": true
   },
   "outputs": [],
   "source": [
    "sort_ = sorted(zip(SITE, res['importances_mean'], res['importances_std']), key=lambda x:np.abs(x[1]), reverse=True)\n",
    "sort_"
   ]
  },
  {
   "cell_type": "code",
   "execution_count": null,
   "id": "f00adbae",
   "metadata": {
    "ExecuteTime": {
     "end_time": "2024-08-28T19:13:58.707455Z",
     "start_time": "2024-08-28T19:13:58.331462Z"
    },
    "hidden": true
   },
   "outputs": [],
   "source": [
    "fig, ax = plt.subplots(nrows=1, ncols=1, figsize=(3,5))\n",
    "ax.plot(\n",
    "    np.arange(6),\n",
    "    [np.abs(a[1]) for a in sort_[:6]]\n",
    ")\n",
    "_ = plt.xticks(np.arange(6), [a[0] for a in sort_[:5]] + ['...'], fontsize=12)\n",
    "plt.yticks(fontsize=12)\n",
    "plt.axhline(0, color='k')\n",
    "plt.xlabel('SITE Feature', fontsize=14)\n",
    "plt.ylabel('PFI', fontsize=14)\n",
    "plt.title('Random Forest', fontsize=16)"
   ]
  },
  {
   "cell_type": "markdown",
   "id": "00624ca6",
   "metadata": {
    "heading_collapsed": true,
    "hidden": true
   },
   "source": [
    "## Decision Tree Stump"
   ]
  },
  {
   "cell_type": "code",
   "execution_count": null,
   "id": "e66774ca",
   "metadata": {
    "ExecuteTime": {
     "end_time": "2024-08-28T19:14:25.815429Z",
     "start_time": "2024-08-28T19:14:25.790540Z"
    },
    "hidden": true
   },
   "outputs": [],
   "source": [
    "# Fit model on entire dataset, but do not use feature selector so that we can see how it chooses to use all of them\n",
    "dt_param_grid = [{\n",
    "    'model__max_depth':[1], # Force a stump\n",
    "}]\n",
    "\n",
    "dt_pipeline = make_pipe(\n",
    "    DecisionTreeClassifier(\n",
    "        max_depth=1,\n",
    "        random_state=42,\n",
    "        class_weight='balanced'\n",
    "    ),\n",
    "    use_feature_selector=False, # Let it see all the features\n",
    ")\n",
    "\n",
    "dt_gs = make_gs(dt_pipeline, dt_param_grid)"
   ]
  },
  {
   "cell_type": "code",
   "execution_count": null,
   "id": "95ba8dd4",
   "metadata": {
    "ExecuteTime": {
     "end_time": "2024-08-28T19:14:26.668476Z",
     "start_time": "2024-08-28T19:14:26.507498Z"
    },
    "hidden": true
   },
   "outputs": [],
   "source": [
    "_ = dt_gs.fit(\n",
    "    X_tot[SITE].values,\n",
    "    X_tot['label'].values\n",
    ")"
   ]
  },
  {
   "cell_type": "code",
   "execution_count": null,
   "id": "fa4c0145",
   "metadata": {
    "ExecuteTime": {
     "end_time": "2024-08-28T19:14:26.817209Z",
     "start_time": "2024-08-28T19:14:26.741412Z"
    },
    "hidden": true
   },
   "outputs": [],
   "source": [
    "dt_gs.score(\n",
    "    X_tot[SITE].values,\n",
    "    X_tot['label'].values\n",
    ")"
   ]
  },
  {
   "cell_type": "code",
   "execution_count": null,
   "id": "a2801641",
   "metadata": {
    "ExecuteTime": {
     "end_time": "2024-08-28T19:14:27.843431Z",
     "start_time": "2024-08-28T19:14:27.792570Z"
    },
    "hidden": true
   },
   "outputs": [],
   "source": [
    "dt_gs"
   ]
  },
  {
   "cell_type": "code",
   "execution_count": null,
   "id": "61a0f9f9",
   "metadata": {
    "ExecuteTime": {
     "end_time": "2024-08-28T19:14:31.218410Z",
     "start_time": "2024-08-28T19:14:31.036274Z"
    },
    "hidden": true
   },
   "outputs": [],
   "source": [
    "from sklearn.tree import plot_tree\n",
    "\n",
    "fig = plt.figure(figsize=(8,4))\n",
    "artists = plot_tree(\n",
    "    dt_gs.best_estimator_.named_steps['model'],\n",
    "    feature_names=list(SITE),\n",
    "    class_names=dt_gs.best_estimator_.classes_.tolist(),\n",
    "    label='root',\n",
    "    filled=True,\n",
    "    proportion=False,\n",
    "    impurity=False,\n",
    "    ax=fig.gca(),\n",
    "    fontsize=22,\n",
    "    rounded=True,\n",
    "    precision=3,\n",
    ")\n",
    "plt.tight_layout()\n",
    "\n",
    "# De-scale units\n",
    "d = {a[0]: (a[1], a[2]) for a in list(zip(SITE, dt_gs.best_estimator_.named_steps['autoscaler']._CorrectedScaler__mean_, dt_gs.best_estimator_.named_steps['autoscaler']._CorrectedScaler__std_))}\n",
    "\n",
    "artists[0].set_text('Sr <= {}\\nsamples = 126'.format('%.3f'%(-0.382*d['Sr'][1]+d['Sr'][0])))\n",
    "artists[1].set_text('70\\nAuthentic')\n",
    "artists[2].set_text('56\\nAbroad')"
   ]
  },
  {
   "cell_type": "code",
   "execution_count": null,
   "id": "17b7a7be",
   "metadata": {
    "ExecuteTime": {
     "end_time": "2024-08-28T19:14:37.093404Z",
     "start_time": "2024-08-28T19:14:37.030543Z"
    },
    "hidden": true
   },
   "outputs": [],
   "source": [
    "def train_stump(site='Na'):\n",
    "    idx = np.where(SITE == site)[0][0]\n",
    "    \n",
    "    steps = []\n",
    "    \n",
    "    if idx >= 4:\n",
    "        # Only impute for trace elements\n",
    "        steps += [(\"imputer\", LOD( # Impute < LOD\n",
    "            lod=[lod[site]], \n",
    "            missing_values=np.nan, \n",
    "            seed=42,\n",
    "        ))]\n",
    "        \n",
    "    steps += [(\"model\", DecisionTreeClassifier(\n",
    "        max_depth=1,\n",
    "        random_state=42,\n",
    "        class_weight='balanced'\n",
    "    ))]\n",
    "    \n",
    "    pipeline = imblearn.pipeline.Pipeline(steps=steps)\n",
    "    \n",
    "    _ = pipeline.fit(\n",
    "        X_tot[site].values.reshape(-1,1), \n",
    "        X_tot['label'].values\n",
    "    )\n",
    "    \n",
    "    fig = plt.figure(figsize=(6,4))\n",
    "    artists = plot_tree(\n",
    "        pipeline.named_steps['model'],\n",
    "        feature_names=[site],\n",
    "        class_names=pipeline.named_steps['model'].classes_.tolist(),\n",
    "        label='root',\n",
    "        filled=True,\n",
    "        proportion=False,\n",
    "        impurity=False,\n",
    "        ax=fig.gca(),\n",
    "        fontsize=22,\n",
    "        rounded=True,\n",
    "        precision=3,\n",
    "    )\n",
    "    plt.tight_layout()\n",
    "    \n",
    "    def fix_naming(string):\n",
    "        s = string.split('\\n')\n",
    "        if len(s) == 4:\n",
    "            s = [s[0], s[1]]\n",
    "        else:\n",
    "            s = [s[0], s[2]]\n",
    "\n",
    "        if 'Authentic SLO' == s[-1]:\n",
    "            s[-1] = 'Authentic'\n",
    "        return s\n",
    "    \n",
    "    for a in artists:\n",
    "        a.set_text('\\n'.join(fix_naming(a.get_text())))\n",
    "    \n",
    "    return pipeline, pipeline.score(X_tot[site].values.reshape(-1,1),  X_tot['label'].values)"
   ]
  },
  {
   "cell_type": "code",
   "execution_count": null,
   "id": "66d1c83a",
   "metadata": {
    "ExecuteTime": {
     "end_time": "2024-08-28T19:14:40.424061Z",
     "start_time": "2024-08-28T19:14:39.040638Z"
    },
    "hidden": true
   },
   "outputs": [],
   "source": [
    "p_, score_ = train_stump('Sr')\n",
    "plt.savefig(\"fig4e_1.png\", transparent=None, dpi=600, format=\"png\",\n",
    "        metadata=None, bbox_inches='tight', pad_inches=0.1,\n",
    "        facecolor='auto', edgecolor='auto', backend=None)\n",
    "score_"
   ]
  },
  {
   "cell_type": "code",
   "execution_count": null,
   "id": "d3c590a0",
   "metadata": {
    "ExecuteTime": {
     "end_time": "2024-08-28T19:14:43.923097Z",
     "start_time": "2024-08-28T19:14:42.889769Z"
    },
    "hidden": true
   },
   "outputs": [],
   "source": [
    "p_, score_ = train_stump('Na')\n",
    "plt.savefig(\"fig4e_2.png\", transparent=None, dpi=600, format=\"png\",\n",
    "        metadata=None, bbox_inches='tight', pad_inches=0.1,\n",
    "        facecolor='auto', edgecolor='auto', backend=None)\n",
    "score_"
   ]
  },
  {
   "cell_type": "code",
   "execution_count": null,
   "id": "df6542fb",
   "metadata": {
    "ExecuteTime": {
     "end_time": "2024-08-28T19:14:48.502592Z",
     "start_time": "2024-08-28T19:14:48.200647Z"
    },
    "hidden": true
   },
   "outputs": [],
   "source": [
    "p_, score_ = train_stump('18O')\n",
    "score_"
   ]
  },
  {
   "cell_type": "markdown",
   "id": "4ffdfa11",
   "metadata": {
    "heading_collapsed": true,
    "hidden": true
   },
   "source": [
    "## Comparison"
   ]
  },
  {
   "cell_type": "code",
   "execution_count": null,
   "id": "5a8fdbce",
   "metadata": {
    "ExecuteTime": {
     "end_time": "2024-08-20T12:47:26.905684Z",
     "start_time": "2024-08-20T12:47:26.855973Z"
    },
    "hidden": true
   },
   "outputs": [],
   "source": [
    "# RF\n",
    "\n",
    "rf_param_grid = [{\n",
    "    'model__n_estimators':[50, 100, 150, 200],\n",
    "    'model__max_features':['sqrt', None],\n",
    "    'feature_selector__estimator': [\n",
    "        CollinearFeatureSelector(t=0.0, seed=42, minimize_label_entropy=False),\n",
    "        CollinearFeatureSelector(t=0.2, seed=42, minimize_label_entropy=False),\n",
    "        CollinearFeatureSelector(t=0.4, seed=42, minimize_label_entropy=False),\n",
    "        CollinearFeatureSelector(t=0.6, seed=42, minimize_label_entropy=False),\n",
    "        CollinearFeatureSelector(t=0.8, seed=42, minimize_label_entropy=False),\n",
    "        CollinearFeatureSelector(t=1.0, seed=42, minimize_label_entropy=False),\n",
    "    ]\n",
    "}]\n",
    "\n",
    "rf_pipeline = make_pipe(\n",
    "    RandomForestClassifier(\n",
    "        n_estimators=100, \n",
    "        random_state=42, \n",
    "        oob_score=True, \n",
    "        class_weight='balanced',\n",
    "        max_features=None\n",
    "    ),\n",
    ")\n",
    "\n",
    "rf_gs = make_gs(rf_pipeline, rf_param_grid)"
   ]
  },
  {
   "cell_type": "code",
   "execution_count": null,
   "id": "c9f67f57",
   "metadata": {
    "ExecuteTime": {
     "end_time": "2024-08-20T12:47:27.080372Z",
     "start_time": "2024-08-20T12:47:27.032306Z"
    },
    "hidden": true
   },
   "outputs": [],
   "source": [
    "# DD-SIMCA\n",
    "\n",
    "dds_param_grid = [{\n",
    "    'model__n_components':np.arange(1, 10),\n",
    "    'model__alpha':np.logspace(-5, np.log10(0.5), 10),\n",
    "    'feature_selector__estimator': [\n",
    "        CollinearFeatureSelector(t=0.0, seed=42, minimize_label_entropy=False),\n",
    "        CollinearFeatureSelector(t=0.2, seed=42, minimize_label_entropy=False),\n",
    "        CollinearFeatureSelector(t=0.4, seed=42, minimize_label_entropy=False),\n",
    "        CollinearFeatureSelector(t=0.6, seed=42, minimize_label_entropy=False),\n",
    "        CollinearFeatureSelector(t=0.8, seed=42, minimize_label_entropy=False),\n",
    "        CollinearFeatureSelector(t=1.0, seed=42, minimize_label_entropy=False),\n",
    "    ]\n",
    "}]\n",
    "\n",
    "dds_pipeline = make_pipe(\n",
    "    SIMCA_Authenticator(\n",
    "        n_components=1,\n",
    "        alpha=0.05,\n",
    "        scale_x=True,\n",
    "        style='dd-simca',\n",
    "        target_class='Authentic SLO',\n",
    "        use='compliant'\n",
    "    ),\n",
    ")\n",
    "\n",
    "dds_gs = make_gs(dds_pipeline, dds_param_grid)"
   ]
  },
  {
   "cell_type": "code",
   "execution_count": null,
   "id": "c3a79f1f",
   "metadata": {
    "ExecuteTime": {
     "end_time": "2024-08-20T12:48:48.966358Z",
     "start_time": "2024-08-20T12:48:48.911851Z"
    },
    "hidden": true
   },
   "outputs": [],
   "source": [
    "# DD-SIMCA - accuracy\n",
    "\n",
    "ddsacc_param_grid = [{\n",
    "    'model__n_components':np.arange(1, 10),\n",
    "    'model__alpha':np.logspace(-5, np.log10(0.5), 10),\n",
    "    'feature_selector__estimator': [\n",
    "        CollinearFeatureSelector(t=0.0, seed=42, minimize_label_entropy=False),\n",
    "        CollinearFeatureSelector(t=0.2, seed=42, minimize_label_entropy=False),\n",
    "        CollinearFeatureSelector(t=0.4, seed=42, minimize_label_entropy=False),\n",
    "        CollinearFeatureSelector(t=0.6, seed=42, minimize_label_entropy=False),\n",
    "        CollinearFeatureSelector(t=0.8, seed=42, minimize_label_entropy=False),\n",
    "        CollinearFeatureSelector(t=1.0, seed=42, minimize_label_entropy=False),\n",
    "    ]\n",
    "}]\n",
    "\n",
    "ddsacc_pipeline = make_pipe(\n",
    "    SIMCA_Authenticator(\n",
    "        n_components=1,\n",
    "        alpha=0.05,\n",
    "        scale_x=True,\n",
    "        style='dd-simca',\n",
    "        target_class='Authentic SLO',\n",
    "        use='acc'\n",
    "    ),\n",
    ")\n",
    "\n",
    "ddsacc_gs = make_gs(ddsacc_pipeline, ddsacc_param_grid)"
   ]
  },
  {
   "cell_type": "code",
   "execution_count": null,
   "id": "0383c7e6",
   "metadata": {
    "ExecuteTime": {
     "end_time": "2024-08-20T12:48:52.229703Z",
     "start_time": "2024-08-20T12:48:52.178060Z"
    },
    "hidden": true
   },
   "outputs": [],
   "source": [
    "# UNEQ\n",
    "\n",
    "uneq_param_grid = [{\n",
    "    'model__alpha':np.logspace(-5, np.log10(0.5), 10),\n",
    "    'feature_selector__estimator': [\n",
    "        CollinearFeatureSelector(t=0.0, seed=42, minimize_label_entropy=False),\n",
    "        CollinearFeatureSelector(t=0.2, seed=42, minimize_label_entropy=False),\n",
    "        CollinearFeatureSelector(t=0.4, seed=42, minimize_label_entropy=False),\n",
    "        CollinearFeatureSelector(t=0.6, seed=42, minimize_label_entropy=False),\n",
    "        CollinearFeatureSelector(t=0.8, seed=42, minimize_label_entropy=False),\n",
    "        CollinearFeatureSelector(t=1.0, seed=42, minimize_label_entropy=False),\n",
    "    ]\n",
    "}]\n",
    "\n",
    "uneq_pipeline = make_pipe(\n",
    "    EllipticManifold_Authenticator(\n",
    "        alpha=0.05,\n",
    "        robust=True, \n",
    "        center='score',\n",
    "        target_class='Authentic SLO',\n",
    "        use='compliant'\n",
    "    ),\n",
    ")\n",
    "\n",
    "uneq_gs = make_gs(uneq_pipeline, uneq_param_grid)"
   ]
  },
  {
   "cell_type": "code",
   "execution_count": null,
   "id": "3ed4df8f",
   "metadata": {
    "ExecuteTime": {
     "end_time": "2024-08-20T12:49:38.593698Z",
     "start_time": "2024-08-20T12:49:38.527037Z"
    },
    "hidden": true
   },
   "outputs": [],
   "source": [
    "# UNEQ - accuracy\n",
    "\n",
    "uneqacc_param_grid = [{\n",
    "    'model__alpha':np.logspace(-5, np.log10(0.5), 10),\n",
    "    'feature_selector__estimator': [\n",
    "        CollinearFeatureSelector(t=0.0, seed=42, minimize_label_entropy=False),\n",
    "        CollinearFeatureSelector(t=0.2, seed=42, minimize_label_entropy=False),\n",
    "        CollinearFeatureSelector(t=0.4, seed=42, minimize_label_entropy=False),\n",
    "        CollinearFeatureSelector(t=0.6, seed=42, minimize_label_entropy=False),\n",
    "        CollinearFeatureSelector(t=0.8, seed=42, minimize_label_entropy=False),\n",
    "        CollinearFeatureSelector(t=1.0, seed=42, minimize_label_entropy=False),\n",
    "    ]\n",
    "}]\n",
    "\n",
    "uneqacc_pipeline = make_pipe(\n",
    "    EllipticManifold_Authenticator(\n",
    "        alpha=0.05,\n",
    "        robust=True, \n",
    "        center='score',\n",
    "        target_class='Authentic SLO',\n",
    "        use='acc'\n",
    "    ),\n",
    ")\n",
    "\n",
    "uneqacc_gs = make_gs(uneqacc_pipeline, uneqacc_param_grid)"
   ]
  },
  {
   "cell_type": "code",
   "execution_count": null,
   "id": "0745e011",
   "metadata": {
    "ExecuteTime": {
     "end_time": "2024-08-20T12:49:41.279780Z",
     "start_time": "2024-08-20T12:49:41.229084Z"
    },
    "hidden": true
   },
   "outputs": [],
   "source": [
    "# DT Stump\n",
    "\n",
    "dt_param_grid = [{\n",
    "    'model__max_depth':[1], # Force a stump\n",
    "    'feature_selector__estimator': [\n",
    "        CollinearFeatureSelector(t=0.0, seed=42, minimize_label_entropy=False),\n",
    "        CollinearFeatureSelector(t=0.2, seed=42, minimize_label_entropy=False),\n",
    "        CollinearFeatureSelector(t=0.4, seed=42, minimize_label_entropy=False),\n",
    "        CollinearFeatureSelector(t=0.6, seed=42, minimize_label_entropy=False),\n",
    "        CollinearFeatureSelector(t=0.8, seed=42, minimize_label_entropy=False),\n",
    "        CollinearFeatureSelector(t=1.0, seed=42, minimize_label_entropy=False),\n",
    "    ]\n",
    "}]\n",
    "\n",
    "dt_pipeline = make_pipe(\n",
    "    DecisionTreeClassifier(\n",
    "        max_depth=1,\n",
    "        random_state=42,\n",
    "        class_weight='balanced'\n",
    "    ),\n",
    ")\n",
    "\n",
    "dt_gs = make_gs(dt_pipeline, dt_param_grid)"
   ]
  },
  {
   "cell_type": "code",
   "execution_count": null,
   "id": "49461948",
   "metadata": {
    "ExecuteTime": {
     "end_time": "2024-08-20T12:49:41.410467Z",
     "start_time": "2024-08-20T12:49:41.360417Z"
    },
    "hidden": true
   },
   "outputs": [],
   "source": [
    "# DT depth 2\n",
    "\n",
    "dt2_param_grid = [{\n",
    "    'model__max_depth':[2], \n",
    "    'feature_selector__estimator': [\n",
    "        CollinearFeatureSelector(t=0.0, seed=42, minimize_label_entropy=False),\n",
    "        CollinearFeatureSelector(t=0.2, seed=42, minimize_label_entropy=False),\n",
    "        CollinearFeatureSelector(t=0.4, seed=42, minimize_label_entropy=False),\n",
    "        CollinearFeatureSelector(t=0.6, seed=42, minimize_label_entropy=False),\n",
    "        CollinearFeatureSelector(t=0.8, seed=42, minimize_label_entropy=False),\n",
    "        CollinearFeatureSelector(t=1.0, seed=42, minimize_label_entropy=False),\n",
    "    ]\n",
    "}]\n",
    "\n",
    "dt2_pipeline = make_pipe(\n",
    "    DecisionTreeClassifier(\n",
    "        max_depth=2,\n",
    "        random_state=42,\n",
    "        class_weight='balanced'\n",
    "    ),\n",
    ")\n",
    "\n",
    "dt2_gs = make_gs(dt2_pipeline, dt2_param_grid)"
   ]
  },
  {
   "cell_type": "code",
   "execution_count": null,
   "id": "258ea6d4",
   "metadata": {
    "ExecuteTime": {
     "end_time": "2024-08-20T12:49:41.681730Z",
     "start_time": "2024-08-20T12:49:41.630973Z"
    },
    "hidden": true
   },
   "outputs": [],
   "source": [
    "# DT depth 3\n",
    "\n",
    "dt3_param_grid = [{\n",
    "    'model__max_depth':[3], \n",
    "    'feature_selector__estimator': [\n",
    "        CollinearFeatureSelector(t=0.0, seed=42, minimize_label_entropy=False),\n",
    "        CollinearFeatureSelector(t=0.2, seed=42, minimize_label_entropy=False),\n",
    "        CollinearFeatureSelector(t=0.4, seed=42, minimize_label_entropy=False),\n",
    "        CollinearFeatureSelector(t=0.6, seed=42, minimize_label_entropy=False),\n",
    "        CollinearFeatureSelector(t=0.8, seed=42, minimize_label_entropy=False),\n",
    "        CollinearFeatureSelector(t=1.0, seed=42, minimize_label_entropy=False),\n",
    "    ]\n",
    "}]\n",
    "\n",
    "dt3_pipeline = make_pipe(\n",
    "    DecisionTreeClassifier(\n",
    "        max_depth=3,\n",
    "        random_state=42,\n",
    "        class_weight='balanced'\n",
    "    ),\n",
    ")\n",
    "\n",
    "dt3_gs = make_gs(dt3_pipeline, dt3_param_grid)"
   ]
  },
  {
   "cell_type": "code",
   "execution_count": null,
   "id": "4286ce63",
   "metadata": {
    "ExecuteTime": {
     "end_time": "2024-08-20T12:49:46.663591Z",
     "start_time": "2024-08-20T12:49:46.606475Z"
    },
    "hidden": true
   },
   "outputs": [],
   "source": [
    "# RF OSR\n",
    "\n",
    "osr_param_grid = [{\n",
    "    'model__clf_kwargs':[{'n_estimators':n, 'random_state':42, 'class_weight':'balanced', 'max_features':None} for n in [20, 50, 100, 150, 200]],\n",
    "    'model__outlier_kwargs':[\n",
    "        {'n_estimators': n, \n",
    "         'max_samples': 'auto', \n",
    "         'contamination': c,\n",
    "         'max_features': 1.0, \n",
    "         'bootstrap':True,\n",
    "         'n_jobs':-1, \n",
    "         'random_state':42} for n in [10, 20, 50, 100] for c in [0.001, 0.01, 0.1, 0.5]\n",
    "    ],\n",
    "    'feature_selector__estimator': [\n",
    "        CollinearFeatureSelector(t=0.0, seed=42, minimize_label_entropy=False),\n",
    "        CollinearFeatureSelector(t=0.2, seed=42, minimize_label_entropy=False),\n",
    "        CollinearFeatureSelector(t=0.4, seed=42, minimize_label_entropy=False),\n",
    "        CollinearFeatureSelector(t=0.6, seed=42, minimize_label_entropy=False),\n",
    "        CollinearFeatureSelector(t=0.8, seed=42, minimize_label_entropy=False),\n",
    "        CollinearFeatureSelector(t=1.0, seed=42, minimize_label_entropy=False),\n",
    "    ]\n",
    "}]\n",
    "\n",
    "osr_pipeline = make_pipe(\n",
    "    osr.OpenSetClassifier(\n",
    "        clf_model=RandomForestClassifier,\n",
    "        outlier_model=IsolationForest,\n",
    "        clf_kwargs={},\n",
    "        outlier_kwargs={},\n",
    "        known_classes=['Authentic SLO', 'Abroad'],\n",
    "        inlier_value=1,\n",
    "        unknown_class='Unknown',\n",
    "        score_metric='TEFF',\n",
    "        clf_style='hard',\n",
    "        score_using=\"Authentic SLO\"\n",
    "    ),\n",
    ")\n",
    "\n",
    "osr_gs = make_gs(osr_pipeline, osr_param_grid)"
   ]
  },
  {
   "cell_type": "code",
   "execution_count": null,
   "id": "9c75c8fa",
   "metadata": {
    "ExecuteTime": {
     "end_time": "2024-08-20T12:51:05.840888Z",
     "start_time": "2024-08-20T12:51:05.789402Z"
    },
    "hidden": true
   },
   "outputs": [],
   "source": [
    "# RF OSR - accuracy\n",
    "\n",
    "osracc_param_grid = [{\n",
    "    'model__clf_kwargs':[{'n_estimators':n, 'random_state':42, 'class_weight':'balanced', 'max_features':None} for n in [20, 50, 100, 150, 200]],\n",
    "    'model__outlier_kwargs':[\n",
    "        {'n_estimators': n, \n",
    "         'max_samples': 'auto', \n",
    "         'contamination': c,\n",
    "         'max_features': 1.0, \n",
    "         'bootstrap':True,\n",
    "         'n_jobs':-1, \n",
    "         'random_state':42} for n in [10, 20, 50, 100] for c in [0.001, 0.01, 0.1, 0.5]\n",
    "    ],\n",
    "    'feature_selector__estimator': [\n",
    "        CollinearFeatureSelector(t=0.0, seed=42, minimize_label_entropy=False),\n",
    "        CollinearFeatureSelector(t=0.2, seed=42, minimize_label_entropy=False),\n",
    "        CollinearFeatureSelector(t=0.4, seed=42, minimize_label_entropy=False),\n",
    "        CollinearFeatureSelector(t=0.6, seed=42, minimize_label_entropy=False),\n",
    "        CollinearFeatureSelector(t=0.8, seed=42, minimize_label_entropy=False),\n",
    "        CollinearFeatureSelector(t=1.0, seed=42, minimize_label_entropy=False),\n",
    "    ]\n",
    "}]\n",
    "\n",
    "osracc_pipeline = make_pipe(\n",
    "    osr.OpenSetClassifier(\n",
    "        clf_model=RandomForestClassifier,\n",
    "        outlier_model=IsolationForest,\n",
    "        clf_kwargs={},\n",
    "        outlier_kwargs={},\n",
    "        known_classes=['Authentic SLO', 'Abroad'],\n",
    "        inlier_value=1,\n",
    "        unknown_class='Unknown',\n",
    "        score_metric='ACC',\n",
    "        clf_style='hard',\n",
    "        score_using=\"Authentic SLO\"\n",
    "    ),\n",
    ")\n",
    "\n",
    "osracc_gs = make_gs(osracc_pipeline, osracc_param_grid)"
   ]
  },
  {
   "cell_type": "code",
   "execution_count": null,
   "id": "3db8c5a1",
   "metadata": {
    "ExecuteTime": {
     "end_time": "2024-08-28T19:15:52.710831Z",
     "start_time": "2024-08-28T19:15:52.647058Z"
    },
    "hidden": true,
    "scrolled": true
   },
   "outputs": [],
   "source": [
    "rerun = False\n",
    "\n",
    "if rerun:\n",
    "    # 10x10 repeated (nested) CV\n",
    "    scores_rf, scores_dds, scores_uneq, scores_dt, scores_dt2, scores_dt3, scores_osr, scores_ddsacc, scores_uneqacc, scores_osracc = Compare.repeated_kfold(\n",
    "        [\n",
    "            rf_gs,\n",
    "            dds_gs,\n",
    "            uneq_gs,\n",
    "            dt_gs,\n",
    "            dt2_gs,\n",
    "            dt3_gs,\n",
    "            osr_gs,\n",
    "            ddsacc_gs,\n",
    "            uneqacc_gs,\n",
    "            osracc_gs\n",
    "        ],\n",
    "        X_tot[SITE].values,\n",
    "        X_tot['label'].values,\n",
    "        n_repeats=10,\n",
    "        k=10,\n",
    "        random_state=0\n",
    "    )\n",
    "    \n",
    "    save_results({\n",
    "            'Compliant DD-SIMCA (TEFF)': scores_dds,\n",
    "            'UNEQ (TEFF)': scores_uneq,\n",
    "            'RF OSR (TEFF)': scores_osr,\n",
    "            'DT Stump (ACC)': scores_dt,\n",
    "            'DT Depth 2 (ACC)': scores_dt2,\n",
    "            'DT Depth 3 (ACC)': scores_dt3,\n",
    "            'Random Forest (ACC)': scores_rf,\n",
    "            'Compliant DD-SIMCA (ACC)': scores_ddsacc,\n",
    "            'UNEQ (ACC)': scores_uneqacc,\n",
    "            'RF OSR (ACC)': scores_osracc,\n",
    "        },\n",
    "        filename='garlic.pkl',\n",
    "    )\n",
    "else:\n",
    "    # Load previously saved results\n",
    "    scores_ = pickle.load(open('garlic.pkl', 'rb'))\n",
    "\n",
    "    scores_dds = scores_['Compliant DD-SIMCA (TEFF)']\n",
    "    scores_osr = scores_['RF OSR (TEFF)']\n",
    "    scores_uneq = scores_['UNEQ (TEFF)']\n",
    "    scores_dt = scores_['DT Stump (ACC)']\n",
    "    scores_dt2 = scores_['DT Depth 2 (ACC)']\n",
    "    scores_dt3 = scores_['DT Depth 3 (ACC)']\n",
    "    scores_rf = scores_['Random Forest (ACC)']\n",
    "    scores_ddsacc = scores_['Compliant DD-SIMCA (ACC)']\n",
    "    scores_uneqacc = scores_['UNEQ (ACC)']\n",
    "    scores_osracc = scores_['RF OSR (ACC)']"
   ]
  },
  {
   "cell_type": "code",
   "execution_count": null,
   "id": "ac3b7a46",
   "metadata": {
    "ExecuteTime": {
     "end_time": "2024-08-28T19:16:10.878628Z",
     "start_time": "2024-08-28T19:16:06.638268Z"
    },
    "hidden": true
   },
   "outputs": [],
   "source": [
    "ax = Compare.visualize(\n",
    "    {\n",
    "        'Compliant DD-SIMCA (TEFF)': scores_dds,\n",
    "        'UNEQ (TEFF)': scores_uneq,\n",
    "        'RF OSR (TEFF)': scores_osr,\n",
    "        'DT Stump (ACC)': scores_dt,\n",
    "        'DT Depth 2 (ACC)': scores_dt2,\n",
    "        'DT Depth 3 (ACC)': scores_dt3,\n",
    "        'Random Forest (ACC)': scores_rf,\n",
    "        'Compliant DD-SIMCA (ACC)': scores_ddsacc,\n",
    "        'UNEQ (ACC)': scores_uneqacc,\n",
    "        'RF OSR (ACC)': scores_osracc,\n",
    "    },\n",
    "    n_repeats=10,\n",
    "    alpha=0.05,\n",
    "    ignore=0,\n",
    "    cmap='plasma'\n",
    ")\n",
    "\n",
    "_ = ax.set_xticklabels(\n",
    "    [\"%.1f\" % t for t in np.linspace(0.0, 0.9, 10)],\n",
    "    fontsize=18\n",
    ")\n",
    "_ = ax.set_title(\"Score +/- \" + r\"$\\sigma$\", fontsize=22)\n",
    "l = ax.legend(loc=\"best\", bbox_to_anchor=(0.85, 0.5, 0.5, 0.5), fontsize=18)\n",
    "\n",
    "for text in l.get_texts():\n",
    "    if 'RF OSR' in text.get_text():\n",
    "        text.set_color('blue')\n",
    "    else:\n",
    "        text.set_color(\"green\")\n",
    "        \n",
    "plt.savefig(\"fig4c.png\", transparent=None, dpi=600, format=\"png\",\n",
    "        metadata=None, bbox_inches='tight', pad_inches=0.1,\n",
    "        facecolor='auto', edgecolor='auto', backend=None)"
   ]
  },
  {
   "cell_type": "code",
   "execution_count": null,
   "id": "403d719d",
   "metadata": {
    "ExecuteTime": {
     "end_time": "2024-08-28T19:16:36.187486Z",
     "start_time": "2024-08-28T19:16:36.158596Z"
    },
    "hidden": true
   },
   "outputs": [],
   "source": [
    "np.mean(scores_dds[scores_dds>0]), np.std(scores_dds[scores_dds>0])"
   ]
  },
  {
   "cell_type": "code",
   "execution_count": null,
   "id": "81bd1230",
   "metadata": {
    "hidden": true
   },
   "outputs": [],
   "source": []
  }
 ],
 "metadata": {
  "kernelspec": {
   "display_name": "test-slo",
   "language": "python",
   "name": "test-slo"
  },
  "language_info": {
   "codemirror_mode": {
    "name": "ipython",
    "version": 3
   },
   "file_extension": ".py",
   "mimetype": "text/x-python",
   "name": "python",
   "nbconvert_exporter": "python",
   "pygments_lexer": "ipython3",
   "version": "3.11.0"
  }
 },
 "nbformat": 4,
 "nbformat_minor": 5
}
