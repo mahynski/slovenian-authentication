{
 "cells": [
  {
   "cell_type": "code",
   "execution_count": null,
   "id": "561bd8da",
   "metadata": {
    "ExecuteTime": {
     "end_time": "2024-08-28T19:20:33.913714Z",
     "start_time": "2024-08-28T19:20:30.785220Z"
    }
   },
   "outputs": [],
   "source": [
    "import imblearn\n",
    "import sklearn\n",
    "\n",
    "import utils\n",
    "\n",
    "import pychemauth\n",
    "from pychemauth.eda.explore import InspectData\n",
    "from pychemauth.eda.screen import JSBinary\n",
    "from pychemauth.preprocessing.scaling import CorrectedScaler\n",
    "from pychemauth.preprocessing.missing import LOD\n",
    "from pychemauth.classifier.simca import SIMCA_Authenticator\n",
    "from pychemauth.preprocessing.feature_selection import CollinearFeatureSelector\n",
    "from pychemauth.manifold.elliptic import EllipticManifold_Authenticator\n",
    "from pychemauth.analysis.compare import Compare\n",
    "from pychemauth.classifier import osr\n",
    "\n",
    "from sklearn.model_selection import GridSearchCV\n",
    "from sklearn.feature_selection import SelectFromModel\n",
    "from sklearn.ensemble import RandomForestClassifier, IsolationForest\n",
    "from sklearn.tree import DecisionTreeClassifier\n",
    "from sklearn.inspection import permutation_importance\n",
    "\n",
    "import seaborn as sns\n",
    "import numpy as np\n",
    "import pandas as pd\n",
    "import missingno as msno\n",
    "\n",
    "import matplotlib.pyplot as plt\n",
    "%matplotlib inline\n",
    "\n",
    "import watermark\n",
    "%load_ext watermark\n",
    "\n",
    "%load_ext autoreload\n",
    "%autoreload 2"
   ]
  },
  {
   "cell_type": "code",
   "execution_count": null,
   "id": "335ff703",
   "metadata": {
    "ExecuteTime": {
     "end_time": "2024-08-28T19:20:35.297743Z",
     "start_time": "2024-08-28T19:20:35.275365Z"
    }
   },
   "outputs": [],
   "source": [
    "import pickle\n",
    "def save_results(results, filename):\n",
    "    pickle.dump(results, open(filename, 'wb'), protocol=4)"
   ]
  },
  {
   "cell_type": "code",
   "execution_count": null,
   "id": "562741e0",
   "metadata": {
    "ExecuteTime": {
     "end_time": "2024-08-28T19:20:35.513120Z",
     "start_time": "2024-08-28T19:20:35.449672Z"
    }
   },
   "outputs": [],
   "source": [
    "%watermark -t -m -v --iversions"
   ]
  },
  {
   "cell_type": "markdown",
   "id": "d27c823c",
   "metadata": {
    "heading_collapsed": true
   },
   "source": [
    "# Load Data"
   ]
  },
  {
   "cell_type": "code",
   "execution_count": null,
   "id": "fb92794e",
   "metadata": {
    "ExecuteTime": {
     "end_time": "2024-08-28T19:20:37.931853Z",
     "start_time": "2024-08-28T19:20:36.628743Z"
    },
    "hidden": true
   },
   "outputs": [],
   "source": [
    "M_, lod_ = utils.get_data(sheet_name='Jabolka_osnova', col_start=7, row_start=20, loc='../../data/raw/DB_UVHVVR.xlsx')\n",
    "\n",
    "# We have pre-determined that we wish to drop all analytes with > 30% below LOD.\n",
    "analytes_to_keep = ((M_[lod_.index] < lod_).sum() / M_.shape[0] ) <= 0.3\n",
    "analytes_to_keep = [a[0] for a in list(analytes_to_keep.items()) if a[1]]\n",
    "\n",
    "X = M_.loc[:,analytes_to_keep]\n",
    "X['label'] = M_['Poreklo']\n",
    "lod = lod_[analytes_to_keep]\n",
    "\n",
    "# 34S is rarely measured\n",
    "X.drop('34S', axis=1, inplace=True)\n",
    "lod.drop('34S', inplace=True)\n",
    "\n",
    "# Let's also drop all the 'Test SLO'\n",
    "X = X[X['label'] != 'Test SLO']\n",
    "\n",
    "_ = msno.matrix(X, labels=True)"
   ]
  },
  {
   "cell_type": "markdown",
   "id": "3af48443",
   "metadata": {
    "heading_collapsed": true
   },
   "source": [
    "# EDA"
   ]
  },
  {
   "cell_type": "code",
   "execution_count": null,
   "id": "20d27b8e",
   "metadata": {
    "ExecuteTime": {
     "end_time": "2024-08-28T19:20:39.315113Z",
     "start_time": "2024-08-28T19:20:38.134910Z"
    },
    "hidden": true
   },
   "outputs": [],
   "source": [
    "selected_features, abroad_cluster_id_to_feature_ids, fig = InspectData.cluster_collinear(\n",
    "    np.asarray(X[X['label'] != 'Authentic SLO'].drop('label', axis=1).values, dtype=np.float64), \n",
    "    feature_names=X[X['label'] != 'Authentic SLO'].drop('label', axis=1).columns, \n",
    "    figsize=(12,8),\n",
    "    t=0.6\n",
    ")"
   ]
  },
  {
   "cell_type": "code",
   "execution_count": null,
   "id": "3b996f1e",
   "metadata": {
    "ExecuteTime": {
     "end_time": "2024-08-28T19:20:41.173477Z",
     "start_time": "2024-08-28T19:20:39.318759Z"
    },
    "hidden": true
   },
   "outputs": [],
   "source": [
    "selected_features, slo_cluster_id_to_feature_ids, fig = InspectData.cluster_collinear(\n",
    "    np.asarray(X[X['label'] == 'Authentic SLO'].drop('label', axis=1).values, dtype=np.float64), \n",
    "    feature_names=X[X['label'] == 'Authentic SLO'].drop('label', axis=1).columns, \n",
    "    figsize=(8,4),\n",
    "    t=0.6,\n",
    "    highlight=False,\n",
    "    figname='apple_correlations.png'\n",
    ")"
   ]
  },
  {
   "cell_type": "markdown",
   "id": "fac882fb",
   "metadata": {
    "heading_collapsed": true
   },
   "source": [
    "# Clean"
   ]
  },
  {
   "cell_type": "code",
   "execution_count": null,
   "id": "949fa93f",
   "metadata": {
    "ExecuteTime": {
     "end_time": "2024-08-28T19:20:43.726285Z",
     "start_time": "2024-08-28T19:20:43.686869Z"
    },
    "hidden": true
   },
   "outputs": [],
   "source": [
    "X"
   ]
  },
  {
   "cell_type": "code",
   "execution_count": null,
   "id": "43ea5207",
   "metadata": {
    "ExecuteTime": {
     "end_time": "2024-08-28T19:20:44.009882Z",
     "start_time": "2024-08-28T19:20:43.840077Z"
    },
    "hidden": true
   },
   "outputs": [],
   "source": [
    "# Also consider dataset composed of ln(X/lod)\n",
    "X_ln = X.copy()\n",
    "for te_ in lod.index[3:]:\n",
    "    X_ln[te_] = X_ln[te_].apply(lambda x: np.log(float(x / lod[te_])))\n",
    "    \n",
    "X_auth = X_ln[X_ln['label'] == 'Authentic SLO'].copy()\n",
    "Outlier = utils.flag_outliers(X_auth, lod)\n",
    "\n",
    "X_auth_orig = X[X['label'] == 'Authentic SLO'].copy()\n",
    "X_auth_orig = X_auth_orig[Outlier.drop('label', axis=1).sum(axis=1) < 3]"
   ]
  },
  {
   "cell_type": "code",
   "execution_count": null,
   "id": "9d9a976e",
   "metadata": {
    "ExecuteTime": {
     "end_time": "2024-08-28T19:20:44.261103Z",
     "start_time": "2024-08-28T19:20:44.224132Z"
    },
    "hidden": true
   },
   "outputs": [],
   "source": [
    "X_abroad_orig = X[X['label'] != 'Authentic SLO'].copy()\n",
    "\n",
    "X_tot = pd.concat((X_auth_orig, X_abroad_orig), axis=0)\n",
    "X_tot"
   ]
  },
  {
   "cell_type": "markdown",
   "id": "68a4d0d5",
   "metadata": {
    "heading_collapsed": true
   },
   "source": [
    "# JSD"
   ]
  },
  {
   "cell_type": "code",
   "execution_count": null,
   "id": "d2ad81ce",
   "metadata": {
    "ExecuteTime": {
     "end_time": "2024-08-28T19:20:59.787856Z",
     "start_time": "2024-08-28T19:20:48.908331Z"
    },
    "hidden": true,
    "scrolled": true
   },
   "outputs": [],
   "source": [
    "from pychemauth.eda.explore import InspectData\n",
    "\n",
    "InspectData.pairplot(X_tot, vars=['Sr', 'Ca', 'Ni', 'Na', '18O'], hue=\"label\", diag_kind=\"kde\")"
   ]
  },
  {
   "cell_type": "code",
   "execution_count": null,
   "id": "494c9701",
   "metadata": {
    "ExecuteTime": {
     "end_time": "2024-08-28T19:20:59.828796Z",
     "start_time": "2024-08-28T19:20:59.792683Z"
    },
    "hidden": true
   },
   "outputs": [],
   "source": [
    "def plot_distribution(X, xlabels):\n",
    "    fig, axes = plt.subplots(\n",
    "        nrows=((len(X.columns)-1) // 3) + int(len(X.columns)-1 - ((len(X.columns)-1) // 3) * 3 > 0), \n",
    "        ncols=3, \n",
    "        figsize=(12,5)\n",
    "    )\n",
    "\n",
    "    for i, (site_, ax, label_) in enumerate(zip(X.drop('label', axis=1).columns, axes.ravel(), xlabels)):\n",
    "        sns.histplot(\n",
    "            X,\n",
    "            x=site_,\n",
    "            hue='label',\n",
    "            kde=True,\n",
    "            ax=ax\n",
    "        )\n",
    "        ticks_ = ax.get_xticks()[1:-1]\n",
    "        ax.set_xticks(ticks_, labels=[str('%.1f'%a) for a in ticks_], fontsize=20, rotation=45)\n",
    "        ax.set_xlabel(label_, fontsize=20)\n",
    "        \n",
    "        ticks_ = ax.get_yticks()\n",
    "        ax.set_yticks(ticks_, labels=[str('%.0f'%a) for a in ticks_], fontsize=20, rotation=0)\n",
    "        \n",
    "        if i > 0:\n",
    "            ax.set_ylabel('')\n",
    "        else:\n",
    "            ax.set_ylabel('Count', fontsize=20)\n",
    "            \n",
    "    return axes"
   ]
  },
  {
   "cell_type": "code",
   "execution_count": null,
   "id": "55f55502",
   "metadata": {
    "ExecuteTime": {
     "end_time": "2024-08-28T19:21:03.836801Z",
     "start_time": "2024-08-28T19:20:59.831311Z"
    },
    "hidden": true
   },
   "outputs": [],
   "source": [
    "axes = plot_distribution(\n",
    "    X_tot[['Sr', 'Mo', 'Fe', 'label']], \n",
    "    xlabels=[r'${\\rm Sr}~(\\mu g/g)$', r'${\\rm Mo}~(ng/g)$', r'${\\rm Fe}~(\\mu g/g)$']\n",
    ")\n",
    "\n",
    "axes[0].axvline(0.591, color='r') # Tree delimiter determined below\n",
    "\n",
    "for ax in axes:\n",
    "    ax.legend(labels=['Abroad', 'Authentic'], fontsize=18)\n",
    "    \n",
    "plt.savefig(\"fig5b.png\", transparent=None, dpi=600, format=\"png\",\n",
    "        metadata=None, bbox_inches='tight', pad_inches=0.1,\n",
    "        facecolor='auto', edgecolor='auto', backend=None)"
   ]
  },
  {
   "cell_type": "code",
   "execution_count": null,
   "id": "8034ac9a",
   "metadata": {
    "ExecuteTime": {
     "end_time": "2024-08-28T19:21:29.398066Z",
     "start_time": "2024-08-28T19:21:29.329105Z"
    },
    "hidden": true
   },
   "outputs": [],
   "source": [
    "def plot_jsd(X, vline=11):\n",
    "    bins = np.arange(1, 101, 10)\n",
    "\n",
    "    max_value = []\n",
    "    max_site = []\n",
    "\n",
    "    for nbins in bins:\n",
    "        jsb = JSBinary(js_bins=nbins, robust=True)\n",
    "        jsb.fit(X=X.drop('label', axis=1).values, y=X['label'].values)\n",
    "        i, j = jsb._JSBinary__enc_.transform(['Authentic SLO'])[0], jsb._JSBinary__enc_.transform(['Abroad'])[0]\n",
    "        max_value.append(jsb.matrix[i,j])\n",
    "        max_site.append(jsb.top_features(X.drop('label', axis=1).columns)[i,j])\n",
    "        \n",
    "    plt.plot(bins, max_value, '-o')\n",
    "    plt.title('Authentic vs. Abroad', fontsize=16)\n",
    "    plt.ylabel('Max JSD', fontsize=14)\n",
    "    plt.xlabel('Number of Bins', fontsize=14)\n",
    "    plt.axvline(vline, color='k')\n",
    "    plt.xticks(fontsize=12)\n",
    "    plt.yticks(fontsize=12)\n",
    "    \n",
    "    for i in range(1, len(max_site)):\n",
    "        plt.text(bins[i]+0.2, max_value[i]-0.07, max_site[i], fontsize=12)\n",
    "    \n",
    "    return max_site"
   ]
  },
  {
   "cell_type": "code",
   "execution_count": null,
   "id": "035125cc",
   "metadata": {
    "ExecuteTime": {
     "end_time": "2024-08-28T19:21:30.387013Z",
     "start_time": "2024-08-28T19:21:29.718267Z"
    },
    "hidden": true
   },
   "outputs": [],
   "source": [
    "_ = plot_jsd(X_tot, vline=21)"
   ]
  },
  {
   "cell_type": "code",
   "execution_count": null,
   "id": "77171161",
   "metadata": {
    "ExecuteTime": {
     "end_time": "2024-08-28T19:21:30.547352Z",
     "start_time": "2024-08-28T19:21:30.389229Z"
    },
    "hidden": true
   },
   "outputs": [],
   "source": [
    "plt.plot(\n",
    "    X_tot[X_tot['label'] == 'Authentic SLO']['Mo'].values,\n",
    "    X_tot[X_tot['label'] == 'Authentic SLO']['Sr'].values,\n",
    "    'o'\n",
    ")"
   ]
  },
  {
   "cell_type": "markdown",
   "id": "b19d79f6",
   "metadata": {
    "heading_collapsed": true
   },
   "source": [
    "# Model"
   ]
  },
  {
   "cell_type": "code",
   "execution_count": null,
   "id": "cccdc886",
   "metadata": {
    "ExecuteTime": {
     "end_time": "2024-08-28T19:22:14.793904Z",
     "start_time": "2024-08-28T19:22:14.750456Z"
    },
    "hidden": true
   },
   "outputs": [],
   "source": [
    "# Just to guarantee ordering is consistent\n",
    "SITE = lod.index"
   ]
  },
  {
   "cell_type": "code",
   "execution_count": null,
   "id": "82f5c564",
   "metadata": {
    "ExecuteTime": {
     "end_time": "2024-08-28T19:22:40.834696Z",
     "start_time": "2024-08-28T19:22:40.761740Z"
    },
    "hidden": true
   },
   "outputs": [],
   "source": [
    "def make_gs(pipeline, param_grid):\n",
    "    return GridSearchCV(\n",
    "        estimator=pipeline,\n",
    "        param_grid=param_grid,\n",
    "        n_jobs=-1,\n",
    "        cv=sklearn.model_selection.StratifiedKFold(\n",
    "            n_splits=10, # 10-fold CV for hyperparameter optimization\n",
    "            shuffle=True, \n",
    "            random_state=0\n",
    "        ),\n",
    "        error_score=0,\n",
    "        refit=True\n",
    "    )"
   ]
  },
  {
   "cell_type": "code",
   "execution_count": null,
   "id": "9367f1c6",
   "metadata": {
    "ExecuteTime": {
     "end_time": "2024-08-28T19:22:52.190850Z",
     "start_time": "2024-08-28T19:22:52.152042Z"
    },
    "hidden": true
   },
   "outputs": [],
   "source": [
    "def make_pipe(model, use_feature_selector=True):\n",
    "    steps = [\n",
    "        (\"imputer\", LOD( # Impute < LOD\n",
    "            lod=lod[SITE].values, \n",
    "            missing_values=np.nan, \n",
    "            seed=42,\n",
    "            skip_columns=[0, 1, 2] # Stable isotopes are the first 3 features\n",
    "        ))\n",
    "    ]\n",
    "    \n",
    "    if use_feature_selector:\n",
    "        steps += [\n",
    "            (\"feature_selector\", SelectFromModel( # Must come after LOD_LN imputer\n",
    "                estimator=CollinearFeatureSelector( # We will replace this estimator in the param_grid below\n",
    "                    t=0.9,\n",
    "                    seed=42,\n",
    "                    minimize_label_entropy=False,\n",
    "                ),\n",
    "                threshold=0.5, # 0's are given to features ignored, 1 if they are kept so set the threshold in between\n",
    "                prefit=False,\n",
    "            ))\n",
    "        ]\n",
    "        \n",
    "    steps += [\n",
    "        (\"autoscaler\", CorrectedScaler( # Data is considered \"clean\" so we will not use robust estimates\n",
    "            with_mean=True,\n",
    "            with_std=True\n",
    "        )),\n",
    "        (\"model\", model),\n",
    "    ]    \n",
    "    \n",
    "    pipeline = imblearn.pipeline.Pipeline(steps=steps)\n",
    "    \n",
    "    return pipeline"
   ]
  },
  {
   "cell_type": "markdown",
   "id": "be5166a5",
   "metadata": {
    "heading_collapsed": true,
    "hidden": true
   },
   "source": [
    "## DD-SIMCA Model"
   ]
  },
  {
   "cell_type": "markdown",
   "id": "f27a6e34",
   "metadata": {
    "ExecuteTime": {
     "end_time": "2024-08-28T12:10:23.265138Z",
     "start_time": "2024-08-28T12:10:23.170559Z"
    },
    "heading_collapsed": true,
    "hidden": true
   },
   "source": [
    "### TEFF"
   ]
  },
  {
   "cell_type": "code",
   "execution_count": null,
   "id": "f15135c8",
   "metadata": {
    "ExecuteTime": {
     "end_time": "2024-08-28T19:23:12.514877Z",
     "start_time": "2024-08-28T19:23:12.463547Z"
    },
    "hidden": true
   },
   "outputs": [],
   "source": [
    "# Fit model on entire dataset, but do not use feature selector so that we can see how it chooses to use all of them\n",
    "dds_param_grid = [{\n",
    "    'model__n_components':np.arange(1, 10),\n",
    "    'model__alpha':np.logspace(-5, np.log10(0.5), 20),\n",
    "}]\n",
    "\n",
    "dds_pipeline = make_pipe(\n",
    "    SIMCA_Authenticator(\n",
    "        n_components=1,\n",
    "        alpha=0.05,\n",
    "        scale_x=True,\n",
    "        style='dd-simca',\n",
    "        target_class='Authentic SLO',\n",
    "        use='compliant'\n",
    "    ),\n",
    "    use_feature_selector=False, # Let it see all the features\n",
    ")\n",
    "\n",
    "dds_gs = make_gs(dds_pipeline, dds_param_grid)"
   ]
  },
  {
   "cell_type": "code",
   "execution_count": null,
   "id": "d8993a7f",
   "metadata": {
    "ExecuteTime": {
     "end_time": "2024-08-28T19:23:29.629779Z",
     "start_time": "2024-08-28T19:23:13.069414Z"
    },
    "hidden": true
   },
   "outputs": [],
   "source": [
    "_ = dds_gs.fit(\n",
    "    X_tot[SITE].values,\n",
    "    X_tot['label'].values\n",
    ")"
   ]
  },
  {
   "cell_type": "code",
   "execution_count": null,
   "id": "3748e9b8",
   "metadata": {
    "ExecuteTime": {
     "end_time": "2024-08-28T19:23:29.677136Z",
     "start_time": "2024-08-28T19:23:29.633285Z"
    },
    "hidden": true
   },
   "outputs": [],
   "source": [
    "dds_gs.score(\n",
    "    X_tot[SITE].values,\n",
    "    X_tot['label'].values\n",
    ")"
   ]
  },
  {
   "cell_type": "code",
   "execution_count": null,
   "id": "d09eeef5",
   "metadata": {
    "ExecuteTime": {
     "end_time": "2024-08-28T19:23:48.745907Z",
     "start_time": "2024-08-28T19:23:48.678942Z"
    },
    "hidden": true
   },
   "outputs": [],
   "source": [
    "dds_gs.best_params_"
   ]
  },
  {
   "cell_type": "code",
   "execution_count": null,
   "id": "9bf04361",
   "metadata": {
    "ExecuteTime": {
     "end_time": "2024-08-28T19:24:10.272488Z",
     "start_time": "2024-08-28T19:24:08.866995Z"
    },
    "hidden": true
   },
   "outputs": [],
   "source": [
    "ax = dds_gs.best_estimator_.named_steps['model'].model.plot_loadings(\n",
    "    list(SITE),\n",
    "    fontsize=18,\n",
    "    feature_offset=(0.01, -0.02)\n",
    ")\n",
    "\n",
    "expl_ = dds_gs.best_estimator_.named_steps['model'].model._DDSIMCA_Model__pca_.explained_variance_ratio_\n",
    "ax.set_xlabel(f'PC 1 ({\"%.4f\"%(expl_[0]*100)}%)', fontsize=20)\n",
    "ax.set_ylabel(f'PC 2 ({\"%.4f\"%(expl_[1]*100)}%)', fontsize=20)\n",
    "ticks_ = [-0.1, 0.0, 0.1, 0.2, 0.3, 0.4]\n",
    "ax.set_xticks(ticks_, [str(a) for a in ticks_], fontsize=18)\n",
    "ticks_ = [-0.4, -0.3, -0.2, -0.1, 0.0, 0.1, 0.2, 0.3]\n",
    "ax.set_xlim(-0.18, 0.45)\n",
    "ax.set_ylim(-0.4999, 0.32)\n",
    "_ = ax.set_yticks(ticks_, [str(a) for a in ticks_], fontsize=18)\n",
    "\n",
    "plt.savefig(\"fig5c_2.png\", transparent=None, dpi=600, format=\"png\",\n",
    "        metadata=None, bbox_inches='tight', pad_inches=0.1,\n",
    "        facecolor='auto', edgecolor='auto', backend=None)"
   ]
  },
  {
   "cell_type": "code",
   "execution_count": null,
   "id": "c55e1cca",
   "metadata": {
    "ExecuteTime": {
     "end_time": "2024-08-28T19:24:26.782648Z",
     "start_time": "2024-08-28T19:24:24.898375Z"
    },
    "hidden": true
   },
   "outputs": [],
   "source": [
    "preprocessing = imblearn.pipeline.Pipeline(\n",
    "    steps = dds_gs.best_estimator_.steps[:-1]\n",
    ")\n",
    "\n",
    "ax = dds_gs.best_estimator_.named_steps['model'].model.visualize(\n",
    "    X=preprocessing.transform(X_tot[SITE].values), \n",
    "    y=X_tot['label'].values,\n",
    "    outlier_curve=False\n",
    ")\n",
    "ax.set_xlabel('${\\\\rm ln(1 + h/h_0)}$', fontsize=20)\n",
    "ax.set_ylabel('${\\\\rm ln(1 + q/q_0)}$', fontsize=20)\n",
    "ticks_ = [0, 1.0, 2.0, 3.0, 4.0, 5.0]\n",
    "ax.set_xticks(ticks_, [str(a) for a in ticks_], fontsize=18)\n",
    "ticks_ = [0.0, 1.0, 2.0, 3.0, 4.0, 5.0, 6.0]\n",
    "ax.set_yticks(ticks_, [str(a) for a in ticks_], fontsize=18)\n",
    "\n",
    "_ = ax.legend(labels=['Threshold', 'Abroad = Inlier (10)', 'Abroad = Outlier (12)', 'Authentic = Inlier (73)', 'Authentic = Outlier (8)'], fontsize=17)\n",
    "\n",
    "plt.savefig(\"fig5c_1.png\", transparent=None, dpi=600, format=\"png\",\n",
    "        metadata=None, bbox_inches='tight', pad_inches=0.1,\n",
    "        facecolor='auto', edgecolor='auto', backend=None)"
   ]
  },
  {
   "cell_type": "markdown",
   "id": "952c11c5",
   "metadata": {
    "heading_collapsed": true,
    "hidden": true
   },
   "source": [
    "### ACC"
   ]
  },
  {
   "cell_type": "code",
   "execution_count": null,
   "id": "52e42895",
   "metadata": {
    "ExecuteTime": {
     "end_time": "2024-08-28T19:24:52.881713Z",
     "start_time": "2024-08-28T19:24:52.811653Z"
    },
    "hidden": true
   },
   "outputs": [],
   "source": [
    "# Fit model on entire dataset, but do not use feature selector so that we can see how it chooses to use all of them\n",
    "ddsacc_param_grid = [{\n",
    "    'model__n_components':np.arange(1, 10),\n",
    "    'model__alpha':np.logspace(-5, np.log10(0.5), 20),\n",
    "}]\n",
    "\n",
    "ddsacc_pipeline = make_pipe(\n",
    "    SIMCA_Authenticator(\n",
    "        n_components=1,\n",
    "        alpha=0.05,\n",
    "        scale_x=True,\n",
    "        style='dd-simca',\n",
    "        target_class='Authentic SLO',\n",
    "        use='acc'\n",
    "    ),\n",
    "    use_feature_selector=False, # Let it see all the features\n",
    ")\n",
    "\n",
    "ddsacc_gs = make_gs(ddsacc_pipeline, ddsacc_param_grid)"
   ]
  },
  {
   "cell_type": "code",
   "execution_count": null,
   "id": "08de1ee8",
   "metadata": {
    "ExecuteTime": {
     "end_time": "2024-08-28T19:25:03.683744Z",
     "start_time": "2024-08-28T19:24:53.515567Z"
    },
    "hidden": true
   },
   "outputs": [],
   "source": [
    "_ = ddsacc_gs.fit(\n",
    "    X_tot[SITE].values,\n",
    "    X_tot['label'].values\n",
    ")"
   ]
  },
  {
   "cell_type": "code",
   "execution_count": null,
   "id": "0119510b",
   "metadata": {
    "ExecuteTime": {
     "end_time": "2024-08-28T19:25:03.985888Z",
     "start_time": "2024-08-28T19:25:03.686818Z"
    },
    "hidden": true
   },
   "outputs": [],
   "source": [
    "ddsacc_gs.score(\n",
    "    X_tot[SITE].values,\n",
    "    X_tot['label'].values\n",
    ")"
   ]
  },
  {
   "cell_type": "code",
   "execution_count": null,
   "id": "33f1e377",
   "metadata": {
    "ExecuteTime": {
     "end_time": "2024-08-28T19:25:04.095469Z",
     "start_time": "2024-08-28T19:25:03.995364Z"
    },
    "hidden": true
   },
   "outputs": [],
   "source": [
    "ddsacc_gs.best_params_"
   ]
  },
  {
   "cell_type": "code",
   "execution_count": null,
   "id": "871d072e",
   "metadata": {
    "ExecuteTime": {
     "end_time": "2024-08-28T19:25:04.216195Z",
     "start_time": "2024-08-28T19:25:04.102171Z"
    },
    "hidden": true
   },
   "outputs": [],
   "source": [
    "preprocessor_ = imblearn.pipeline.Pipeline(\n",
    "    steps=ddsacc_gs.best_estimator_.steps[:-1]\n",
    ")\n",
    "\n",
    "ddsacc_gs.best_estimator_.named_steps['model'].metrics(\n",
    "    preprocessor_.transform(X_tot[SITE].values),\n",
    "    X_tot['label'].values\n",
    ")"
   ]
  },
  {
   "cell_type": "code",
   "execution_count": null,
   "id": "ee6df7e1",
   "metadata": {
    "ExecuteTime": {
     "end_time": "2024-08-28T19:25:14.593899Z",
     "start_time": "2024-08-28T19:25:14.484568Z"
    },
    "hidden": true
   },
   "outputs": [],
   "source": [
    "# Accepts almost all authentic (high sns)\n",
    "is_auth = X_tot['label'].values == 'Authentic SLO'\n",
    "\n",
    "ddsacc_gs.predict(X_tot[SITE][is_auth].values)"
   ]
  },
  {
   "cell_type": "code",
   "execution_count": null,
   "id": "c65106a9",
   "metadata": {
    "ExecuteTime": {
     "end_time": "2024-08-28T19:25:17.450656Z",
     "start_time": "2024-08-28T19:25:17.342300Z"
    },
    "hidden": true
   },
   "outputs": [],
   "source": [
    "# Only rejects a few inauthentic (low sps)\n",
    "ddsacc_gs.predict(X_tot[SITE][~is_auth].values)"
   ]
  },
  {
   "cell_type": "code",
   "execution_count": null,
   "id": "488ebb93",
   "metadata": {
    "ExecuteTime": {
     "end_time": "2024-08-28T19:25:23.422260Z",
     "start_time": "2024-08-28T19:25:22.990015Z"
    },
    "hidden": true
   },
   "outputs": [],
   "source": [
    "preprocessing = imblearn.pipeline.Pipeline(\n",
    "    steps = ddsacc_gs.best_estimator_.steps[:-1]\n",
    ")\n",
    "\n",
    "ax = ddsacc_gs.best_estimator_.named_steps['model'].model.visualize(\n",
    "    X=preprocessing.transform(X_tot[SITE].values), \n",
    "    y=X_tot['label'].values,\n",
    "    outlier_curve=False\n",
    ")\n",
    "ax.set_xlabel('${\\\\rm ln(1 + h/h_0)}$', fontsize=20)\n",
    "ax.set_ylabel('${\\\\rm ln(1 + q/q_0)}$', fontsize=20)\n",
    "ticks_ = [0, 1.0, 2.0, 3.0, 4.0, 5.0]\n",
    "ax.set_xticks(ticks_, [str(a) for a in ticks_], fontsize=18)\n",
    "ticks_ = [0.0, 1.0, 2.0, 3.0, 4.0, 5.0, 6.0]\n",
    "ax.set_yticks(ticks_, [str(a) for a in ticks_], fontsize=18)"
   ]
  },
  {
   "cell_type": "markdown",
   "id": "db76f790",
   "metadata": {
    "heading_collapsed": true,
    "hidden": true
   },
   "source": [
    "## RF OSR"
   ]
  },
  {
   "cell_type": "markdown",
   "id": "310737ca",
   "metadata": {
    "heading_collapsed": true,
    "hidden": true
   },
   "source": [
    "### TEFF"
   ]
  },
  {
   "cell_type": "code",
   "execution_count": null,
   "id": "887e004e",
   "metadata": {
    "ExecuteTime": {
     "end_time": "2024-08-28T19:25:48.697413Z",
     "start_time": "2024-08-28T19:25:48.620310Z"
    },
    "hidden": true
   },
   "outputs": [],
   "source": [
    "# Fit model on entire dataset, but do not use feature selector so that we can see how it chooses to use all of them\n",
    "osr_param_grid = [{\n",
    "    'model__clf_kwargs':[{'n_estimators':n, 'random_state':42, 'class_weight':'balanced', 'oob_score':True, 'max_features':None} for n in [20, 50, 100, 150, 200]],\n",
    "    'model__outlier_kwargs':[\n",
    "        {'n_estimators': n, \n",
    "         'max_samples': 'auto', \n",
    "         'contamination': c,\n",
    "         'max_features': 1.0, \n",
    "         'bootstrap':True,\n",
    "         'n_jobs':-1, \n",
    "         'random_state':42} for n in [10, 20, 50, 100] for c in [0.001, 0.01, 0.1, 0.5]\n",
    "    ],\n",
    "}]\n",
    "\n",
    "osr_pipeline = make_pipe(\n",
    "    osr.OpenSetClassifier(\n",
    "        clf_model=RandomForestClassifier,\n",
    "        outlier_model=IsolationForest,\n",
    "        clf_kwargs={},\n",
    "        outlier_kwargs={},\n",
    "        known_classes=['Authentic SLO', 'Abroad'],\n",
    "        inlier_value=1,\n",
    "        unknown_class='Unknown',\n",
    "        score_metric='TEFF',\n",
    "        clf_style='hard',\n",
    "        score_using=\"Authentic SLO\"\n",
    "    ),\n",
    "    use_feature_selector=False\n",
    ")\n",
    "\n",
    "osr_gs = make_gs(osr_pipeline, osr_param_grid)"
   ]
  },
  {
   "cell_type": "code",
   "execution_count": null,
   "id": "6871f47a",
   "metadata": {
    "ExecuteTime": {
     "end_time": "2024-08-28T19:26:10.117182Z",
     "start_time": "2024-08-28T19:25:51.043994Z"
    },
    "hidden": true
   },
   "outputs": [],
   "source": [
    "_ = osr_gs.fit(\n",
    "    X_tot[SITE].values,\n",
    "    X_tot['label'].values\n",
    ")"
   ]
  },
  {
   "cell_type": "code",
   "execution_count": null,
   "id": "3fff6a54",
   "metadata": {
    "ExecuteTime": {
     "end_time": "2024-08-28T19:26:10.255506Z",
     "start_time": "2024-08-28T19:26:10.179941Z"
    },
    "hidden": true
   },
   "outputs": [],
   "source": [
    "osr_gs.best_score_"
   ]
  },
  {
   "cell_type": "code",
   "execution_count": null,
   "id": "f327c288",
   "metadata": {
    "ExecuteTime": {
     "end_time": "2024-08-28T19:26:10.279981Z",
     "start_time": "2024-08-28T19:26:10.257618Z"
    },
    "hidden": true
   },
   "outputs": [],
   "source": [
    "osr_gs.best_params_"
   ]
  },
  {
   "cell_type": "code",
   "execution_count": null,
   "id": "a252a82a",
   "metadata": {
    "ExecuteTime": {
     "end_time": "2024-08-28T19:26:48.808948Z",
     "start_time": "2024-08-28T19:26:48.698401Z"
    },
    "hidden": true
   },
   "outputs": [],
   "source": [
    "fom = osr_gs.best_estimator_.named_steps['model'].figures_of_merit(\n",
    "    osr_gs.best_estimator_.predict(X_tot[SITE].values),\n",
    "    X_tot['label'].values\n",
    ")"
   ]
  },
  {
   "cell_type": "code",
   "execution_count": null,
   "id": "22e282c0",
   "metadata": {
    "ExecuteTime": {
     "end_time": "2024-08-28T19:26:50.492894Z",
     "start_time": "2024-08-28T19:26:50.469365Z"
    },
    "hidden": true
   },
   "outputs": [],
   "source": [
    "df_ = fom['CM'].copy()"
   ]
  },
  {
   "cell_type": "code",
   "execution_count": null,
   "id": "b8c8900e",
   "metadata": {
    "ExecuteTime": {
     "end_time": "2024-08-28T19:26:50.676006Z",
     "start_time": "2024-08-28T19:26:50.626482Z"
    },
    "hidden": true
   },
   "outputs": [],
   "source": [
    "df2_ = df_.rename({'Unknown':'OOD = Abroad', 'Authentic SLO':'Authentic'}, axis=1).rename({'Authentic SLO':'Authentic'}, axis=0)"
   ]
  },
  {
   "cell_type": "code",
   "execution_count": null,
   "id": "4cff6644",
   "metadata": {
    "ExecuteTime": {
     "end_time": "2024-08-28T19:26:51.097503Z",
     "start_time": "2024-08-28T19:26:51.031707Z"
    },
    "hidden": true
   },
   "outputs": [],
   "source": [
    "df2_"
   ]
  },
  {
   "cell_type": "code",
   "execution_count": null,
   "id": "f6645d23",
   "metadata": {
    "ExecuteTime": {
     "end_time": "2024-08-28T19:26:51.555236Z",
     "start_time": "2024-08-28T19:26:51.461070Z"
    },
    "hidden": true
   },
   "outputs": [],
   "source": [
    "pd.DataFrame(data=[[7+15, 0], [36, 45]], columns=['Abroad','Authentic']).rename({0:'Abroad', 1:'Authentic'}, axis=0)"
   ]
  },
  {
   "cell_type": "code",
   "execution_count": null,
   "id": "0a838a98",
   "metadata": {
    "ExecuteTime": {
     "end_time": "2024-08-28T19:26:59.386905Z",
     "start_time": "2024-08-28T19:26:59.337733Z"
    },
    "hidden": true
   },
   "outputs": [],
   "source": [
    "fom['I']"
   ]
  },
  {
   "cell_type": "code",
   "execution_count": null,
   "id": "6a806f53",
   "metadata": {
    "ExecuteTime": {
     "end_time": "2024-08-28T19:26:59.848762Z",
     "start_time": "2024-08-28T19:26:59.824569Z"
    },
    "hidden": true
   },
   "outputs": [],
   "source": [
    "fom['TSNS'], fom['TSPS'], fom['TEFF']"
   ]
  },
  {
   "cell_type": "code",
   "execution_count": null,
   "id": "b4fddc18",
   "metadata": {
    "ExecuteTime": {
     "end_time": "2024-08-28T19:27:20.067477Z",
     "start_time": "2024-08-28T19:27:19.994859Z"
    },
    "hidden": true
   },
   "outputs": [],
   "source": [
    "osr_gs.best_estimator_.named_steps['model'].clf_.oob_score_"
   ]
  },
  {
   "cell_type": "code",
   "execution_count": null,
   "id": "7750e67c",
   "metadata": {
    "ExecuteTime": {
     "end_time": "2024-08-28T19:27:26.875745Z",
     "start_time": "2024-08-28T19:27:26.793633Z"
    },
    "hidden": true
   },
   "outputs": [],
   "source": [
    "osr_gs.best_estimator_.named_steps['model'].clf_"
   ]
  },
  {
   "cell_type": "code",
   "execution_count": null,
   "id": "ef7fc866",
   "metadata": {
    "ExecuteTime": {
     "end_time": "2024-08-28T19:27:27.052280Z",
     "start_time": "2024-08-28T19:27:26.987027Z"
    },
    "hidden": true,
    "scrolled": true
   },
   "outputs": [],
   "source": [
    "sorted(zip(SITE, osr_gs.best_estimator_.named_steps['model'].clf_.feature_importances_), key=lambda x: np.abs(x[1]), reverse=True)"
   ]
  },
  {
   "cell_type": "code",
   "execution_count": null,
   "id": "320b3892",
   "metadata": {
    "ExecuteTime": {
     "end_time": "2024-08-28T19:28:00.342254Z",
     "start_time": "2024-08-28T19:27:41.751868Z"
    },
    "hidden": true
   },
   "outputs": [],
   "source": [
    "res = permutation_importance(\n",
    "    osr_gs, \n",
    "    X_tot[SITE].values,\n",
    "    X_tot['label'].values,\n",
    "    n_repeats=20,\n",
    "    random_state=42\n",
    ")"
   ]
  },
  {
   "cell_type": "code",
   "execution_count": null,
   "id": "e4b5811c",
   "metadata": {
    "ExecuteTime": {
     "end_time": "2024-08-28T19:28:00.393442Z",
     "start_time": "2024-08-28T19:28:00.344955Z"
    },
    "hidden": true
   },
   "outputs": [],
   "source": [
    "sort_ = sorted(zip(SITE, res['importances_mean']), key=lambda x:np.abs(x[1]), reverse=True)\n",
    "sort_"
   ]
  },
  {
   "cell_type": "code",
   "execution_count": null,
   "id": "f85f5be5",
   "metadata": {
    "ExecuteTime": {
     "end_time": "2024-08-28T19:28:01.389842Z",
     "start_time": "2024-08-28T19:28:00.394802Z"
    },
    "hidden": true
   },
   "outputs": [],
   "source": [
    "fig, ax = plt.subplots(nrows=1, ncols=1, figsize=(3,5))\n",
    "ax.plot(\n",
    "    np.arange(6),\n",
    "    [a[1] for a in sort_[:6]]\n",
    ")\n",
    "_ = plt.xticks(np.arange(6), [a[0] for a in sort_[:5]] + ['...'], fontsize=18)\n",
    "plt.yticks(fontsize=18)\n",
    "plt.axhline(0, color='k')\n",
    "plt.xlabel('SITE Feature', fontsize=20)\n",
    "plt.ylabel('PFI', fontsize=20)\n",
    "plt.title('RF OSR (TEFF)', fontsize=22)\n",
    "\n",
    "plt.savefig(\"fig5e.png\", transparent=None, dpi=600, format=\"png\",\n",
    "        metadata=None, bbox_inches='tight', pad_inches=0.1,\n",
    "        facecolor='auto', edgecolor='auto', backend=None)"
   ]
  },
  {
   "cell_type": "code",
   "execution_count": null,
   "id": "25b59877",
   "metadata": {
    "ExecuteTime": {
     "end_time": "2024-08-28T19:28:01.586031Z",
     "start_time": "2024-08-28T19:28:01.391817Z"
    },
    "hidden": true
   },
   "outputs": [],
   "source": [
    "fig, ax = plt.subplots(nrows=1, ncols=1, figsize=(3,5))\n",
    "ax.plot(\n",
    "    np.arange(20),\n",
    "    [a[1] for a in sort_[:20]]\n",
    ")"
   ]
  },
  {
   "cell_type": "markdown",
   "id": "e213939e",
   "metadata": {
    "heading_collapsed": true,
    "hidden": true
   },
   "source": [
    "### ACC"
   ]
  },
  {
   "cell_type": "code",
   "execution_count": null,
   "id": "6068ef1c",
   "metadata": {
    "ExecuteTime": {
     "end_time": "2024-08-28T19:28:23.349491Z",
     "start_time": "2024-08-28T19:28:23.268036Z"
    },
    "hidden": true
   },
   "outputs": [],
   "source": [
    "# Fit model on entire dataset, but do not use feature selector so that we can see how it chooses to use all of them\n",
    "osracc_param_grid = [{\n",
    "    'model__clf_kwargs':[{'n_estimators':n, 'random_state':42, 'class_weight':'balanced', 'oob_score':True, 'max_features':None} for n in [20, 50, 100, 150, 200]],\n",
    "    'model__outlier_kwargs':[\n",
    "        {'n_estimators': n, \n",
    "         'max_samples': 'auto', \n",
    "         'contamination': c,\n",
    "         'max_features': 1.0, \n",
    "         'bootstrap':True,\n",
    "         'n_jobs':-1, \n",
    "         'random_state':42} for n in [10, 20, 50, 100] for c in [0.001, 0.01, 0.1, 0.5]\n",
    "    ],\n",
    "}]\n",
    "\n",
    "osracc_pipeline = make_pipe(\n",
    "    osr.OpenSetClassifier(\n",
    "        clf_model=RandomForestClassifier,\n",
    "        outlier_model=IsolationForest,\n",
    "        clf_kwargs={},\n",
    "        outlier_kwargs={},\n",
    "        known_classes=['Authentic SLO', 'Abroad'],\n",
    "        inlier_value=1,\n",
    "        unknown_class='Unknown',\n",
    "        score_metric='ACC',\n",
    "        clf_style='hard',\n",
    "        score_using=\"Authentic SLO\"\n",
    "    ),\n",
    "    use_feature_selector=False\n",
    ")\n",
    "\n",
    "osracc_gs = make_gs(osracc_pipeline, osracc_param_grid)"
   ]
  },
  {
   "cell_type": "code",
   "execution_count": null,
   "id": "242ce2a4",
   "metadata": {
    "ExecuteTime": {
     "end_time": "2024-08-28T19:28:34.752973Z",
     "start_time": "2024-08-28T19:28:34.717827Z"
    },
    "hidden": true
   },
   "outputs": [],
   "source": [
    "# RF OSR tends to overfit data so to get a CM we can examine, let's make a split\n",
    "X_train_, X_test_, y_train_, y_test_ = sklearn.model_selection.train_test_split(\n",
    "    X_tot[SITE].values,\n",
    "    X_tot['label'].values,\n",
    "    test_size=0.33,\n",
    "    random_state=42,\n",
    "    stratify=X_tot['label'].values\n",
    ")"
   ]
  },
  {
   "cell_type": "code",
   "execution_count": null,
   "id": "53b71e66",
   "metadata": {
    "ExecuteTime": {
     "end_time": "2024-08-28T19:28:56.974816Z",
     "start_time": "2024-08-28T19:28:39.169472Z"
    },
    "hidden": true
   },
   "outputs": [],
   "source": [
    "_ = osracc_gs.fit(\n",
    "    X_train_,\n",
    "    y_train_,\n",
    ")"
   ]
  },
  {
   "cell_type": "code",
   "execution_count": null,
   "id": "d63fdfad",
   "metadata": {
    "ExecuteTime": {
     "end_time": "2024-08-28T19:28:57.003773Z",
     "start_time": "2024-08-28T19:28:56.977206Z"
    },
    "hidden": true
   },
   "outputs": [],
   "source": [
    "osracc_gs.best_score_"
   ]
  },
  {
   "cell_type": "code",
   "execution_count": null,
   "id": "9bf4f3a2",
   "metadata": {
    "ExecuteTime": {
     "end_time": "2024-08-28T19:28:57.025040Z",
     "start_time": "2024-08-28T19:28:57.004981Z"
    },
    "hidden": true
   },
   "outputs": [],
   "source": [
    "osracc_gs.best_params_"
   ]
  },
  {
   "cell_type": "code",
   "execution_count": null,
   "id": "f489b158",
   "metadata": {
    "ExecuteTime": {
     "end_time": "2024-08-28T19:28:57.138095Z",
     "start_time": "2024-08-28T19:28:57.026695Z"
    },
    "hidden": true
   },
   "outputs": [],
   "source": [
    "fom = osracc_gs.best_estimator_.named_steps['model'].figures_of_merit(\n",
    "    osracc_gs.best_estimator_.predict(X_test_), \n",
    "    y_test_,\n",
    ")"
   ]
  },
  {
   "cell_type": "code",
   "execution_count": null,
   "id": "b0626642",
   "metadata": {
    "ExecuteTime": {
     "end_time": "2024-08-28T19:28:57.213711Z",
     "start_time": "2024-08-28T19:28:57.147297Z"
    },
    "hidden": true
   },
   "outputs": [],
   "source": [
    "fom['CM']"
   ]
  },
  {
   "cell_type": "code",
   "execution_count": null,
   "id": "69d2a651",
   "metadata": {
    "ExecuteTime": {
     "end_time": "2024-08-28T19:28:57.311719Z",
     "start_time": "2024-08-28T19:28:57.217708Z"
    },
    "hidden": true
   },
   "outputs": [],
   "source": [
    "# Similar performance as DDSIMCA with ACC, but \"opposite\" (high TSNS, low TSPS) from when optimizing TEFF\n",
    "fom"
   ]
  },
  {
   "cell_type": "markdown",
   "id": "45b1d078",
   "metadata": {
    "heading_collapsed": true,
    "hidden": true
   },
   "source": [
    "## RF"
   ]
  },
  {
   "cell_type": "code",
   "execution_count": null,
   "id": "59410ec6",
   "metadata": {
    "ExecuteTime": {
     "end_time": "2024-08-28T19:29:49.627627Z",
     "start_time": "2024-08-28T19:29:49.575862Z"
    },
    "hidden": true
   },
   "outputs": [],
   "source": [
    "# Fit model on entire dataset, but do not use feature selector so that we can see how it chooses to use all of them\n",
    "rf_param_grid = [{\n",
    "    'model__n_estimators':[50, 100, 150, 200],\n",
    "    'model__max_features':[None]\n",
    "}]\n",
    "\n",
    "rf_pipeline = make_pipe(\n",
    "    RandomForestClassifier(\n",
    "        n_estimators=100, \n",
    "        random_state=42, \n",
    "        oob_score=True, \n",
    "        class_weight='balanced',\n",
    "        max_features=None\n",
    "    ),\n",
    "    use_feature_selector=False\n",
    ")\n",
    "\n",
    "rf_gs = make_gs(rf_pipeline, rf_param_grid)"
   ]
  },
  {
   "cell_type": "code",
   "execution_count": null,
   "id": "d69efe64",
   "metadata": {
    "ExecuteTime": {
     "end_time": "2024-08-28T19:29:51.778075Z",
     "start_time": "2024-08-28T19:29:50.744624Z"
    },
    "hidden": true
   },
   "outputs": [],
   "source": [
    "_ = rf_gs.fit(\n",
    "    X_tot[SITE].values,\n",
    "    X_tot['label'].values\n",
    ")"
   ]
  },
  {
   "cell_type": "code",
   "execution_count": null,
   "id": "64f947b9",
   "metadata": {
    "ExecuteTime": {
     "end_time": "2024-08-28T19:29:52.014930Z",
     "start_time": "2024-08-28T19:29:51.798192Z"
    },
    "hidden": true
   },
   "outputs": [],
   "source": [
    "rf_gs.score(\n",
    "    X_tot[SITE].values,\n",
    "    X_tot['label'].values\n",
    ")"
   ]
  },
  {
   "cell_type": "code",
   "execution_count": null,
   "id": "bcb1270b",
   "metadata": {
    "ExecuteTime": {
     "end_time": "2024-08-28T19:29:52.164020Z",
     "start_time": "2024-08-28T19:29:52.022967Z"
    },
    "hidden": true
   },
   "outputs": [],
   "source": [
    "rf_gs.best_params_"
   ]
  },
  {
   "cell_type": "code",
   "execution_count": null,
   "id": "17146b7e",
   "metadata": {
    "ExecuteTime": {
     "end_time": "2024-08-28T19:29:54.320189Z",
     "start_time": "2024-08-28T19:29:54.251816Z"
    },
    "hidden": true
   },
   "outputs": [],
   "source": [
    "rf_gs.best_estimator_.named_steps['model'].oob_score_"
   ]
  },
  {
   "cell_type": "code",
   "execution_count": null,
   "id": "614f0e3b",
   "metadata": {
    "ExecuteTime": {
     "end_time": "2024-08-28T19:29:58.950834Z",
     "start_time": "2024-08-28T19:29:58.891952Z"
    },
    "hidden": true
   },
   "outputs": [],
   "source": [
    "sorted(zip(SITE, rf_gs.best_estimator_.named_steps['model'].feature_importances_), key=lambda x: np.abs(x[1]), reverse=True)"
   ]
  },
  {
   "cell_type": "code",
   "execution_count": null,
   "id": "57bb5ec2",
   "metadata": {
    "ExecuteTime": {
     "end_time": "2024-08-28T19:30:10.593128Z",
     "start_time": "2024-08-28T19:29:59.811630Z"
    },
    "hidden": true
   },
   "outputs": [],
   "source": [
    "res = permutation_importance(\n",
    "    rf_gs, \n",
    "    X_tot[SITE].values,\n",
    "    X_tot['label'].values,\n",
    "    n_repeats=20,\n",
    "    random_state=42\n",
    ")"
   ]
  },
  {
   "cell_type": "code",
   "execution_count": null,
   "id": "99e4c377",
   "metadata": {
    "ExecuteTime": {
     "end_time": "2024-08-28T19:30:10.669181Z",
     "start_time": "2024-08-28T19:30:10.596296Z"
    },
    "hidden": true
   },
   "outputs": [],
   "source": [
    "sort_ = sorted(zip(SITE, res['importances_mean'], res['importances_std']), key=lambda x:np.abs(x[1]), reverse=True)\n",
    "sort_"
   ]
  },
  {
   "cell_type": "code",
   "execution_count": null,
   "id": "74b42db8",
   "metadata": {
    "ExecuteTime": {
     "end_time": "2024-08-28T19:30:11.877435Z",
     "start_time": "2024-08-28T19:30:10.672904Z"
    },
    "hidden": true
   },
   "outputs": [],
   "source": [
    "fig, ax = plt.subplots(nrows=1, ncols=1, figsize=(3,5))\n",
    "ax.plot(\n",
    "    np.arange(6),\n",
    "    [np.abs(a[1]) for a in sort_[:6]]\n",
    ")\n",
    "_ = plt.xticks(np.arange(6), [a[0] for a in sort_[:5]] + ['...'], fontsize=18)\n",
    "plt.yticks(fontsize=18)\n",
    "plt.axhline(0, color='k')\n",
    "plt.xlabel('SITE Feature', fontsize=20)\n",
    "plt.ylabel('PFI', fontsize=20)\n",
    "plt.title('Random Forest', fontsize=22)\n",
    "\n",
    "plt.savefig(\"fig5d.png\", transparent=None, dpi=600, format=\"png\",\n",
    "        metadata=None, bbox_inches='tight', pad_inches=0.1,\n",
    "        facecolor='auto', edgecolor='auto', backend=None)"
   ]
  },
  {
   "cell_type": "markdown",
   "id": "00624ca6",
   "metadata": {
    "heading_collapsed": true,
    "hidden": true
   },
   "source": [
    "## Decision Tree Stump"
   ]
  },
  {
   "cell_type": "code",
   "execution_count": null,
   "id": "e66774ca",
   "metadata": {
    "ExecuteTime": {
     "end_time": "2024-08-28T19:30:29.356903Z",
     "start_time": "2024-08-28T19:30:29.267360Z"
    },
    "hidden": true
   },
   "outputs": [],
   "source": [
    "# Fit model on entire dataset, but do not use feature selector so that we can see how it chooses to use all of them\n",
    "dt_param_grid = [{\n",
    "    'model__max_depth':[1], # Force a stump\n",
    "}]\n",
    "\n",
    "dt_pipeline = make_pipe(\n",
    "    DecisionTreeClassifier(\n",
    "        max_depth=1,\n",
    "        random_state=42,\n",
    "        class_weight='balanced'\n",
    "    ),\n",
    "    use_feature_selector=False, # Let it see all the features\n",
    ")\n",
    "\n",
    "dt_gs = make_gs(dt_pipeline, dt_param_grid)"
   ]
  },
  {
   "cell_type": "code",
   "execution_count": null,
   "id": "95ba8dd4",
   "metadata": {
    "ExecuteTime": {
     "end_time": "2024-08-28T19:30:33.038212Z",
     "start_time": "2024-08-28T19:30:32.843227Z"
    },
    "hidden": true
   },
   "outputs": [],
   "source": [
    "_ = dt_gs.fit(\n",
    "    X_tot[SITE].values,\n",
    "    X_tot['label'].values\n",
    ")"
   ]
  },
  {
   "cell_type": "code",
   "execution_count": null,
   "id": "fa4c0145",
   "metadata": {
    "ExecuteTime": {
     "end_time": "2024-08-28T19:30:38.969544Z",
     "start_time": "2024-08-28T19:30:38.917077Z"
    },
    "hidden": true
   },
   "outputs": [],
   "source": [
    "dt_gs.score(\n",
    "    X_tot[SITE].values,\n",
    "    X_tot['label'].values\n",
    ")"
   ]
  },
  {
   "cell_type": "code",
   "execution_count": null,
   "id": "a2801641",
   "metadata": {
    "ExecuteTime": {
     "end_time": "2024-08-28T19:30:47.628756Z",
     "start_time": "2024-08-28T19:30:47.556669Z"
    },
    "hidden": true
   },
   "outputs": [],
   "source": [
    "dt_gs"
   ]
  },
  {
   "cell_type": "code",
   "execution_count": null,
   "id": "61a0f9f9",
   "metadata": {
    "ExecuteTime": {
     "end_time": "2024-08-28T19:30:53.823837Z",
     "start_time": "2024-08-28T19:30:53.377838Z"
    },
    "hidden": true
   },
   "outputs": [],
   "source": [
    "from sklearn.tree import plot_tree\n",
    "\n",
    "fig = plt.figure(figsize=(8,4))\n",
    "artists = plot_tree(\n",
    "    dt_gs.best_estimator_.named_steps['model'],\n",
    "    feature_names=list(SITE),\n",
    "    class_names=dt_gs.best_estimator_.classes_.tolist(),\n",
    "    label='root',\n",
    "    filled=True,\n",
    "    proportion=False,\n",
    "    impurity=False,\n",
    "    ax=fig.gca(),\n",
    "    fontsize=22,\n",
    "    rounded=True,\n",
    "    precision=3,\n",
    ")\n",
    "plt.tight_layout()\n",
    "\n",
    "# De-scale units\n",
    "d = {a[0]: (a[1], a[2]) for a in list(zip(SITE, dt_gs.best_estimator_.named_steps['autoscaler']._CorrectedScaler__mean_, dt_gs.best_estimator_.named_steps['autoscaler']._CorrectedScaler__std_))}"
   ]
  },
  {
   "cell_type": "code",
   "execution_count": null,
   "id": "17b7a7be",
   "metadata": {
    "ExecuteTime": {
     "end_time": "2024-08-28T19:31:13.071743Z",
     "start_time": "2024-08-28T19:31:13.011423Z"
    },
    "hidden": true
   },
   "outputs": [],
   "source": [
    "def train_stump(site='Na'):\n",
    "    idx = np.where(SITE == site)[0][0]\n",
    "    \n",
    "    steps = []\n",
    "    \n",
    "    if idx >= 3:\n",
    "        # Only impute for trace elements\n",
    "        steps += [(\"imputer\", LOD( # Impute < LOD\n",
    "            lod=[lod[site]], \n",
    "            missing_values=np.nan, \n",
    "            seed=42,\n",
    "        ))]\n",
    "        \n",
    "    steps += [(\"model\", DecisionTreeClassifier(\n",
    "        max_depth=1,\n",
    "        random_state=42,\n",
    "        class_weight='balanced'\n",
    "    ))]\n",
    "    \n",
    "    pipeline = imblearn.pipeline.Pipeline(steps=steps)\n",
    "    \n",
    "    _ = pipeline.fit(\n",
    "        X_tot[site].values.reshape(-1,1), \n",
    "        X_tot['label'].values\n",
    "    )\n",
    "    \n",
    "    fig = plt.figure(figsize=(8,4))\n",
    "    artists = plot_tree(\n",
    "        pipeline.named_steps['model'],\n",
    "        feature_names=[site],\n",
    "        class_names=pipeline.named_steps['model'].classes_.tolist(),\n",
    "        label='root',\n",
    "        filled=True,\n",
    "        proportion=False,\n",
    "        impurity=False,\n",
    "        ax=fig.gca(),\n",
    "        fontsize=22,\n",
    "        rounded=True,\n",
    "        precision=3,\n",
    "    )\n",
    "    plt.tight_layout()\n",
    "    \n",
    "    def fix_naming(string):\n",
    "        s = string.split('\\n')\n",
    "        if len(s) == 4:\n",
    "            s = [s[0], s[1]]\n",
    "        else:\n",
    "            s = [s[0], s[2]]\n",
    "\n",
    "        if 'Authentic SLO' == s[-1]:\n",
    "            s[-1] = 'Authentic'\n",
    "        return s\n",
    "    \n",
    "    for a in artists:\n",
    "        a.set_text('\\n'.join(fix_naming(a.get_text())))\n",
    "    \n",
    "    return pipeline, pipeline.score(X_tot[site].values.reshape(-1,1),  X_tot['label'].values)"
   ]
  },
  {
   "cell_type": "code",
   "execution_count": null,
   "id": "66d1c83a",
   "metadata": {
    "ExecuteTime": {
     "end_time": "2024-08-28T19:31:13.956879Z",
     "start_time": "2024-08-28T19:31:13.665916Z"
    },
    "hidden": true
   },
   "outputs": [],
   "source": [
    "p_, score_ = train_stump('Sr')\n",
    "score_"
   ]
  },
  {
   "cell_type": "code",
   "execution_count": null,
   "id": "d3c590a0",
   "metadata": {
    "ExecuteTime": {
     "end_time": "2024-08-28T19:31:14.262524Z",
     "start_time": "2024-08-28T19:31:13.961470Z"
    },
    "hidden": true
   },
   "outputs": [],
   "source": [
    "p_, score_ = train_stump('Mo')\n",
    "score_"
   ]
  },
  {
   "cell_type": "markdown",
   "id": "c820ef5c",
   "metadata": {
    "heading_collapsed": true,
    "hidden": true
   },
   "source": [
    "## DT Depth 2"
   ]
  },
  {
   "cell_type": "code",
   "execution_count": null,
   "id": "f1a7390d",
   "metadata": {
    "ExecuteTime": {
     "end_time": "2024-08-28T19:31:32.998179Z",
     "start_time": "2024-08-28T19:31:32.925644Z"
    },
    "hidden": true
   },
   "outputs": [],
   "source": [
    "# Fit model on entire dataset, but do not use feature selector so that we can see how it chooses to use all of them\n",
    "dt2_param_grid = [{\n",
    "    'model__max_depth':[2], \n",
    "}]\n",
    "\n",
    "dt2_pipeline = make_pipe(\n",
    "    DecisionTreeClassifier(\n",
    "        max_depth=1,\n",
    "        random_state=42,\n",
    "        class_weight='balanced'\n",
    "    ),\n",
    "    use_feature_selector=False, # Let it see all the features\n",
    ")\n",
    "\n",
    "dt2_gs = make_gs(dt2_pipeline, dt2_param_grid)"
   ]
  },
  {
   "cell_type": "code",
   "execution_count": null,
   "id": "058afe02",
   "metadata": {
    "ExecuteTime": {
     "end_time": "2024-08-28T19:31:33.991775Z",
     "start_time": "2024-08-28T19:31:33.691155Z"
    },
    "hidden": true
   },
   "outputs": [],
   "source": [
    "_ = dt2_gs.fit(\n",
    "    X_tot[SITE].values,\n",
    "    X_tot['label'].values\n",
    ")"
   ]
  },
  {
   "cell_type": "code",
   "execution_count": null,
   "id": "40111471",
   "metadata": {
    "ExecuteTime": {
     "end_time": "2024-08-28T19:31:34.140710Z",
     "start_time": "2024-08-28T19:31:34.010903Z"
    },
    "hidden": true
   },
   "outputs": [],
   "source": [
    "dt2_gs.score(\n",
    "    X_tot[SITE].values,\n",
    "    X_tot['label'].values\n",
    ")"
   ]
  },
  {
   "cell_type": "code",
   "execution_count": null,
   "id": "1741f718",
   "metadata": {
    "ExecuteTime": {
     "end_time": "2024-08-28T19:31:37.867980Z",
     "start_time": "2024-08-28T19:31:37.492231Z"
    },
    "hidden": true
   },
   "outputs": [],
   "source": [
    "from sklearn.tree import plot_tree\n",
    "\n",
    "fig = plt.figure(figsize=(16,4))\n",
    "artists = plot_tree(\n",
    "    dt2_gs.best_estimator_.named_steps['model'],\n",
    "    feature_names=list(SITE),\n",
    "    class_names=dt2_gs.best_estimator_.classes_.tolist(),\n",
    "    label='root',\n",
    "    filled=True,\n",
    "    proportion=False,\n",
    "    impurity=False,\n",
    "    ax=fig.gca(),\n",
    "    fontsize=22,\n",
    "    rounded=True,\n",
    "    precision=3,\n",
    ")\n",
    "plt.tight_layout()\n",
    "\n",
    "# De-scale units\n",
    "d = {a[0]: (a[1], a[2]) for a in list(zip(SITE, dt2_gs.best_estimator_.named_steps['autoscaler']._CorrectedScaler__mean_, dt2_gs.best_estimator_.named_steps['autoscaler']._CorrectedScaler__std_))}"
   ]
  },
  {
   "cell_type": "code",
   "execution_count": null,
   "id": "678beaf0",
   "metadata": {
    "ExecuteTime": {
     "end_time": "2024-08-28T19:31:54.763813Z",
     "start_time": "2024-08-28T19:31:54.680528Z"
    },
    "hidden": true
   },
   "outputs": [],
   "source": [
    "-0.564*d['Mo'][1] + d['Mo'][0], 0.078*d['Sr'][1] + d['Sr'][0]"
   ]
  },
  {
   "cell_type": "code",
   "execution_count": null,
   "id": "ebbec136",
   "metadata": {
    "ExecuteTime": {
     "end_time": "2024-08-28T19:32:04.457854Z",
     "start_time": "2024-08-28T19:32:02.970799Z"
    },
    "hidden": true
   },
   "outputs": [],
   "source": [
    "# Make a tree with these explicit features for visualization\n",
    "\n",
    "X_ = X_tot[['Mo', 'Sr']].values\n",
    "\n",
    "tree_ = DecisionTreeClassifier(\n",
    "        max_depth=2,\n",
    "        random_state=42,\n",
    "        class_weight='balanced'\n",
    "    )\n",
    "\n",
    "_ = tree_.fit(\n",
    "    X_,\n",
    "    X_tot['label'].values\n",
    ")\n",
    "\n",
    "fig = plt.figure(figsize=(8,6))\n",
    "artists = plot_tree(\n",
    "    tree_,\n",
    "    feature_names=['Mo', 'Sr'],\n",
    "    class_names=tree_.classes_.tolist(),\n",
    "    label='root',\n",
    "    filled=True,\n",
    "    proportion=False,\n",
    "    impurity=False,\n",
    "    ax=fig.gca(),\n",
    "    fontsize=22,\n",
    "    rounded=True,\n",
    "    precision=3,\n",
    ")\n",
    "\n",
    "artists[0].set_text('Mo <= 20.213\\nsamples = 103')\n",
    "artists[1].set_text('33\\nAuthentic')\n",
    "artists[2].set_text('Sr <= 0.591\\n70')\n",
    "artists[3].set_text('43\\nAuthentic ')\n",
    "artists[4].set_text('27\\nAbroad')\n",
    "\n",
    "plt.savefig(\"fig5f_1.png\", transparent=None, dpi=600, format=\"png\",\n",
    "        metadata=None, bbox_inches='tight', pad_inches=0.1,\n",
    "        facecolor='auto', edgecolor='auto', backend=None)"
   ]
  },
  {
   "cell_type": "code",
   "execution_count": null,
   "id": "c6b6ca67",
   "metadata": {
    "ExecuteTime": {
     "end_time": "2024-08-28T19:32:20.315858Z",
     "start_time": "2024-08-28T19:32:18.532132Z"
    },
    "hidden": true
   },
   "outputs": [],
   "source": [
    "from sklearn.inspection import DecisionBoundaryDisplay\n",
    "\n",
    "fig = plt.figure(figsize=(4,4))\n",
    "ax = fig.gca()\n",
    "\n",
    "ax.set_xlim(0, 150)\n",
    "ax.set_ylim(0, 3)\n",
    "\n",
    "ax.set_xticklabels([0, 25, 50, 75, 100, 125, 150], fontsize=16)\n",
    "ax.set_yticklabels([0.0, 0.5, 1.0, 1.5, 2.0, 2.5, 3.0], fontsize=16)\n",
    "\n",
    "_ = DecisionBoundaryDisplay.from_estimator(\n",
    "    tree_, \n",
    "    X_, \n",
    "    response_method='predict', \n",
    "    ax=ax,\n",
    "    eps=10,\n",
    "    grid_resolution=1000,\n",
    "    xlabel=\"Mo\",\n",
    "    ylabel=\"Sr\"\n",
    ")\n",
    "\n",
    "mask = X_tot['label'] == 'Authentic SLO'\n",
    "ax.plot(X_tot['Mo'][mask].values, X_tot['Sr'][mask].values, 'o', label='Authentic')\n",
    "mask = X_tot['label'] != 'Authentic SLO'\n",
    "ax.plot(X_tot['Mo'][mask].values, X_tot['Sr'][mask].values, '^', label='Abroad')\n",
    "\n",
    "ax.legend(loc='best', fontsize=18)\n",
    "\n",
    "ax.set_ylabel(r'${\\rm Sr}~(\\mu g/g)$', fontsize=20)\n",
    "ax.set_xlabel(r'${\\rm Mo}~(ng/g)$', fontsize=20)\n",
    "\n",
    "plt.savefig(\"fig5f_2.png\", transparent=None, dpi=600, format=\"png\",\n",
    "        metadata=None, bbox_inches='tight', pad_inches=0.1,\n",
    "        facecolor='auto', edgecolor='auto', backend=None)"
   ]
  },
  {
   "cell_type": "code",
   "execution_count": null,
   "id": "41303ed6",
   "metadata": {
    "ExecuteTime": {
     "end_time": "2024-08-28T19:32:46.829190Z",
     "start_time": "2024-08-28T19:32:46.766661Z"
    },
    "hidden": true
   },
   "outputs": [],
   "source": [
    "# If we compute TEFF...\n",
    "\n",
    "mask = X_tot['label'] == 'Authentic SLO'\n",
    "tsns = np.sum(tree_.predict(X_tot[['Mo', 'Sr']][mask].values) == 'Authentic SLO') / np.sum(mask)\n",
    "\n",
    "mask = X_tot['label'] == 'Abroad'\n",
    "tsps = np.sum(tree_.predict(X_tot[['Mo', 'Sr']][mask].values) == 'Abroad') / np.sum(mask)"
   ]
  },
  {
   "cell_type": "code",
   "execution_count": null,
   "id": "49eb0494",
   "metadata": {
    "ExecuteTime": {
     "end_time": "2024-08-28T19:33:08.999068Z",
     "start_time": "2024-08-28T19:33:08.950651Z"
    },
    "hidden": true
   },
   "outputs": [],
   "source": [
    "np.sqrt(tsns*tsps)"
   ]
  },
  {
   "cell_type": "code",
   "execution_count": null,
   "id": "efe042ee",
   "metadata": {
    "ExecuteTime": {
     "end_time": "2024-08-28T19:33:09.489227Z",
     "start_time": "2024-08-28T19:33:09.445188Z"
    },
    "hidden": true
   },
   "outputs": [],
   "source": [
    "tsns, tsps"
   ]
  },
  {
   "cell_type": "markdown",
   "id": "4ffdfa11",
   "metadata": {
    "heading_collapsed": true,
    "hidden": true
   },
   "source": [
    "## Comparison"
   ]
  },
  {
   "cell_type": "code",
   "execution_count": null,
   "id": "5a8fdbce",
   "metadata": {
    "ExecuteTime": {
     "end_time": "2024-08-21T18:45:41.839073Z",
     "start_time": "2024-08-21T18:45:41.784813Z"
    },
    "hidden": true
   },
   "outputs": [],
   "source": [
    "# RF\n",
    "\n",
    "rf_param_grid = [{\n",
    "    'model__n_estimators':[50, 100, 150, 200],\n",
    "    'model__max_features':['sqrt', None],\n",
    "    'feature_selector__estimator': [\n",
    "        CollinearFeatureSelector(t=0.0, seed=42, minimize_label_entropy=False),\n",
    "        CollinearFeatureSelector(t=0.2, seed=42, minimize_label_entropy=False),\n",
    "        CollinearFeatureSelector(t=0.4, seed=42, minimize_label_entropy=False),\n",
    "        CollinearFeatureSelector(t=0.6, seed=42, minimize_label_entropy=False),\n",
    "        CollinearFeatureSelector(t=0.8, seed=42, minimize_label_entropy=False),\n",
    "        CollinearFeatureSelector(t=1.0, seed=42, minimize_label_entropy=False),\n",
    "    ]\n",
    "}]\n",
    "\n",
    "rf_pipeline = make_pipe(\n",
    "    RandomForestClassifier(\n",
    "        n_estimators=100, \n",
    "        random_state=42, \n",
    "        oob_score=True, \n",
    "        class_weight='balanced',\n",
    "        max_features=None\n",
    "    ),\n",
    ")\n",
    "\n",
    "rf_gs = make_gs(rf_pipeline, rf_param_grid)"
   ]
  },
  {
   "cell_type": "code",
   "execution_count": null,
   "id": "c9f67f57",
   "metadata": {
    "ExecuteTime": {
     "end_time": "2024-08-21T18:45:47.979042Z",
     "start_time": "2024-08-21T18:45:47.925243Z"
    },
    "hidden": true
   },
   "outputs": [],
   "source": [
    "# DD-SIMCA\n",
    "\n",
    "dds_param_grid = [{\n",
    "    'model__n_components':np.arange(1, 10),\n",
    "    'model__alpha':np.logspace(-5, np.log10(0.5), 10),\n",
    "    'feature_selector__estimator': [\n",
    "        CollinearFeatureSelector(t=0.0, seed=42, minimize_label_entropy=False),\n",
    "        CollinearFeatureSelector(t=0.2, seed=42, minimize_label_entropy=False),\n",
    "        CollinearFeatureSelector(t=0.4, seed=42, minimize_label_entropy=False),\n",
    "        CollinearFeatureSelector(t=0.6, seed=42, minimize_label_entropy=False),\n",
    "        CollinearFeatureSelector(t=0.8, seed=42, minimize_label_entropy=False),\n",
    "        CollinearFeatureSelector(t=1.0, seed=42, minimize_label_entropy=False),\n",
    "    ]\n",
    "}]\n",
    "\n",
    "dds_pipeline = make_pipe(\n",
    "    SIMCA_Authenticator(\n",
    "        n_components=1,\n",
    "        alpha=0.05,\n",
    "        scale_x=True,\n",
    "        style='dd-simca',\n",
    "        target_class='Authentic SLO',\n",
    "        use='compliant'\n",
    "    ),\n",
    ")\n",
    "\n",
    "dds_gs = make_gs(dds_pipeline, dds_param_grid)"
   ]
  },
  {
   "cell_type": "code",
   "execution_count": null,
   "id": "6df29aeb",
   "metadata": {
    "ExecuteTime": {
     "end_time": "2024-08-21T18:46:27.610183Z",
     "start_time": "2024-08-21T18:46:27.557504Z"
    },
    "hidden": true
   },
   "outputs": [],
   "source": [
    "# DD-SIMCA - accuracy\n",
    "\n",
    "ddsacc_param_grid = [{\n",
    "    'model__n_components':np.arange(1, 10),\n",
    "    'model__alpha':np.logspace(-5, np.log10(0.5), 10),\n",
    "    'feature_selector__estimator': [\n",
    "        CollinearFeatureSelector(t=0.0, seed=42, minimize_label_entropy=False),\n",
    "        CollinearFeatureSelector(t=0.2, seed=42, minimize_label_entropy=False),\n",
    "        CollinearFeatureSelector(t=0.4, seed=42, minimize_label_entropy=False),\n",
    "        CollinearFeatureSelector(t=0.6, seed=42, minimize_label_entropy=False),\n",
    "        CollinearFeatureSelector(t=0.8, seed=42, minimize_label_entropy=False),\n",
    "        CollinearFeatureSelector(t=1.0, seed=42, minimize_label_entropy=False),\n",
    "    ]\n",
    "}]\n",
    "\n",
    "ddsacc_pipeline = make_pipe(\n",
    "    SIMCA_Authenticator(\n",
    "        n_components=1,\n",
    "        alpha=0.05,\n",
    "        scale_x=True,\n",
    "        style='dd-simca',\n",
    "        target_class='Authentic SLO',\n",
    "        use='acc'\n",
    "    ),\n",
    ")\n",
    "\n",
    "ddsacc_gs = make_gs(ddsacc_pipeline, ddsacc_param_grid)"
   ]
  },
  {
   "cell_type": "code",
   "execution_count": null,
   "id": "0383c7e6",
   "metadata": {
    "ExecuteTime": {
     "end_time": "2024-08-21T18:46:32.772841Z",
     "start_time": "2024-08-21T18:46:32.704516Z"
    },
    "hidden": true
   },
   "outputs": [],
   "source": [
    "# UNEQ\n",
    "\n",
    "uneq_param_grid = [{\n",
    "    'model__alpha':np.logspace(-5, np.log10(0.5), 10),\n",
    "    'feature_selector__estimator': [\n",
    "        CollinearFeatureSelector(t=0.0, seed=42, minimize_label_entropy=False),\n",
    "        CollinearFeatureSelector(t=0.2, seed=42, minimize_label_entropy=False),\n",
    "        CollinearFeatureSelector(t=0.4, seed=42, minimize_label_entropy=False),\n",
    "        CollinearFeatureSelector(t=0.6, seed=42, minimize_label_entropy=False),\n",
    "        CollinearFeatureSelector(t=0.8, seed=42, minimize_label_entropy=False),\n",
    "        CollinearFeatureSelector(t=1.0, seed=42, minimize_label_entropy=False),\n",
    "    ]\n",
    "}]\n",
    "\n",
    "uneq_pipeline = make_pipe(\n",
    "    EllipticManifold_Authenticator(\n",
    "        alpha=0.05,\n",
    "        robust=True, \n",
    "        center='score',\n",
    "        target_class='Authentic SLO',\n",
    "        use='compliant'\n",
    "    ),\n",
    ")\n",
    "\n",
    "uneq_gs = make_gs(uneq_pipeline, uneq_param_grid)"
   ]
  },
  {
   "cell_type": "code",
   "execution_count": null,
   "id": "06e0464c",
   "metadata": {
    "ExecuteTime": {
     "end_time": "2024-08-21T18:46:46.117574Z",
     "start_time": "2024-08-21T18:46:46.065695Z"
    },
    "hidden": true
   },
   "outputs": [],
   "source": [
    "# UNEQ - accuracy\n",
    "\n",
    "uneqacc_param_grid = [{\n",
    "    'model__alpha':np.logspace(-5, np.log10(0.5), 10),\n",
    "    'feature_selector__estimator': [\n",
    "        CollinearFeatureSelector(t=0.0, seed=42, minimize_label_entropy=False),\n",
    "        CollinearFeatureSelector(t=0.2, seed=42, minimize_label_entropy=False),\n",
    "        CollinearFeatureSelector(t=0.4, seed=42, minimize_label_entropy=False),\n",
    "        CollinearFeatureSelector(t=0.6, seed=42, minimize_label_entropy=False),\n",
    "        CollinearFeatureSelector(t=0.8, seed=42, minimize_label_entropy=False),\n",
    "        CollinearFeatureSelector(t=1.0, seed=42, minimize_label_entropy=False),\n",
    "    ]\n",
    "}]\n",
    "\n",
    "uneqacc_pipeline = make_pipe(\n",
    "    EllipticManifold_Authenticator(\n",
    "        alpha=0.05,\n",
    "        robust=True, \n",
    "        center='score',\n",
    "        target_class='Authentic SLO',\n",
    "        use='acc'\n",
    "    ),\n",
    ")\n",
    "\n",
    "uneqacc_gs = make_gs(uneqacc_pipeline, uneqacc_param_grid)"
   ]
  },
  {
   "cell_type": "code",
   "execution_count": null,
   "id": "0745e011",
   "metadata": {
    "ExecuteTime": {
     "end_time": "2024-08-21T18:46:48.728820Z",
     "start_time": "2024-08-21T18:46:48.675268Z"
    },
    "hidden": true
   },
   "outputs": [],
   "source": [
    "# DT Stump\n",
    "\n",
    "dt_param_grid = [{\n",
    "    'model__max_depth':[1], # Force a stump\n",
    "    'feature_selector__estimator': [\n",
    "        CollinearFeatureSelector(t=0.0, seed=42, minimize_label_entropy=False),\n",
    "        CollinearFeatureSelector(t=0.2, seed=42, minimize_label_entropy=False),\n",
    "        CollinearFeatureSelector(t=0.4, seed=42, minimize_label_entropy=False),\n",
    "        CollinearFeatureSelector(t=0.6, seed=42, minimize_label_entropy=False),\n",
    "        CollinearFeatureSelector(t=0.8, seed=42, minimize_label_entropy=False),\n",
    "        CollinearFeatureSelector(t=1.0, seed=42, minimize_label_entropy=False),\n",
    "    ]\n",
    "}]\n",
    "\n",
    "dt_pipeline = make_pipe(\n",
    "    DecisionTreeClassifier(\n",
    "        max_depth=1,\n",
    "        random_state=42,\n",
    "        class_weight='balanced'\n",
    "    ),\n",
    ")\n",
    "\n",
    "dt_gs = make_gs(dt_pipeline, dt_param_grid)"
   ]
  },
  {
   "cell_type": "code",
   "execution_count": null,
   "id": "78532b1e",
   "metadata": {
    "ExecuteTime": {
     "end_time": "2024-08-21T18:46:48.993848Z",
     "start_time": "2024-08-21T18:46:48.941985Z"
    },
    "hidden": true
   },
   "outputs": [],
   "source": [
    "# DT depth 2\n",
    "\n",
    "dt2_param_grid = [{\n",
    "    'model__max_depth':[2], \n",
    "    'feature_selector__estimator': [\n",
    "        CollinearFeatureSelector(t=0.0, seed=42, minimize_label_entropy=False),\n",
    "        CollinearFeatureSelector(t=0.2, seed=42, minimize_label_entropy=False),\n",
    "        CollinearFeatureSelector(t=0.4, seed=42, minimize_label_entropy=False),\n",
    "        CollinearFeatureSelector(t=0.6, seed=42, minimize_label_entropy=False),\n",
    "        CollinearFeatureSelector(t=0.8, seed=42, minimize_label_entropy=False),\n",
    "        CollinearFeatureSelector(t=1.0, seed=42, minimize_label_entropy=False),\n",
    "    ]\n",
    "}]\n",
    "\n",
    "dt2_pipeline = make_pipe(\n",
    "    DecisionTreeClassifier(\n",
    "        max_depth=2,\n",
    "        random_state=42,\n",
    "        class_weight='balanced'\n",
    "    ),\n",
    ")\n",
    "\n",
    "dt2_gs = make_gs(dt2_pipeline, dt2_param_grid)"
   ]
  },
  {
   "cell_type": "code",
   "execution_count": null,
   "id": "c8065476",
   "metadata": {
    "ExecuteTime": {
     "end_time": "2024-08-21T18:46:49.378477Z",
     "start_time": "2024-08-21T18:46:49.322361Z"
    },
    "hidden": true
   },
   "outputs": [],
   "source": [
    "# DT depth 3\n",
    "\n",
    "dt3_param_grid = [{\n",
    "    'model__max_depth':[3], \n",
    "    'feature_selector__estimator': [\n",
    "        CollinearFeatureSelector(t=0.0, seed=42, minimize_label_entropy=False),\n",
    "        CollinearFeatureSelector(t=0.2, seed=42, minimize_label_entropy=False),\n",
    "        CollinearFeatureSelector(t=0.4, seed=42, minimize_label_entropy=False),\n",
    "        CollinearFeatureSelector(t=0.6, seed=42, minimize_label_entropy=False),\n",
    "        CollinearFeatureSelector(t=0.8, seed=42, minimize_label_entropy=False),\n",
    "        CollinearFeatureSelector(t=1.0, seed=42, minimize_label_entropy=False),\n",
    "    ]\n",
    "}]\n",
    "\n",
    "dt3_pipeline = make_pipe(\n",
    "    DecisionTreeClassifier(\n",
    "        max_depth=3,\n",
    "        random_state=42,\n",
    "        class_weight='balanced'\n",
    "    ),\n",
    ")\n",
    "\n",
    "dt3_gs = make_gs(dt3_pipeline, dt3_param_grid)"
   ]
  },
  {
   "cell_type": "code",
   "execution_count": null,
   "id": "4286ce63",
   "metadata": {
    "ExecuteTime": {
     "end_time": "2024-08-21T18:46:50.957949Z",
     "start_time": "2024-08-21T18:46:50.898949Z"
    },
    "hidden": true
   },
   "outputs": [],
   "source": [
    "# RF OSR\n",
    "\n",
    "osr_param_grid = [{\n",
    "    'model__clf_kwargs':[{'n_estimators':n, 'random_state':42, 'class_weight':'balanced', 'max_features':None} for n in [20, 50, 100, 150, 200]],\n",
    "    'model__outlier_kwargs':[\n",
    "        {'n_estimators': n, \n",
    "         'max_samples': 'auto', \n",
    "         'contamination': c,\n",
    "         'max_features': 1.0, \n",
    "         'bootstrap':True,\n",
    "         'n_jobs':-1, \n",
    "         'random_state':42} for n in [10, 20, 50, 100] for c in [0.001, 0.01, 0.1, 0.5]\n",
    "    ],\n",
    "    'feature_selector__estimator': [\n",
    "        CollinearFeatureSelector(t=0.0, seed=42, minimize_label_entropy=False),\n",
    "        CollinearFeatureSelector(t=0.2, seed=42, minimize_label_entropy=False),\n",
    "        CollinearFeatureSelector(t=0.4, seed=42, minimize_label_entropy=False),\n",
    "        CollinearFeatureSelector(t=0.6, seed=42, minimize_label_entropy=False),\n",
    "        CollinearFeatureSelector(t=0.8, seed=42, minimize_label_entropy=False),\n",
    "        CollinearFeatureSelector(t=1.0, seed=42, minimize_label_entropy=False),\n",
    "    ]\n",
    "}]\n",
    "\n",
    "osr_pipeline = make_pipe(\n",
    "    osr.OpenSetClassifier(\n",
    "        clf_model=RandomForestClassifier,\n",
    "        outlier_model=IsolationForest,\n",
    "        clf_kwargs={},\n",
    "        outlier_kwargs={},\n",
    "        known_classes=['Authentic SLO', 'Abroad'],\n",
    "        inlier_value=1,\n",
    "        unknown_class='Unknown',\n",
    "        score_metric='TEFF',\n",
    "        clf_style='hard',\n",
    "        score_using=\"Authentic SLO\"\n",
    "    ),\n",
    ")\n",
    "\n",
    "osr_gs = make_gs(osr_pipeline, osr_param_grid)"
   ]
  },
  {
   "cell_type": "code",
   "execution_count": null,
   "id": "00e4956f",
   "metadata": {
    "ExecuteTime": {
     "end_time": "2024-08-21T18:47:56.050421Z",
     "start_time": "2024-08-21T18:47:56.000893Z"
    },
    "hidden": true
   },
   "outputs": [],
   "source": [
    "# RF OSR - accuracy\n",
    "\n",
    "osracc_param_grid = [{\n",
    "    'model__clf_kwargs':[{'n_estimators':n, 'random_state':42, 'class_weight':'balanced', 'max_features':None} for n in [20, 50, 100, 150, 200]],\n",
    "    'model__outlier_kwargs':[\n",
    "        {'n_estimators': n, \n",
    "         'max_samples': 'auto', \n",
    "         'contamination': c,\n",
    "         'max_features': 1.0, \n",
    "         'bootstrap':True,\n",
    "         'n_jobs':-1, \n",
    "         'random_state':42} for n in [10, 20, 50, 100] for c in [0.001, 0.01, 0.1, 0.5]\n",
    "    ],\n",
    "    'feature_selector__estimator': [\n",
    "        CollinearFeatureSelector(t=0.0, seed=42, minimize_label_entropy=False),\n",
    "        CollinearFeatureSelector(t=0.2, seed=42, minimize_label_entropy=False),\n",
    "        CollinearFeatureSelector(t=0.4, seed=42, minimize_label_entropy=False),\n",
    "        CollinearFeatureSelector(t=0.6, seed=42, minimize_label_entropy=False),\n",
    "        CollinearFeatureSelector(t=0.8, seed=42, minimize_label_entropy=False),\n",
    "        CollinearFeatureSelector(t=1.0, seed=42, minimize_label_entropy=False),\n",
    "    ]\n",
    "}]\n",
    "\n",
    "osracc_pipeline = make_pipe(\n",
    "    osr.OpenSetClassifier(\n",
    "        clf_model=RandomForestClassifier,\n",
    "        outlier_model=IsolationForest,\n",
    "        clf_kwargs={},\n",
    "        outlier_kwargs={},\n",
    "        known_classes=['Authentic SLO', 'Abroad'],\n",
    "        inlier_value=1,\n",
    "        unknown_class='Unknown',\n",
    "        score_metric='ACC',\n",
    "        clf_style='hard',\n",
    "        score_using=\"Authentic SLO\"\n",
    "    ),\n",
    ")\n",
    "\n",
    "osracc_gs = make_gs(osracc_pipeline, osracc_param_grid)"
   ]
  },
  {
   "cell_type": "code",
   "execution_count": null,
   "id": "3db8c5a1",
   "metadata": {
    "ExecuteTime": {
     "end_time": "2024-08-28T19:34:33.413681Z",
     "start_time": "2024-08-28T19:34:33.357151Z"
    },
    "hidden": true,
    "scrolled": true
   },
   "outputs": [],
   "source": [
    "rerun = False\n",
    "\n",
    "if rerun:\n",
    "    # 10x10 repeated (nested) CV\n",
    "    scores_rf, scores_dds, scores_uneq, scores_dt, scores_dt2, scores_dt3, scores_osr, scores_ddsacc, scores_uneqacc, scores_osracc  = Compare.repeated_kfold(\n",
    "        [\n",
    "            rf_gs,\n",
    "            dds_gs,\n",
    "            uneq_gs,\n",
    "            dt_gs,\n",
    "            dt2_gs,\n",
    "            dt3_gs,\n",
    "            osr_gs,\n",
    "            ddsacc_gs,\n",
    "            uneqacc_gs,\n",
    "            osracc_gs,\n",
    "        ],\n",
    "        X_tot[SITE].values,\n",
    "        X_tot['label'].values,\n",
    "        n_repeats=10,\n",
    "        k=10,\n",
    "        random_state=0\n",
    "    )\n",
    "    \n",
    "    save_results({\n",
    "            'Compliant DD-SIMCA (TEFF)': scores_dds,\n",
    "            'RF OSR (TEFF)': scores_osr,\n",
    "            'UNEQ (TEFF)': scores_uneq,\n",
    "            'DT Stump (ACC)': scores_dt,\n",
    "            'DT Depth 2 (ACC)': scores_dt2,\n",
    "            'DT Depth 3 (ACC)': scores_dt3,\n",
    "            'Random Forest (ACC)': scores_rf,\n",
    "            'Compliant DD-SIMCA (ACC)': scores_ddsacc,\n",
    "            'UNEQ (ACC)': scores_uneqacc,\n",
    "            'RF OSR (ACC)': scores_osracc,\n",
    "        },\n",
    "        filename='apple.pkl',\n",
    "    )\n",
    "else:\n",
    "    # Load previously saved results\n",
    "    scores_ = pickle.load(open('apple.pkl', 'rb'))\n",
    "\n",
    "    scores_dds = scores_['Compliant DD-SIMCA (TEFF)']\n",
    "    scores_osr = scores_['RF OSR (TEFF)']\n",
    "    scores_uneq = scores_['UNEQ (TEFF)']\n",
    "    scores_dt = scores_['DT Stump (ACC)']\n",
    "    scores_dt2 = scores_['DT Depth 2 (ACC)']\n",
    "    scores_dt3 = scores_['DT Depth 3 (ACC)']\n",
    "    scores_rf = scores_['Random Forest (ACC)']\n",
    "    scores_ddsacc = scores_['Compliant DD-SIMCA (ACC)']\n",
    "    scores_uneqacc = scores_['UNEQ (ACC)']\n",
    "    scores_osracc = scores_['RF OSR (ACC)']"
   ]
  },
  {
   "cell_type": "code",
   "execution_count": null,
   "id": "b75c3f68",
   "metadata": {
    "ExecuteTime": {
     "end_time": "2024-08-28T19:34:53.326133Z",
     "start_time": "2024-08-28T19:34:49.037676Z"
    },
    "hidden": true
   },
   "outputs": [],
   "source": [
    "ax = Compare.visualize(\n",
    "    {\n",
    "        'Compliant DD-SIMCA (TEFF)': scores_dds,\n",
    "        'RF OSR (TEFF)': scores_osr,\n",
    "        'UNEQ (TEFF)': scores_uneq,\n",
    "        'DT Stump (ACC)': scores_dt,\n",
    "        'DT Depth 2 (ACC)': scores_dt2,\n",
    "        'DT Depth 3 (ACC)': scores_dt3,\n",
    "        'Random Forest (ACC)': scores_rf,\n",
    "        'Compliant DD-SIMCA (ACC)': scores_ddsacc,\n",
    "        'UNEQ (ACC)': scores_uneqacc,\n",
    "        'RF OSR (ACC)': scores_osracc,\n",
    "    },\n",
    "    n_repeats=10,\n",
    "    alpha=0.05,\n",
    "    ignore=0,\n",
    "    cmap='plasma'\n",
    ")\n",
    "\n",
    "_ = ax.set_xticklabels(\n",
    "    [\"%.1f\" % t for t in np.linspace(0.0, 0.9, 10)],\n",
    "    fontsize=18\n",
    ")\n",
    "_ = ax.set_title(\"Score +/- \" + r\"$\\sigma$\", fontsize=22)\n",
    "l = ax.legend(loc=\"best\", bbox_to_anchor=(0.75, 0.45, 0.5, 0.5), fontsize=18)\n",
    "\n",
    "for text in l.get_texts():\n",
    "    if 'RF OSR' in text.get_text():\n",
    "        text.set_color('blue')\n",
    "    else:\n",
    "        text.set_color(\"green\")\n",
    "    \n",
    "plt.savefig(\"fig5a.png\", transparent=None, dpi=600, format=\"png\",\n",
    "        metadata=None, bbox_inches='tight', pad_inches=0.1,\n",
    "        facecolor='auto', edgecolor='auto', backend=None)"
   ]
  },
  {
   "cell_type": "code",
   "execution_count": null,
   "id": "0f8336e6",
   "metadata": {
    "ExecuteTime": {
     "end_time": "2024-08-28T19:34:56.268382Z",
     "start_time": "2024-08-28T19:34:56.231948Z"
    },
    "hidden": true
   },
   "outputs": [],
   "source": [
    "np.mean(scores_rf[scores_rf > 0]), np.std(scores_rf[scores_rf > 0])"
   ]
  },
  {
   "cell_type": "code",
   "execution_count": null,
   "id": "ee14e684",
   "metadata": {
    "hidden": true
   },
   "outputs": [],
   "source": []
  }
 ],
 "metadata": {
  "kernelspec": {
   "display_name": "Python 3 (ipykernel)",
   "language": "python",
   "name": "python3"
  },
  "language_info": {
   "codemirror_mode": {
    "name": "ipython",
    "version": 3
   },
   "file_extension": ".py",
   "mimetype": "text/x-python",
   "name": "python",
   "nbconvert_exporter": "python",
   "pygments_lexer": "ipython3",
   "version": "3.11.0"
  }
 },
 "nbformat": 4,
 "nbformat_minor": 5
}
