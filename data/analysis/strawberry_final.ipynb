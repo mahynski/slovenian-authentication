{
 "cells": [
  {
   "cell_type": "code",
   "execution_count": null,
   "id": "561bd8da",
   "metadata": {
    "ExecuteTime": {
     "end_time": "2024-07-23T13:30:46.484146Z",
     "start_time": "2024-07-23T13:30:42.742799Z"
    }
   },
   "outputs": [],
   "source": [
    "import imblearn\n",
    "import sklearn\n",
    "\n",
    "import utils\n",
    "\n",
    "import pychemauth\n",
    "from pychemauth.eda.explore import InspectData\n",
    "from pychemauth.eda.screen import JSBinary\n",
    "from pychemauth.preprocessing.scaling import CorrectedScaler\n",
    "from pychemauth.preprocessing.missing import LOD\n",
    "from pychemauth.classifier.simca import SIMCA_Authenticator\n",
    "from pychemauth.preprocessing.feature_selection import CollinearFeatureSelector\n",
    "from pychemauth.manifold.elliptic import EllipticManifold_Authenticator\n",
    "from pychemauth.analysis.compare import Compare\n",
    "from pychemauth.classifier import osr\n",
    "\n",
    "from sklearn.model_selection import GridSearchCV\n",
    "from sklearn.feature_selection import SelectFromModel\n",
    "from sklearn.ensemble import RandomForestClassifier, IsolationForest\n",
    "from sklearn.tree import DecisionTreeClassifier\n",
    "from sklearn.inspection import permutation_importance\n",
    "\n",
    "import seaborn as sns\n",
    "import numpy as np\n",
    "import pandas as pd\n",
    "import missingno as msno\n",
    "\n",
    "import matplotlib.pyplot as plt\n",
    "%matplotlib inline\n",
    "\n",
    "import watermark\n",
    "%load_ext watermark\n",
    "\n",
    "%load_ext autoreload\n",
    "%autoreload 2"
   ]
  },
  {
   "cell_type": "code",
   "execution_count": null,
   "id": "562741e0",
   "metadata": {
    "ExecuteTime": {
     "end_time": "2024-07-23T13:30:46.551980Z",
     "start_time": "2024-07-23T13:30:46.488005Z"
    }
   },
   "outputs": [],
   "source": [
    "%watermark -t -m -v --iversions"
   ]
  },
  {
   "cell_type": "markdown",
   "id": "d27c823c",
   "metadata": {
    "heading_collapsed": true
   },
   "source": [
    "# Load Data"
   ]
  },
  {
   "cell_type": "code",
   "execution_count": null,
   "id": "fb92794e",
   "metadata": {
    "ExecuteTime": {
     "end_time": "2024-07-23T13:30:48.658783Z",
     "start_time": "2024-07-23T13:30:46.837659Z"
    },
    "hidden": true
   },
   "outputs": [],
   "source": [
    "M_, lod_ = utils.get_data(sheet_name='Jagode_osnova', col_start=8, row_start=14, loc='../../data/raw/DB_UVHVVR.xlsx')\n",
    "\n",
    "# We have pre-determined that we wish to drop all analytes with > 30% below LOD.\n",
    "analytes_to_keep = ((M_[lod_.index] < lod_).sum() / M_.shape[0] ) <= 0.3\n",
    "analytes_to_keep = [a[0] for a in list(analytes_to_keep.items()) if a[1]]\n",
    "\n",
    "X = M_.loc[:,analytes_to_keep]\n",
    "X['label'] = M_['Poreklo']\n",
    "lod = lod_[analytes_to_keep]\n",
    "\n",
    "# Let's also drop all the 'Test SLO'\n",
    "X = X[X['label'] != 'Test SLO']\n",
    "\n",
    "_ = msno.matrix(X, labels=True)"
   ]
  },
  {
   "cell_type": "markdown",
   "id": "3af48443",
   "metadata": {
    "heading_collapsed": true
   },
   "source": [
    "# EDA"
   ]
  },
  {
   "cell_type": "code",
   "execution_count": null,
   "id": "20d27b8e",
   "metadata": {
    "ExecuteTime": {
     "end_time": "2024-07-23T13:30:51.217637Z",
     "start_time": "2024-07-23T13:30:49.409828Z"
    },
    "hidden": true
   },
   "outputs": [],
   "source": [
    "selected_features, abroad_cluster_id_to_feature_ids, fig = InspectData.cluster_collinear(\n",
    "    np.asarray(X[X['label'] != 'Authentic SLO'].drop('label', axis=1).values, dtype=np.float64), \n",
    "    feature_names=X[X['label'] != 'Authentic SLO'].drop('label', axis=1).columns, \n",
    "    figsize=(12,8),\n",
    "    t=0.6\n",
    ")"
   ]
  },
  {
   "cell_type": "code",
   "execution_count": null,
   "id": "3b996f1e",
   "metadata": {
    "ExecuteTime": {
     "end_time": "2024-07-23T13:30:54.253401Z",
     "start_time": "2024-07-23T13:30:51.221371Z"
    },
    "hidden": true
   },
   "outputs": [],
   "source": [
    "selected_features, slo_cluster_id_to_feature_ids, fig = InspectData.cluster_collinear(\n",
    "    np.asarray(X[X['label'] == 'Authentic SLO'].drop('label', axis=1).values, dtype=np.float64), \n",
    "    feature_names=X[X['label'] == 'Authentic SLO'].drop('label', axis=1).columns, \n",
    "    figsize=(10,4),\n",
    "    t=0.6,\n",
    "    highlight=False,\n",
    "    figname='strawberry_correlations.png'\n",
    ")"
   ]
  },
  {
   "cell_type": "markdown",
   "id": "fac882fb",
   "metadata": {
    "heading_collapsed": true
   },
   "source": [
    "# Clean"
   ]
  },
  {
   "cell_type": "code",
   "execution_count": null,
   "id": "949fa93f",
   "metadata": {
    "ExecuteTime": {
     "end_time": "2024-07-23T13:31:13.819969Z",
     "start_time": "2024-07-23T13:31:13.732180Z"
    },
    "hidden": true
   },
   "outputs": [],
   "source": [
    "X"
   ]
  },
  {
   "cell_type": "code",
   "execution_count": null,
   "id": "43ea5207",
   "metadata": {
    "ExecuteTime": {
     "end_time": "2024-07-23T13:31:14.678363Z",
     "start_time": "2024-07-23T13:31:14.430201Z"
    },
    "hidden": true
   },
   "outputs": [],
   "source": [
    "# Also consider dataset composed of ln(X/lod)\n",
    "X_ln = X.copy()\n",
    "for te_ in lod.index[4:]:\n",
    "    X_ln[te_] = X_ln[te_].apply(lambda x: np.log(float(x / lod[te_])))\n",
    "    \n",
    "X_auth = X_ln[X_ln['label'] == 'Authentic SLO'].copy()\n",
    "Outlier = utils.flag_outliers(X_auth, lod)\n",
    "\n",
    "X_auth_orig = X[X['label'] == 'Authentic SLO'].copy()\n",
    "X_auth_orig = X_auth_orig[Outlier.drop('label', axis=1).sum(axis=1) < 3]"
   ]
  },
  {
   "cell_type": "code",
   "execution_count": null,
   "id": "9d9a976e",
   "metadata": {
    "ExecuteTime": {
     "end_time": "2024-07-23T13:31:15.686857Z",
     "start_time": "2024-07-23T13:31:15.608056Z"
    },
    "hidden": true
   },
   "outputs": [],
   "source": [
    "X_abroad_orig = X[X['label'] != 'Authentic SLO'].copy()\n",
    "\n",
    "X_tot = pd.concat((X_auth_orig, X_abroad_orig), axis=0)\n",
    "X_tot"
   ]
  },
  {
   "cell_type": "markdown",
   "id": "68a4d0d5",
   "metadata": {
    "heading_collapsed": true
   },
   "source": [
    "# JSD"
   ]
  },
  {
   "cell_type": "code",
   "execution_count": null,
   "id": "d2ad81ce",
   "metadata": {
    "ExecuteTime": {
     "end_time": "2024-07-23T13:31:27.805559Z",
     "start_time": "2024-07-23T13:31:17.402888Z"
    },
    "hidden": true
   },
   "outputs": [],
   "source": [
    "from pychemauth.eda.explore import InspectData\n",
    "\n",
    "pair_ = InspectData.pairplot(X_tot, vars=['P', 'Na', 'As', 'K'], hue=\"label\", diag_kind=\"hist\")"
   ]
  },
  {
   "cell_type": "code",
   "execution_count": null,
   "id": "494c9701",
   "metadata": {
    "ExecuteTime": {
     "end_time": "2024-07-23T13:32:16.130385Z",
     "start_time": "2024-07-23T13:32:16.064946Z"
    },
    "hidden": true
   },
   "outputs": [],
   "source": [
    "def plot_distribution(X, xlabels):\n",
    "    fig, axes = plt.subplots(\n",
    "        nrows=((len(X.columns)-1) // 3) + int(len(X.columns)-1 - ((len(X.columns)-1) // 3) * 3 > 0), \n",
    "        ncols=3, \n",
    "        figsize=(12,5)\n",
    "    )\n",
    "\n",
    "    for i, (site_, ax, label_) in enumerate(zip(X.drop('label', axis=1).columns, axes.ravel(), xlabels)):\n",
    "        sns.histplot(\n",
    "            X,\n",
    "            x=site_,\n",
    "            hue='label',\n",
    "            kde=True,\n",
    "            ax=ax\n",
    "        )\n",
    "        ticks_ = ax.get_xticks()[1:-1]\n",
    "        if i < 2:\n",
    "            ax.set_xticks(ticks_, labels=[str('%.0f'%a) for a in ticks_], fontsize=20, rotation=45)\n",
    "        else:\n",
    "            ax.set_xticks(ticks_, labels=[str('%.1f'%a) for a in ticks_], fontsize=20, rotation=45)\n",
    "        ax.set_xlabel(label_, fontsize=20)\n",
    "        \n",
    "        ticks_ = ax.get_yticks()\n",
    "        ax.set_yticks(ticks_, labels=[str('%.0f'%a) for a in ticks_], fontsize=20, rotation=0)\n",
    "        \n",
    "        if i > 0:\n",
    "            ax.set_ylabel('')\n",
    "        else:\n",
    "            ax.set_ylabel('Count', fontsize=20)\n",
    "            \n",
    "    return axes"
   ]
  },
  {
   "cell_type": "code",
   "execution_count": null,
   "id": "55f55502",
   "metadata": {
    "ExecuteTime": {
     "end_time": "2024-07-23T13:32:37.818049Z",
     "start_time": "2024-07-23T13:32:31.469551Z"
    },
    "hidden": true,
    "scrolled": false
   },
   "outputs": [],
   "source": [
    "axes = plot_distribution(\n",
    "    X_tot[['Na', 'As', 'P', 'label']], \n",
    "    xlabels=[r'${\\rm Na}~(\\mu g/g)$', r'${\\rm As}~(ng/g)$', r'${\\rm P}~(mg/g)$']\n",
    ")\n",
    "\n",
    "axes[0].axvline(21.024, color='r')\n",
    "axes[1].axvline(21.85, color='r')\n",
    "\n",
    "for ax in axes:\n",
    "    ax.legend(labels=['Abroad', 'Authentic'], fontsize=18)\n",
    "    \n",
    "plt.savefig(\"fig7b.png\", transparent=None, dpi=600, format=\"png\",\n",
    "        metadata=None, bbox_inches='tight', pad_inches=0.1,\n",
    "        facecolor='auto', edgecolor='auto', backend=None)"
   ]
  },
  {
   "cell_type": "code",
   "execution_count": null,
   "id": "8034ac9a",
   "metadata": {
    "ExecuteTime": {
     "end_time": "2024-07-23T13:33:32.892780Z",
     "start_time": "2024-07-23T13:33:32.832498Z"
    },
    "hidden": true
   },
   "outputs": [],
   "source": [
    "def plot_jsd(X_tot, vline=11):\n",
    "    \n",
    "    for X, label, offset in [(X_tot, \"Original\", +0.02), (X_tot.drop(['P'], axis=1), \"No P\", -0.07)]:\n",
    "        bins = np.arange(1, 101, 10)\n",
    "\n",
    "        max_value = []\n",
    "        max_site = []\n",
    "\n",
    "        for nbins in bins:\n",
    "            jsb = JSBinary(js_bins=nbins, robust=True)\n",
    "            jsb.fit(X=X.drop('label', axis=1).values, y=X['label'].values)\n",
    "            i, j = jsb._JSBinary__enc_.transform(['Authentic SLO'])[0], jsb._JSBinary__enc_.transform(['Abroad'])[0]\n",
    "            max_value.append(jsb.matrix[i,j])\n",
    "            max_site.append(jsb.top_features(X.drop('label', axis=1).columns)[i,j])\n",
    "\n",
    "        for i in range(1, len(max_site)):\n",
    "            plt.text(bins[i]+0.2, max_value[i]+offset, max_site[i], fontsize=18)\n",
    "\n",
    "        plt.plot(bins, max_value, '-o', label=label)\n",
    "    \n",
    "    plt.title('Authentic vs. Abroad', fontsize=22)\n",
    "    plt.ylabel('Max JSD', fontsize=20)\n",
    "    plt.xlabel('Number of Bins', fontsize=20)\n",
    "    plt.axvline(vline, color='k')\n",
    "    plt.xticks(fontsize=18)\n",
    "    plt.yticks(fontsize=18)\n",
    "    plt.legend(loc='best', fontsize=20)\n",
    "    \n",
    "    return max_site"
   ]
  },
  {
   "cell_type": "code",
   "execution_count": null,
   "id": "035125cc",
   "metadata": {
    "ExecuteTime": {
     "end_time": "2024-07-23T13:33:45.181805Z",
     "start_time": "2024-07-23T13:33:41.422478Z"
    },
    "hidden": true
   },
   "outputs": [],
   "source": [
    "_ = plot_jsd(X_tot, vline=11)\n",
    "\n",
    "plt.savefig(\"fig7a.png\", transparent=None, dpi=600, format=\"png\",\n",
    "        metadata=None, bbox_inches='tight', pad_inches=0.1,\n",
    "        facecolor='auto', edgecolor='auto', backend=None)"
   ]
  },
  {
   "cell_type": "markdown",
   "id": "b19d79f6",
   "metadata": {
    "heading_collapsed": true
   },
   "source": [
    "# Model"
   ]
  },
  {
   "cell_type": "code",
   "execution_count": null,
   "id": "cccdc886",
   "metadata": {
    "ExecuteTime": {
     "end_time": "2024-07-23T13:33:50.991979Z",
     "start_time": "2024-07-23T13:33:50.941231Z"
    },
    "hidden": true
   },
   "outputs": [],
   "source": [
    "# Just to guarantee ordering is consistent\n",
    "SITE = lod.index"
   ]
  },
  {
   "cell_type": "code",
   "execution_count": null,
   "id": "82f5c564",
   "metadata": {
    "ExecuteTime": {
     "end_time": "2024-07-23T13:33:51.780462Z",
     "start_time": "2024-07-23T13:33:51.727970Z"
    },
    "hidden": true
   },
   "outputs": [],
   "source": [
    "def make_gs(pipeline, param_grid):\n",
    "    return GridSearchCV(\n",
    "        estimator=pipeline,\n",
    "        param_grid=param_grid,\n",
    "        n_jobs=-1,\n",
    "        cv=sklearn.model_selection.StratifiedKFold(\n",
    "            n_splits=10, # 10-fold CV for hyperparameter optimization\n",
    "            shuffle=True, \n",
    "            random_state=0\n",
    "        ),\n",
    "        error_score=0,\n",
    "        refit=True\n",
    "    )"
   ]
  },
  {
   "cell_type": "code",
   "execution_count": null,
   "id": "9367f1c6",
   "metadata": {
    "ExecuteTime": {
     "end_time": "2024-07-23T13:33:53.169064Z",
     "start_time": "2024-07-23T13:33:53.103218Z"
    },
    "hidden": true
   },
   "outputs": [],
   "source": [
    "def make_pipe(model, use_feature_selector=True, drop=None):\n",
    "    \n",
    "    if drop is not None:\n",
    "        lod_ = lod[SITE].drop(drop)\n",
    "    else:\n",
    "        lod_ = lod[SITE]\n",
    "        \n",
    "    steps = [\n",
    "        (\"imputer\", LOD( # Impute < LOD\n",
    "            lod=lod_.values, \n",
    "            missing_values=np.nan, \n",
    "            seed=42,\n",
    "            skip_columns=[0, 1, 2, 3] # Stable isotopes are the first 4 features\n",
    "        ))\n",
    "    ]\n",
    "    \n",
    "    if use_feature_selector:\n",
    "        steps += [\n",
    "            (\"feature_selector\", SelectFromModel( # Must come after LOD_LN imputer\n",
    "                estimator=CollinearFeatureSelector( # We will replace this estimator in the param_grid below\n",
    "                    t=0.9,\n",
    "                    seed=42,\n",
    "                    minimize_label_entropy=False,\n",
    "                ),\n",
    "                threshold=0.5, # 0's are given to features ignored, 1 if they are kept so set the threshold in between\n",
    "                prefit=False,\n",
    "            ))\n",
    "        ]\n",
    "        \n",
    "    steps += [\n",
    "        (\"autoscaler\", CorrectedScaler( # Data is considered \"clean\" so we will not use robust estimates\n",
    "            with_mean=True,\n",
    "            with_std=True\n",
    "        )),\n",
    "        (\"model\", model),\n",
    "    ]    \n",
    "    \n",
    "    pipeline = imblearn.pipeline.Pipeline(steps=steps)\n",
    "    \n",
    "    return pipeline"
   ]
  },
  {
   "cell_type": "markdown",
   "id": "be5166a5",
   "metadata": {
    "heading_collapsed": true,
    "hidden": true
   },
   "source": [
    "## DD-SIMCA Model"
   ]
  },
  {
   "cell_type": "markdown",
   "id": "ecdc3325",
   "metadata": {
    "heading_collapsed": true,
    "hidden": true
   },
   "source": [
    "### With P"
   ]
  },
  {
   "cell_type": "code",
   "execution_count": null,
   "id": "f15135c8",
   "metadata": {
    "ExecuteTime": {
     "end_time": "2024-07-23T13:33:56.433137Z",
     "start_time": "2024-07-23T13:33:56.383741Z"
    },
    "hidden": true
   },
   "outputs": [],
   "source": [
    "dds_param_grid = [{\n",
    "    'model__n_components':np.arange(1, 20),\n",
    "    'model__alpha':np.logspace(-5, np.log10(0.5), 20),\n",
    "}]\n",
    "\n",
    "dds_pipeline = make_pipe(\n",
    "    SIMCA_Authenticator(\n",
    "        n_components=1,\n",
    "        alpha=0.05,\n",
    "        gamma=0.00001,\n",
    "        scale_x=True,\n",
    "        style='dd-simca',\n",
    "        target_class='Authentic SLO',\n",
    "        use='compliant'\n",
    "    ),\n",
    "    use_feature_selector=False, # Let it see all the features\n",
    ")\n",
    "\n",
    "dds_gs = make_gs(dds_pipeline, dds_param_grid)"
   ]
  },
  {
   "cell_type": "code",
   "execution_count": null,
   "id": "81401759",
   "metadata": {
    "ExecuteTime": {
     "end_time": "2024-07-23T13:33:58.154856Z",
     "start_time": "2024-07-23T13:33:58.098058Z"
    },
    "hidden": true
   },
   "outputs": [],
   "source": [
    "X_tot.shape"
   ]
  },
  {
   "cell_type": "code",
   "execution_count": null,
   "id": "d8993a7f",
   "metadata": {
    "ExecuteTime": {
     "end_time": "2024-07-23T13:35:22.955320Z",
     "start_time": "2024-07-23T13:33:59.380568Z"
    },
    "hidden": true
   },
   "outputs": [],
   "source": [
    "_ = dds_gs.fit(\n",
    "    X_tot[SITE].values,\n",
    "    X_tot['label'].values\n",
    ")"
   ]
  },
  {
   "cell_type": "code",
   "execution_count": null,
   "id": "3748e9b8",
   "metadata": {
    "ExecuteTime": {
     "end_time": "2024-07-23T13:35:25.958971Z",
     "start_time": "2024-07-23T13:35:25.845460Z"
    },
    "hidden": true
   },
   "outputs": [],
   "source": [
    "dds_gs.score(\n",
    "    X_tot[SITE].values,\n",
    "    X_tot['label'].values\n",
    ")"
   ]
  },
  {
   "cell_type": "code",
   "execution_count": null,
   "id": "d09eeef5",
   "metadata": {
    "ExecuteTime": {
     "end_time": "2024-07-23T13:35:28.505396Z",
     "start_time": "2024-07-23T13:35:28.453679Z"
    },
    "hidden": true
   },
   "outputs": [],
   "source": [
    "dds_gs.best_params_"
   ]
  },
  {
   "cell_type": "code",
   "execution_count": null,
   "id": "9bf04361",
   "metadata": {
    "ExecuteTime": {
     "end_time": "2024-07-23T13:35:35.913466Z",
     "start_time": "2024-07-23T13:35:35.357969Z"
    },
    "hidden": true
   },
   "outputs": [],
   "source": [
    "ax = dds_gs.best_estimator_.named_steps['model'].model.plot_loadings(\n",
    "    list(SITE),\n",
    "    fontsize=11,\n",
    "    feature_offset=(-0.015, 0.015)\n",
    ")\n",
    "\n",
    "ax.set_xlabel('PC 1 (16.6530%)', fontsize=14)\n",
    "ax.set_ylabel('PC 2 (11.4947%)', fontsize=14)\n",
    "ticks_ = [-0.1, 0.0, 0.1, 0.2, 0.3]\n",
    "ax.set_xticks(ticks_, [str(a) for a in ticks_], fontsize=12)\n",
    "ticks_ = [-0.3, -0.2, -0.1, 0.0, 0.1, 0.2, 0.3, 0.4]\n",
    "_ = ax.set_yticks(ticks_, [str(a) for a in ticks_], fontsize=12)"
   ]
  },
  {
   "cell_type": "code",
   "execution_count": null,
   "id": "c55e1cca",
   "metadata": {
    "ExecuteTime": {
     "end_time": "2024-07-23T13:35:52.251680Z",
     "start_time": "2024-07-23T13:35:51.743789Z"
    },
    "hidden": true
   },
   "outputs": [],
   "source": [
    "preprocessing = imblearn.pipeline.Pipeline(\n",
    "    steps = dds_gs.best_estimator_.steps[:-1]\n",
    ")\n",
    "\n",
    "ax = dds_gs.best_estimator_.named_steps['model'].model.visualize(\n",
    "    X=preprocessing.transform(X_tot[SITE].values), \n",
    "    y=X_tot['label'].values,\n",
    "    outlier_curve=False\n",
    ")\n",
    "ax.set_xlabel('${\\\\rm ln(1 + h/h_0)}$', fontsize=14)\n",
    "ax.set_ylabel('${\\\\rm ln(1 + q/q_0)}$', fontsize=14)\n",
    "ticks_ = [0, 1.0, 2.0, 3.0, 4.0, 5.0]\n",
    "ax.set_xticks(ticks_, [str(a) for a in ticks_], fontsize=12)\n",
    "ticks_ = [0.0, 1.0, 2.0, 3.0, 4.0, 5.0, 6.0]\n",
    "ax.set_yticks(ticks_, [str(a) for a in ticks_], fontsize=12)\n",
    "\n",
    "# # _ = ax.legend(fontsize=12)\n",
    "_ = ax.legend(labels=['Threshold', 'Abroad = Inlier (10)', 'Abroad = Outlier (22)', 'Authentic = Inlier (90)'], fontsize=12)"
   ]
  },
  {
   "cell_type": "markdown",
   "id": "a445a113",
   "metadata": {
    "heading_collapsed": true,
    "hidden": true
   },
   "source": [
    "### Without P"
   ]
  },
  {
   "cell_type": "code",
   "execution_count": null,
   "id": "834c0e30",
   "metadata": {
    "ExecuteTime": {
     "end_time": "2024-07-23T13:35:59.174903Z",
     "start_time": "2024-07-23T13:35:59.118885Z"
    },
    "hidden": true
   },
   "outputs": [],
   "source": [
    "dds_pipeline = make_pipe(\n",
    "    SIMCA_Authenticator(\n",
    "        n_components=1,\n",
    "        alpha=0.05,\n",
    "        gamma=0.00001,\n",
    "        scale_x=True,\n",
    "        style='dd-simca',\n",
    "        target_class='Authentic SLO',\n",
    "        use='compliant'\n",
    "    ),\n",
    "    use_feature_selector=False, # Let it see all the features\n",
    "    drop=['P']\n",
    ")\n",
    "\n",
    "dds_gs = make_gs(dds_pipeline, dds_param_grid)"
   ]
  },
  {
   "cell_type": "code",
   "execution_count": null,
   "id": "5ac6b87c",
   "metadata": {
    "ExecuteTime": {
     "end_time": "2024-07-23T13:36:00.440247Z",
     "start_time": "2024-07-23T13:36:00.381965Z"
    },
    "hidden": true
   },
   "outputs": [],
   "source": [
    "X_tot[SITE].drop('P', axis=1).shape"
   ]
  },
  {
   "cell_type": "code",
   "execution_count": null,
   "id": "10563930",
   "metadata": {
    "ExecuteTime": {
     "end_time": "2024-07-23T13:37:10.000216Z",
     "start_time": "2024-07-23T13:36:03.008345Z"
    },
    "hidden": true
   },
   "outputs": [],
   "source": [
    "_ = dds_gs.fit(\n",
    "    X_tot[SITE].drop('P', axis=1).values,\n",
    "    X_tot['label'].values\n",
    ")"
   ]
  },
  {
   "cell_type": "code",
   "execution_count": null,
   "id": "14683d36",
   "metadata": {
    "ExecuteTime": {
     "end_time": "2024-07-23T13:39:00.946945Z",
     "start_time": "2024-07-23T13:39:00.847092Z"
    },
    "hidden": true
   },
   "outputs": [],
   "source": [
    "dds_gs.score(\n",
    "    X_tot[SITE].drop('P', axis=1).values,\n",
    "    X_tot['label'].values\n",
    ")"
   ]
  },
  {
   "cell_type": "code",
   "execution_count": null,
   "id": "29f3993f",
   "metadata": {
    "ExecuteTime": {
     "end_time": "2024-07-23T13:39:04.171987Z",
     "start_time": "2024-07-23T13:39:04.120015Z"
    },
    "hidden": true
   },
   "outputs": [],
   "source": [
    "dds_gs.best_params_"
   ]
  },
  {
   "cell_type": "code",
   "execution_count": null,
   "id": "ba57ee0c",
   "metadata": {
    "ExecuteTime": {
     "end_time": "2024-07-23T13:39:15.629973Z",
     "start_time": "2024-07-23T13:39:13.748343Z"
    },
    "hidden": true
   },
   "outputs": [],
   "source": [
    "ax = dds_gs.best_estimator_.named_steps['model'].model.plot_loadings(\n",
    "    [s for s in list(SITE) if s != 'P'],\n",
    "    fontsize=18,\n",
    "    feature_offset=(0.01, 0)\n",
    ")\n",
    "\n",
    "ax.set_xlabel('PC 1 (16.4386%)', fontsize=20)\n",
    "ax.set_ylabel('PC 2 (11.8833%)', fontsize=20)\n",
    "ticks_ = [-0.1, 0.0, 0.1, 0.2, 0.3]\n",
    "ax.set_xticks(ticks_, [str(a) for a in ticks_], fontsize=18)\n",
    "ticks_ = [-0.3, -0.2, -0.1, 0.0, 0.1, 0.2, 0.3, 0.4]\n",
    "_ = ax.set_yticks(ticks_, [str(a) for a in ticks_], fontsize=18)\n",
    "\n",
    "plt.savefig(\"fig7f_2.png\", transparent=None, dpi=600, format=\"png\",\n",
    "        metadata=None, bbox_inches='tight', pad_inches=0.1,\n",
    "        facecolor='auto', edgecolor='auto', backend=None)"
   ]
  },
  {
   "cell_type": "code",
   "execution_count": null,
   "id": "ae19a20c",
   "metadata": {
    "ExecuteTime": {
     "end_time": "2024-07-23T13:39:30.300752Z",
     "start_time": "2024-07-23T13:39:28.085362Z"
    },
    "hidden": true
   },
   "outputs": [],
   "source": [
    "preprocessing = imblearn.pipeline.Pipeline(\n",
    "    steps = dds_gs.best_estimator_.steps[:-1]\n",
    ")\n",
    "\n",
    "ax = dds_gs.best_estimator_.named_steps['model'].model.visualize(\n",
    "    X=preprocessing.transform(X_tot[SITE].drop('P', axis=1).values), \n",
    "    y=X_tot['label'].values,\n",
    "    outlier_curve=False\n",
    ")\n",
    "ax.set_xlabel('${\\\\rm ln(1 + h/h_0)}$', fontsize=20)\n",
    "ax.set_ylabel('${\\\\rm ln(1 + q/q_0)}$', fontsize=20)\n",
    "ticks_ = [0, 1.0, 2.0, 3.0, 4.0, 5.0]\n",
    "ax.set_xticks(ticks_, [str(a) for a in ticks_], fontsize=18)\n",
    "ticks_ = [0.0, 1.0, 2.0, 3.0, 4.0, 5.0, 6.0]\n",
    "ax.set_yticks(ticks_, [str(a) for a in ticks_], fontsize=18)\n",
    "\n",
    "# # _ = ax.legend(fontsize=12)\n",
    "_ = ax.legend(labels=['Threshold', 'Abroad = Inlier (8)', 'Abroad = Outlier (24)', 'Authentic = Inlier (89)', 'Authentic = Outlier (1)'], fontsize=17)\n",
    "\n",
    "plt.savefig(\"fig7f_1.png\", transparent=None, dpi=600, format=\"png\",\n",
    "        metadata=None, bbox_inches='tight', pad_inches=0.1,\n",
    "        facecolor='auto', edgecolor='auto', backend=None)"
   ]
  },
  {
   "cell_type": "markdown",
   "id": "db76f790",
   "metadata": {
    "heading_collapsed": true,
    "hidden": true
   },
   "source": [
    "## RF OSR"
   ]
  },
  {
   "cell_type": "markdown",
   "id": "d9982fe5",
   "metadata": {
    "heading_collapsed": true,
    "hidden": true
   },
   "source": [
    "### With P"
   ]
  },
  {
   "cell_type": "code",
   "execution_count": null,
   "id": "887e004e",
   "metadata": {
    "ExecuteTime": {
     "end_time": "2024-07-23T13:39:57.716639Z",
     "start_time": "2024-07-23T13:39:57.653203Z"
    },
    "hidden": true
   },
   "outputs": [],
   "source": [
    "osr_param_grid = [{\n",
    "    'model__clf_kwargs':[{'n_estimators':n, 'random_state':42, 'class_weight':'balanced', 'oob_score':True, 'max_features':None} for n in [20, 50, 100, 150, 200, 250, 300]],\n",
    "    'model__outlier_kwargs':[\n",
    "        {'n_estimators': n, \n",
    "         'max_samples': 'auto', \n",
    "         'contamination': c,\n",
    "         'max_features': 1.0, \n",
    "         'bootstrap':True,\n",
    "         'n_jobs':-1, \n",
    "         'random_state':42} for n in [10, 20, 50, 100] for c in [0.001, 0.01, 0.1, 0.5]\n",
    "    ],\n",
    "}]\n",
    "\n",
    "osr_pipeline = make_pipe(\n",
    "    osr.OpenSetClassifier(\n",
    "        clf_model=RandomForestClassifier,\n",
    "        outlier_model=IsolationForest,\n",
    "        clf_kwargs={},\n",
    "        outlier_kwargs={},\n",
    "        known_classes=['Authentic SLO', 'Abroad'],\n",
    "        inlier_value=1,\n",
    "        unknown_class='Unknown',\n",
    "        score_metric='TEFF',\n",
    "        clf_style='hard',\n",
    "        score_using=\"Authentic SLO\"\n",
    "    ),\n",
    "    use_feature_selector=False\n",
    ")\n",
    "\n",
    "osr_gs = make_gs(osr_pipeline, osr_param_grid)"
   ]
  },
  {
   "cell_type": "code",
   "execution_count": null,
   "id": "6871f47a",
   "metadata": {
    "ExecuteTime": {
     "end_time": "2024-07-23T13:41:40.706112Z",
     "start_time": "2024-07-23T13:39:59.981319Z"
    },
    "hidden": true
   },
   "outputs": [],
   "source": [
    "_ = osr_gs.fit(\n",
    "    X_tot[SITE].values,\n",
    "    X_tot['label'].values\n",
    ")"
   ]
  },
  {
   "cell_type": "code",
   "execution_count": null,
   "id": "3fff6a54",
   "metadata": {
    "ExecuteTime": {
     "end_time": "2024-07-23T13:49:17.804409Z",
     "start_time": "2024-07-23T13:49:17.745976Z"
    },
    "hidden": true
   },
   "outputs": [],
   "source": [
    "osr_gs.best_score_"
   ]
  },
  {
   "cell_type": "code",
   "execution_count": null,
   "id": "f327c288",
   "metadata": {
    "ExecuteTime": {
     "end_time": "2024-07-23T13:49:22.655067Z",
     "start_time": "2024-07-23T13:49:22.602397Z"
    },
    "hidden": true
   },
   "outputs": [],
   "source": [
    "osr_gs.best_params_"
   ]
  },
  {
   "cell_type": "code",
   "execution_count": null,
   "id": "a252a82a",
   "metadata": {
    "ExecuteTime": {
     "end_time": "2024-07-23T13:49:29.855638Z",
     "start_time": "2024-07-23T13:49:29.688964Z"
    },
    "hidden": true
   },
   "outputs": [],
   "source": [
    "fom = osr_gs.best_estimator_.named_steps['model'].figures_of_merit(\n",
    "    osr_gs.best_estimator_.predict(X_tot[SITE].values),\n",
    "    X_tot['label'].values\n",
    ")"
   ]
  },
  {
   "cell_type": "code",
   "execution_count": null,
   "id": "22e282c0",
   "metadata": {
    "ExecuteTime": {
     "end_time": "2024-07-23T13:49:31.761861Z",
     "start_time": "2024-07-23T13:49:31.712453Z"
    },
    "hidden": true
   },
   "outputs": [],
   "source": [
    "df_ = fom['CM'].copy()"
   ]
  },
  {
   "cell_type": "code",
   "execution_count": null,
   "id": "b8c8900e",
   "metadata": {
    "ExecuteTime": {
     "end_time": "2024-07-23T13:49:31.889999Z",
     "start_time": "2024-07-23T13:49:31.841002Z"
    },
    "hidden": true
   },
   "outputs": [],
   "source": [
    "df2_ = df_.rename({'Unknown':'OOD = Abroad', 'Authentic SLO':'Authentic'}, axis=1).rename({'Authentic SLO':'Authentic'}, axis=0)"
   ]
  },
  {
   "cell_type": "code",
   "execution_count": null,
   "id": "4cff6644",
   "metadata": {
    "ExecuteTime": {
     "end_time": "2024-07-23T13:49:32.988092Z",
     "start_time": "2024-07-23T13:49:32.937065Z"
    },
    "hidden": true
   },
   "outputs": [],
   "source": [
    "df2_"
   ]
  },
  {
   "cell_type": "code",
   "execution_count": null,
   "id": "f6645d23",
   "metadata": {
    "ExecuteTime": {
     "end_time": "2024-07-23T13:49:34.918785Z",
     "start_time": "2024-07-23T13:49:34.862874Z"
    },
    "hidden": true
   },
   "outputs": [],
   "source": [
    "pd.DataFrame(data=[[31+1, 0], [1, 89]], columns=['Abroad','Authentic']).rename({0:'Abroad', 1:'Authentic'}, axis=0)"
   ]
  },
  {
   "cell_type": "code",
   "execution_count": null,
   "id": "0a838a98",
   "metadata": {
    "ExecuteTime": {
     "end_time": "2024-07-23T13:49:37.260979Z",
     "start_time": "2024-07-23T13:49:37.201463Z"
    },
    "hidden": true
   },
   "outputs": [],
   "source": [
    "fom['I']"
   ]
  },
  {
   "cell_type": "code",
   "execution_count": null,
   "id": "6a806f53",
   "metadata": {
    "ExecuteTime": {
     "end_time": "2024-07-23T13:49:39.090139Z",
     "start_time": "2024-07-23T13:49:39.033447Z"
    },
    "hidden": true
   },
   "outputs": [],
   "source": [
    "fom['TSNS'], fom['TSPS'], fom['TEFF']"
   ]
  },
  {
   "cell_type": "code",
   "execution_count": null,
   "id": "b4fddc18",
   "metadata": {
    "ExecuteTime": {
     "end_time": "2024-07-23T13:49:44.428755Z",
     "start_time": "2024-07-23T13:49:44.374872Z"
    },
    "hidden": true
   },
   "outputs": [],
   "source": [
    "osr_gs.best_estimator_.named_steps['model'].clf_.oob_score_"
   ]
  },
  {
   "cell_type": "code",
   "execution_count": null,
   "id": "7750e67c",
   "metadata": {
    "ExecuteTime": {
     "end_time": "2024-07-23T13:49:56.115079Z",
     "start_time": "2024-07-23T13:49:56.058027Z"
    },
    "hidden": true
   },
   "outputs": [],
   "source": [
    "osr_gs.best_estimator_.named_steps['model'].clf_"
   ]
  },
  {
   "cell_type": "code",
   "execution_count": null,
   "id": "ef7fc866",
   "metadata": {
    "ExecuteTime": {
     "end_time": "2024-07-23T13:50:02.590548Z",
     "start_time": "2024-07-23T13:50:02.516612Z"
    },
    "hidden": true,
    "scrolled": true
   },
   "outputs": [],
   "source": [
    "sorted(zip(SITE, osr_gs.best_estimator_.named_steps['model'].clf_.feature_importances_), key=lambda x: np.abs(x[1]), reverse=True)"
   ]
  },
  {
   "cell_type": "code",
   "execution_count": null,
   "id": "320b3892",
   "metadata": {
    "ExecuteTime": {
     "end_time": "2024-07-23T13:51:02.854191Z",
     "start_time": "2024-07-23T13:50:17.995653Z"
    },
    "hidden": true
   },
   "outputs": [],
   "source": [
    "res = permutation_importance(\n",
    "    osr_gs, \n",
    "    X_tot[SITE].values,\n",
    "    X_tot['label'].values,\n",
    "    n_repeats=20,\n",
    "    random_state=42\n",
    ")"
   ]
  },
  {
   "cell_type": "code",
   "execution_count": null,
   "id": "e4b5811c",
   "metadata": {
    "ExecuteTime": {
     "end_time": "2024-07-23T13:51:58.072886Z",
     "start_time": "2024-07-23T13:51:58.009247Z"
    },
    "hidden": true
   },
   "outputs": [],
   "source": [
    "sort_ = sorted(zip(SITE, res['importances_mean'], res['importances_std']), key=lambda x:np.abs(x[1]), reverse=True)\n",
    "sort_"
   ]
  },
  {
   "cell_type": "code",
   "execution_count": null,
   "id": "f85f5be5",
   "metadata": {
    "ExecuteTime": {
     "end_time": "2024-07-23T13:52:05.165930Z",
     "start_time": "2024-07-23T13:52:04.738354Z"
    },
    "hidden": true,
    "scrolled": false
   },
   "outputs": [],
   "source": [
    "fig, ax = plt.subplots(nrows=1, ncols=1, figsize=(3,5))\n",
    "ax.plot(\n",
    "    np.arange(6),\n",
    "    [np.abs(a[1]) for a in sort_[:6]]\n",
    ")\n",
    "_ = plt.xticks(np.arange(6), [a[0] for a in sort_[:5]] + ['...'], fontsize=12)\n",
    "plt.yticks(fontsize=12)\n",
    "plt.axhline(0, color='k')\n",
    "plt.xlabel('SITE Feature', fontsize=14)\n",
    "plt.ylabel('PFI', fontsize=14)\n",
    "plt.title('Random Forest OSR', fontsize=16)"
   ]
  },
  {
   "cell_type": "markdown",
   "id": "05618e59",
   "metadata": {
    "heading_collapsed": true,
    "hidden": true
   },
   "source": [
    "### Without P"
   ]
  },
  {
   "cell_type": "code",
   "execution_count": null,
   "id": "24f606ed",
   "metadata": {
    "ExecuteTime": {
     "end_time": "2024-07-23T13:52:26.456718Z",
     "start_time": "2024-07-23T13:52:26.404915Z"
    },
    "hidden": true
   },
   "outputs": [],
   "source": [
    "osr_pipeline = make_pipe(\n",
    "    osr.OpenSetClassifier(\n",
    "        clf_model=RandomForestClassifier,\n",
    "        outlier_model=IsolationForest,\n",
    "        clf_kwargs={},\n",
    "        outlier_kwargs={},\n",
    "        known_classes=['Authentic SLO', 'Abroad'],\n",
    "        inlier_value=1,\n",
    "        unknown_class='Unknown',\n",
    "        score_metric='TEFF',\n",
    "        clf_style='hard',\n",
    "        score_using=\"Authentic SLO\"\n",
    "    ),\n",
    "    use_feature_selector=False,\n",
    "    drop=['P']\n",
    ")\n",
    "\n",
    "osr_gs = make_gs(osr_pipeline, osr_param_grid)"
   ]
  },
  {
   "cell_type": "code",
   "execution_count": null,
   "id": "ec2554a2",
   "metadata": {
    "ExecuteTime": {
     "end_time": "2024-07-23T13:54:17.284799Z",
     "start_time": "2024-07-23T13:52:31.110561Z"
    },
    "hidden": true
   },
   "outputs": [],
   "source": [
    "_ = osr_gs.fit(\n",
    "    X_tot[SITE].drop('P', axis=1).values,\n",
    "    X_tot['label'].values\n",
    ")"
   ]
  },
  {
   "cell_type": "code",
   "execution_count": null,
   "id": "70b8b919",
   "metadata": {
    "ExecuteTime": {
     "end_time": "2024-07-23T13:54:20.170879Z",
     "start_time": "2024-07-23T13:54:20.104705Z"
    },
    "hidden": true
   },
   "outputs": [],
   "source": [
    "osr_gs.best_score_"
   ]
  },
  {
   "cell_type": "code",
   "execution_count": null,
   "id": "b14fb9d4",
   "metadata": {
    "ExecuteTime": {
     "end_time": "2024-07-23T13:54:26.599498Z",
     "start_time": "2024-07-23T13:54:26.532965Z"
    },
    "hidden": true
   },
   "outputs": [],
   "source": [
    "osr_gs.best_params_"
   ]
  },
  {
   "cell_type": "code",
   "execution_count": null,
   "id": "67489f09",
   "metadata": {
    "ExecuteTime": {
     "end_time": "2024-07-23T13:54:31.924883Z",
     "start_time": "2024-07-23T13:54:31.797028Z"
    },
    "hidden": true
   },
   "outputs": [],
   "source": [
    "fom = osr_gs.best_estimator_.named_steps['model'].figures_of_merit(\n",
    "    osr_gs.best_estimator_.predict(X_tot[SITE].drop('P', axis=1).values),\n",
    "    X_tot['label'].values\n",
    ")"
   ]
  },
  {
   "cell_type": "code",
   "execution_count": null,
   "id": "1382f4a7",
   "metadata": {
    "ExecuteTime": {
     "end_time": "2024-07-23T13:54:33.501885Z",
     "start_time": "2024-07-23T13:54:33.441629Z"
    },
    "hidden": true
   },
   "outputs": [],
   "source": [
    "df_ = fom['CM'].copy()"
   ]
  },
  {
   "cell_type": "code",
   "execution_count": null,
   "id": "e9678c11",
   "metadata": {
    "ExecuteTime": {
     "end_time": "2024-07-23T13:54:34.250502Z",
     "start_time": "2024-07-23T13:54:34.197800Z"
    },
    "hidden": true
   },
   "outputs": [],
   "source": [
    "df2_ = df_.rename({'Unknown':'OOD = Abroad', 'Authentic SLO':'Authentic'}, axis=1).rename({'Authentic SLO':'Authentic'}, axis=0)"
   ]
  },
  {
   "cell_type": "code",
   "execution_count": null,
   "id": "35612528",
   "metadata": {
    "ExecuteTime": {
     "end_time": "2024-07-23T13:54:35.628733Z",
     "start_time": "2024-07-23T13:54:35.577355Z"
    },
    "hidden": true
   },
   "outputs": [],
   "source": [
    "df2_"
   ]
  },
  {
   "cell_type": "code",
   "execution_count": null,
   "id": "7d5adb07",
   "metadata": {
    "ExecuteTime": {
     "end_time": "2024-07-23T13:55:00.900056Z",
     "start_time": "2024-07-23T13:55:00.844837Z"
    },
    "hidden": true
   },
   "outputs": [],
   "source": [
    "pd.DataFrame(data=[[24+8, 0], [4, 86]], columns=['Abroad','Authentic']).rename({0:'Abroad', 1:'Authentic'}, axis=0)"
   ]
  },
  {
   "cell_type": "code",
   "execution_count": null,
   "id": "63334cf8",
   "metadata": {
    "ExecuteTime": {
     "end_time": "2024-07-23T13:55:02.964053Z",
     "start_time": "2024-07-23T13:55:02.915342Z"
    },
    "hidden": true
   },
   "outputs": [],
   "source": [
    "fom['I']"
   ]
  },
  {
   "cell_type": "code",
   "execution_count": null,
   "id": "186967a1",
   "metadata": {
    "ExecuteTime": {
     "end_time": "2024-07-23T13:55:08.819065Z",
     "start_time": "2024-07-23T13:55:08.767478Z"
    },
    "hidden": true
   },
   "outputs": [],
   "source": [
    "fom['TSNS'], fom['TSPS'], fom['TEFF']"
   ]
  },
  {
   "cell_type": "code",
   "execution_count": null,
   "id": "a9b1f687",
   "metadata": {
    "ExecuteTime": {
     "end_time": "2024-07-23T13:55:14.067255Z",
     "start_time": "2024-07-23T13:55:14.006282Z"
    },
    "hidden": true
   },
   "outputs": [],
   "source": [
    "osr_gs.best_estimator_.named_steps['model'].clf_.oob_score_"
   ]
  },
  {
   "cell_type": "code",
   "execution_count": null,
   "id": "c6cdc151",
   "metadata": {
    "ExecuteTime": {
     "end_time": "2024-07-23T13:55:17.840955Z",
     "start_time": "2024-07-23T13:55:17.785544Z"
    },
    "hidden": true
   },
   "outputs": [],
   "source": [
    "osr_gs.best_estimator_.named_steps['model'].clf_"
   ]
  },
  {
   "cell_type": "code",
   "execution_count": null,
   "id": "930110cb",
   "metadata": {
    "ExecuteTime": {
     "end_time": "2024-07-23T13:55:23.034726Z",
     "start_time": "2024-07-23T13:55:22.976677Z"
    },
    "hidden": true
   },
   "outputs": [],
   "source": [
    "sorted(zip(SITE, osr_gs.best_estimator_.named_steps['model'].clf_.feature_importances_), key=lambda x: np.abs(x[1]), reverse=True)"
   ]
  },
  {
   "cell_type": "code",
   "execution_count": null,
   "id": "33d855e0",
   "metadata": {
    "ExecuteTime": {
     "end_time": "2024-07-23T13:56:06.290964Z",
     "start_time": "2024-07-23T13:55:27.412327Z"
    },
    "hidden": true
   },
   "outputs": [],
   "source": [
    "res = permutation_importance(\n",
    "    osr_gs, \n",
    "    X_tot[SITE].drop('P', axis=1).values,\n",
    "    X_tot['label'].values,\n",
    "    n_repeats=20,\n",
    "    random_state=42\n",
    ")"
   ]
  },
  {
   "cell_type": "code",
   "execution_count": null,
   "id": "40111554",
   "metadata": {
    "ExecuteTime": {
     "end_time": "2024-07-23T13:56:39.470064Z",
     "start_time": "2024-07-23T13:56:39.411625Z"
    },
    "hidden": true
   },
   "outputs": [],
   "source": [
    "sort_ = sorted(zip([s for s in SITE if s != 'P'], res['importances_mean'], res['importances_std']), key=lambda x:np.abs(x[1]), reverse=True)\n",
    "sort_"
   ]
  },
  {
   "cell_type": "code",
   "execution_count": null,
   "id": "f0d733c3",
   "metadata": {
    "ExecuteTime": {
     "end_time": "2024-07-23T13:56:45.902006Z",
     "start_time": "2024-07-23T13:56:45.473500Z"
    },
    "hidden": true
   },
   "outputs": [],
   "source": [
    "fig, ax = plt.subplots(nrows=1, ncols=1, figsize=(3,5))\n",
    "n_ = 8\n",
    "ax.plot(\n",
    "    np.arange(n_),\n",
    "    [np.abs(a[1]) for a in sort_[:n_]]\n",
    ")\n",
    "_ = plt.xticks(np.arange(n_), [a[0] for a in sort_[:n_-1]] + ['...'], fontsize=12)\n",
    "plt.yticks(fontsize=12)\n",
    "plt.axhline(0, color='k')\n",
    "plt.xlabel('SITE Feature', fontsize=14)\n",
    "plt.ylabel('PFI', fontsize=14)\n",
    "plt.title('Random Forest OSR', fontsize=16)"
   ]
  },
  {
   "cell_type": "markdown",
   "id": "5576ac8e",
   "metadata": {
    "ExecuteTime": {
     "end_time": "2023-12-11T20:18:12.439916Z",
     "start_time": "2023-12-11T20:18:12.393444Z"
    },
    "heading_collapsed": true,
    "hidden": true
   },
   "source": [
    "## RF"
   ]
  },
  {
   "cell_type": "markdown",
   "id": "0965e973",
   "metadata": {
    "heading_collapsed": true,
    "hidden": true
   },
   "source": [
    "### With P"
   ]
  },
  {
   "cell_type": "code",
   "execution_count": null,
   "id": "9a8ac472",
   "metadata": {
    "ExecuteTime": {
     "end_time": "2024-07-23T13:57:34.961097Z",
     "start_time": "2024-07-23T13:57:34.899135Z"
    },
    "hidden": true
   },
   "outputs": [],
   "source": [
    "rf_param_grid = [{\n",
    "    'model__n_estimators':[50, 100, 150, 200],\n",
    "    'model__max_features':[None], #['sqrt', None],\n",
    "}]\n",
    "\n",
    "rf_pipeline = make_pipe(\n",
    "    RandomForestClassifier(\n",
    "        n_estimators=100, \n",
    "        random_state=42, \n",
    "        oob_score=True, \n",
    "        class_weight='balanced',\n",
    "        max_features=None\n",
    "    ),\n",
    "    use_feature_selector=False\n",
    ")\n",
    "\n",
    "rf_gs = make_gs(rf_pipeline, rf_param_grid)"
   ]
  },
  {
   "cell_type": "code",
   "execution_count": null,
   "id": "e421c14a",
   "metadata": {
    "ExecuteTime": {
     "end_time": "2024-07-23T13:57:38.828454Z",
     "start_time": "2024-07-23T13:57:34.983891Z"
    },
    "hidden": true
   },
   "outputs": [],
   "source": [
    "_ = rf_gs.fit(\n",
    "    X_tot[SITE].values,\n",
    "    X_tot['label'].values\n",
    ")"
   ]
  },
  {
   "cell_type": "code",
   "execution_count": null,
   "id": "1d5bf5dd",
   "metadata": {
    "ExecuteTime": {
     "end_time": "2024-07-23T13:57:40.508825Z",
     "start_time": "2024-07-23T13:57:40.387697Z"
    },
    "hidden": true
   },
   "outputs": [],
   "source": [
    "rf_gs.score(\n",
    "    X_tot[SITE].values,\n",
    "    X_tot['label'].values\n",
    ")"
   ]
  },
  {
   "cell_type": "code",
   "execution_count": null,
   "id": "09279f87",
   "metadata": {
    "ExecuteTime": {
     "end_time": "2024-07-23T13:57:41.839096Z",
     "start_time": "2024-07-23T13:57:41.780901Z"
    },
    "hidden": true
   },
   "outputs": [],
   "source": [
    "rf_gs.best_params_"
   ]
  },
  {
   "cell_type": "code",
   "execution_count": null,
   "id": "776b8200",
   "metadata": {
    "ExecuteTime": {
     "end_time": "2024-07-23T13:57:43.318386Z",
     "start_time": "2024-07-23T13:57:43.271902Z"
    },
    "hidden": true
   },
   "outputs": [],
   "source": [
    "rf_gs.best_estimator_.named_steps['model'].oob_score_"
   ]
  },
  {
   "cell_type": "code",
   "execution_count": null,
   "id": "9993ccb0",
   "metadata": {
    "ExecuteTime": {
     "end_time": "2024-07-23T13:57:45.026355Z",
     "start_time": "2024-07-23T13:57:44.954387Z"
    },
    "hidden": true
   },
   "outputs": [],
   "source": [
    "sorted(zip(SITE, rf_gs.best_estimator_.named_steps['model'].feature_importances_), key=lambda x: np.abs(x[1]), reverse=True)"
   ]
  },
  {
   "cell_type": "code",
   "execution_count": null,
   "id": "f30d56f6",
   "metadata": {
    "ExecuteTime": {
     "end_time": "2024-07-23T13:58:12.575346Z",
     "start_time": "2024-07-23T13:57:47.522360Z"
    },
    "hidden": true
   },
   "outputs": [],
   "source": [
    "res = permutation_importance(\n",
    "    rf_gs, \n",
    "    X_tot[SITE].values,\n",
    "    X_tot['label'].values,\n",
    "    n_repeats=20,\n",
    "    random_state=42\n",
    ")"
   ]
  },
  {
   "cell_type": "code",
   "execution_count": null,
   "id": "480601bd",
   "metadata": {
    "ExecuteTime": {
     "end_time": "2024-07-23T13:58:20.048095Z",
     "start_time": "2024-07-23T13:58:19.990644Z"
    },
    "hidden": true
   },
   "outputs": [],
   "source": [
    "sort_ = sorted(zip(SITE, res['importances_mean'], res['importances_std']), key=lambda x:np.abs(x[1]), reverse=True)\n",
    "sort_"
   ]
  },
  {
   "cell_type": "code",
   "execution_count": null,
   "id": "2fa68a11",
   "metadata": {
    "ExecuteTime": {
     "end_time": "2024-07-23T13:59:05.521449Z",
     "start_time": "2024-07-23T13:59:04.150872Z"
    },
    "hidden": true
   },
   "outputs": [],
   "source": [
    "fig, ax = plt.subplots(nrows=1, ncols=1, figsize=(3,5))\n",
    "ax.plot(\n",
    "    np.arange(6),\n",
    "    [np.abs(a[1]) for a in sort_[:6]]\n",
    ")\n",
    "_ = plt.xticks(np.arange(6), [a[0] for a in sort_[:5]] + ['...'], fontsize=18)\n",
    "plt.yticks(fontsize=18)\n",
    "plt.axhline(0, color='k')\n",
    "plt.xlabel('SITE Feature', fontsize=20)\n",
    "plt.ylabel('PFI', fontsize=20)\n",
    "plt.title('RF with P', fontsize=22)\n",
    "\n",
    "plt.savefig(\"fig7d_1.png\", transparent=None, dpi=600, format=\"png\",\n",
    "        metadata=None, bbox_inches='tight', pad_inches=0.1,\n",
    "        facecolor='auto', edgecolor='auto', backend=None)"
   ]
  },
  {
   "cell_type": "markdown",
   "id": "6c310dad",
   "metadata": {
    "heading_collapsed": true,
    "hidden": true
   },
   "source": [
    "### Without P"
   ]
  },
  {
   "cell_type": "code",
   "execution_count": null,
   "id": "b932fab9",
   "metadata": {
    "ExecuteTime": {
     "end_time": "2024-07-23T13:59:12.604888Z",
     "start_time": "2024-07-23T13:59:12.551842Z"
    },
    "hidden": true
   },
   "outputs": [],
   "source": [
    "rf_pipeline = make_pipe(\n",
    "    RandomForestClassifier(\n",
    "        n_estimators=100, \n",
    "        random_state=42, \n",
    "        oob_score=True, \n",
    "        class_weight='balanced',\n",
    "        max_features=None\n",
    "    ),\n",
    "    use_feature_selector=False,\n",
    "    drop=['P']\n",
    ")\n",
    "\n",
    "rf_gs = make_gs(rf_pipeline, rf_param_grid)"
   ]
  },
  {
   "cell_type": "code",
   "execution_count": null,
   "id": "caef66d1",
   "metadata": {
    "ExecuteTime": {
     "end_time": "2024-07-23T13:59:16.238282Z",
     "start_time": "2024-07-23T13:59:12.681946Z"
    },
    "hidden": true
   },
   "outputs": [],
   "source": [
    "_ = rf_gs.fit(\n",
    "    X_tot[SITE].drop('P', axis=1).values,\n",
    "    X_tot['label'].values\n",
    ")"
   ]
  },
  {
   "cell_type": "code",
   "execution_count": null,
   "id": "5fb02537",
   "metadata": {
    "ExecuteTime": {
     "end_time": "2024-07-23T13:59:17.799732Z",
     "start_time": "2024-07-23T13:59:17.684065Z"
    },
    "hidden": true
   },
   "outputs": [],
   "source": [
    "rf_gs.score(\n",
    "    X_tot[SITE].drop('P', axis=1).values,\n",
    "    X_tot['label'].values\n",
    ")"
   ]
  },
  {
   "cell_type": "code",
   "execution_count": null,
   "id": "6634f6bc",
   "metadata": {
    "ExecuteTime": {
     "end_time": "2024-07-23T13:59:26.295760Z",
     "start_time": "2024-07-23T13:59:26.240699Z"
    },
    "hidden": true
   },
   "outputs": [],
   "source": [
    "rf_gs.best_params_"
   ]
  },
  {
   "cell_type": "code",
   "execution_count": null,
   "id": "67bfd70b",
   "metadata": {
    "ExecuteTime": {
     "end_time": "2024-07-23T13:59:28.738863Z",
     "start_time": "2024-07-23T13:59:28.687060Z"
    },
    "hidden": true
   },
   "outputs": [],
   "source": [
    "rf_gs.best_estimator_.named_steps['model'].oob_score_"
   ]
  },
  {
   "cell_type": "code",
   "execution_count": null,
   "id": "446083f6",
   "metadata": {
    "ExecuteTime": {
     "end_time": "2024-07-23T13:59:30.553477Z",
     "start_time": "2024-07-23T13:59:30.486298Z"
    },
    "hidden": true
   },
   "outputs": [],
   "source": [
    "sorted(zip(SITE, rf_gs.best_estimator_.named_steps['model'].feature_importances_), key=lambda x: np.abs(x[1]), reverse=True)"
   ]
  },
  {
   "cell_type": "code",
   "execution_count": null,
   "id": "bc4c44ae",
   "metadata": {
    "ExecuteTime": {
     "end_time": "2024-07-23T13:59:56.672904Z",
     "start_time": "2024-07-23T13:59:33.005906Z"
    },
    "hidden": true
   },
   "outputs": [],
   "source": [
    "res = permutation_importance(\n",
    "    rf_gs, \n",
    "    X_tot[SITE].drop('P', axis=1).values,\n",
    "    X_tot['label'].values,\n",
    "    n_repeats=20,\n",
    "    random_state=42\n",
    ")"
   ]
  },
  {
   "cell_type": "code",
   "execution_count": null,
   "id": "9873bc3b",
   "metadata": {
    "ExecuteTime": {
     "end_time": "2024-07-23T14:00:14.856286Z",
     "start_time": "2024-07-23T14:00:14.790824Z"
    },
    "hidden": true
   },
   "outputs": [],
   "source": [
    "sort_ = sorted(zip([s for s in SITE if s != 'P'], res['importances_mean'], res['importances_std']), key=lambda x:np.abs(x[1]), reverse=True)\n",
    "sort_"
   ]
  },
  {
   "cell_type": "code",
   "execution_count": null,
   "id": "e181a314",
   "metadata": {
    "ExecuteTime": {
     "end_time": "2024-07-23T14:00:21.496491Z",
     "start_time": "2024-07-23T14:00:20.135850Z"
    },
    "hidden": true
   },
   "outputs": [],
   "source": [
    "fig, ax = plt.subplots(nrows=1, ncols=1, figsize=(3,5))\n",
    "n_ = 8\n",
    "ax.plot(\n",
    "    np.arange(n_),\n",
    "    [np.abs(a[1]) for a in sort_[:n_]]\n",
    ")\n",
    "_ = plt.xticks(np.arange(n_), [a[0] for a in sort_[:n_-1]] + ['...'], fontsize=16)\n",
    "plt.yticks(fontsize=18)\n",
    "plt.axhline(0, color='k')\n",
    "plt.xlabel('SITE Feature', fontsize=20)\n",
    "plt.ylabel('PFI', fontsize=20)\n",
    "plt.title('RF without P', fontsize=22)\n",
    "\n",
    "plt.savefig(\"fig7d_2.png\", transparent=None, dpi=600, format=\"png\",\n",
    "        metadata=None, bbox_inches='tight', pad_inches=0.1,\n",
    "        facecolor='auto', edgecolor='auto', backend=None)"
   ]
  },
  {
   "cell_type": "markdown",
   "id": "00624ca6",
   "metadata": {
    "heading_collapsed": true,
    "hidden": true
   },
   "source": [
    "## Decision Tree Stump"
   ]
  },
  {
   "cell_type": "markdown",
   "id": "9dfbfeac",
   "metadata": {
    "heading_collapsed": true,
    "hidden": true
   },
   "source": [
    "### With P"
   ]
  },
  {
   "cell_type": "code",
   "execution_count": null,
   "id": "e66774ca",
   "metadata": {
    "ExecuteTime": {
     "end_time": "2024-07-23T14:00:31.865387Z",
     "start_time": "2024-07-23T14:00:31.808782Z"
    },
    "hidden": true
   },
   "outputs": [],
   "source": [
    "dt_param_grid = [{\n",
    "    'model__max_depth':[1], # Force a stump\n",
    "}]\n",
    "\n",
    "dt_pipeline = make_pipe(\n",
    "    DecisionTreeClassifier(\n",
    "        max_depth=1,\n",
    "        random_state=42,\n",
    "        class_weight='balanced'\n",
    "    ),\n",
    "    use_feature_selector=False, # Let it see all the features\n",
    ")\n",
    "\n",
    "dt_gs = make_gs(dt_pipeline, dt_param_grid)"
   ]
  },
  {
   "cell_type": "code",
   "execution_count": null,
   "id": "95ba8dd4",
   "metadata": {
    "ExecuteTime": {
     "end_time": "2024-07-23T14:00:37.656644Z",
     "start_time": "2024-07-23T14:00:37.365689Z"
    },
    "hidden": true
   },
   "outputs": [],
   "source": [
    "_ = dt_gs.fit(\n",
    "    X_tot[SITE].values,\n",
    "    X_tot['label'].values\n",
    ")"
   ]
  },
  {
   "cell_type": "code",
   "execution_count": null,
   "id": "fa4c0145",
   "metadata": {
    "ExecuteTime": {
     "end_time": "2024-07-23T14:00:38.424087Z",
     "start_time": "2024-07-23T14:00:38.342513Z"
    },
    "hidden": true
   },
   "outputs": [],
   "source": [
    "dt_gs.score(\n",
    "    X_tot[SITE].values,\n",
    "    X_tot['label'].values\n",
    ")"
   ]
  },
  {
   "cell_type": "code",
   "execution_count": null,
   "id": "a2801641",
   "metadata": {
    "ExecuteTime": {
     "end_time": "2024-07-23T14:00:39.648759Z",
     "start_time": "2024-07-23T14:00:39.539381Z"
    },
    "hidden": true
   },
   "outputs": [],
   "source": [
    "dt_gs"
   ]
  },
  {
   "cell_type": "code",
   "execution_count": null,
   "id": "61a0f9f9",
   "metadata": {
    "ExecuteTime": {
     "end_time": "2024-07-23T14:00:41.783455Z",
     "start_time": "2024-07-23T14:00:41.386043Z"
    },
    "hidden": true
   },
   "outputs": [],
   "source": [
    "from sklearn.tree import plot_tree\n",
    "\n",
    "fig = plt.figure(figsize=(8,4))\n",
    "artists = plot_tree(\n",
    "    dt_gs.best_estimator_.named_steps['model'],\n",
    "    feature_names=list(SITE),\n",
    "    class_names=dt_gs.best_estimator_.classes_.tolist(),\n",
    "    label='root',\n",
    "    filled=True,\n",
    "    proportion=False,\n",
    "    impurity=False,\n",
    "    ax=fig.gca(),\n",
    "    fontsize=22,\n",
    "    rounded=True,\n",
    "    precision=3,\n",
    ")\n",
    "plt.tight_layout()\n",
    "\n",
    "# De-scale units\n",
    "d = {a[0]: (a[1], a[2]) for a in list(zip(SITE, dt_gs.best_estimator_.named_steps['autoscaler']._CorrectedScaler__mean_, dt_gs.best_estimator_.named_steps['autoscaler']._CorrectedScaler__std_))}\n",
    "\n",
    "# artists[0].set_text('Sr <= {}\\nsamples = 126'.format('%.3f'%(-0.382*d['Sr'][1]+d['Sr'][0])))\n",
    "# artists[1].set_text('70\\nAuthentic')\n",
    "# artists[2].set_text('56\\nAbroad')"
   ]
  },
  {
   "cell_type": "code",
   "execution_count": null,
   "id": "ccc36076",
   "metadata": {
    "ExecuteTime": {
     "end_time": "2024-07-23T14:00:44.042919Z",
     "start_time": "2024-07-23T14:00:43.984518Z"
    },
    "hidden": true
   },
   "outputs": [],
   "source": [
    "d"
   ]
  },
  {
   "cell_type": "code",
   "execution_count": null,
   "id": "17b7a7be",
   "metadata": {
    "ExecuteTime": {
     "end_time": "2024-07-23T14:00:48.081314Z",
     "start_time": "2024-07-23T14:00:48.027168Z"
    },
    "hidden": true
   },
   "outputs": [],
   "source": [
    "def train_stump(site='Na'):\n",
    "    idx = np.where(SITE == site)[0][0]\n",
    "    \n",
    "    steps = []\n",
    "    \n",
    "    if idx >= 4:\n",
    "        # Only impute for trace elements\n",
    "        steps += [(\"imputer\", LOD( # Impute < LOD\n",
    "            lod=[lod[site]], \n",
    "            missing_values=np.nan, \n",
    "            seed=42,\n",
    "        ))]\n",
    "        \n",
    "    steps += [(\"model\", DecisionTreeClassifier(\n",
    "        max_depth=1,\n",
    "        random_state=42,\n",
    "        class_weight='balanced'\n",
    "    ))]\n",
    "    \n",
    "    pipeline = imblearn.pipeline.Pipeline(steps=steps)\n",
    "    \n",
    "    _ = pipeline.fit(\n",
    "        X_tot[site].values.reshape(-1,1), \n",
    "        X_tot['label'].values\n",
    "    )\n",
    "    \n",
    "    fig = plt.figure(figsize=(6,4))\n",
    "    artists = plot_tree(\n",
    "        pipeline.named_steps['model'],\n",
    "        feature_names=[site],\n",
    "        class_names=pipeline.named_steps['model'].classes_.tolist(),\n",
    "        label='root',\n",
    "        filled=True,\n",
    "        proportion=False,\n",
    "        impurity=False,\n",
    "        ax=fig.gca(),\n",
    "        fontsize=22,\n",
    "        rounded=True,\n",
    "        precision=3,\n",
    "    )\n",
    "    plt.tight_layout()\n",
    "    \n",
    "    def fix_naming(string):\n",
    "        s = string.split('\\n')\n",
    "        if len(s) == 4:\n",
    "            s = [s[0], s[1]]\n",
    "        else:\n",
    "            s = [s[0], s[2]]\n",
    "\n",
    "        if 'Authentic SLO' == s[-1]:\n",
    "            s[-1] = 'Authentic'\n",
    "        return s\n",
    "    \n",
    "    for a in artists:\n",
    "        a.set_text('\\n'.join(fix_naming(a.get_text())))\n",
    "    \n",
    "    return pipeline, pipeline.score(X_tot[site].values.reshape(-1,1),  X_tot['label'].values)"
   ]
  },
  {
   "cell_type": "code",
   "execution_count": null,
   "id": "66d1c83a",
   "metadata": {
    "ExecuteTime": {
     "end_time": "2024-07-23T14:00:50.974990Z",
     "start_time": "2024-07-23T14:00:50.586920Z"
    },
    "hidden": true
   },
   "outputs": [],
   "source": [
    "p_, score_ = train_stump('P')\n",
    "score_"
   ]
  },
  {
   "cell_type": "code",
   "execution_count": null,
   "id": "9e54f3d3",
   "metadata": {
    "ExecuteTime": {
     "end_time": "2024-07-23T14:01:31.916545Z",
     "start_time": "2024-07-23T14:01:30.518079Z"
    },
    "hidden": true
   },
   "outputs": [],
   "source": [
    "p_, score_ = train_stump('Na')\n",
    "plt.savefig(\"fig7e_1.png\", transparent=None, dpi=600, format=\"png\",\n",
    "        metadata=None, bbox_inches='tight', pad_inches=0.1,\n",
    "        facecolor='auto', edgecolor='auto', backend=None)\n",
    "score_"
   ]
  },
  {
   "cell_type": "code",
   "execution_count": null,
   "id": "d3c590a0",
   "metadata": {
    "ExecuteTime": {
     "end_time": "2024-07-23T14:01:45.559708Z",
     "start_time": "2024-07-23T14:01:44.209211Z"
    },
    "hidden": true
   },
   "outputs": [],
   "source": [
    "p_, score_ = train_stump('As')\n",
    "plt.savefig(\"fig7e_2.png\", transparent=None, dpi=600, format=\"png\",\n",
    "        metadata=None, bbox_inches='tight', pad_inches=0.1,\n",
    "        facecolor='auto', edgecolor='auto', backend=None)\n",
    "score_"
   ]
  },
  {
   "cell_type": "markdown",
   "id": "614b22fe",
   "metadata": {
    "heading_collapsed": true,
    "hidden": true
   },
   "source": [
    "### Without P"
   ]
  },
  {
   "cell_type": "code",
   "execution_count": null,
   "id": "de8248af",
   "metadata": {
    "ExecuteTime": {
     "end_time": "2024-07-23T14:02:38.478741Z",
     "start_time": "2024-07-23T14:02:38.422294Z"
    },
    "hidden": true
   },
   "outputs": [],
   "source": [
    "dt_pipeline = make_pipe(\n",
    "    DecisionTreeClassifier(\n",
    "        max_depth=1,\n",
    "        random_state=42,\n",
    "        class_weight='balanced'\n",
    "    ),\n",
    "    use_feature_selector=False, # Let it see all the features\n",
    "    drop=['P']\n",
    ")\n",
    "\n",
    "dt_gs = make_gs(dt_pipeline, dt_param_grid)"
   ]
  },
  {
   "cell_type": "code",
   "execution_count": null,
   "id": "842635d6",
   "metadata": {
    "ExecuteTime": {
     "end_time": "2024-07-23T14:02:39.695674Z",
     "start_time": "2024-07-23T14:02:39.419276Z"
    },
    "hidden": true
   },
   "outputs": [],
   "source": [
    "_ = dt_gs.fit(\n",
    "    X_tot[SITE].drop('P', axis=1).values,\n",
    "    X_tot['label'].values\n",
    ")"
   ]
  },
  {
   "cell_type": "code",
   "execution_count": null,
   "id": "a4a2ae5c",
   "metadata": {
    "ExecuteTime": {
     "end_time": "2024-07-23T14:02:41.047448Z",
     "start_time": "2024-07-23T14:02:40.952866Z"
    },
    "hidden": true
   },
   "outputs": [],
   "source": [
    "dt_gs.score(\n",
    "    X_tot[SITE].drop('P', axis=1).values,\n",
    "    X_tot['label'].values\n",
    ")"
   ]
  },
  {
   "cell_type": "code",
   "execution_count": null,
   "id": "6b6eedf4",
   "metadata": {
    "ExecuteTime": {
     "end_time": "2024-07-23T14:02:42.289222Z",
     "start_time": "2024-07-23T14:02:41.900199Z"
    },
    "hidden": true
   },
   "outputs": [],
   "source": [
    "p_, score_ = train_stump('Na')\n",
    "score_"
   ]
  },
  {
   "cell_type": "code",
   "execution_count": null,
   "id": "8ea49c04",
   "metadata": {
    "ExecuteTime": {
     "end_time": "2024-07-23T14:02:44.369264Z",
     "start_time": "2024-07-23T14:02:44.009587Z"
    },
    "hidden": true
   },
   "outputs": [],
   "source": [
    "p_, score_ = train_stump('As')\n",
    "score_"
   ]
  },
  {
   "cell_type": "code",
   "execution_count": null,
   "id": "8d24c8ea",
   "metadata": {
    "ExecuteTime": {
     "end_time": "2024-07-23T14:02:46.041025Z",
     "start_time": "2024-07-23T14:02:45.674369Z"
    },
    "hidden": true
   },
   "outputs": [],
   "source": [
    "p_, score_ = train_stump('K')\n",
    "score_"
   ]
  },
  {
   "cell_type": "markdown",
   "id": "4ffdfa11",
   "metadata": {
    "heading_collapsed": true,
    "hidden": true
   },
   "source": [
    "## Comparison"
   ]
  },
  {
   "cell_type": "markdown",
   "id": "f0c138c4",
   "metadata": {
    "heading_collapsed": true,
    "hidden": true
   },
   "source": [
    "### With P"
   ]
  },
  {
   "cell_type": "code",
   "execution_count": null,
   "id": "5a8fdbce",
   "metadata": {
    "ExecuteTime": {
     "end_time": "2024-07-23T14:04:44.884911Z",
     "start_time": "2024-07-23T14:04:44.817530Z"
    },
    "hidden": true
   },
   "outputs": [],
   "source": [
    "# RF\n",
    "\n",
    "rf_param_grid = [{\n",
    "    'model__n_estimators':[50, 100, 150, 200, 250, 300], # Added a few more\n",
    "    'model__max_features':['sqrt', None],\n",
    "    'feature_selector__estimator': [\n",
    "        CollinearFeatureSelector(t=0.0, seed=42, minimize_label_entropy=False),\n",
    "        CollinearFeatureSelector(t=0.2, seed=42, minimize_label_entropy=False),\n",
    "        CollinearFeatureSelector(t=0.4, seed=42, minimize_label_entropy=False),\n",
    "        CollinearFeatureSelector(t=0.6, seed=42, minimize_label_entropy=False),\n",
    "        CollinearFeatureSelector(t=0.8, seed=42, minimize_label_entropy=False),\n",
    "        CollinearFeatureSelector(t=1.0, seed=42, minimize_label_entropy=False),\n",
    "    ]\n",
    "}]\n",
    "\n",
    "rf_pipeline = make_pipe(\n",
    "    RandomForestClassifier(\n",
    "        n_estimators=100, \n",
    "        random_state=42, \n",
    "        oob_score=True, \n",
    "        class_weight='balanced',\n",
    "        max_features=None\n",
    "    ),\n",
    ")\n",
    "\n",
    "rf_gs = make_gs(rf_pipeline, rf_param_grid)"
   ]
  },
  {
   "cell_type": "code",
   "execution_count": null,
   "id": "c9f67f57",
   "metadata": {
    "ExecuteTime": {
     "end_time": "2024-07-23T14:04:45.607462Z",
     "start_time": "2024-07-23T14:04:45.556369Z"
    },
    "hidden": true
   },
   "outputs": [],
   "source": [
    "# DD-SIMCA\n",
    "\n",
    "dds_param_grid = [{\n",
    "    'model__n_components':np.arange(1, 20), # Increased for cherry - other matrices required less\n",
    "    'model__alpha':np.logspace(-5, np.log10(0.5), 10),\n",
    "    'feature_selector__estimator': [\n",
    "        CollinearFeatureSelector(t=0.0, seed=42, minimize_label_entropy=False),\n",
    "        CollinearFeatureSelector(t=0.2, seed=42, minimize_label_entropy=False),\n",
    "        CollinearFeatureSelector(t=0.4, seed=42, minimize_label_entropy=False),\n",
    "        CollinearFeatureSelector(t=0.6, seed=42, minimize_label_entropy=False),\n",
    "        CollinearFeatureSelector(t=0.8, seed=42, minimize_label_entropy=False),\n",
    "        CollinearFeatureSelector(t=1.0, seed=42, minimize_label_entropy=False),\n",
    "    ]\n",
    "}]\n",
    "\n",
    "dds_pipeline = make_pipe(\n",
    "    SIMCA_Authenticator(\n",
    "        n_components=1,\n",
    "        alpha=0.05,\n",
    "        scale_x=True,\n",
    "        style='dd-simca',\n",
    "        target_class='Authentic SLO',\n",
    "        use='compliant'\n",
    "    ),\n",
    ")\n",
    "\n",
    "dds_gs = make_gs(dds_pipeline, dds_param_grid)"
   ]
  },
  {
   "cell_type": "code",
   "execution_count": null,
   "id": "0383c7e6",
   "metadata": {
    "ExecuteTime": {
     "end_time": "2024-07-23T14:04:46.444854Z",
     "start_time": "2024-07-23T14:04:46.389340Z"
    },
    "hidden": true
   },
   "outputs": [],
   "source": [
    "# UNEQ\n",
    "\n",
    "uneq_param_grid = [{\n",
    "    'model__alpha':np.logspace(-5, np.log10(0.5), 10),\n",
    "    'feature_selector__estimator': [\n",
    "        CollinearFeatureSelector(t=0.0, seed=42, minimize_label_entropy=False),\n",
    "        CollinearFeatureSelector(t=0.2, seed=42, minimize_label_entropy=False),\n",
    "        CollinearFeatureSelector(t=0.4, seed=42, minimize_label_entropy=False),\n",
    "        CollinearFeatureSelector(t=0.6, seed=42, minimize_label_entropy=False),\n",
    "        CollinearFeatureSelector(t=0.8, seed=42, minimize_label_entropy=False),\n",
    "        CollinearFeatureSelector(t=1.0, seed=42, minimize_label_entropy=False),\n",
    "    ]\n",
    "}]\n",
    "\n",
    "uneq_pipeline = make_pipe(\n",
    "    EllipticManifold_Authenticator(\n",
    "        alpha=0.05,\n",
    "        robust=True, \n",
    "        center='score',\n",
    "        target_class='Authentic SLO',\n",
    "        use='compliant'\n",
    "    ),\n",
    ")\n",
    "\n",
    "uneq_gs = make_gs(uneq_pipeline, uneq_param_grid)"
   ]
  },
  {
   "cell_type": "code",
   "execution_count": null,
   "id": "0745e011",
   "metadata": {
    "ExecuteTime": {
     "end_time": "2024-07-23T14:04:47.517010Z",
     "start_time": "2024-07-23T14:04:47.464251Z"
    },
    "hidden": true
   },
   "outputs": [],
   "source": [
    "# DT Stump\n",
    "\n",
    "dt_param_grid = [{\n",
    "    'model__max_depth':[1], # Force a stump\n",
    "    'feature_selector__estimator': [\n",
    "        CollinearFeatureSelector(t=0.0, seed=42, minimize_label_entropy=False),\n",
    "        CollinearFeatureSelector(t=0.2, seed=42, minimize_label_entropy=False),\n",
    "        CollinearFeatureSelector(t=0.4, seed=42, minimize_label_entropy=False),\n",
    "        CollinearFeatureSelector(t=0.6, seed=42, minimize_label_entropy=False),\n",
    "        CollinearFeatureSelector(t=0.8, seed=42, minimize_label_entropy=False),\n",
    "        CollinearFeatureSelector(t=1.0, seed=42, minimize_label_entropy=False),\n",
    "    ]\n",
    "}]\n",
    "\n",
    "dt_pipeline = make_pipe(\n",
    "    DecisionTreeClassifier(\n",
    "        max_depth=1,\n",
    "        random_state=42,\n",
    "        class_weight='balanced'\n",
    "    ),\n",
    ")\n",
    "\n",
    "dt_gs = make_gs(dt_pipeline, dt_param_grid)"
   ]
  },
  {
   "cell_type": "code",
   "execution_count": null,
   "id": "49461948",
   "metadata": {
    "ExecuteTime": {
     "end_time": "2024-07-23T14:04:48.717027Z",
     "start_time": "2024-07-23T14:04:48.659852Z"
    },
    "hidden": true
   },
   "outputs": [],
   "source": [
    "# DT depth 2\n",
    "\n",
    "dt2_param_grid = [{\n",
    "    'model__max_depth':[2], \n",
    "    'feature_selector__estimator': [\n",
    "        CollinearFeatureSelector(t=0.0, seed=42, minimize_label_entropy=False),\n",
    "        CollinearFeatureSelector(t=0.2, seed=42, minimize_label_entropy=False),\n",
    "        CollinearFeatureSelector(t=0.4, seed=42, minimize_label_entropy=False),\n",
    "        CollinearFeatureSelector(t=0.6, seed=42, minimize_label_entropy=False),\n",
    "        CollinearFeatureSelector(t=0.8, seed=42, minimize_label_entropy=False),\n",
    "        CollinearFeatureSelector(t=1.0, seed=42, minimize_label_entropy=False),\n",
    "    ]\n",
    "}]\n",
    "\n",
    "dt2_pipeline = make_pipe(\n",
    "    DecisionTreeClassifier(\n",
    "        max_depth=2,\n",
    "        random_state=42,\n",
    "        class_weight='balanced'\n",
    "    ),\n",
    ")\n",
    "\n",
    "dt2_gs = make_gs(dt2_pipeline, dt2_param_grid)"
   ]
  },
  {
   "cell_type": "code",
   "execution_count": null,
   "id": "258ea6d4",
   "metadata": {
    "ExecuteTime": {
     "end_time": "2024-07-23T14:04:48.894950Z",
     "start_time": "2024-07-23T14:04:48.832121Z"
    },
    "hidden": true
   },
   "outputs": [],
   "source": [
    "# DT depth 3\n",
    "\n",
    "dt3_param_grid = [{\n",
    "    'model__max_depth':[3], \n",
    "    'feature_selector__estimator': [\n",
    "        CollinearFeatureSelector(t=0.0, seed=42, minimize_label_entropy=False),\n",
    "        CollinearFeatureSelector(t=0.2, seed=42, minimize_label_entropy=False),\n",
    "        CollinearFeatureSelector(t=0.4, seed=42, minimize_label_entropy=False),\n",
    "        CollinearFeatureSelector(t=0.6, seed=42, minimize_label_entropy=False),\n",
    "        CollinearFeatureSelector(t=0.8, seed=42, minimize_label_entropy=False),\n",
    "        CollinearFeatureSelector(t=1.0, seed=42, minimize_label_entropy=False),\n",
    "    ]\n",
    "}]\n",
    "\n",
    "dt3_pipeline = make_pipe(\n",
    "    DecisionTreeClassifier(\n",
    "        max_depth=3,\n",
    "        random_state=42,\n",
    "        class_weight='balanced'\n",
    "    ),\n",
    ")\n",
    "\n",
    "dt3_gs = make_gs(dt3_pipeline, dt3_param_grid)"
   ]
  },
  {
   "cell_type": "code",
   "execution_count": null,
   "id": "4286ce63",
   "metadata": {
    "ExecuteTime": {
     "end_time": "2024-07-23T14:06:21.965216Z",
     "start_time": "2024-07-23T14:06:21.907911Z"
    },
    "hidden": true
   },
   "outputs": [],
   "source": [
    "# RF OSR\n",
    "\n",
    "osr_param_grid = [{\n",
    "    'model__clf_kwargs':[{'n_estimators':n, 'random_state':42, 'class_weight':'balanced', 'max_features':None} for n in [20, 50, 100, 150, 200]],\n",
    "    'model__outlier_kwargs':[\n",
    "        {'n_estimators': n, \n",
    "         'max_samples': 'auto', \n",
    "         'contamination': c,\n",
    "         'max_features': 1.0, \n",
    "         'bootstrap':True,\n",
    "         'n_jobs':-1, \n",
    "         'random_state':42} for n in [10, 20, 50, 100] for c in [0.001, 0.01, 0.1, 0.5]\n",
    "    ],\n",
    "    'feature_selector__estimator': [\n",
    "        CollinearFeatureSelector(t=0.0, seed=42, minimize_label_entropy=False),\n",
    "        CollinearFeatureSelector(t=0.2, seed=42, minimize_label_entropy=False),\n",
    "        CollinearFeatureSelector(t=0.4, seed=42, minimize_label_entropy=False),\n",
    "        CollinearFeatureSelector(t=0.6, seed=42, minimize_label_entropy=False),\n",
    "        CollinearFeatureSelector(t=0.8, seed=42, minimize_label_entropy=False),\n",
    "        CollinearFeatureSelector(t=1.0, seed=42, minimize_label_entropy=False),\n",
    "    ]\n",
    "}]\n",
    "\n",
    "osr_pipeline = make_pipe(\n",
    "    osr.OpenSetClassifier(\n",
    "        clf_model=RandomForestClassifier,\n",
    "        outlier_model=IsolationForest,\n",
    "        clf_kwargs={},\n",
    "        outlier_kwargs={},\n",
    "        known_classes=['Authentic SLO', 'Abroad'],\n",
    "        inlier_value=1,\n",
    "        unknown_class='Unknown',\n",
    "        score_metric='TEFF',\n",
    "        clf_style='hard',\n",
    "        score_using=\"Authentic SLO\"\n",
    "    ),\n",
    ")\n",
    "\n",
    "osr_gs = make_gs(osr_pipeline, osr_param_grid)"
   ]
  },
  {
   "cell_type": "code",
   "execution_count": null,
   "id": "3db8c5a1",
   "metadata": {
    "ExecuteTime": {
     "end_time": "2024-07-24T00:30:09.831407Z",
     "start_time": "2024-07-23T14:06:32.842497Z"
    },
    "hidden": true,
    "scrolled": true
   },
   "outputs": [],
   "source": [
    "# 10x10 repeated (nested) CV\n",
    "scores_rf, scores_dds, scores_uneq, scores_dt, scores_dt2, scores_dt3, scores_osr = Compare.repeated_kfold(\n",
    "    [\n",
    "        rf_gs,\n",
    "        dds_gs,\n",
    "        uneq_gs,\n",
    "        dt_gs,\n",
    "        dt2_gs,\n",
    "        dt3_gs,\n",
    "        osr_gs\n",
    "    ],\n",
    "    X_tot[SITE].values,\n",
    "    X_tot['label'].values,\n",
    "    n_repeats=10,\n",
    "    k=10,\n",
    "    random_state=0\n",
    ")"
   ]
  },
  {
   "cell_type": "code",
   "execution_count": null,
   "id": "fa42b1ff",
   "metadata": {
    "ExecuteTime": {
     "end_time": "2024-07-24T00:30:11.533159Z",
     "start_time": "2024-07-24T00:30:09.834513Z"
    },
    "hidden": true
   },
   "outputs": [],
   "source": [
    "ax = Compare.visualize(\n",
    "    {\n",
    "        'Random Forest': scores_rf,\n",
    "        'Compliant DD-SIMCA': scores_dds,\n",
    "        'UNEQ': scores_uneq,\n",
    "        'DT Stump': scores_dt,\n",
    "        'DT Depth 2': scores_dt2,\n",
    "        'DT Depth 3': scores_dt3,\n",
    "        'RF OSR': scores_osr\n",
    "    },\n",
    "    n_repeats=10,\n",
    "    alpha=0.05,\n",
    "    ignore=0\n",
    ")\n",
    "\n",
    "_ = ax.set_xticklabels(\n",
    "    [\"%.1f\" % t for t in np.linspace(0.0, 0.9, 10)],\n",
    "    fontsize=18\n",
    ")\n",
    "_ = ax.set_title(\"Score +/- \" + r\"$\\sigma$\", fontsize=22)\n",
    "_ = ax.legend(loc=\"best\", bbox_to_anchor=(0.75, 0.5, 0.5, 0.5), fontsize=18)\n",
    "\n",
    "plt.savefig(\"si_strawberry_comparison.png\", transparent=None, dpi=600, format=\"png\",\n",
    "        metadata=None, bbox_inches='tight', pad_inches=0.1,\n",
    "        facecolor='auto', edgecolor='auto', backend=None)"
   ]
  },
  {
   "cell_type": "code",
   "execution_count": null,
   "id": "ed6d1cda",
   "metadata": {
    "ExecuteTime": {
     "end_time": "2024-07-24T00:30:11.562926Z",
     "start_time": "2024-07-24T00:30:11.535386Z"
    },
    "hidden": true
   },
   "outputs": [],
   "source": [
    "np.mean(scores_rf[scores_rf>0])"
   ]
  },
  {
   "cell_type": "markdown",
   "id": "1f4b0e3d",
   "metadata": {
    "heading_collapsed": true,
    "hidden": true
   },
   "source": [
    "### Without P"
   ]
  },
  {
   "cell_type": "code",
   "execution_count": null,
   "id": "c2aeebe9",
   "metadata": {
    "ExecuteTime": {
     "end_time": "2024-07-24T00:30:11.586095Z",
     "start_time": "2024-07-24T00:30:11.565590Z"
    },
    "hidden": true
   },
   "outputs": [],
   "source": [
    "# RF\n",
    "\n",
    "rf_pipeline = make_pipe(\n",
    "    RandomForestClassifier(\n",
    "        n_estimators=100, \n",
    "        random_state=42, \n",
    "        oob_score=True, \n",
    "        class_weight='balanced',\n",
    "        max_features=None\n",
    "    ),\n",
    "    drop=['P']\n",
    ")\n",
    "\n",
    "rf_gs_nop = make_gs(rf_pipeline, rf_param_grid)"
   ]
  },
  {
   "cell_type": "code",
   "execution_count": null,
   "id": "f1853cef",
   "metadata": {
    "ExecuteTime": {
     "end_time": "2024-07-24T00:30:11.647657Z",
     "start_time": "2024-07-24T00:30:11.587623Z"
    },
    "hidden": true
   },
   "outputs": [],
   "source": [
    "# DD-SIMCA\n",
    "\n",
    "dds_pipeline = make_pipe(\n",
    "    SIMCA_Authenticator(\n",
    "        n_components=1,\n",
    "        alpha=0.05,\n",
    "        scale_x=True,\n",
    "        style='dd-simca',\n",
    "        target_class='Authentic SLO',\n",
    "        use='compliant'\n",
    "    ),\n",
    "    drop=['P']\n",
    ")\n",
    "\n",
    "dds_gs_nop = make_gs(dds_pipeline, dds_param_grid)"
   ]
  },
  {
   "cell_type": "code",
   "execution_count": null,
   "id": "44e86efb",
   "metadata": {
    "ExecuteTime": {
     "end_time": "2024-07-24T00:30:11.739655Z",
     "start_time": "2024-07-24T00:30:11.649511Z"
    },
    "hidden": true
   },
   "outputs": [],
   "source": [
    "# UNEQ\n",
    "\n",
    "uneq_pipeline = make_pipe(\n",
    "    EllipticManifold_Authenticator(\n",
    "        alpha=0.05,\n",
    "        robust=True, \n",
    "        center='score',\n",
    "        target_class='Authentic SLO',\n",
    "        use='compliant'\n",
    "    ),\n",
    "    drop=['P']\n",
    ")\n",
    "\n",
    "uneq_gs_nop = make_gs(uneq_pipeline, uneq_param_grid)"
   ]
  },
  {
   "cell_type": "code",
   "execution_count": null,
   "id": "14eb3d85",
   "metadata": {
    "ExecuteTime": {
     "end_time": "2024-07-24T00:30:11.817050Z",
     "start_time": "2024-07-24T00:30:11.742715Z"
    },
    "hidden": true
   },
   "outputs": [],
   "source": [
    "# DT Stump\n",
    "\n",
    "dt_pipeline = make_pipe(\n",
    "    DecisionTreeClassifier(\n",
    "        max_depth=1,\n",
    "        random_state=42,\n",
    "        class_weight='balanced'\n",
    "    ),\n",
    "    drop=['P']\n",
    ")\n",
    "\n",
    "dt_gs_nop = make_gs(dt_pipeline, dt_param_grid)"
   ]
  },
  {
   "cell_type": "code",
   "execution_count": null,
   "id": "b907a661",
   "metadata": {
    "ExecuteTime": {
     "end_time": "2024-07-24T00:30:11.898899Z",
     "start_time": "2024-07-24T00:30:11.821179Z"
    },
    "hidden": true
   },
   "outputs": [],
   "source": [
    "# DT depth 2\n",
    "\n",
    "dt2_pipeline = make_pipe(\n",
    "    DecisionTreeClassifier(\n",
    "        max_depth=2,\n",
    "        random_state=42,\n",
    "        class_weight='balanced'\n",
    "    ),\n",
    "    drop=['P']\n",
    ")\n",
    "\n",
    "dt2_gs_nop = make_gs(dt2_pipeline, dt2_param_grid)"
   ]
  },
  {
   "cell_type": "code",
   "execution_count": null,
   "id": "ae62bfc4",
   "metadata": {
    "ExecuteTime": {
     "end_time": "2024-07-24T00:30:11.990528Z",
     "start_time": "2024-07-24T00:30:11.902822Z"
    },
    "hidden": true
   },
   "outputs": [],
   "source": [
    "# DT depth 3\n",
    "\n",
    "dt3_pipeline = make_pipe(\n",
    "    DecisionTreeClassifier(\n",
    "        max_depth=3,\n",
    "        random_state=42,\n",
    "        class_weight='balanced'\n",
    "    ),\n",
    "    drop=['P']\n",
    ")\n",
    "\n",
    "dt3_gs_nop = make_gs(dt3_pipeline, dt3_param_grid)"
   ]
  },
  {
   "cell_type": "code",
   "execution_count": null,
   "id": "683de3f6",
   "metadata": {
    "ExecuteTime": {
     "end_time": "2024-07-24T00:30:12.041758Z",
     "start_time": "2024-07-24T00:30:11.996198Z"
    },
    "hidden": true
   },
   "outputs": [],
   "source": [
    "# RF OSR\n",
    "\n",
    "osr_pipeline = make_pipe(\n",
    "    osr.OpenSetClassifier(\n",
    "        clf_model=RandomForestClassifier,\n",
    "        outlier_model=IsolationForest,\n",
    "        clf_kwargs={},\n",
    "        outlier_kwargs={},\n",
    "        known_classes=['Authentic SLO', 'Abroad'],\n",
    "        inlier_value=1,\n",
    "        unknown_class='Unknown',\n",
    "        score_metric='TEFF',\n",
    "        clf_style='hard',\n",
    "        score_using=\"Authentic SLO\"\n",
    "    ),\n",
    "    drop=['P']\n",
    ")\n",
    "\n",
    "osr_gs_nop = make_gs(osr_pipeline, osr_param_grid)"
   ]
  },
  {
   "cell_type": "code",
   "execution_count": null,
   "id": "888fdeb3",
   "metadata": {
    "ExecuteTime": {
     "end_time": "2024-07-24T04:05:36.930904Z",
     "start_time": "2024-07-24T00:30:12.044833Z"
    },
    "hidden": true
   },
   "outputs": [],
   "source": [
    "# 10x10 repeated (nested) CV\n",
    "scores_rf_nop, scores_dds_nop, scores_uneq_nop, scores_dt_nop, scores_dt2_nop, scores_dt3_nop, scores_osr_nop = Compare.repeated_kfold(\n",
    "    [\n",
    "        rf_gs_nop,\n",
    "        dds_gs_nop,\n",
    "        uneq_gs_nop,\n",
    "        dt_gs_nop,\n",
    "        dt2_gs_nop,\n",
    "        dt3_gs_nop,\n",
    "        osr_gs_nop\n",
    "    ],\n",
    "    X_tot[SITE].drop('P', axis=1).values,\n",
    "    X_tot['label'].values,\n",
    "    n_repeats=10,\n",
    "    k=10,\n",
    "    random_state=0\n",
    ")"
   ]
  },
  {
   "cell_type": "code",
   "execution_count": null,
   "id": "423c8424",
   "metadata": {
    "ExecuteTime": {
     "end_time": "2024-07-24T04:05:39.031167Z",
     "start_time": "2024-07-24T04:05:36.933629Z"
    },
    "hidden": true
   },
   "outputs": [],
   "source": [
    "ax = Compare.visualize(\n",
    "    {\n",
    "        'Random Forest': scores_rf_nop,\n",
    "        'Compliant DD-SIMCA': scores_dds_nop,\n",
    "        'UNEQ': scores_uneq_nop,\n",
    "        'DT Stump': scores_dt_nop,\n",
    "        'DT Depth 2': scores_dt2_nop,\n",
    "        'DT Depth 3': scores_dt3_nop,\n",
    "        'RF OSR': scores_osr_nop\n",
    "    },\n",
    "    n_repeats=10,\n",
    "    alpha=0.05,\n",
    "    ignore=0\n",
    ")\n",
    "\n",
    "_ = ax.set_xticklabels(\n",
    "    [\"%.1f\" % t for t in np.linspace(0.0, 0.9, 10)],\n",
    "    fontsize=18\n",
    ")\n",
    "_ = ax.set_title(\"Score +/- \" + r\"$\\sigma$\", fontsize=22)\n",
    "_ = ax.legend(loc=\"best\", bbox_to_anchor=(0.75, 0.5, 0.5, 0.5), fontsize=18)\n",
    "\n",
    "plt.savefig(\"fig7c.png\", transparent=None, dpi=600, format=\"png\",\n",
    "        metadata=None, bbox_inches='tight', pad_inches=0.1,\n",
    "        facecolor='auto', edgecolor='auto', backend=None)"
   ]
  },
  {
   "cell_type": "code",
   "execution_count": null,
   "id": "806d8346",
   "metadata": {
    "ExecuteTime": {
     "end_time": "2024-07-24T04:05:39.058097Z",
     "start_time": "2024-07-24T04:05:39.033559Z"
    },
    "hidden": true
   },
   "outputs": [],
   "source": [
    "np.mean(scores_rf_nop[scores_rf_nop>0])"
   ]
  },
  {
   "cell_type": "code",
   "execution_count": null,
   "id": "dfde8fc4",
   "metadata": {
    "ExecuteTime": {
     "end_time": "2024-07-24T04:05:39.081092Z",
     "start_time": "2024-07-24T04:05:39.060385Z"
    },
    "hidden": true
   },
   "outputs": [],
   "source": [
    "np.mean(scores_rf[scores_rf>0]) - np.mean(scores_rf_nop[scores_rf_nop>0]) "
   ]
  },
  {
   "cell_type": "code",
   "execution_count": null,
   "id": "cd68eb59",
   "metadata": {
    "ExecuteTime": {
     "end_time": "2024-07-24T04:05:39.148269Z",
     "start_time": "2024-07-24T04:05:39.083086Z"
    },
    "hidden": true
   },
   "outputs": [],
   "source": [
    "np.mean(scores_dds_nop[scores_dds_nop>0])"
   ]
  },
  {
   "cell_type": "code",
   "execution_count": null,
   "id": "7ccbd8fc",
   "metadata": {
    "hidden": true
   },
   "outputs": [],
   "source": []
  }
 ],
 "metadata": {
  "kernelspec": {
   "display_name": "test-slo",
   "language": "python",
   "name": "test-slo"
  },
  "language_info": {
   "codemirror_mode": {
    "name": "ipython",
    "version": 3
   },
   "file_extension": ".py",
   "mimetype": "text/x-python",
   "name": "python",
   "nbconvert_exporter": "python",
   "pygments_lexer": "ipython3",
   "version": "3.11.0"
  }
 },
 "nbformat": 4,
 "nbformat_minor": 5
}
