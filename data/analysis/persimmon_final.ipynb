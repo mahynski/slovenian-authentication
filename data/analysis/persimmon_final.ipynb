{
 "cells": [
  {
   "cell_type": "code",
   "execution_count": null,
   "id": "561bd8da",
   "metadata": {
    "ExecuteTime": {
     "end_time": "2024-08-29T15:40:06.446829Z",
     "start_time": "2024-08-29T15:40:02.838305Z"
    }
   },
   "outputs": [],
   "source": [
    "import imblearn\n",
    "import sklearn\n",
    "\n",
    "import utils\n",
    "\n",
    "import pychemauth\n",
    "from pychemauth.eda.explore import InspectData\n",
    "from pychemauth.eda.screen import JSBinary\n",
    "from pychemauth.preprocessing.scaling import CorrectedScaler\n",
    "from pychemauth.preprocessing.missing import LOD\n",
    "from pychemauth.classifier.simca import SIMCA_Authenticator\n",
    "from pychemauth.preprocessing.feature_selection import CollinearFeatureSelector\n",
    "from pychemauth.manifold.elliptic import EllipticManifold_Authenticator\n",
    "from pychemauth.analysis.compare import Compare\n",
    "from pychemauth.classifier import osr\n",
    "\n",
    "from sklearn.model_selection import GridSearchCV\n",
    "from sklearn.feature_selection import SelectFromModel\n",
    "from sklearn.ensemble import RandomForestClassifier, IsolationForest\n",
    "from sklearn.tree import DecisionTreeClassifier\n",
    "from sklearn.inspection import permutation_importance\n",
    "\n",
    "import seaborn as sns\n",
    "import numpy as np\n",
    "import pandas as pd\n",
    "import missingno as msno\n",
    "\n",
    "import matplotlib.pyplot as plt\n",
    "%matplotlib inline\n",
    "\n",
    "import watermark\n",
    "%load_ext watermark\n",
    "\n",
    "%load_ext autoreload\n",
    "%autoreload 2"
   ]
  },
  {
   "cell_type": "code",
   "execution_count": null,
   "id": "91aa99fe",
   "metadata": {
    "ExecuteTime": {
     "end_time": "2024-08-29T15:40:06.468884Z",
     "start_time": "2024-08-29T15:40:06.449091Z"
    }
   },
   "outputs": [],
   "source": [
    "import pickle\n",
    "def save_results(results, filename):\n",
    "    pickle.dump(results, open(filename, 'wb'), protocol=4)"
   ]
  },
  {
   "cell_type": "code",
   "execution_count": null,
   "id": "562741e0",
   "metadata": {
    "ExecuteTime": {
     "end_time": "2024-08-29T15:40:06.536329Z",
     "start_time": "2024-08-29T15:40:06.470669Z"
    }
   },
   "outputs": [],
   "source": [
    "%watermark -t -m -v --iversions"
   ]
  },
  {
   "cell_type": "markdown",
   "id": "d27c823c",
   "metadata": {
    "heading_collapsed": true
   },
   "source": [
    "# Load Data"
   ]
  },
  {
   "cell_type": "code",
   "execution_count": null,
   "id": "fb92794e",
   "metadata": {
    "ExecuteTime": {
     "end_time": "2024-08-28T18:35:18.456036Z",
     "start_time": "2024-08-28T18:35:17.260214Z"
    },
    "hidden": true
   },
   "outputs": [],
   "source": [
    "M_, lod_ = utils.get_data(sheet_name='Kaki_osnova', col_start=7, row_start=17, loc='../../data/raw/DB_UVHVVR.xlsx')\n",
    "\n",
    "# We have pre-determined that we wish to drop all analytes with > 30% below LOD.\n",
    "analytes_to_keep = ((M_[lod_.index] < lod_).sum() / M_.shape[0] ) <= 0.3\n",
    "analytes_to_keep = [a[0] for a in list(analytes_to_keep.items()) if a[1]]\n",
    "\n",
    "X = M_.loc[:,analytes_to_keep]\n",
    "X['label'] = M_['Poreklo']\n",
    "lod = lod_[analytes_to_keep]\n",
    "\n",
    "# 34S is not reliably measured (none from 2020, all from 2022)\n",
    "X.drop('34S', axis=1, inplace=True)\n",
    "lod.drop('34S', inplace=True)\n",
    "\n",
    "# Let's also drop all the 'Test SLO'\n",
    "X = X[X['label'] != 'Test SLO']\n",
    "\n",
    "_ = msno.matrix(X, labels=True)"
   ]
  },
  {
   "cell_type": "markdown",
   "id": "3af48443",
   "metadata": {
    "heading_collapsed": true
   },
   "source": [
    "# EDA"
   ]
  },
  {
   "cell_type": "code",
   "execution_count": null,
   "id": "20d27b8e",
   "metadata": {
    "ExecuteTime": {
     "end_time": "2024-08-28T18:35:19.436682Z",
     "start_time": "2024-08-28T18:35:18.458578Z"
    },
    "hidden": true
   },
   "outputs": [],
   "source": [
    "selected_features, abroad_cluster_id_to_feature_ids, fig = InspectData.cluster_collinear(\n",
    "    np.asarray(X[X['label'] != 'Authentic SLO'].drop('label', axis=1).values, dtype=np.float64), \n",
    "    feature_names=X[X['label'] != 'Authentic SLO'].drop('label', axis=1).columns, \n",
    "    figsize=(12,8),\n",
    "    t=0.6\n",
    ")"
   ]
  },
  {
   "cell_type": "code",
   "execution_count": null,
   "id": "3b996f1e",
   "metadata": {
    "ExecuteTime": {
     "end_time": "2024-08-28T18:35:21.592415Z",
     "start_time": "2024-08-28T18:35:19.438509Z"
    },
    "hidden": true
   },
   "outputs": [],
   "source": [
    "selected_features, slo_cluster_id_to_feature_ids, fig = InspectData.cluster_collinear(\n",
    "    np.asarray(X[X['label'] == 'Authentic SLO'].drop('label', axis=1).values, dtype=np.float64), \n",
    "    feature_names=X[X['label'] == 'Authentic SLO'].drop('label', axis=1).columns, \n",
    "    figsize=(10,4),\n",
    "    t=0.6,\n",
    "    highlight=False,\n",
    "    figname='persimmon_correlations.png'\n",
    ")"
   ]
  },
  {
   "cell_type": "markdown",
   "id": "fac882fb",
   "metadata": {
    "heading_collapsed": true
   },
   "source": [
    "# Clean"
   ]
  },
  {
   "cell_type": "code",
   "execution_count": null,
   "id": "949fa93f",
   "metadata": {
    "ExecuteTime": {
     "end_time": "2024-08-28T18:35:21.683621Z",
     "start_time": "2024-08-28T18:35:21.596435Z"
    },
    "hidden": true
   },
   "outputs": [],
   "source": [
    "X"
   ]
  },
  {
   "cell_type": "code",
   "execution_count": null,
   "id": "43ea5207",
   "metadata": {
    "ExecuteTime": {
     "end_time": "2024-08-28T18:35:21.853735Z",
     "start_time": "2024-08-28T18:35:21.687076Z"
    },
    "hidden": true
   },
   "outputs": [],
   "source": [
    "# Also consider dataset composed of ln(X/lod)\n",
    "X_ln = X.copy()\n",
    "for te_ in lod.index[3:]:\n",
    "    X_ln[te_] = X_ln[te_].apply(lambda x: np.log(float(x / lod[te_])))\n",
    "    \n",
    "X_auth = X_ln[X_ln['label'] == 'Authentic SLO'].copy()\n",
    "Outlier = utils.flag_outliers(X_auth, lod)\n",
    "\n",
    "X_auth_orig = X[X['label'] == 'Authentic SLO'].copy()\n",
    "X_auth_orig = X_auth_orig[Outlier.drop('label', axis=1).sum(axis=1) < 3]"
   ]
  },
  {
   "cell_type": "code",
   "execution_count": null,
   "id": "9d9a976e",
   "metadata": {
    "ExecuteTime": {
     "end_time": "2024-08-28T18:35:21.894723Z",
     "start_time": "2024-08-28T18:35:21.855511Z"
    },
    "hidden": true
   },
   "outputs": [],
   "source": [
    "X_abroad_orig = X[X['label'] != 'Authentic SLO'].copy()\n",
    "\n",
    "X_tot = pd.concat((X_auth_orig, X_abroad_orig), axis=0)\n",
    "X_tot"
   ]
  },
  {
   "cell_type": "markdown",
   "id": "68a4d0d5",
   "metadata": {
    "heading_collapsed": true
   },
   "source": [
    "# JSD"
   ]
  },
  {
   "cell_type": "code",
   "execution_count": null,
   "id": "d2ad81ce",
   "metadata": {
    "ExecuteTime": {
     "end_time": "2024-08-28T18:35:32.865553Z",
     "start_time": "2024-08-28T18:35:21.896523Z"
    },
    "hidden": true
   },
   "outputs": [],
   "source": [
    "from pychemauth.eda.explore import InspectData\n",
    "\n",
    "InspectData.pairplot(X_tot, vars=['Sr', '13C', 'Ni', 'Na', '18O'], hue=\"label\", diag_kind=\"kde\")"
   ]
  },
  {
   "cell_type": "code",
   "execution_count": null,
   "id": "494c9701",
   "metadata": {
    "ExecuteTime": {
     "end_time": "2024-08-28T18:35:32.911878Z",
     "start_time": "2024-08-28T18:35:32.868548Z"
    },
    "hidden": true
   },
   "outputs": [],
   "source": [
    "def plot_distribution(X, xlabels):\n",
    "    fig, axes = plt.subplots(\n",
    "        nrows=((len(X.columns)-1) // 3) + int(len(X.columns)-1 - ((len(X.columns)-1) // 3) * 3 > 0), \n",
    "        ncols=3, \n",
    "        figsize=(12,5)\n",
    "    )\n",
    "\n",
    "    for i, (site_, ax, label_) in enumerate(zip(X.drop('label', axis=1).columns, axes.ravel(), xlabels)):\n",
    "        sns.histplot(\n",
    "            X,\n",
    "            x=site_,\n",
    "            hue='label',\n",
    "            kde=True,\n",
    "            ax=ax\n",
    "        )\n",
    "        ticks_ = ax.get_xticks()[1:-1]\n",
    "        ax.set_xticks(ticks_, labels=[str('%.0f'%a) for a in ticks_], fontsize=20, rotation=45)\n",
    "        ax.set_xlabel(label_, fontsize=20)\n",
    "        \n",
    "        ticks_ = ax.get_yticks()\n",
    "        ax.set_yticks(ticks_, labels=[str('%.0f'%a) for a in ticks_], fontsize=20, rotation=0)\n",
    "        \n",
    "        if i > 0:\n",
    "            ax.set_ylabel('')\n",
    "        else:\n",
    "            ax.set_ylabel('Count', fontsize=20)\n",
    "            \n",
    "    return axes"
   ]
  },
  {
   "cell_type": "code",
   "execution_count": null,
   "id": "55f55502",
   "metadata": {
    "ExecuteTime": {
     "end_time": "2024-08-28T18:35:36.910239Z",
     "start_time": "2024-08-28T18:35:32.916218Z"
    },
    "hidden": true,
    "scrolled": false
   },
   "outputs": [],
   "source": [
    "axes = plot_distribution(\n",
    "    X_tot[['Sr', 'Na', '13C', 'label']], \n",
    "    xlabels=[r'${\\rm Sr}~(\\mu g/g)$', r'${\\rm Na}~(\\mu g/g)$', r'$\\delta {}^{13}{\\rm C}~({}^{\\circ}/{}_{\\circ\\circ})$']\n",
    ")\n",
    "\n",
    "axes[0].axvline(1.553, color='r') # Tree delimiter determined below\n",
    "axes[1].axvline(21.284, color='r') # Tree delimiter determined below\n",
    "_ = axes[2].axvline(-27.449, color='r') # Tree delimiter determined below\n",
    "\n",
    "for ax in axes:\n",
    "    ax.legend(labels=['Abroad', 'Authentic'], fontsize=18)\n",
    "    \n",
    "plt.savefig(\"fig2b.png\", transparent=None, dpi=600, format=\"png\",\n",
    "        metadata=None, bbox_inches='tight', pad_inches=0.1,\n",
    "        facecolor='auto', edgecolor='auto', backend=None)"
   ]
  },
  {
   "cell_type": "code",
   "execution_count": null,
   "id": "8034ac9a",
   "metadata": {
    "ExecuteTime": {
     "end_time": "2024-08-28T18:35:36.963013Z",
     "start_time": "2024-08-28T18:35:36.914643Z"
    },
    "hidden": true
   },
   "outputs": [],
   "source": [
    "def plot_jsd(X, vline=11):\n",
    "    bins = np.arange(1, 101, 10)\n",
    "\n",
    "    max_value = []\n",
    "    max_site = []\n",
    "\n",
    "    for nbins in bins:\n",
    "        jsb = JSBinary(js_bins=nbins, robust=True)\n",
    "        jsb.fit(X=X.drop('label', axis=1).values, y=X['label'].values)\n",
    "        i, j = jsb._JSBinary__enc_.transform(['Authentic SLO'])[0], jsb._JSBinary__enc_.transform(['Abroad'])[0]\n",
    "        max_value.append(jsb.matrix[i,j])\n",
    "        max_site.append(jsb.top_features(X.drop('label', axis=1).columns)[i,j])\n",
    "        \n",
    "    plt.plot(bins, max_value, '-o')\n",
    "    plt.title('Authentic vs. Abroad', fontsize=22)\n",
    "    plt.ylabel('Max JSD', fontsize=20)\n",
    "    plt.xlabel('Number of Bins', fontsize=20)\n",
    "    plt.axvline(vline, color='k')\n",
    "    plt.xticks(fontsize=18)\n",
    "    plt.yticks(fontsize=18)\n",
    "    \n",
    "    for i in range(1, len(max_site)):\n",
    "        plt.text(bins[i]+0.2, max_value[i]-0.07, max_site[i], fontsize=18)\n",
    "    \n",
    "    return max_site"
   ]
  },
  {
   "cell_type": "code",
   "execution_count": null,
   "id": "035125cc",
   "metadata": {
    "ExecuteTime": {
     "end_time": "2024-08-28T18:35:38.853043Z",
     "start_time": "2024-08-28T18:35:36.969844Z"
    },
    "hidden": true
   },
   "outputs": [],
   "source": [
    "_ = plot_jsd(X_tot, vline=11)\n",
    "plt.savefig(\"fig2a.png\", transparent=None, dpi=600, format=\"png\",\n",
    "        metadata=None, bbox_inches='tight', pad_inches=0.1,\n",
    "        facecolor='auto', edgecolor='auto', backend=None)"
   ]
  },
  {
   "cell_type": "markdown",
   "id": "b19d79f6",
   "metadata": {
    "heading_collapsed": true
   },
   "source": [
    "# Model"
   ]
  },
  {
   "cell_type": "code",
   "execution_count": null,
   "id": "cccdc886",
   "metadata": {
    "ExecuteTime": {
     "end_time": "2024-08-28T18:35:38.878797Z",
     "start_time": "2024-08-28T18:35:38.857385Z"
    },
    "hidden": true
   },
   "outputs": [],
   "source": [
    "# Just to guarantee ordering is consistent\n",
    "SITE = lod.index"
   ]
  },
  {
   "cell_type": "code",
   "execution_count": null,
   "id": "82f5c564",
   "metadata": {
    "ExecuteTime": {
     "end_time": "2024-08-28T18:35:38.962595Z",
     "start_time": "2024-08-28T18:35:38.880458Z"
    },
    "hidden": true
   },
   "outputs": [],
   "source": [
    "def make_gs(pipeline, param_grid):\n",
    "    return GridSearchCV(\n",
    "        estimator=pipeline,\n",
    "        param_grid=param_grid,\n",
    "        n_jobs=-1,\n",
    "        cv=sklearn.model_selection.StratifiedKFold(\n",
    "            n_splits=10, # 10-fold CV for hyperparameter optimization\n",
    "            shuffle=True, \n",
    "            random_state=0\n",
    "        ),\n",
    "        error_score=0,\n",
    "        refit=True\n",
    "    )"
   ]
  },
  {
   "cell_type": "code",
   "execution_count": null,
   "id": "9367f1c6",
   "metadata": {
    "ExecuteTime": {
     "end_time": "2024-08-28T18:35:39.052924Z",
     "start_time": "2024-08-28T18:35:38.965053Z"
    },
    "hidden": true
   },
   "outputs": [],
   "source": [
    "def make_pipe(model, use_feature_selector=True):\n",
    "    steps = [\n",
    "        (\"imputer\", LOD( # Impute < LOD\n",
    "            lod=lod[SITE].values, \n",
    "            missing_values=np.nan, \n",
    "            seed=42,\n",
    "            skip_columns=[0, 1, 2] # Stable isotopes are the first 3 features\n",
    "        ))\n",
    "    ]\n",
    "    \n",
    "    if use_feature_selector:\n",
    "        steps += [\n",
    "            (\"feature_selector\", SelectFromModel( # Must come after LOD_LN imputer\n",
    "                estimator=CollinearFeatureSelector( # We will replace this estimator in the param_grid below\n",
    "                    t=0.9,\n",
    "                    seed=42,\n",
    "                    minimize_label_entropy=False,\n",
    "                ),\n",
    "                threshold=0.5, # 0's are given to features ignored, 1 if they are kept so set the threshold in between\n",
    "                prefit=False,\n",
    "            ))\n",
    "        ]\n",
    "        \n",
    "    steps += [\n",
    "        (\"autoscaler\", CorrectedScaler( # Data is considered \"clean\" so we will not use robust estimates\n",
    "            with_mean=True,\n",
    "            with_std=True\n",
    "        )),\n",
    "        (\"model\", model),\n",
    "    ]    \n",
    "    \n",
    "    pipeline = imblearn.pipeline.Pipeline(steps=steps)\n",
    "    \n",
    "    return pipeline"
   ]
  },
  {
   "cell_type": "markdown",
   "id": "be5166a5",
   "metadata": {
    "heading_collapsed": true,
    "hidden": true
   },
   "source": [
    "## DD-SIMCA Model"
   ]
  },
  {
   "cell_type": "code",
   "execution_count": null,
   "id": "f15135c8",
   "metadata": {
    "ExecuteTime": {
     "end_time": "2024-08-28T18:36:02.663983Z",
     "start_time": "2024-08-28T18:36:02.598614Z"
    },
    "hidden": true
   },
   "outputs": [],
   "source": [
    "# Fit model on entire dataset, but do not use feature selector so that we can see how it chooses to use all of them\n",
    "dds_param_grid = [{\n",
    "    'model__n_components':np.arange(1, 10),\n",
    "    'model__alpha':np.logspace(-5, np.log10(0.5), 20),\n",
    "}]\n",
    "\n",
    "dds_pipeline = make_pipe(\n",
    "    SIMCA_Authenticator(\n",
    "        n_components=1,\n",
    "        alpha=0.05,\n",
    "        scale_x=True,\n",
    "        style='dd-simca',\n",
    "        target_class='Authentic SLO',\n",
    "        use='compliant'\n",
    "    ),\n",
    "    use_feature_selector=False, # Let it see all the features\n",
    ")\n",
    "\n",
    "dds_gs = make_gs(dds_pipeline, dds_param_grid)"
   ]
  },
  {
   "cell_type": "code",
   "execution_count": null,
   "id": "d8993a7f",
   "metadata": {
    "ExecuteTime": {
     "end_time": "2024-08-28T18:36:19.672930Z",
     "start_time": "2024-08-28T18:36:03.360658Z"
    },
    "hidden": true
   },
   "outputs": [],
   "source": [
    "_ = dds_gs.fit(\n",
    "    X_tot[SITE].values,\n",
    "    X_tot['label'].values\n",
    ")"
   ]
  },
  {
   "cell_type": "code",
   "execution_count": null,
   "id": "3748e9b8",
   "metadata": {
    "ExecuteTime": {
     "end_time": "2024-08-28T18:36:19.747322Z",
     "start_time": "2024-08-28T18:36:19.677070Z"
    },
    "hidden": true
   },
   "outputs": [],
   "source": [
    "dds_gs.score(\n",
    "    X_tot[SITE].values,\n",
    "    X_tot['label'].values\n",
    ")"
   ]
  },
  {
   "cell_type": "code",
   "execution_count": null,
   "id": "d09eeef5",
   "metadata": {
    "ExecuteTime": {
     "end_time": "2024-08-28T18:36:23.479788Z",
     "start_time": "2024-08-28T18:36:23.454981Z"
    },
    "hidden": true
   },
   "outputs": [],
   "source": [
    "dds_gs.best_params_"
   ]
  },
  {
   "cell_type": "code",
   "execution_count": null,
   "id": "9bf04361",
   "metadata": {
    "ExecuteTime": {
     "end_time": "2024-08-28T18:38:51.435666Z",
     "start_time": "2024-08-28T18:38:49.980954Z"
    },
    "hidden": true
   },
   "outputs": [],
   "source": [
    "ax = dds_gs.best_estimator_.named_steps['model'].model.plot_loadings(\n",
    "    list(SITE),\n",
    "    fontsize=18,\n",
    "    feature_offset=(0.01, 0.00)\n",
    ")\n",
    "\n",
    "expl_ = dds_gs.best_estimator_.named_steps['model'].model._DDSIMCA_Model__pca_.explained_variance_ratio_\n",
    "ax.set_xlabel(f'PC 1 ({\"%.4f\"%(expl_[0]*100)}%)', fontsize=20)\n",
    "ax.set_ylabel(f'PC 2 ({\"%.4f\"%(expl_[1]*100)}%)', fontsize=20)\n",
    "ax.set_xlim(-0.27, 0.45)\n",
    "ticks_ = [-0.2, -0.1, 0.0, 0.1, 0.2, 0.3, 0.4]\n",
    "ax.set_xticks(ticks_, [str(a) for a in ticks_], fontsize=18)\n",
    "ticks_ = [-0.3, -0.2, -0.1, 0.0, 0.1, 0.2, 0.3, 0.4]\n",
    "_ = ax.set_yticks(ticks_, [str(a) for a in ticks_], fontsize=18)\n",
    "\n",
    "plt.savefig(\"fig2f_2.png\", transparent=None, dpi=600, format=\"png\",\n",
    "        metadata=None, bbox_inches='tight', pad_inches=0.1,\n",
    "        facecolor='auto', edgecolor='auto', backend=None)"
   ]
  },
  {
   "cell_type": "code",
   "execution_count": null,
   "id": "c55e1cca",
   "metadata": {
    "ExecuteTime": {
     "end_time": "2024-08-28T18:39:16.876230Z",
     "start_time": "2024-08-28T18:39:15.226827Z"
    },
    "hidden": true
   },
   "outputs": [],
   "source": [
    "preprocessing = imblearn.pipeline.Pipeline(\n",
    "    steps = dds_gs.best_estimator_.steps[:-1]\n",
    ")\n",
    "\n",
    "ax = dds_gs.best_estimator_.named_steps['model'].model.visualize(\n",
    "    X=preprocessing.transform(X_tot[SITE].values), \n",
    "    y=X_tot['label'].values,\n",
    "    outlier_curve=False\n",
    ")\n",
    "ax.set_xlabel('${\\\\rm ln(1 + h/h_0)}$', fontsize=20)\n",
    "ax.set_ylabel('${\\\\rm ln(1 + q/q_0)}$', fontsize=20)\n",
    "ticks_ = [0, 0.5, 1.0, 1.5, 2.0, 2.5, 3.0]\n",
    "ax.set_xticks(ticks_, [str(a) for a in ticks_], fontsize=18)\n",
    "ticks_ = [0.0, 1.0, 2.0, 3.0, 4.0]\n",
    "ax.set_yticks(ticks_, [str(a) for a in ticks_], fontsize=18)\n",
    "\n",
    "_ = ax.legend(labels=['Threshold', 'Abroad = Inlier (3)', 'Abroad = Outlier (26)', 'Authentic = Inlier (50)'], fontsize=17)\n",
    "\n",
    "plt.savefig(\"fig2f_1.png\", transparent=None, dpi=600, format=\"png\",\n",
    "        metadata=None, bbox_inches='tight', pad_inches=0.1,\n",
    "        facecolor='auto', edgecolor='auto', backend=None)"
   ]
  },
  {
   "cell_type": "markdown",
   "id": "db76f790",
   "metadata": {
    "heading_collapsed": true,
    "hidden": true
   },
   "source": [
    "## RF OSR"
   ]
  },
  {
   "cell_type": "code",
   "execution_count": null,
   "id": "887e004e",
   "metadata": {
    "ExecuteTime": {
     "end_time": "2024-08-28T18:39:42.757647Z",
     "start_time": "2024-08-28T18:39:42.719425Z"
    },
    "hidden": true
   },
   "outputs": [],
   "source": [
    "# Fit model on entire dataset, but do not use feature selector so that we can see how it chooses to use all of them\n",
    "osr_param_grid = [{\n",
    "    'model__clf_kwargs':[{'n_estimators':n, 'random_state':42, 'class_weight':'balanced', 'oob_score':True, 'max_features':None} for n in [20, 50, 100, 150, 200]],\n",
    "    'model__outlier_kwargs':[\n",
    "        {'n_estimators': n, \n",
    "         'max_samples': 'auto', \n",
    "         'contamination': c,\n",
    "         'max_features': 1.0, \n",
    "         'bootstrap':True,\n",
    "         'n_jobs':-1, \n",
    "         'random_state':42} for n in [10, 20, 50, 100] for c in [0.001, 0.01, 0.1, 0.5]\n",
    "    ],\n",
    "}]\n",
    "\n",
    "osr_pipeline = make_pipe(\n",
    "    osr.OpenSetClassifier(\n",
    "        clf_model=RandomForestClassifier,\n",
    "        outlier_model=IsolationForest,\n",
    "        clf_kwargs={},\n",
    "        outlier_kwargs={},\n",
    "        known_classes=['Authentic SLO', 'Abroad'],\n",
    "        inlier_value=1,\n",
    "        unknown_class='Unknown',\n",
    "        score_metric='TEFF',\n",
    "        clf_style='hard',\n",
    "        score_using=\"Authentic SLO\"\n",
    "    ),\n",
    "    use_feature_selector=False\n",
    ")\n",
    "\n",
    "osr_gs = make_gs(osr_pipeline, osr_param_grid)"
   ]
  },
  {
   "cell_type": "code",
   "execution_count": null,
   "id": "6871f47a",
   "metadata": {
    "ExecuteTime": {
     "end_time": "2024-08-28T18:40:00.495523Z",
     "start_time": "2024-08-28T18:39:42.867720Z"
    },
    "hidden": true
   },
   "outputs": [],
   "source": [
    "_ = osr_gs.fit(\n",
    "    X_tot[SITE].values,\n",
    "    X_tot['label'].values\n",
    ")"
   ]
  },
  {
   "cell_type": "code",
   "execution_count": null,
   "id": "3fff6a54",
   "metadata": {
    "ExecuteTime": {
     "end_time": "2024-08-28T18:40:00.524353Z",
     "start_time": "2024-08-28T18:40:00.498197Z"
    },
    "hidden": true
   },
   "outputs": [],
   "source": [
    "osr_gs.best_score_"
   ]
  },
  {
   "cell_type": "code",
   "execution_count": null,
   "id": "f327c288",
   "metadata": {
    "ExecuteTime": {
     "end_time": "2024-08-28T18:40:34.406402Z",
     "start_time": "2024-08-28T18:40:34.352125Z"
    },
    "hidden": true
   },
   "outputs": [],
   "source": [
    "osr_gs.best_params_"
   ]
  },
  {
   "cell_type": "code",
   "execution_count": null,
   "id": "a252a82a",
   "metadata": {
    "ExecuteTime": {
     "end_time": "2024-08-28T18:40:56.447051Z",
     "start_time": "2024-08-28T18:40:56.348759Z"
    },
    "hidden": true
   },
   "outputs": [],
   "source": [
    "fom = osr_gs.best_estimator_.named_steps['model'].figures_of_merit(\n",
    "    osr_gs.best_estimator_.predict(X_tot[SITE].values),\n",
    "    X_tot['label'].values\n",
    ")"
   ]
  },
  {
   "cell_type": "code",
   "execution_count": null,
   "id": "22e282c0",
   "metadata": {
    "ExecuteTime": {
     "end_time": "2024-08-28T18:40:56.618267Z",
     "start_time": "2024-08-28T18:40:56.580334Z"
    },
    "hidden": true
   },
   "outputs": [],
   "source": [
    "df_ = fom['CM'].copy()"
   ]
  },
  {
   "cell_type": "code",
   "execution_count": null,
   "id": "b8c8900e",
   "metadata": {
    "ExecuteTime": {
     "end_time": "2024-08-28T18:40:57.193525Z",
     "start_time": "2024-08-28T18:40:57.142590Z"
    },
    "hidden": true
   },
   "outputs": [],
   "source": [
    "df2_ = df_.rename({'Unknown':'OOD', 'Authentic SLO':'Authentic'}, axis=1).rename({'Authentic SLO':'Authentic'}, axis=0)"
   ]
  },
  {
   "cell_type": "code",
   "execution_count": null,
   "id": "4cff6644",
   "metadata": {
    "ExecuteTime": {
     "end_time": "2024-08-28T18:40:57.912656Z",
     "start_time": "2024-08-28T18:40:57.778757Z"
    },
    "hidden": true
   },
   "outputs": [],
   "source": [
    "df2_"
   ]
  },
  {
   "cell_type": "code",
   "execution_count": null,
   "id": "f6645d23",
   "metadata": {
    "ExecuteTime": {
     "end_time": "2024-08-28T18:41:02.029859Z",
     "start_time": "2024-08-28T18:41:01.943467Z"
    },
    "hidden": true
   },
   "outputs": [],
   "source": [
    "pd.DataFrame(data=[[29+0, 0], [1, 49]], columns=['Abroad','Authentic']).rename({0:'Abroad', 1:'Authentic'}, axis=0)"
   ]
  },
  {
   "cell_type": "code",
   "execution_count": null,
   "id": "0a838a98",
   "metadata": {
    "ExecuteTime": {
     "end_time": "2024-08-28T18:41:06.675540Z",
     "start_time": "2024-08-28T18:41:06.618669Z"
    },
    "hidden": true
   },
   "outputs": [],
   "source": [
    "fom['I']"
   ]
  },
  {
   "cell_type": "code",
   "execution_count": null,
   "id": "6a806f53",
   "metadata": {
    "ExecuteTime": {
     "end_time": "2024-08-28T18:41:06.885024Z",
     "start_time": "2024-08-28T18:41:06.837824Z"
    },
    "hidden": true
   },
   "outputs": [],
   "source": [
    "fom['TSNS'], fom['TSPS'], fom['TEFF']"
   ]
  },
  {
   "cell_type": "code",
   "execution_count": null,
   "id": "b4fddc18",
   "metadata": {
    "ExecuteTime": {
     "end_time": "2024-08-28T18:41:17.086600Z",
     "start_time": "2024-08-28T18:41:16.958866Z"
    },
    "hidden": true
   },
   "outputs": [],
   "source": [
    "osr_gs.best_estimator_.named_steps['model'].clf_.oob_score_"
   ]
  },
  {
   "cell_type": "code",
   "execution_count": null,
   "id": "7750e67c",
   "metadata": {
    "ExecuteTime": {
     "end_time": "2024-08-28T18:41:20.318165Z",
     "start_time": "2024-08-28T18:41:20.283813Z"
    },
    "hidden": true
   },
   "outputs": [],
   "source": [
    "osr_gs.best_estimator_.named_steps['model'].clf_"
   ]
  },
  {
   "cell_type": "code",
   "execution_count": null,
   "id": "ef7fc866",
   "metadata": {
    "ExecuteTime": {
     "end_time": "2024-08-28T18:41:23.598945Z",
     "start_time": "2024-08-28T18:41:23.540670Z"
    },
    "hidden": true
   },
   "outputs": [],
   "source": [
    "sorted(zip(SITE, osr_gs.best_estimator_.named_steps['model'].clf_.feature_importances_), key=lambda x: np.abs(x[1]), reverse=True)"
   ]
  },
  {
   "cell_type": "code",
   "execution_count": null,
   "id": "320b3892",
   "metadata": {
    "ExecuteTime": {
     "end_time": "2024-08-28T18:41:38.278561Z",
     "start_time": "2024-08-28T18:41:24.867089Z"
    },
    "hidden": true
   },
   "outputs": [],
   "source": [
    "res = permutation_importance(\n",
    "    osr_gs, \n",
    "    X_tot[SITE].values,\n",
    "    X_tot['label'].values,\n",
    "    n_repeats=20,\n",
    "    random_state=42\n",
    ")"
   ]
  },
  {
   "cell_type": "code",
   "execution_count": null,
   "id": "e4b5811c",
   "metadata": {
    "ExecuteTime": {
     "end_time": "2024-08-28T18:41:38.355677Z",
     "start_time": "2024-08-28T18:41:38.289036Z"
    },
    "hidden": true
   },
   "outputs": [],
   "source": [
    "sort_ = sorted(zip(SITE, res['importances_mean']), key=lambda x:np.abs(x[1]), reverse=True)\n",
    "sort_"
   ]
  },
  {
   "cell_type": "code",
   "execution_count": null,
   "id": "f85f5be5",
   "metadata": {
    "ExecuteTime": {
     "end_time": "2024-08-28T18:41:39.403767Z",
     "start_time": "2024-08-28T18:41:38.357422Z"
    },
    "hidden": true
   },
   "outputs": [],
   "source": [
    "fig, ax = plt.subplots(nrows=1, ncols=1, figsize=(3,5))\n",
    "ax.plot(\n",
    "    np.arange(6),\n",
    "    [np.abs(a[1]) for a in sort_[:6]]\n",
    ")\n",
    "_ = plt.xticks(np.arange(6), [a[0] for a in sort_[:5]] + ['...'], fontsize=18)\n",
    "plt.yticks(fontsize=18)\n",
    "plt.axhline(0, color='k')\n",
    "plt.xlabel('SITE Feature', fontsize=20)\n",
    "plt.ylabel('PFI', fontsize=20)\n",
    "_ = plt.title('RF OSR (TEFF)', fontsize=22)\n",
    "\n",
    "plt.savefig(\"fig2d_1.png\", transparent=None, dpi=600, format=\"png\",\n",
    "        metadata=None, bbox_inches='tight', pad_inches=0.1,\n",
    "        facecolor='auto', edgecolor='auto', backend=None)"
   ]
  },
  {
   "cell_type": "markdown",
   "id": "00624ca6",
   "metadata": {
    "heading_collapsed": true,
    "hidden": true
   },
   "source": [
    "## Decision Tree Stump"
   ]
  },
  {
   "cell_type": "code",
   "execution_count": null,
   "id": "e66774ca",
   "metadata": {
    "ExecuteTime": {
     "end_time": "2024-08-28T18:41:52.201421Z",
     "start_time": "2024-08-28T18:41:52.177338Z"
    },
    "hidden": true
   },
   "outputs": [],
   "source": [
    "# Fit model on entire dataset, but do not use feature selector so that we can see how it chooses to use all of them\n",
    "dt_param_grid = [{\n",
    "    'model__max_depth':[1], # Force a stump\n",
    "}]\n",
    "\n",
    "dt_pipeline = make_pipe(\n",
    "    DecisionTreeClassifier(\n",
    "        max_depth=1,\n",
    "        random_state=42,\n",
    "        class_weight='balanced'\n",
    "    ),\n",
    "    use_feature_selector=False, # Let it see all the features\n",
    ")\n",
    "\n",
    "dt_gs = make_gs(dt_pipeline, dt_param_grid)"
   ]
  },
  {
   "cell_type": "code",
   "execution_count": null,
   "id": "95ba8dd4",
   "metadata": {
    "ExecuteTime": {
     "end_time": "2024-08-28T18:41:52.471951Z",
     "start_time": "2024-08-28T18:41:52.334183Z"
    },
    "hidden": true
   },
   "outputs": [],
   "source": [
    "_ = dt_gs.fit(\n",
    "    X_tot[SITE].values,\n",
    "    X_tot['label'].values\n",
    ")"
   ]
  },
  {
   "cell_type": "code",
   "execution_count": null,
   "id": "fa4c0145",
   "metadata": {
    "ExecuteTime": {
     "end_time": "2024-08-28T18:41:53.017091Z",
     "start_time": "2024-08-28T18:41:52.967889Z"
    },
    "hidden": true
   },
   "outputs": [],
   "source": [
    "dt_gs.score(\n",
    "    X_tot[SITE].values,\n",
    "    X_tot['label'].values\n",
    ")"
   ]
  },
  {
   "cell_type": "code",
   "execution_count": null,
   "id": "a2801641",
   "metadata": {
    "ExecuteTime": {
     "end_time": "2024-08-28T18:41:53.598975Z",
     "start_time": "2024-08-28T18:41:53.505597Z"
    },
    "hidden": true
   },
   "outputs": [],
   "source": [
    "dt_gs"
   ]
  },
  {
   "cell_type": "code",
   "execution_count": null,
   "id": "61a0f9f9",
   "metadata": {
    "ExecuteTime": {
     "end_time": "2024-08-28T18:41:56.775105Z",
     "start_time": "2024-08-28T18:41:56.460979Z"
    },
    "hidden": true
   },
   "outputs": [],
   "source": [
    "from sklearn.tree import plot_tree\n",
    "\n",
    "fig = plt.figure(figsize=(8,4))\n",
    "artists = plot_tree(\n",
    "    dt_gs.best_estimator_.named_steps['model'],\n",
    "    feature_names=list(SITE),\n",
    "    class_names=dt_gs.best_estimator_.classes_.tolist(),\n",
    "    label='root',\n",
    "    filled=True,\n",
    "    proportion=False,\n",
    "    impurity=False,\n",
    "    ax=fig.gca(),\n",
    "    fontsize=22,\n",
    "    rounded=True,\n",
    "    precision=3,\n",
    ")\n",
    "plt.tight_layout()\n",
    "\n",
    "# De-scale units\n",
    "d = {a[0]: (a[1], a[2]) for a in list(zip(SITE, dt_gs.best_estimator_.named_steps['autoscaler']._CorrectedScaler__mean_, dt_gs.best_estimator_.named_steps['autoscaler']._CorrectedScaler__std_))}\n",
    "\n",
    "artists[0].set_text('Sr <= {}\\nsamples = 79'.format('%.3f'%(-0.106*d['Sr'][1]+d['Sr'][0])))\n",
    "artists[1].set_text('56\\nAuthentic')\n",
    "artists[2].set_text('23\\nAbroad')"
   ]
  },
  {
   "cell_type": "code",
   "execution_count": null,
   "id": "ccc36076",
   "metadata": {
    "ExecuteTime": {
     "end_time": "2024-08-28T18:41:57.527305Z",
     "start_time": "2024-08-28T18:41:57.490801Z"
    },
    "hidden": true
   },
   "outputs": [],
   "source": [
    "d"
   ]
  },
  {
   "cell_type": "code",
   "execution_count": null,
   "id": "17b7a7be",
   "metadata": {
    "ExecuteTime": {
     "end_time": "2024-08-28T18:42:03.812949Z",
     "start_time": "2024-08-28T18:42:03.753270Z"
    },
    "hidden": true
   },
   "outputs": [],
   "source": [
    "def train_stump(site='Na'):\n",
    "    idx = np.where(SITE == site)[0][0]\n",
    "    \n",
    "    steps = []\n",
    "    \n",
    "    if idx >= 3:\n",
    "        # Only impute for trace elements\n",
    "        steps += [(\"imputer\", LOD( # Impute < LOD\n",
    "            lod=[lod[site]], \n",
    "            missing_values=np.nan, \n",
    "            seed=42,\n",
    "        ))]\n",
    "        \n",
    "    steps += [(\"model\", DecisionTreeClassifier(\n",
    "        max_depth=1,\n",
    "        random_state=42,\n",
    "        class_weight='balanced'\n",
    "    ))]\n",
    "    \n",
    "    pipeline = imblearn.pipeline.Pipeline(steps=steps)\n",
    "    \n",
    "    _ = pipeline.fit(\n",
    "        X_tot[site].values.reshape(-1,1), \n",
    "        X_tot['label'].values\n",
    "    )\n",
    "    \n",
    "    fig = plt.figure(figsize=(6,4))\n",
    "    artists = plot_tree(\n",
    "        pipeline.named_steps['model'],\n",
    "        feature_names=[site],\n",
    "        class_names=pipeline.named_steps['model'].classes_.tolist(),\n",
    "        label='root',\n",
    "        filled=True,\n",
    "        proportion=False,\n",
    "        impurity=False,\n",
    "        ax=fig.gca(),\n",
    "        fontsize=22,\n",
    "        rounded=True,\n",
    "        precision=3,\n",
    "    )\n",
    "    plt.tight_layout()\n",
    "    \n",
    "    def fix_naming(string):\n",
    "        s = string.split('\\n')\n",
    "        if len(s) == 4:\n",
    "            s = [s[0], s[1]]\n",
    "        else:\n",
    "            s = [s[0], s[2]]\n",
    "\n",
    "        if 'Authentic SLO' == s[-1]:\n",
    "            s[-1] = 'Authentic'\n",
    "        return s\n",
    "    \n",
    "    for a in artists:\n",
    "        a.set_text('\\n'.join(fix_naming(a.get_text())))\n",
    "    \n",
    "    return pipeline, pipeline.score(X_tot[site].values.reshape(-1,1),  X_tot['label'].values)"
   ]
  },
  {
   "cell_type": "code",
   "execution_count": null,
   "id": "66d1c83a",
   "metadata": {
    "ExecuteTime": {
     "end_time": "2024-08-28T18:42:24.677642Z",
     "start_time": "2024-08-28T18:42:23.573560Z"
    },
    "hidden": true
   },
   "outputs": [],
   "source": [
    "p_, score_ = train_stump('Sr')\n",
    "plt.savefig(\"fig2e_1.png\", transparent=None, dpi=600, format=\"png\",\n",
    "        metadata=None, bbox_inches='tight', pad_inches=0.1,\n",
    "        facecolor='auto', edgecolor='auto', backend=None)\n",
    "score_"
   ]
  },
  {
   "cell_type": "code",
   "execution_count": null,
   "id": "d3c590a0",
   "metadata": {
    "ExecuteTime": {
     "end_time": "2024-08-28T18:42:28.032055Z",
     "start_time": "2024-08-28T18:42:26.928306Z"
    },
    "hidden": true
   },
   "outputs": [],
   "source": [
    "p_, score_ = train_stump('Na')\n",
    "plt.savefig(\"fig2e_2.png\", transparent=None, dpi=600, format=\"png\",\n",
    "        metadata=None, bbox_inches='tight', pad_inches=0.1,\n",
    "        facecolor='auto', edgecolor='auto', backend=None)\n",
    "score_"
   ]
  },
  {
   "cell_type": "code",
   "execution_count": null,
   "id": "df6542fb",
   "metadata": {
    "ExecuteTime": {
     "end_time": "2024-08-28T18:42:38.017124Z",
     "start_time": "2024-08-28T18:42:37.704142Z"
    },
    "hidden": true
   },
   "outputs": [],
   "source": [
    "p_, score_ = train_stump('13C')\n",
    "score_"
   ]
  },
  {
   "cell_type": "markdown",
   "id": "4ffdfa11",
   "metadata": {
    "heading_collapsed": true,
    "hidden": true
   },
   "source": [
    "## Comparison"
   ]
  },
  {
   "cell_type": "code",
   "execution_count": null,
   "id": "5a8fdbce",
   "metadata": {
    "ExecuteTime": {
     "end_time": "2024-08-20T12:29:10.598733Z",
     "start_time": "2024-08-20T12:29:10.544592Z"
    },
    "hidden": true
   },
   "outputs": [],
   "source": [
    "# RF\n",
    "\n",
    "rf_param_grid = [{\n",
    "    'model__n_estimators':[50, 100, 150, 200],\n",
    "    'model__max_features':['sqrt', None],\n",
    "    'feature_selector__estimator': [\n",
    "        CollinearFeatureSelector(t=0.0, seed=42, minimize_label_entropy=False),\n",
    "        CollinearFeatureSelector(t=0.2, seed=42, minimize_label_entropy=False),\n",
    "        CollinearFeatureSelector(t=0.4, seed=42, minimize_label_entropy=False),\n",
    "        CollinearFeatureSelector(t=0.6, seed=42, minimize_label_entropy=False),\n",
    "        CollinearFeatureSelector(t=0.8, seed=42, minimize_label_entropy=False),\n",
    "        CollinearFeatureSelector(t=1.0, seed=42, minimize_label_entropy=False),\n",
    "    ]\n",
    "}]\n",
    "\n",
    "rf_pipeline = make_pipe(\n",
    "    RandomForestClassifier(\n",
    "        n_estimators=100, \n",
    "        random_state=42, \n",
    "        oob_score=True, \n",
    "        class_weight='balanced',\n",
    "        max_features=None\n",
    "    ),\n",
    ")\n",
    "\n",
    "rf_gs = make_gs(rf_pipeline, rf_param_grid)"
   ]
  },
  {
   "cell_type": "code",
   "execution_count": null,
   "id": "0835f5b2",
   "metadata": {
    "ExecuteTime": {
     "end_time": "2024-08-20T12:30:38.115397Z",
     "start_time": "2024-08-20T12:30:38.060379Z"
    },
    "hidden": true
   },
   "outputs": [],
   "source": [
    "# DD-SIMCA\n",
    "\n",
    "dds_param_grid = [{\n",
    "    'model__n_components':np.arange(1, 10),\n",
    "    'model__alpha':np.logspace(-5, np.log10(0.5), 10),\n",
    "    'feature_selector__estimator': [\n",
    "        CollinearFeatureSelector(t=0.0, seed=42, minimize_label_entropy=False),\n",
    "        CollinearFeatureSelector(t=0.2, seed=42, minimize_label_entropy=False),\n",
    "        CollinearFeatureSelector(t=0.4, seed=42, minimize_label_entropy=False),\n",
    "        CollinearFeatureSelector(t=0.6, seed=42, minimize_label_entropy=False),\n",
    "        CollinearFeatureSelector(t=0.8, seed=42, minimize_label_entropy=False),\n",
    "        CollinearFeatureSelector(t=1.0, seed=42, minimize_label_entropy=False),\n",
    "    ]\n",
    "}]\n",
    "\n",
    "dds_pipeline = make_pipe(\n",
    "    SIMCA_Authenticator(\n",
    "        n_components=1,\n",
    "        alpha=0.05,\n",
    "        scale_x=True,\n",
    "        style='dd-simca',\n",
    "        target_class='Authentic SLO',\n",
    "        use='compliant'\n",
    "    ),\n",
    ")\n",
    "\n",
    "dds_gs = make_gs(dds_pipeline, dds_param_grid)"
   ]
  },
  {
   "cell_type": "code",
   "execution_count": null,
   "id": "f0fc42f4",
   "metadata": {
    "ExecuteTime": {
     "end_time": "2024-08-20T12:31:10.042739Z",
     "start_time": "2024-08-20T12:31:09.987396Z"
    },
    "hidden": true
   },
   "outputs": [],
   "source": [
    "# DD-SIMCA - accuracy\n",
    "\n",
    "ddsacc_param_grid = [{\n",
    "    'model__n_components':np.arange(1, 10),\n",
    "    'model__alpha':np.logspace(-5, np.log10(0.5), 10),\n",
    "    'feature_selector__estimator': [\n",
    "        CollinearFeatureSelector(t=0.0, seed=42, minimize_label_entropy=False),\n",
    "        CollinearFeatureSelector(t=0.2, seed=42, minimize_label_entropy=False),\n",
    "        CollinearFeatureSelector(t=0.4, seed=42, minimize_label_entropy=False),\n",
    "        CollinearFeatureSelector(t=0.6, seed=42, minimize_label_entropy=False),\n",
    "        CollinearFeatureSelector(t=0.8, seed=42, minimize_label_entropy=False),\n",
    "        CollinearFeatureSelector(t=1.0, seed=42, minimize_label_entropy=False),\n",
    "    ]\n",
    "}]\n",
    "\n",
    "ddsacc_pipeline = make_pipe(\n",
    "    SIMCA_Authenticator(\n",
    "        n_components=1,\n",
    "        alpha=0.05,\n",
    "        scale_x=True,\n",
    "        style='dd-simca',\n",
    "        target_class='Authentic SLO',\n",
    "        use='acc'\n",
    "    ),\n",
    ")\n",
    "\n",
    "ddsacc_gs = make_gs(ddsacc_pipeline, ddsacc_param_grid)"
   ]
  },
  {
   "cell_type": "code",
   "execution_count": null,
   "id": "aaf134b4",
   "metadata": {
    "ExecuteTime": {
     "end_time": "2024-08-20T12:32:03.054928Z",
     "start_time": "2024-08-20T12:32:03.000416Z"
    },
    "hidden": true
   },
   "outputs": [],
   "source": [
    "# UNEQ\n",
    "\n",
    "uneq_param_grid = [{\n",
    "    'model__alpha':np.logspace(-5, np.log10(0.5), 10),\n",
    "    'feature_selector__estimator': [\n",
    "        CollinearFeatureSelector(t=0.0, seed=42, minimize_label_entropy=False),\n",
    "        CollinearFeatureSelector(t=0.2, seed=42, minimize_label_entropy=False),\n",
    "        CollinearFeatureSelector(t=0.4, seed=42, minimize_label_entropy=False),\n",
    "        CollinearFeatureSelector(t=0.6, seed=42, minimize_label_entropy=False),\n",
    "        CollinearFeatureSelector(t=0.8, seed=42, minimize_label_entropy=False),\n",
    "        CollinearFeatureSelector(t=1.0, seed=42, minimize_label_entropy=False),\n",
    "    ]\n",
    "}]\n",
    "\n",
    "uneq_pipeline = make_pipe(\n",
    "    EllipticManifold_Authenticator(\n",
    "        alpha=0.05,\n",
    "        robust=True, \n",
    "        center='score',\n",
    "        target_class='Authentic SLO',\n",
    "        use='compliant'\n",
    "    ),\n",
    ")\n",
    "\n",
    "uneq_gs = make_gs(uneq_pipeline, uneq_param_grid)"
   ]
  },
  {
   "cell_type": "code",
   "execution_count": null,
   "id": "b4ffa9f4",
   "metadata": {
    "ExecuteTime": {
     "end_time": "2024-08-20T12:33:11.769722Z",
     "start_time": "2024-08-20T12:33:11.715141Z"
    },
    "hidden": true
   },
   "outputs": [],
   "source": [
    "# UNEQ - accuracy\n",
    "\n",
    "uneqacc_param_grid = [{\n",
    "    'model__alpha':np.logspace(-5, np.log10(0.5), 10),\n",
    "    'feature_selector__estimator': [\n",
    "        CollinearFeatureSelector(t=0.0, seed=42, minimize_label_entropy=False),\n",
    "        CollinearFeatureSelector(t=0.2, seed=42, minimize_label_entropy=False),\n",
    "        CollinearFeatureSelector(t=0.4, seed=42, minimize_label_entropy=False),\n",
    "        CollinearFeatureSelector(t=0.6, seed=42, minimize_label_entropy=False),\n",
    "        CollinearFeatureSelector(t=0.8, seed=42, minimize_label_entropy=False),\n",
    "        CollinearFeatureSelector(t=1.0, seed=42, minimize_label_entropy=False),\n",
    "    ]\n",
    "}]\n",
    "\n",
    "uneqacc_pipeline = make_pipe(\n",
    "    EllipticManifold_Authenticator(\n",
    "        alpha=0.05,\n",
    "        robust=True, \n",
    "        center='score',\n",
    "        target_class='Authentic SLO',\n",
    "        use='acc'\n",
    "    ),\n",
    ")\n",
    "\n",
    "uneqacc_gs = make_gs(uneqacc_pipeline, uneqacc_param_grid)"
   ]
  },
  {
   "cell_type": "code",
   "execution_count": null,
   "id": "f45d9901",
   "metadata": {
    "ExecuteTime": {
     "end_time": "2024-08-20T12:33:15.507410Z",
     "start_time": "2024-08-20T12:33:15.454675Z"
    },
    "hidden": true
   },
   "outputs": [],
   "source": [
    "# DT Stump\n",
    "\n",
    "dt_param_grid = [{\n",
    "    'model__max_depth':[1], # Force a stump\n",
    "    'feature_selector__estimator': [\n",
    "        CollinearFeatureSelector(t=0.0, seed=42, minimize_label_entropy=False),\n",
    "        CollinearFeatureSelector(t=0.2, seed=42, minimize_label_entropy=False),\n",
    "        CollinearFeatureSelector(t=0.4, seed=42, minimize_label_entropy=False),\n",
    "        CollinearFeatureSelector(t=0.6, seed=42, minimize_label_entropy=False),\n",
    "        CollinearFeatureSelector(t=0.8, seed=42, minimize_label_entropy=False),\n",
    "        CollinearFeatureSelector(t=1.0, seed=42, minimize_label_entropy=False),\n",
    "    ]\n",
    "}]\n",
    "\n",
    "dt_pipeline = make_pipe(\n",
    "    DecisionTreeClassifier(\n",
    "        max_depth=1,\n",
    "        random_state=42,\n",
    "        class_weight='balanced'\n",
    "    ),\n",
    ")\n",
    "\n",
    "dt_gs = make_gs(dt_pipeline, dt_param_grid)"
   ]
  },
  {
   "cell_type": "code",
   "execution_count": null,
   "id": "c8d32065",
   "metadata": {
    "ExecuteTime": {
     "end_time": "2024-08-20T12:33:21.952894Z",
     "start_time": "2024-08-20T12:33:21.886799Z"
    },
    "hidden": true
   },
   "outputs": [],
   "source": [
    "# RF OSR\n",
    "\n",
    "osr_param_grid = [{\n",
    "    'model__clf_kwargs':[{'n_estimators':n, 'random_state':42, 'class_weight':'balanced', 'max_features':None} for n in [20, 50, 100, 150, 200]],\n",
    "    'model__outlier_kwargs':[\n",
    "        {'n_estimators': n, \n",
    "         'max_samples': 'auto', \n",
    "         'contamination': c,\n",
    "         'max_features': 1.0, \n",
    "         'bootstrap':True,\n",
    "         'n_jobs':-1, \n",
    "         'random_state':42} for n in [10, 20, 50, 100] for c in [0.001, 0.01, 0.1, 0.5]\n",
    "    ],\n",
    "    'feature_selector__estimator': [\n",
    "        CollinearFeatureSelector(t=0.0, seed=42, minimize_label_entropy=False),\n",
    "        CollinearFeatureSelector(t=0.2, seed=42, minimize_label_entropy=False),\n",
    "        CollinearFeatureSelector(t=0.4, seed=42, minimize_label_entropy=False),\n",
    "        CollinearFeatureSelector(t=0.6, seed=42, minimize_label_entropy=False),\n",
    "        CollinearFeatureSelector(t=0.8, seed=42, minimize_label_entropy=False),\n",
    "        CollinearFeatureSelector(t=1.0, seed=42, minimize_label_entropy=False),\n",
    "    ]\n",
    "}]\n",
    "\n",
    "osr_pipeline = make_pipe(\n",
    "    osr.OpenSetClassifier(\n",
    "        clf_model=RandomForestClassifier,\n",
    "        outlier_model=IsolationForest,\n",
    "        clf_kwargs={},\n",
    "        outlier_kwargs={},\n",
    "        known_classes=['Authentic SLO', 'Abroad'],\n",
    "        inlier_value=1,\n",
    "        unknown_class='Unknown',\n",
    "        score_metric='TEFF',\n",
    "        clf_style='hard',\n",
    "        score_using=\"Authentic SLO\"\n",
    "    ),\n",
    ")\n",
    "\n",
    "osr_gs = make_gs(osr_pipeline, osr_param_grid)"
   ]
  },
  {
   "cell_type": "code",
   "execution_count": null,
   "id": "64ff831d",
   "metadata": {
    "ExecuteTime": {
     "end_time": "2024-08-20T12:34:40.362567Z",
     "start_time": "2024-08-20T12:34:40.300939Z"
    },
    "hidden": true
   },
   "outputs": [],
   "source": [
    "# RF OSR - accuracy\n",
    "\n",
    "osracc_param_grid = [{\n",
    "    'model__clf_kwargs':[{'n_estimators':n, 'random_state':42, 'class_weight':'balanced', 'max_features':None} for n in [20, 50, 100, 150, 200]],\n",
    "    'model__outlier_kwargs':[\n",
    "        {'n_estimators': n, \n",
    "         'max_samples': 'auto', \n",
    "         'contamination': c,\n",
    "         'max_features': 1.0, \n",
    "         'bootstrap':True,\n",
    "         'n_jobs':-1, \n",
    "         'random_state':42} for n in [10, 20, 50, 100] for c in [0.001, 0.01, 0.1, 0.5]\n",
    "    ],\n",
    "    'feature_selector__estimator': [\n",
    "        CollinearFeatureSelector(t=0.0, seed=42, minimize_label_entropy=False),\n",
    "        CollinearFeatureSelector(t=0.2, seed=42, minimize_label_entropy=False),\n",
    "        CollinearFeatureSelector(t=0.4, seed=42, minimize_label_entropy=False),\n",
    "        CollinearFeatureSelector(t=0.6, seed=42, minimize_label_entropy=False),\n",
    "        CollinearFeatureSelector(t=0.8, seed=42, minimize_label_entropy=False),\n",
    "        CollinearFeatureSelector(t=1.0, seed=42, minimize_label_entropy=False),\n",
    "    ]\n",
    "}]\n",
    "\n",
    "osracc_pipeline = make_pipe(\n",
    "    osr.OpenSetClassifier(\n",
    "        clf_model=RandomForestClassifier,\n",
    "        outlier_model=IsolationForest,\n",
    "        clf_kwargs={},\n",
    "        outlier_kwargs={},\n",
    "        known_classes=['Authentic SLO', 'Abroad'],\n",
    "        inlier_value=1,\n",
    "        unknown_class='Unknown',\n",
    "        score_metric='ACC',\n",
    "        clf_style='hard',\n",
    "        score_using=\"Authentic SLO\"\n",
    "    ),\n",
    ")\n",
    "\n",
    "osracc_gs = make_gs(osracc_pipeline, osracc_param_grid)"
   ]
  },
  {
   "cell_type": "code",
   "execution_count": null,
   "id": "eca88efb",
   "metadata": {
    "ExecuteTime": {
     "end_time": "2024-08-28T18:43:40.045067Z",
     "start_time": "2024-08-28T18:43:39.912702Z"
    },
    "hidden": true,
    "scrolled": true
   },
   "outputs": [],
   "source": [
    "rerun = False\n",
    "\n",
    "if rerun:\n",
    "    # 10x10 repeated (nested) CV\n",
    "    scores_rf, scores_dds, scores_uneq, scores_dt, scores_osr, scores_ddsacc, scores_uneqacc, scores_osracc = Compare.repeated_kfold(\n",
    "        [\n",
    "            rf_gs,\n",
    "            dds_gs,\n",
    "            uneq_gs,\n",
    "            dt_gs,\n",
    "            osr_gs,\n",
    "            ddsacc_gs,\n",
    "            uneqacc_gs,\n",
    "            osracc_gs\n",
    "        ],\n",
    "        X_tot[SITE].values,\n",
    "        X_tot['label'].values,\n",
    "        n_repeats=10,\n",
    "        k=10,\n",
    "        random_state=0\n",
    "    )\n",
    "    \n",
    "    save_results({\n",
    "            'Compliant DD-SIMCA (TEFF)': scores_dds,\n",
    "            'RF OSR (TEFF)': scores_osr,\n",
    "            'UNEQ (TEFF)': scores_uneq,\n",
    "            'DT Stump (ACC)': scores_dt,\n",
    "            'Random Forest (ACC)': scores_rf,\n",
    "            'Compliant DD-SIMCA (ACC)': scores_ddsacc,\n",
    "            'UNEQ (ACC)': scores_uneqacc,\n",
    "            'RF OSR (ACC)': scores_osracc,\n",
    "        },\n",
    "        filename='persimmon.pkl',\n",
    "    )\n",
    "else:\n",
    "    # Load previously saved results\n",
    "    scores_ = pickle.load(open('persimmon.pkl', 'rb'))\n",
    "\n",
    "    scores_dds = scores_['Compliant DD-SIMCA (TEFF)']\n",
    "    scores_osr = scores_['RF OSR (TEFF)']\n",
    "    scores_uneq = scores_['UNEQ (TEFF)']\n",
    "    scores_dt = scores_['DT Stump (ACC)']\n",
    "    scores_rf = scores_['Random Forest (ACC)']\n",
    "    scores_ddsacc = scores_['Compliant DD-SIMCA (ACC)']\n",
    "    scores_uneqacc = scores_['UNEQ (ACC)']\n",
    "    scores_osracc = scores_['RF OSR (ACC)']"
   ]
  },
  {
   "cell_type": "code",
   "execution_count": null,
   "id": "75897c61",
   "metadata": {
    "ExecuteTime": {
     "end_time": "2024-08-28T18:44:52.132307Z",
     "start_time": "2024-08-28T18:44:49.251075Z"
    },
    "hidden": true
   },
   "outputs": [],
   "source": [
    "ax = Compare.visualize(\n",
    "    {\n",
    "        'Compliant DD-SIMCA (TEFF)': scores_dds,\n",
    "        'RF OSR (TEFF)': scores_osr,\n",
    "        'UNEQ (TEFF)': scores_uneq,\n",
    "        'DT Stump (ACC)': scores_dt,\n",
    "        'Random Forest (ACC)': scores_rf,\n",
    "        'Compliant DD-SIMCA (ACC)': scores_ddsacc,\n",
    "        'UNEQ (ACC)': scores_uneqacc,\n",
    "        'RF OSR (ACC)': scores_osracc,\n",
    "    },\n",
    "    n_repeats=10,\n",
    "    alpha=0.05,\n",
    "    ignore=0,\n",
    "    cmap='plasma'\n",
    ")\n",
    "\n",
    "_ = ax.set_xticklabels(\n",
    "    [\"%.1f\" % t for t in np.linspace(0.0, 0.9, 10)],\n",
    "    fontsize=18\n",
    ")\n",
    "_ = ax.set_title(\"Score +/- \" + r\"$\\sigma$\", fontsize=22)\n",
    "l = ax.legend(loc=\"best\", bbox_to_anchor=(0.75, 0.5, 0.5, 0.5), fontsize=18)\n",
    "\n",
    "for text in l.get_texts():\n",
    "    if 'RF OSR' in text.get_text():\n",
    "        text.set_color('blue')\n",
    "    else:\n",
    "        text.set_color(\"green\")\n",
    "        \n",
    "plt.savefig(\"fig2c.png\", transparent=None, dpi=600, format=\"png\",\n",
    "        metadata=None, bbox_inches='tight', pad_inches=0.1,\n",
    "        facecolor='auto', edgecolor='auto', backend=None)"
   ]
  },
  {
   "cell_type": "code",
   "execution_count": null,
   "id": "d5f1d7a8",
   "metadata": {
    "ExecuteTime": {
     "end_time": "2024-08-28T18:45:01.602132Z",
     "start_time": "2024-08-28T18:45:01.570084Z"
    },
    "hidden": true,
    "scrolled": true
   },
   "outputs": [],
   "source": [
    "np.mean(scores_dds[scores_dds>0]), np.std(scores_dds[scores_dds>0])"
   ]
  },
  {
   "cell_type": "code",
   "execution_count": null,
   "id": "087820f4",
   "metadata": {
    "hidden": true
   },
   "outputs": [],
   "source": []
  }
 ],
 "metadata": {
  "kernelspec": {
   "display_name": "test-slo",
   "language": "python",
   "name": "test-slo"
  },
  "language_info": {
   "codemirror_mode": {
    "name": "ipython",
    "version": 3
   },
   "file_extension": ".py",
   "mimetype": "text/x-python",
   "name": "python",
   "nbconvert_exporter": "python",
   "pygments_lexer": "ipython3",
   "version": "3.11.0"
  }
 },
 "nbformat": 4,
 "nbformat_minor": 5
}
